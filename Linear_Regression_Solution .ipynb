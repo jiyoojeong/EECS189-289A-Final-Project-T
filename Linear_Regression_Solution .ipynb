{
  "nbformat": 4,
  "nbformat_minor": 0,
  "metadata": {
    "colab": {
      "name": "Linear Regression Solution.ipynb",
      "provenance": [],
      "collapsed_sections": [],
      "toc_visible": true
    },
    "kernelspec": {
      "display_name": "Python 3",
      "name": "python3"
    }
  },
  "cells": [
    {
      "cell_type": "code",
      "metadata": {
        "id": "WvKbtZSzAzMd"
      },
      "source": [
        "import numpy as np\n",
        "import scipy as sp\n",
        "import seaborn as sns\n",
        "import scipy.optimize\n",
        "import matplotlib.pyplot as plt\n",
        "from sklearn.linear_model import LinearRegression\n",
        "from sklearn.metrics import mean_squared_error, r2_score\n",
        "import pandas as pd  \n",
        "from scipy.stats import expon\n",
        "%matplotlib inline\n",
        "import plotly.offline as py\n",
        "import plotly.express as px\n",
        "import plotly.graph_objs as go\n",
        "from sklearn import datasets, linear_model"
      ],
      "execution_count": null,
      "outputs": []
    },
    {
      "cell_type": "markdown",
      "metadata": {
        "id": "6rzjipepCB2E"
      },
      "source": [
        "# Project T Final: Linear Regression\n",
        "\n",
        "This coding assignment will focus on understanding linear regression across various applications. We start with 1D functions to understand the basic application as well as a little on the data science terms for fitting. Then we move on to look at ordinary least squares and linear regression. We move onto a topic called featurization where we look at various properties or *features* extended from EE16A concepts. Finally, we start thinking about the topic of classification where you can visualize how separating data into different groups or *classes* would work (for binary and multiclass). \n",
        "\n",
        "Quiz questions are asked throughout the notebook, so make sure to take your time and think about your responses to these as they help you understand the examples and visualizations more. \n",
        "\n",
        "At the end of this notebook, we outline pros and cons for linear regression and when more complex models are necessary to reach an optimal solution. "
      ]
    },
    {
      "cell_type": "markdown",
      "metadata": {
        "id": "UszyayvESw_d"
      },
      "source": [
        "# Linear Regression 1D Functions\n",
        "\n",
        "We will first go through an example of a line with random noise added and try to work backward and find its slope and intercept. Then we start using a 1d raw dataset and fit a linear model to that and move on to understand what $r^2$ represents to understand linear models from a data science perspective. \n",
        "\n",
        "Using the previous parts, we apply correlation coefficient perspective on a dataset and visualize loss to see that the solution is the most optimal! Finally, we see how to easily use sklearn linear regression in a similar fashion to previous parts and how to fit an exponential curve to the linear regression model by writing as: $\\log(y)= m\\log(x) + b$"
      ]
    },
    {
      "cell_type": "markdown",
      "metadata": {
        "id": "VT-ogPDwaY_F"
      },
      "source": [
        "Remember from the note that we can arrive to the slope and intercept equations as shown below: \n",
        "\n",
        "$b = \\frac{\\sum y_{i} - m \\sum x_{i}}{n}$\n",
        "\n",
        "$m = \\frac{\\sum x_{i}y_{i} - \\sum y_{i} \\sum x_{i} / n}{\\sum x_{i}^2 - (\\sum x_{i})^2 / n}$"
      ]
    },
    {
      "cell_type": "markdown",
      "metadata": {
        "id": "o48gcIsdaf9t"
      },
      "source": [
        "## Noisy line data"
      ]
    },
    {
      "cell_type": "code",
      "metadata": {
        "colab": {
          "base_uri": "https://localhost:8080/",
          "height": 629
        },
        "id": "4lcza00lajxS",
        "outputId": "86bb37c9-3eed-4fbf-f2c6-5e5f144ddac8"
      },
      "source": [
        "# create data\n",
        "x = []\n",
        "y = []\n",
        "\n",
        "# TODO: vary the range of numbers used to see how the results change -- write your observations in the cell below\n",
        "#     hint: try single digit, double digit, triple digit and compare\n",
        "#     hint: change slope and intercept values to see change in results and r_squared\n",
        "# START\n",
        "x = [i for i in range(20)]\n",
        "b = np.random.randint(50)\n",
        "m = np.random.randint(-10,0)\n",
        "y = [b + m*xi for xi in x]\n",
        "# END\n",
        "\n",
        "# original equation\n",
        "print(\"Original equation: we're working backward from a dataset of x and y to find m and b\")\n",
        "print(\"y = m*x + b where m =\", m, \"and b =\", b)\n",
        "\n",
        "# add noise\n",
        "x += np.random.randn(len(x))*3\n",
        "y += np.random.randn(len(y))*3\n",
        "\n",
        "# turn into numpy arrays\n",
        "x = np.array(x)\n",
        "y = np.array(y)\n",
        "\n",
        "#  plot raw data\n",
        "plt.scatter(x,y)\n",
        "plt.title(\"Noisy line\")\n",
        "plt.show()\n",
        "\n",
        "# TODO: write the calculations for the slope and intercept using information from above\n",
        "#     hint: use numpy dot, sum, and mean\n",
        "def calculateSlope(x, y):\n",
        "    # START\n",
        "    return (x.dot(y) - y.mean()*x.sum()) / (x.dot(x) - x.mean()*x.sum())\n",
        "    # END\n",
        "\n",
        "def calculateIntercept(x, y, m):\n",
        "    # START\n",
        "    return y.mean() - m*x.mean()\n",
        "    # END\n",
        "    \n",
        "m = calculateSlope(x, y)\n",
        "b = calculateIntercept(x, y, m)\n",
        "\n",
        "print('calculated m = ', m)\n",
        "print('calculated b = ', b)\n",
        "\n",
        "# best fit y = mx + b line\n",
        "yhat = m*x + b\n",
        "\n",
        "plt.scatter(x, y)\n",
        "plt.plot(x, yhat, 'r')\n",
        "plt.title(\"Best Fit\")\n",
        "plt.show()\n",
        "\n",
        "#  R^2 value (you can ignore the code, just understand what the r_squared indicates in the plot)\n",
        "def calculateRSquared(y, yhat):\n",
        "    res = (y - yhat).dot(y - yhat)\n",
        "    tot = (y - y.mean()).dot(y - y.mean())\n",
        "    return res, tot\n",
        "SSres, SStot = calculateRSquared(y, yhat)\n",
        "r_squared = 1 - SSres/SStot\n",
        "\n",
        "print('r_squared = ', r_squared)"
      ],
      "execution_count": null,
      "outputs": [
        {
          "output_type": "stream",
          "text": [
            "Original equation: we're working backward from a dataset of x and y to find m and b\n",
            "y = m*x + b where m = -5 and b = 6\n"
          ],
          "name": "stdout"
        },
        {
          "output_type": "display_data",
          "data": {
            "image/png": "[encoded data removed]",
            "text/plain": [
              "<Figure size 432x288 with 1 Axes>"
            ]
          },
          "metadata": {
            "tags": [],
            "needs_background": "light"
          }
        },
        {
          "output_type": "stream",
          "text": [
            "calculated m =  -4.551574666752497\n",
            "calculated b =  -0.6107323245886747\n"
          ],
          "name": "stdout"
        },
        {
          "output_type": "display_data",
          "data": {
            "image/png": "[encoded data removed]",
            "text/plain": [
              "<Figure size 432x288 with 1 Axes>"
            ]
          },
          "metadata": {
            "tags": [],
            "needs_background": "light"
          }
        },
        {
          "output_type": "stream",
          "text": [
            "r_squared =  0.7676706376053173\n"
          ],
          "name": "stdout"
        }
      ]
    },
    {
      "cell_type": "markdown",
      "metadata": {
        "id": "OCGWhmMkaotF"
      },
      "source": [
        "### TODO\n",
        "Observations on varying number of data points used: \n",
        "\n",
        "*Using less data points makes the fit extremely inaccurate -- you may think of this as an underfitting. Excessive points creates an obvious model and because of the simplicity of the linear model, overfitting is not an issue.*\n",
        "\n",
        "Try to determine around what range of datapoints starts reporting an accurate answer. Also describe at what point you consider the linear fit \"accurate\" (if you understand r_squared, then answer with this):\n",
        "\n",
        "*If you compare the original m and b to the calculated m and b, you can see the range of around 50 allows an accurate response. Using r_squared to explain, the higher the r_squared value means the closer to a full linear fit. Thus, you want the r_squared to be as close to 1.0 as possible, here an allowable range is above 0.92.*"
      ]
    },
    {
      "cell_type": "markdown",
      "metadata": {
        "id": "AtUkezJ5atv4"
      },
      "source": [
        "## 1D dataset:"
      ]
    },
    {
      "cell_type": "code",
      "metadata": {
        "colab": {
          "base_uri": "https://localhost:8080/",
          "height": 232
        },
        "id": "DiMB2ATEavIw",
        "outputId": "4069e2d0-c6c0-4276-96be-a4717a614132"
      },
      "source": [
        "# create data\n",
        "x = []\n",
        "y = []\n",
        "\n",
        "# TODO: open the csv file \"data_1d.csv\" and read in x,y data\n",
        "# START\n",
        "for line in open('data_1d.csv'):\n",
        "    xi,yi = line.split(',')\n",
        "    x.append(float(xi))\n",
        "    y.append(float(yi))\n",
        "# END\n",
        "\n",
        "# add noise\n",
        "x += np.random.randn(len(x))*10\n",
        "y += np.random.randn(len(y))*10\n",
        "    \n",
        "# turn into numpy arrays\n",
        "x = np.array(x)\n",
        "y = np.array(y)\n",
        "\n",
        "#  plot raw data\n",
        "plt.scatter(x,y)\n",
        "plt.title('1D data')\n",
        "plt.show()\n",
        "\n",
        "# TODO: calculate slope and intercept for new dataset\n",
        "# START\n",
        "m = calculateSlope(x, y)\n",
        "b = calculateIntercept(x, y, m)\n",
        "# END\n",
        "\n",
        "print('calculated m = ', m)\n",
        "print('calculated b = ', b)\n",
        "\n",
        "# best fit y = mx + b line\n",
        "yhat = m*x + b\n",
        "\n",
        "plt.scatter(x, y)\n",
        "plt.plot(x, yhat, 'r')\n",
        "plt.title(\"Best Fit\")\n",
        "plt.show()\n",
        "\n",
        "#  R^2 value\n",
        "SSres, SStot = calculateRSquared(y, yhat)\n",
        "r_squared = 1 - SSres/SStot\n",
        "\n",
        "print('r_squared = ', r_squared)"
      ],
      "execution_count": null,
      "outputs": [
        {
          "output_type": "error",
          "ename": "FileNotFoundError",
          "evalue": "ignored",
          "traceback": [
            "\u001b[0;31m---------------------------------------------------------------------------\u001b[0m",
            "\u001b[0;31mFileNotFoundError\u001b[0m                         Traceback (most recent call last)",
            "\u001b[0;32m<ipython-input-3-f1435a641aa3>\u001b[0m in \u001b[0;36m<module>\u001b[0;34m()\u001b[0m\n\u001b[1;32m      5\u001b[0m \u001b[0;31m# TODO: open the csv file \"data_1d.csv\" and read in x,y data\u001b[0m\u001b[0;34m\u001b[0m\u001b[0;34m\u001b[0m\u001b[0;34m\u001b[0m\u001b[0m\n\u001b[1;32m      6\u001b[0m \u001b[0;31m# START\u001b[0m\u001b[0;34m\u001b[0m\u001b[0;34m\u001b[0m\u001b[0;34m\u001b[0m\u001b[0m\n\u001b[0;32m----> 7\u001b[0;31m \u001b[0;32mfor\u001b[0m \u001b[0mline\u001b[0m \u001b[0;32min\u001b[0m \u001b[0mopen\u001b[0m\u001b[0;34m(\u001b[0m\u001b[0;34m'data_1d.csv'\u001b[0m\u001b[0;34m)\u001b[0m\u001b[0;34m:\u001b[0m\u001b[0;34m\u001b[0m\u001b[0;34m\u001b[0m\u001b[0m\n\u001b[0m\u001b[1;32m      8\u001b[0m     \u001b[0mxi\u001b[0m\u001b[0;34m,\u001b[0m\u001b[0myi\u001b[0m \u001b[0;34m=\u001b[0m \u001b[0mline\u001b[0m\u001b[0;34m.\u001b[0m\u001b[0msplit\u001b[0m\u001b[0;34m(\u001b[0m\u001b[0;34m','\u001b[0m\u001b[0;34m)\u001b[0m\u001b[0;34m\u001b[0m\u001b[0;34m\u001b[0m\u001b[0m\n\u001b[1;32m      9\u001b[0m     \u001b[0mx\u001b[0m\u001b[0;34m.\u001b[0m\u001b[0mappend\u001b[0m\u001b[0;34m(\u001b[0m\u001b[0mfloat\u001b[0m\u001b[0;34m(\u001b[0m\u001b[0mxi\u001b[0m\u001b[0;34m)\u001b[0m\u001b[0;34m)\u001b[0m\u001b[0;34m\u001b[0m\u001b[0;34m\u001b[0m\u001b[0m\n",
            "\u001b[0;31mFileNotFoundError\u001b[0m: [Errno 2] No such file or directory: 'data_1d.csv'"
          ]
        }
      ]
    },
    {
      "cell_type": "markdown",
      "metadata": {
        "id": "25B-3x7Aa6d6"
      },
      "source": [
        "## Understanding R_Squared and Correlation: \n",
        "\n",
        "In the past couple questions, you answered what you thought r_squared means. Here, we'll explain a little further. First though, we'll look at some more general datasets to see when linear regression models make sense vs. not. \n",
        "\n",
        "In data science, the value $r^2$ represents the squared value of the correlation coefficient which visually shows correlation between x and y data. This r value is known as Pearson's product moment correlation coefficient. This coefficient is based on standard units with values ranging from -1 to 1 where $r = 1$ would have a scatter perfectly straight line sloped up and $r = -1$ scattered perfectly sloping down. In between, $r = 0$ shows no linear association, i.e. uncorrelated x and y data.\n",
        "\n",
        "Thus $r^2$ is proportional to how far a predicted point deviates from its true value in y and can be modeled by the linear regression of x and y. For example, the answers to which models are most conducive to linear regression have a higher r coefficient vs. not conducive have lower r coefficient. \n",
        "\n",
        "TODO: After reading the above explanation, discuss in your own terms what you have learned and what you think this coefficient measures: \n",
        "\n",
        "*Simple solution: it measures the correlation between two variables and if they fit a linear model*"
      ]
    },
    {
      "cell_type": "code",
      "metadata": {
        "colab": {
          "base_uri": "https://localhost:8080/",
          "height": 340
        },
        "id": "w_WHhBeRa9L8",
        "outputId": "650e4beb-bf7b-4ba8-b777-cb3fdbda78ac"
      },
      "source": [
        "# Just noise\n",
        "np.random.seed(50)\n",
        "plt.figure(figsize = (5, 5))\n",
        "plt.xticks([])\n",
        "plt.yticks([])\n",
        "plt.xlim(-3, 3)\n",
        "plt.ylim(-3, 3)\n",
        "x1, y1 = np.random.randn(2, 100)\n",
        "plt.scatter(x1, y1, alpha = 0.75);\n",
        "print(np.corrcoef(x1, y1))"
      ],
      "execution_count": null,
      "outputs": [
        {
          "output_type": "stream",
          "text": [
            "[[ 1.         -0.07838024]\n",
            " [-0.07838024  1.        ]]\n"
          ],
          "name": "stdout"
        },
        {
          "output_type": "display_data",
          "data": {
            "image/png": "[encoded data removed]",
            "text/plain": [
              "<Figure size 360x360 with 1 Axes>"
            ]
          },
          "metadata": {
            "tags": []
          }
        }
      ]
    },
    {
      "cell_type": "code",
      "metadata": {
        "colab": {
          "base_uri": "https://localhost:8080/",
          "height": 340
        },
        "id": "VXWsuq4Xa_og",
        "outputId": "5e52235c-e673-4065-8cc1-9a05e25aca94"
      },
      "source": [
        "# Strong linear\n",
        "np.random.seed(50)\n",
        "plt.figure(figsize = (5, 5))\n",
        "plt.xticks([])\n",
        "plt.yticks([])\n",
        "plt.xlim(-3, 3)\n",
        "plt.ylim(-3, 3)\n",
        "x2 = np.linspace(-3, 3, 100)\n",
        "y2 = x2*0.5 - 0.5 + np.random.randn(100)*0.35\n",
        "plt.scatter(x2, y2, alpha = 0.75);\n",
        "print(np.corrcoef(x2, y2))"
      ],
      "execution_count": null,
      "outputs": [
        {
          "output_type": "stream",
          "text": [
            "[[1.         0.91436231]\n",
            " [0.91436231 1.        ]]\n"
          ],
          "name": "stdout"
        },
        {
          "output_type": "display_data",
          "data": {
            "image/png": "[encoded data removed]",
            "text/plain": [
              "<Figure size 360x360 with 1 Axes>"
            ]
          },
          "metadata": {
            "tags": []
          }
        }
      ]
    },
    {
      "cell_type": "code",
      "metadata": {
        "colab": {
          "background_save": true
        },
        "id": "ek5WoSnNbAkl"
      },
      "source": [
        "# Strong non-linear\n",
        "np.random.seed(50)\n",
        "plt.figure(figsize = (5, 5))\n",
        "plt.xticks([])\n",
        "plt.yticks([])\n",
        "plt.xlim(-3, 3)\n",
        "plt.ylim(-3, 3)\n",
        "x3 = np.linspace(-3, 3, 100)\n",
        "y3 = 2*np.sin(x3 - 1.5) + np.random.randn(100)*0.4\n",
        "plt.scatter(x3, y3, alpha = 0.75);\n",
        "print(np.corrcoef(x3, y3))"
      ],
      "execution_count": null,
      "outputs": []
    },
    {
      "cell_type": "code",
      "metadata": {
        "colab": {
          "background_save": true
        },
        "id": "qgLrTjODbCps"
      },
      "source": [
        "# Unequal spread\n",
        "np.random.seed(50)\n",
        "plt.figure(figsize = (5, 5))\n",
        "plt.xticks([])\n",
        "plt.yticks([])\n",
        "plt.xlim(-3, 3)\n",
        "plt.ylim(-3, 3)\n",
        "x4 = np.linspace(-3, 3, 100)\n",
        "y4 = x4/3 + np.random.randn(100)*(x4)/1.75\n",
        "plt.scatter(x4, y4, alpha = 0.75);\n",
        "print(np.corrcoef(x4, y4))"
      ],
      "execution_count": null,
      "outputs": []
    },
    {
      "cell_type": "markdown",
      "metadata": {
        "id": "xYI0bSz9bHfL"
      },
      "source": [
        "### TODO\n",
        "Please comment below which models are most conducive to a linear regression model and why:\n",
        "\n",
        "*Sets 2 and 4 are conducive to linear regression because they follow a largely linear path despite any outliers*\n",
        "\n",
        "For those not conducive to linear regression, please explain what might fit better (just brainstorm methods). If there is no solution, mention that and why: \n",
        "\n",
        "*Set 1 does not seem to follow any pattern, as if it's random noise. So no solution works for set 1. Set 3 is very non-linear, looks like an absolute function so maybe using two variables instead of one like in linear regression may work. We wouldn't expect you to know the algorithm here, but we do expect you to mention polynomial functions (e.g. quadratic fit).*"
      ]
    },
    {
      "cell_type": "markdown",
      "metadata": {
        "id": "I57VhHJjbKRX"
      },
      "source": [
        "## Working backward from correlation to linear regression: \n",
        "\n",
        "Next, we use a dataset to understand correlation coefficients in r value and visualize loss to see that the solution is the most optimal! \n",
        "\n",
        "This section is to understand the effect of r value, but if you're interested in more details then please look to Data 100's Simple Linear Regression slides.\n"
      ]
    },
    {
      "cell_type": "code",
      "metadata": {
        "colab": {
          "background_save": true
        },
        "id": "XOtpNB26bNOC"
      },
      "source": [
        "def standard_units(x):\n",
        "    return (x - np.mean(x)) / np.std(x)\n",
        "\n",
        "def correlation(x, y):\n",
        "    return np.mean(standard_units(x) * standard_units(y))"
      ],
      "execution_count": null,
      "outputs": []
    },
    {
      "cell_type": "code",
      "metadata": {
        "colab": {
          "background_save": true
        },
        "id": "IzUJIVZmbPa7"
      },
      "source": [
        "df = pd.read_csv('galton.csv').iloc[:, 1:]\n",
        "df"
      ],
      "execution_count": null,
      "outputs": []
    },
    {
      "cell_type": "markdown",
      "metadata": {
        "id": "n5DpYGWubS0n"
      },
      "source": [
        "An interesting issue is that both our `parent` and `child` columns occur at fixed positions. We need to add some random noise, otherwise we'll suffer from gross overplotting."
      ]
    },
    {
      "cell_type": "code",
      "metadata": {
        "colab": {
          "background_save": true
        },
        "id": "4TIR0FnpbQCQ"
      },
      "source": [
        "df['parent'] = df['parent'] + np.random.randn(len(df))/2\n",
        "df['child'] = df['child'] + np.random.randn(len(df))/2\n",
        "\n",
        "fig = px.scatter(df, x= 'parent', y = 'child')\n",
        "fig.show()"
      ],
      "execution_count": null,
      "outputs": []
    },
    {
      "cell_type": "markdown",
      "metadata": {
        "id": "CJ_UxbGYbeuG"
      },
      "source": [
        "Using our correlation function vs. the in-built correlation function:"
      ]
    },
    {
      "cell_type": "code",
      "metadata": {
        "colab": {
          "background_save": true
        },
        "id": "hn3z-q0mbeB4"
      },
      "source": [
        "correlation(df['parent'], df['child'])"
      ],
      "execution_count": null,
      "outputs": []
    },
    {
      "cell_type": "code",
      "metadata": {
        "colab": {
          "background_save": true
        },
        "id": "8KnjZgkLbhF8"
      },
      "source": [
        "np.corrcoef(df['parent'], df['child'])"
      ],
      "execution_count": null,
      "outputs": []
    },
    {
      "cell_type": "code",
      "metadata": {
        "colab": {
          "background_save": true
        },
        "id": "QfpIq2J-bi3f"
      },
      "source": [
        "df.corr()"
      ],
      "execution_count": null,
      "outputs": []
    },
    {
      "cell_type": "markdown",
      "metadata": {
        "id": "wt1QmaVgbmZP"
      },
      "source": [
        "All the same result.\n",
        "\n",
        "What we now want to do is compute the **average $y$ for a given $x$**. A practical way to do this is to \"bin\" our x axis into 1-unit wide buckets, and then compute the average $y$ value for everything in that bucket. (We could choose bins of any width, though.)"
      ]
    },
    {
      "cell_type": "code",
      "metadata": {
        "colab": {
          "background_save": true
        },
        "id": "Dk3jl5abbnjD"
      },
      "source": [
        "def predict_mean_y(x):\n",
        "    return df.loc[np.abs(df['parent'] - x) <= 0.5, 'child'].mean()\n",
        "\n",
        "df['child_predicted'] = df['parent'].apply(predict_mean_y)\n",
        "\n",
        "fig = go.Figure()\n",
        "fig.add_trace(go.Scatter(x = df['parent'], y = df['child'], mode = 'markers', name = 'actual'))\n",
        "fig.add_trace(go.Scatter(x = df['parent'], y = df['child_predicted'], mode = 'markers', name = 'predicted means', line=dict(color='gold')))\n",
        "fig.update_layout(xaxis_title = 'MidParent Height', yaxis_title = 'Child Height')"
      ],
      "execution_count": null,
      "outputs": []
    },
    {
      "cell_type": "markdown",
      "metadata": {
        "id": "RcI6Xzx8bruh"
      },
      "source": [
        "### TODO\n",
        "In the above visualization, what are we estimating? Why are we estimating this? \n",
        "\n",
        "*We are estimating the y mean given the large amount of information in the dataset. We are estimating the average, because it estimates linear regression pretty well if the dataset is large enough.*"
      ]
    },
    {
      "cell_type": "code",
      "metadata": {
        "colab": {
          "background_save": true
        },
        "id": "uOIE6TkSbt0l"
      },
      "source": [
        "def slope(x, y):\n",
        "    return correlation(x, y) * np.std(y) / np.std(x)\n",
        "\n",
        "def intercept(x, y):\n",
        "    return np.mean(y) - slope(x, y)*np.mean(x)\n",
        "\n",
        "ahat = intercept(df['parent'], df['child'])\n",
        "bhat = slope(df['parent'], df['child'])\n",
        "\n",
        "print(\"predicted y = {} + {} * average parent's height\".format(np.round(ahat, 2), np.round(bhat, 2)))"
      ],
      "execution_count": null,
      "outputs": []
    },
    {
      "cell_type": "code",
      "metadata": {
        "colab": {
          "background_save": true
        },
        "id": "obhWH_BxbwHh"
      },
      "source": [
        "fig = go.Figure()\n",
        "fig.add_trace(go.Scatter(x = df['parent'], y = df['child'], mode = 'markers', name = 'actual'))\n",
        "fig.add_trace(go.Scatter(x = df['parent'], y = df['child_predicted'], mode = 'markers', name = 'predicted means', line=dict(color='gold')))\n",
        "fig.add_trace(go.Scatter(x = df['parent'], y = ahat + bhat*df['parent'], name = 'linear model', line=dict(color='red')))\n",
        "\n",
        "\n",
        "fig.update_layout(xaxis_title = 'MidParent Height', yaxis_title = 'Child Height')"
      ],
      "execution_count": null,
      "outputs": []
    },
    {
      "cell_type": "markdown",
      "metadata": {
        "id": "5Yfz-reZbz9P"
      },
      "source": [
        "### TODO\n",
        "How well does the linear regression fit? How do we know that this is the optimal solution?\n",
        "\n",
        "*The linear regression fits well, as you can see with the predicted y mean values. We can see that this is the optimal solution from the visualization below.*"
      ]
    },
    {
      "cell_type": "markdown",
      "metadata": {
        "id": "YTed5T9rb1JI"
      },
      "source": [
        "## Visualization of linear regression: \n",
        "\n",
        "You don't have to know what the code does, but this visualization shows how we have found the optimal solution."
      ]
    },
    {
      "cell_type": "code",
      "metadata": {
        "colab": {
          "background_save": true
        },
        "id": "_KF_ADBMb5FA"
      },
      "source": [
        "def mse(y, yhat):\n",
        "    return np.mean((y - yhat)**2)\n",
        "\n",
        "# This function takes in our choice of [a, b] as a list, and returns the error (mean squared error) \n",
        "# for the corresponding linear model\n",
        "def mse_for_height_model(t):\n",
        "    a, b = t\n",
        "    return mse(df['child'], a + b*df['parent'])\n",
        "\n",
        "num_points = 200 # increase for better resolution, but it will run more slowly. \n",
        "\n",
        "uvalues = np.linspace(20, 32, num_points)\n",
        "vvalues = np.linspace(-1, 3, num_points)\n",
        "(u,v) = np.meshgrid(uvalues, vvalues)\n",
        "thetas = np.vstack((u.flatten(),v.flatten()))\n",
        "\n",
        "MSE = np.array([mse_for_height_model(t) for t in thetas.T])\n",
        "\n",
        "loss_surface = go.Surface(x=u, y=v, z=np.reshape(MSE, u.shape))\n",
        "\n",
        "opt_point = go.Scatter3d(x = [ahat], y = [bhat], z = [mse_for_height_model((ahat, bhat))],\n",
        "            mode = 'markers', name = 'optimal parameters',\n",
        "            marker=dict(size=10, color='gold'))\n",
        "\n",
        "fig = go.Figure(data=[loss_surface])\n",
        "fig.add_trace(opt_point)\n",
        "\n",
        "fig.update_layout(scene = dict(\n",
        "    xaxis_title = \"theta0\",\n",
        "    yaxis_title = \"theta1\",\n",
        "    zaxis_title = \"MSE\"))\n",
        "\n",
        "\n",
        "fig.show()"
      ],
      "execution_count": null,
      "outputs": []
    },
    {
      "cell_type": "markdown",
      "metadata": {
        "id": "FD7i4JAbb9Ez"
      },
      "source": [
        "As you can see, our calculation of slope and intercept truly do minimize the amount of error (known as MSE mean squared error)."
      ]
    },
    {
      "cell_type": "markdown",
      "metadata": {
        "id": "XbT8bYDMb-Bq"
      },
      "source": [
        "## Sklearn Linear Regression Model\n",
        "\n",
        "Next we repeat with the sklearn linear regression model to understand how to use ready-made libraries. "
      ]
    },
    {
      "cell_type": "code",
      "metadata": {
        "colab": {
          "background_save": true
        },
        "id": "qTdD9DyLcAVa"
      },
      "source": [
        "# TODO: Load the diabetes dataset\n",
        "#     hint: look at sklearn datasets docs\n",
        "# START\n",
        "diabetes_X, diabetes_y = datasets.load_diabetes(return_X_y=True)\n",
        "# END\n",
        "\n",
        "# Use only one feature\n",
        "diabetes_X = diabetes_X[:, np.newaxis, 2]\n",
        "\n",
        "# Split the data into training/testing sets\n",
        "diabetes_X_train = diabetes_X[:-20]\n",
        "diabetes_X_test = diabetes_X[-20:]\n",
        "\n",
        "# Split the targets into training/testing sets\n",
        "diabetes_y_train = diabetes_y[:-20]\n",
        "diabetes_y_test = diabetes_y[-20:]\n",
        "\n",
        "# TODO: Create linear regression object\n",
        "#       Train the model using diabetes_X_train,diabetes_y_train\n",
        "#       Make predictions using diabetes_X_test\n",
        "#     hint: look into sklearn linear regression docs\n",
        "# START\n",
        "# Create linear regression object\n",
        "regr = linear_model.LinearRegression()\n",
        "\n",
        "# Train the model using the training sets\n",
        "regr.fit(diabetes_X_train, diabetes_y_train)\n",
        "\n",
        "# Make predictions using the testing set\n",
        "diabetes_y_pred = regr.predict(diabetes_X_test)\n",
        "# END\n",
        "\n",
        "# Plot outputs\n",
        "plt.scatter(diabetes_X_test, diabetes_y_test,  color='blue')\n",
        "plt.plot(diabetes_X_test, diabetes_y_pred, color='red')\n",
        "plt.title('Diabetes Linear Regression')\n",
        "\n",
        "plt.xticks(())\n",
        "plt.yticks(())\n",
        "\n",
        "plt.show()\n",
        "\n",
        "# R^2 value: 1 is perfect prediction\n",
        "print('R_squared: %.2f'\n",
        "      % r2_score(diabetes_y_test, diabetes_y_pred))"
      ],
      "execution_count": null,
      "outputs": []
    },
    {
      "cell_type": "markdown",
      "metadata": {
        "id": "9JPmhcuacEx4"
      },
      "source": [
        "## Sklearn Exponential Curve Fit\n",
        "\n",
        "Finally, we fit an exponential curve by transforming the data to a linear regression model by writing as: $\\log(y)= m\\log(x) + b$"
      ]
    },
    {
      "cell_type": "code",
      "metadata": {
        "colab": {
          "base_uri": "https://localhost:8080/",
          "height": 595
        },
        "id": "-AZKdgwPcFw3",
        "outputId": "464c611e-3d17-4909-8d47-da6840d9756b"
      },
      "source": [
        "# create exponential curve\n",
        "fig, ax = plt.subplots(1, 1)\n",
        "\n",
        "x = np.linspace(expon.ppf(0.01), expon.ppf(0.99), 50)\n",
        "y = expon.pdf(x)\n",
        "ax.plot(x, y, 'r-', alpha=0.6, label='expon pdf')\n",
        "plt.title(\"Exponential PDF\")\n",
        "\n",
        "# add noise\n",
        "x += np.exp(np.random.randn(len(x)))/20\n",
        "y += np.exp(np.random.randn(len(y)))/30\n",
        "\n",
        "plt.scatter(x,y)\n",
        "plt.show()\n",
        "\n",
        "# TODO: Change data to allow linear regression fit for exponential function\n",
        "# START\n",
        "y = [np.log(yi) for yi in y]\n",
        "# END\n",
        "\n",
        "# turn into numpy arrays\n",
        "x = np.array(x)\n",
        "y = np.array(y)\n",
        "\n",
        "# TODO: calculate slope and intercept for new dataset\n",
        "# START\n",
        "m = calculateSlope(x, y)\n",
        "b = calculateIntercept(x, y, m)\n",
        "# END\n",
        "\n",
        "print('calculated m = ', m)\n",
        "print('calculated b = ', b)\n",
        "\n",
        "# best fit y = mx + b line\n",
        "yhat = m*x + b\n",
        "\n",
        "plt.scatter(x, y)\n",
        "plt.plot(x, yhat, 'r')\n",
        "plt.title('Best Fit')\n",
        "plt.show()\n",
        "\n",
        "#  R^2 value\n",
        "SSres, SStot = calculateRSquared(y, yhat)\n",
        "r_squared = 1 - SSres/SStot\n",
        "\n",
        "print('r_squared = ', r_squared)"
      ],
      "execution_count": null,
      "outputs": [
        {
          "output_type": "display_data",
          "data": {
            "image/png": "[encoded data removed]",
            "text/plain": [
              "<Figure size 432x288 with 1 Axes>"
            ]
          },
          "metadata": {
            "tags": [],
            "needs_background": "light"
          }
        },
        {
          "output_type": "stream",
          "text": [
            "calculated m =  -0.767967669199864\n",
            "calculated b =  0.026854440944659386\n"
          ],
          "name": "stdout"
        },
        {
          "output_type": "display_data",
          "data": {
            "image/png": "[encoded data removed]",
            "text/plain": [
              "<Figure size 432x288 with 1 Axes>"
            ]
          },
          "metadata": {
            "tags": [],
            "needs_background": "light"
          }
        },
        {
          "output_type": "stream",
          "text": [
            "r_squared =  0.8780244086401184\n"
          ],
          "name": "stdout"
        }
      ]
    },
    {
      "cell_type": "markdown",
      "metadata": {
        "id": "Duz8ljyWcLI8"
      },
      "source": [
        "Your r_squared should come out to around 0.8-0.9. This section was to just show that transformations to the data can lead to better fits via linear regression. "
      ]
    },
    {
      "cell_type": "markdown",
      "metadata": {
        "id": "24eJOxg1OCnV"
      },
      "source": [
        "# Linear Regression OLS and 3D plot\n",
        "\n"
      ]
    },
    {
      "cell_type": "markdown",
      "metadata": {
        "id": "ZZw4J1d-OzzU"
      },
      "source": [
        "##Ordinary Least Squares Regression without SKLearn\n",
        "\n",
        "We can start using the normal equations:\n",
        "\n",
        "$$\n",
        " \\hat{\\theta} = \\left( \\mathbb{X}^T \\mathbb{X} \\right)^{-1} \\mathbb{X}^T \\mathbb{Y}\n",
        "$$\n",
        "\n",
        "We can compute $\\hat{\\theta}$ by direction using matrix inversion:"
      ]
    },
    {
      "cell_type": "markdown",
      "metadata": {
        "id": "6hUfPc6YO3Wd"
      },
      "source": [
        "### Ordinary least squares (OLS)\n",
        "\n",
        "$$y = X^Tw$$\n",
        "\n",
        "\n",
        "If $L$ : $\\mathbb{R}^d → \\mathbb{R}$ is continuously differentiable, then\n",
        "any local optimum satisfies $∇L(w^∗) = 0$. In the OLS case,\n",
        "\n",
        "$$ L(w^*) = ||Xw - y||_2^2$$\n",
        "\n",
        "$$ = (Xw − y)^T(Xw − y)$$\n",
        "\n",
        "$$ = (Xw)^TXw − (Xw)^Ty − y^TXw + y^Ty$$\n",
        "\n",
        "$$ = w^TX^TXw − 2w^TX^Ty + y^Ty$$\n",
        "\n",
        "Using the following results from matrix calculus:\n",
        "\n",
        "$$∇_x(a^Tx) = a$$\n",
        "\n",
        "$$∇_x(x^TAx) = (A + A^T)x$$\n",
        "\n",
        "The gradient of L is easily seen to be\n",
        "\n",
        "$$∇L(w) = ∇_w(w^TX^TXw − 2w^TX^Ty + y^Ty)$$\n",
        "\n",
        "$$ = ∇w(w^TX^TXw) − 2∇w(w^TX^Ty) + ∇w(y^Ty)$$\n",
        "\n",
        "$$ = 2X^TXw − 2X^Ty$$\n",
        "\n",
        "where in the last line we have used the symmetry of $X^TX$ to simplify $X^TX+(X^TX)^T = 2X^TX$. Setting the gradient to 0, we conclude that any optimum $w^∗$ OLS satisfies:\n",
        "\n",
        "$$X^TXw_{ols}^* = X^Ty$$\n",
        "\n",
        "If X is full rank, then $X^TX$ is as well (assuming n ≥ d), so we can solve for a unique solution:\n",
        "\n",
        "$$w_{ols}^* = (X^TX)^{−1}X^Ty$$\n",
        "\n"
      ]
    },
    {
      "cell_type": "code",
      "metadata": {
        "id": "dKtSo1ZnO_-q"
      },
      "source": [
        "from numpy.linalg import inv, solve"
      ],
      "execution_count": null,
      "outputs": []
    },
    {
      "cell_type": "markdown",
      "metadata": {
        "id": "Nd1klQ6ePCT2"
      },
      "source": [
        "## TODO ##\n",
        "Write the `least_squares_by_inv`  function  to solve the linear systems: $$w_{ols}^* = (X^TX)^{−1}X^Ty$$"
      ]
    },
    {
      "cell_type": "code",
      "metadata": {
        "id": "RmvA4hjgPGW2"
      },
      "source": [
        "def least_squares_by_inv(X, Y):\n",
        "  # START\n",
        "    return inv(X.T @ X) @ X.T @ Y\n",
        "  # END"
      ],
      "execution_count": null,
      "outputs": []
    },
    {
      "cell_type": "markdown",
      "metadata": {
        "id": "JakpOhtcPFqW"
      },
      "source": [
        "A more efficient way to solve the normal equations is using the `least_squares_by_solve` function to solve the linear systems:\n",
        "\n",
        "$$\n",
        "A \\theta = b\n",
        "$$\n",
        "\n",
        "where $A=\\mathbb{X}^T \\mathbb{X}$ and $b=\\mathbb{X}^T \\mathbb{Y}$:"
      ]
    },
    {
      "cell_type": "code",
      "metadata": {
        "id": "QBeu-dBWPLSs"
      },
      "source": [
        "# START\n",
        "def least_squares_by_solve(X, Y):\n",
        "    return solve(X.T @ X, X.T @ Y)\n",
        "\n",
        "# or\n",
        "def least_squares_by_solve(X, Y):\n",
        "    A = X.T @ X\n",
        "    b = X.T @ Y\n",
        "    return solve(A, b)\n",
        "# END"
      ],
      "execution_count": null,
      "outputs": []
    },
    {
      "cell_type": "markdown",
      "metadata": {
        "id": "iwhjmcQQPP7-"
      },
      "source": [
        "## House Price Prediction\n",
        "\n",
        "The real estate markets, like those in Sydney and Melbourne, present an interesting opportunity for data analysts to analyze and predict where property prices are moving towards. Prediction of property prices is becoming increasingly important and beneficial. Property prices are a good indicator of both the overall market condition and the economic health of a country. Considering the data provided, we are wrangling a large set of property sales records stored in an unknown format and with unknown data quality issues.\n",
        "\n",
        "(Data from Kaggle: https://www.kaggle.com/shree1992/housedata)"
      ]
    },
    {
      "cell_type": "code",
      "metadata": {
        "colab": {
          "base_uri": "https://localhost:8080/",
          "height": 419
        },
        "id": "p3ygOclhPZQb",
        "outputId": "481bcdcb-7957-4384-a86e-97205fb7b6e1"
      },
      "source": [
        "data = pd.read_csv('data.csv')\n",
        "data"
      ],
      "execution_count": null,
      "outputs": [
        {
          "output_type": "execute_result",
          "data": {
            "text/html": [
              "<div>\n",
              "<style scoped>\n",
              "    .dataframe tbody tr th:only-of-type {\n",
              "        vertical-align: middle;\n",
              "    }\n",
              "\n",
              "    .dataframe tbody tr th {\n",
              "        vertical-align: top;\n",
              "    }\n",
              "\n",
              "    .dataframe thead th {\n",
              "        text-align: right;\n",
              "    }\n",
              "</style>\n",
              "<table border=\"1\" class=\"dataframe\">\n",
              "  <thead>\n",
              "    <tr style=\"text-align: right;\">\n",
              "      <th></th>\n",
              "      <th>date</th>\n",
              "      <th>price</th>\n",
              "      <th>bedrooms</th>\n",
              "      <th>bathrooms</th>\n",
              "      <th>sqft_living</th>\n",
              "      <th>sqft_lot</th>\n",
              "      <th>floors</th>\n",
              "      <th>waterfront</th>\n",
              "      <th>view</th>\n",
              "      <th>condition</th>\n",
              "      <th>sqft_above</th>\n",
              "      <th>sqft_basement</th>\n",
              "      <th>yr_built</th>\n",
              "      <th>yr_renovated</th>\n",
              "      <th>street</th>\n",
              "      <th>city</th>\n",
              "      <th>statezip</th>\n",
              "      <th>country</th>\n",
              "    </tr>\n",
              "  </thead>\n",
              "  <tbody>\n",
              "    <tr>\n",
              "      <th>0</th>\n",
              "      <td>2014-05-02 00:00:00</td>\n",
              "      <td>3.130000e+05</td>\n",
              "      <td>3.0</td>\n",
              "      <td>1.50</td>\n",
              "      <td>1340</td>\n",
              "      <td>7912</td>\n",
              "      <td>1.5</td>\n",
              "      <td>0</td>\n",
              "      <td>0</td>\n",
              "      <td>3</td>\n",
              "      <td>1340</td>\n",
              "      <td>0</td>\n",
              "      <td>1955</td>\n",
              "      <td>2005</td>\n",
              "      <td>18810 Densmore Ave N</td>\n",
              "      <td>Shoreline</td>\n",
              "      <td>WA 98133</td>\n",
              "      <td>USA</td>\n",
              "    </tr>\n",
              "    <tr>\n",
              "      <th>1</th>\n",
              "      <td>2014-05-02 00:00:00</td>\n",
              "      <td>2.384000e+06</td>\n",
              "      <td>5.0</td>\n",
              "      <td>2.50</td>\n",
              "      <td>3650</td>\n",
              "      <td>9050</td>\n",
              "      <td>2.0</td>\n",
              "      <td>0</td>\n",
              "      <td>4</td>\n",
              "      <td>5</td>\n",
              "      <td>3370</td>\n",
              "      <td>280</td>\n",
              "      <td>1921</td>\n",
              "      <td>0</td>\n",
              "      <td>709 W Blaine St</td>\n",
              "      <td>Seattle</td>\n",
              "      <td>WA 98119</td>\n",
              "      <td>USA</td>\n",
              "    </tr>\n",
              "    <tr>\n",
              "      <th>2</th>\n",
              "      <td>2014-05-02 00:00:00</td>\n",
              "      <td>3.420000e+05</td>\n",
              "      <td>3.0</td>\n",
              "      <td>2.00</td>\n",
              "      <td>1930</td>\n",
              "      <td>11947</td>\n",
              "      <td>1.0</td>\n",
              "      <td>0</td>\n",
              "      <td>0</td>\n",
              "      <td>4</td>\n",
              "      <td>1930</td>\n",
              "      <td>0</td>\n",
              "      <td>1966</td>\n",
              "      <td>0</td>\n",
              "      <td>26206-26214 143rd Ave SE</td>\n",
              "      <td>Kent</td>\n",
              "      <td>WA 98042</td>\n",
              "      <td>USA</td>\n",
              "    </tr>\n",
              "    <tr>\n",
              "      <th>3</th>\n",
              "      <td>2014-05-02 00:00:00</td>\n",
              "      <td>4.200000e+05</td>\n",
              "      <td>3.0</td>\n",
              "      <td>2.25</td>\n",
              "      <td>2000</td>\n",
              "      <td>8030</td>\n",
              "      <td>1.0</td>\n",
              "      <td>0</td>\n",
              "      <td>0</td>\n",
              "      <td>4</td>\n",
              "      <td>1000</td>\n",
              "      <td>1000</td>\n",
              "      <td>1963</td>\n",
              "      <td>0</td>\n",
              "      <td>857 170th Pl NE</td>\n",
              "      <td>Bellevue</td>\n",
              "      <td>WA 98008</td>\n",
              "      <td>USA</td>\n",
              "    </tr>\n",
              "    <tr>\n",
              "      <th>4</th>\n",
              "      <td>2014-05-02 00:00:00</td>\n",
              "      <td>5.500000e+05</td>\n",
              "      <td>4.0</td>\n",
              "      <td>2.50</td>\n",
              "      <td>1940</td>\n",
              "      <td>10500</td>\n",
              "      <td>1.0</td>\n",
              "      <td>0</td>\n",
              "      <td>0</td>\n",
              "      <td>4</td>\n",
              "      <td>1140</td>\n",
              "      <td>800</td>\n",
              "      <td>1976</td>\n",
              "      <td>1992</td>\n",
              "      <td>9105 170th Ave NE</td>\n",
              "      <td>Redmond</td>\n",
              "      <td>WA 98052</td>\n",
              "      <td>USA</td>\n",
              "    </tr>\n",
              "    <tr>\n",
              "      <th>...</th>\n",
              "      <td>...</td>\n",
              "      <td>...</td>\n",
              "      <td>...</td>\n",
              "      <td>...</td>\n",
              "      <td>...</td>\n",
              "      <td>...</td>\n",
              "      <td>...</td>\n",
              "      <td>...</td>\n",
              "      <td>...</td>\n",
              "      <td>...</td>\n",
              "      <td>...</td>\n",
              "      <td>...</td>\n",
              "      <td>...</td>\n",
              "      <td>...</td>\n",
              "      <td>...</td>\n",
              "      <td>...</td>\n",
              "      <td>...</td>\n",
              "      <td>...</td>\n",
              "    </tr>\n",
              "    <tr>\n",
              "      <th>4595</th>\n",
              "      <td>2014-07-09 00:00:00</td>\n",
              "      <td>3.081667e+05</td>\n",
              "      <td>3.0</td>\n",
              "      <td>1.75</td>\n",
              "      <td>1510</td>\n",
              "      <td>6360</td>\n",
              "      <td>1.0</td>\n",
              "      <td>0</td>\n",
              "      <td>0</td>\n",
              "      <td>4</td>\n",
              "      <td>1510</td>\n",
              "      <td>0</td>\n",
              "      <td>1954</td>\n",
              "      <td>1979</td>\n",
              "      <td>501 N 143rd St</td>\n",
              "      <td>Seattle</td>\n",
              "      <td>WA 98133</td>\n",
              "      <td>USA</td>\n",
              "    </tr>\n",
              "    <tr>\n",
              "      <th>4596</th>\n",
              "      <td>2014-07-09 00:00:00</td>\n",
              "      <td>5.343333e+05</td>\n",
              "      <td>3.0</td>\n",
              "      <td>2.50</td>\n",
              "      <td>1460</td>\n",
              "      <td>7573</td>\n",
              "      <td>2.0</td>\n",
              "      <td>0</td>\n",
              "      <td>0</td>\n",
              "      <td>3</td>\n",
              "      <td>1460</td>\n",
              "      <td>0</td>\n",
              "      <td>1983</td>\n",
              "      <td>2009</td>\n",
              "      <td>14855 SE 10th Pl</td>\n",
              "      <td>Bellevue</td>\n",
              "      <td>WA 98007</td>\n",
              "      <td>USA</td>\n",
              "    </tr>\n",
              "    <tr>\n",
              "      <th>4597</th>\n",
              "      <td>2014-07-09 00:00:00</td>\n",
              "      <td>4.169042e+05</td>\n",
              "      <td>3.0</td>\n",
              "      <td>2.50</td>\n",
              "      <td>3010</td>\n",
              "      <td>7014</td>\n",
              "      <td>2.0</td>\n",
              "      <td>0</td>\n",
              "      <td>0</td>\n",
              "      <td>3</td>\n",
              "      <td>3010</td>\n",
              "      <td>0</td>\n",
              "      <td>2009</td>\n",
              "      <td>0</td>\n",
              "      <td>759 Ilwaco Pl NE</td>\n",
              "      <td>Renton</td>\n",
              "      <td>WA 98059</td>\n",
              "      <td>USA</td>\n",
              "    </tr>\n",
              "    <tr>\n",
              "      <th>4598</th>\n",
              "      <td>2014-07-10 00:00:00</td>\n",
              "      <td>2.034000e+05</td>\n",
              "      <td>4.0</td>\n",
              "      <td>2.00</td>\n",
              "      <td>2090</td>\n",
              "      <td>6630</td>\n",
              "      <td>1.0</td>\n",
              "      <td>0</td>\n",
              "      <td>0</td>\n",
              "      <td>3</td>\n",
              "      <td>1070</td>\n",
              "      <td>1020</td>\n",
              "      <td>1974</td>\n",
              "      <td>0</td>\n",
              "      <td>5148 S Creston St</td>\n",
              "      <td>Seattle</td>\n",
              "      <td>WA 98178</td>\n",
              "      <td>USA</td>\n",
              "    </tr>\n",
              "    <tr>\n",
              "      <th>4599</th>\n",
              "      <td>2014-07-10 00:00:00</td>\n",
              "      <td>2.206000e+05</td>\n",
              "      <td>3.0</td>\n",
              "      <td>2.50</td>\n",
              "      <td>1490</td>\n",
              "      <td>8102</td>\n",
              "      <td>2.0</td>\n",
              "      <td>0</td>\n",
              "      <td>0</td>\n",
              "      <td>4</td>\n",
              "      <td>1490</td>\n",
              "      <td>0</td>\n",
              "      <td>1990</td>\n",
              "      <td>0</td>\n",
              "      <td>18717 SE 258th St</td>\n",
              "      <td>Covington</td>\n",
              "      <td>WA 98042</td>\n",
              "      <td>USA</td>\n",
              "    </tr>\n",
              "  </tbody>\n",
              "</table>\n",
              "<p>4600 rows × 18 columns</p>\n",
              "</div>"
            ],
            "text/plain": [
              "                     date         price  bedrooms  ...       city  statezip  country\n",
              "0     2014-05-02 00:00:00  3.130000e+05       3.0  ...  Shoreline  WA 98133      USA\n",
              "1     2014-05-02 00:00:00  2.384000e+06       5.0  ...    Seattle  WA 98119      USA\n",
              "2     2014-05-02 00:00:00  3.420000e+05       3.0  ...       Kent  WA 98042      USA\n",
              "3     2014-05-02 00:00:00  4.200000e+05       3.0  ...   Bellevue  WA 98008      USA\n",
              "4     2014-05-02 00:00:00  5.500000e+05       4.0  ...    Redmond  WA 98052      USA\n",
              "...                   ...           ...       ...  ...        ...       ...      ...\n",
              "4595  2014-07-09 00:00:00  3.081667e+05       3.0  ...    Seattle  WA 98133      USA\n",
              "4596  2014-07-09 00:00:00  5.343333e+05       3.0  ...   Bellevue  WA 98007      USA\n",
              "4597  2014-07-09 00:00:00  4.169042e+05       3.0  ...     Renton  WA 98059      USA\n",
              "4598  2014-07-10 00:00:00  2.034000e+05       4.0  ...    Seattle  WA 98178      USA\n",
              "4599  2014-07-10 00:00:00  2.206000e+05       3.0  ...  Covington  WA 98042      USA\n",
              "\n",
              "[4600 rows x 18 columns]"
            ]
          },
          "metadata": {
            "tags": []
          },
          "execution_count": 6
        }
      ]
    },
    {
      "cell_type": "markdown",
      "metadata": {
        "id": "BCDH_PoqP0Kl"
      },
      "source": [
        "### Price\n",
        "We begin by examining a raincloud plot (a combination of a KDE, a histogram, a strip plot, and a box plot) of our target variable `Price`. At the same time, we also take a look at some descriptive statistics of this variable."
      ]
    },
    {
      "cell_type": "code",
      "metadata": {
        "colab": {
          "base_uri": "https://localhost:8080/",
          "height": 483
        },
        "id": "pBuZkZOdP2Sa",
        "outputId": "a7cd9349-08ae-4309-d841-8f1abcb9f100"
      },
      "source": [
        "fig, axs = plt.subplots(nrows=2)\n",
        "sns.distplot(\n",
        "    data['price'], \n",
        "    ax=axs[0]\n",
        ")\n",
        "sns.stripplot(\n",
        "    data['price'], \n",
        "    jitter=0.4, \n",
        "    size=3,\n",
        "    ax=axs[1],\n",
        "    alpha=0.3\n",
        ")\n",
        "sns.boxplot(\n",
        "    data['price'],\n",
        "    width=0.3, \n",
        "    ax=axs[1],\n",
        "    showfliers=False,\n",
        ")\n",
        "\n",
        "# Align axes\n",
        "spacer = np.max(data['price']) * 0.05\n",
        "xmin = np.min(data['price']) - spacer\n",
        "xmax = np.max(data['price']) + spacer\n",
        "axs[0].set_xlim((xmin, xmax))\n",
        "axs[1].set_xlim((xmin, xmax))\n",
        "\n",
        "# Remove some axis text\n",
        "axs[0].xaxis.set_visible(False)\n",
        "axs[0].yaxis.set_visible(False)\n",
        "axs[1].yaxis.set_visible(False)\n",
        "\n",
        "# Put the two plots together\n",
        "plt.subplots_adjust(hspace=0)\n",
        "\n",
        "# Adjust boxplot fill to be white\n",
        "axs[1].artists[0].set_facecolor('white')\n"
      ],
      "execution_count": null,
      "outputs": [
        {
          "output_type": "stream",
          "text": [
            "/usr/local/lib/python3.6/dist-packages/seaborn/distributions.py:2551: FutureWarning:\n",
            "\n",
            "`distplot` is a deprecated function and will be removed in a future version. Please adapt your code to use either `displot` (a figure-level function with similar flexibility) or `histplot` (an axes-level function for histograms).\n",
            "\n",
            "/usr/local/lib/python3.6/dist-packages/seaborn/_decorators.py:43: FutureWarning:\n",
            "\n",
            "Pass the following variable as a keyword arg: x. From version 0.12, the only valid positional argument will be `data`, and passing other arguments without an explicit keyword will result in an error or misinterpretation.\n",
            "\n",
            "/usr/local/lib/python3.6/dist-packages/seaborn/_decorators.py:43: FutureWarning:\n",
            "\n",
            "Pass the following variable as a keyword arg: x. From version 0.12, the only valid positional argument will be `data`, and passing other arguments without an explicit keyword will result in an error or misinterpretation.\n",
            "\n"
          ],
          "name": "stderr"
        },
        {
          "output_type": "display_data",
          "data": {
            "image/png": "[encoded data removed]",
            "text/plain": [
              "<Figure size 432x288 with 2 Axes>"
            ]
          },
          "metadata": {
            "tags": [],
            "needs_background": "light"
          }
        }
      ]
    },
    {
      "cell_type": "markdown",
      "metadata": {
        "id": "Bg1-jzr8T4sW"
      },
      "source": [
        "####TODO \n",
        "Let take a look at some descriptive statistics of this variable. (Hint: Use the `describe`.)"
      ]
    },
    {
      "cell_type": "code",
      "metadata": {
        "colab": {
          "base_uri": "https://localhost:8080/"
        },
        "id": "TDGILwAUP5nT",
        "outputId": "769c0a90-e644-4dc6-e16e-fa185bff3d09"
      },
      "source": [
        "#START\n",
        "data['price'].describe()\n",
        "#END"
      ],
      "execution_count": null,
      "outputs": [
        {
          "output_type": "execute_result",
          "data": {
            "text/plain": [
              "count    4.600000e+03\n",
              "mean     5.519630e+05\n",
              "std      5.638347e+05\n",
              "min      0.000000e+00\n",
              "25%      3.228750e+05\n",
              "50%      4.609435e+05\n",
              "75%      6.549625e+05\n",
              "max      2.659000e+07\n",
              "Name: price, dtype: float64"
            ]
          },
          "metadata": {
            "tags": []
          },
          "execution_count": 8
        }
      ]
    },
    {
      "cell_type": "markdown",
      "metadata": {
        "id": "j_QsSXw_P8Ui"
      },
      "source": [
        "####TODO\n",
        "What do you find from the plot and descriptive statistics of this variable?\n",
        "\n",
        "Answer: *We could find that there are only few points are above 1le7, since we could find from the description that the 75% of the data is at the 6.549625e+05.*\n"
      ]
    },
    {
      "cell_type": "markdown",
      "metadata": {
        "id": "-GEyO-QBQDHE"
      },
      "source": [
        "####TODO\n",
        "Let try to see the plot below 75% of the points (75% is 6.575000e+05). You could use the code we provided above!"
      ]
    },
    {
      "cell_type": "code",
      "metadata": {
        "colab": {
          "base_uri": "https://localhost:8080/",
          "height": 483
        },
        "id": "7Ev5D_BwP7wf",
        "outputId": "651f8bda-1684-4511-b80e-58b0ec8bf724"
      },
      "source": [
        "#START\n",
        "data1 = data[data['price']<=6.575000e+05]\n",
        "fig, axs = plt.subplots(nrows=2)\n",
        "sns.distplot(\n",
        "    data1['price'], \n",
        "    ax=axs[0]\n",
        ")\n",
        "sns.stripplot(\n",
        "    data1['price'], \n",
        "    jitter=0.4, \n",
        "    size=3,\n",
        "    ax=axs[1],\n",
        "    alpha=0.3\n",
        ")\n",
        "sns.boxplot(\n",
        "    data1['price'],\n",
        "    width=0.3, \n",
        "    ax=axs[1],\n",
        "    showfliers=False,\n",
        ")\n",
        "\n",
        "#END\n",
        "# Align axes\n",
        "spacer = np.max(data1['price']) * 0.05\n",
        "xmin = np.min(data1['price']) - spacer\n",
        "xmax = np.max(data1['price']) + spacer\n",
        "axs[0].set_xlim((xmin, xmax))\n",
        "axs[1].set_xlim((xmin, xmax))\n",
        "\n",
        "# Remove some axis text\n",
        "axs[0].xaxis.set_visible(False)\n",
        "axs[0].yaxis.set_visible(False)\n",
        "axs[1].yaxis.set_visible(False)\n",
        "\n",
        "# Put the two plots together\n",
        "plt.subplots_adjust(hspace=0)\n",
        "\n",
        "# Adjust boxplot fill to be white\n",
        "axs[1].artists[0].set_facecolor('white')"
      ],
      "execution_count": null,
      "outputs": [
        {
          "output_type": "stream",
          "text": [
            "/usr/local/lib/python3.6/dist-packages/seaborn/distributions.py:2551: FutureWarning:\n",
            "\n",
            "`distplot` is a deprecated function and will be removed in a future version. Please adapt your code to use either `displot` (a figure-level function with similar flexibility) or `histplot` (an axes-level function for histograms).\n",
            "\n",
            "/usr/local/lib/python3.6/dist-packages/seaborn/_decorators.py:43: FutureWarning:\n",
            "\n",
            "Pass the following variable as a keyword arg: x. From version 0.12, the only valid positional argument will be `data`, and passing other arguments without an explicit keyword will result in an error or misinterpretation.\n",
            "\n",
            "/usr/local/lib/python3.6/dist-packages/seaborn/_decorators.py:43: FutureWarning:\n",
            "\n",
            "Pass the following variable as a keyword arg: x. From version 0.12, the only valid positional argument will be `data`, and passing other arguments without an explicit keyword will result in an error or misinterpretation.\n",
            "\n"
          ],
          "name": "stderr"
        },
        {
          "output_type": "display_data",
          "data": {
            "image/png": "[encoded data removed]",
            "text/plain": [
              "<Figure size 432x288 with 2 Axes>"
            ]
          },
          "metadata": {
            "tags": [],
            "needs_background": "light"
          }
        }
      ]
    },
    {
      "cell_type": "markdown",
      "metadata": {
        "id": "1NQ9LspbQHeS"
      },
      "source": [
        "###Price vs Bedrooms and Bathrooms\n",
        "Nex we want to see how the number of bedrooms and bathrooms would affect the house price. \n",
        "\n"
      ]
    },
    {
      "cell_type": "markdown",
      "metadata": {
        "id": "x1QyulIiSEZ2"
      },
      "source": [
        "####TODO\n",
        "Let make an DataFrame only include price, bedrooms and bathrooms. Let set the x1 be the number of bedrooms, x2 be the number of bathrooms and y be the number of price. Since the price is high let divide the price by 1,000,000.\n",
        "\n",
        "Here also we only care about the price below 6.575000e+05!"
      ]
    },
    {
      "cell_type": "code",
      "metadata": {
        "colab": {
          "base_uri": "https://localhost:8080/",
          "height": 419
        },
        "id": "fW24G8MQUV1k",
        "outputId": "c438448f-2dc4-461b-e759-cd070869e78b"
      },
      "source": [
        "#START\n",
        "data = data[data['price']<=6.575000e+05]\n",
        "x1 = data['bedrooms']\n",
        "x2 = data['bathrooms']\n",
        "y = data['price']/1000000\n",
        "sample_data = pd.DataFrame({'x1': x1, 'x2': x2, 'y': y})\n",
        "sample_data = sample_data[sample_data['y'] != 0]\n",
        "sample_data\n",
        "#END"
      ],
      "execution_count": null,
      "outputs": [
        {
          "output_type": "execute_result",
          "data": {
            "text/html": [
              "<div>\n",
              "<style scoped>\n",
              "    .dataframe tbody tr th:only-of-type {\n",
              "        vertical-align: middle;\n",
              "    }\n",
              "\n",
              "    .dataframe tbody tr th {\n",
              "        vertical-align: top;\n",
              "    }\n",
              "\n",
              "    .dataframe thead th {\n",
              "        text-align: right;\n",
              "    }\n",
              "</style>\n",
              "<table border=\"1\" class=\"dataframe\">\n",
              "  <thead>\n",
              "    <tr style=\"text-align: right;\">\n",
              "      <th></th>\n",
              "      <th>x1</th>\n",
              "      <th>x2</th>\n",
              "      <th>y</th>\n",
              "    </tr>\n",
              "  </thead>\n",
              "  <tbody>\n",
              "    <tr>\n",
              "      <th>0</th>\n",
              "      <td>3.0</td>\n",
              "      <td>1.50</td>\n",
              "      <td>0.313000</td>\n",
              "    </tr>\n",
              "    <tr>\n",
              "      <th>2</th>\n",
              "      <td>3.0</td>\n",
              "      <td>2.00</td>\n",
              "      <td>0.342000</td>\n",
              "    </tr>\n",
              "    <tr>\n",
              "      <th>3</th>\n",
              "      <td>3.0</td>\n",
              "      <td>2.25</td>\n",
              "      <td>0.420000</td>\n",
              "    </tr>\n",
              "    <tr>\n",
              "      <th>4</th>\n",
              "      <td>4.0</td>\n",
              "      <td>2.50</td>\n",
              "      <td>0.550000</td>\n",
              "    </tr>\n",
              "    <tr>\n",
              "      <th>5</th>\n",
              "      <td>2.0</td>\n",
              "      <td>1.00</td>\n",
              "      <td>0.490000</td>\n",
              "    </tr>\n",
              "    <tr>\n",
              "      <th>...</th>\n",
              "      <td>...</td>\n",
              "      <td>...</td>\n",
              "      <td>...</td>\n",
              "    </tr>\n",
              "    <tr>\n",
              "      <th>4595</th>\n",
              "      <td>3.0</td>\n",
              "      <td>1.75</td>\n",
              "      <td>0.308167</td>\n",
              "    </tr>\n",
              "    <tr>\n",
              "      <th>4596</th>\n",
              "      <td>3.0</td>\n",
              "      <td>2.50</td>\n",
              "      <td>0.534333</td>\n",
              "    </tr>\n",
              "    <tr>\n",
              "      <th>4597</th>\n",
              "      <td>3.0</td>\n",
              "      <td>2.50</td>\n",
              "      <td>0.416904</td>\n",
              "    </tr>\n",
              "    <tr>\n",
              "      <th>4598</th>\n",
              "      <td>4.0</td>\n",
              "      <td>2.00</td>\n",
              "      <td>0.203400</td>\n",
              "    </tr>\n",
              "    <tr>\n",
              "      <th>4599</th>\n",
              "      <td>3.0</td>\n",
              "      <td>2.50</td>\n",
              "      <td>0.220600</td>\n",
              "    </tr>\n",
              "  </tbody>\n",
              "</table>\n",
              "<p>3414 rows × 3 columns</p>\n",
              "</div>"
            ],
            "text/plain": [
              "       x1    x2         y\n",
              "0     3.0  1.50  0.313000\n",
              "2     3.0  2.00  0.342000\n",
              "3     3.0  2.25  0.420000\n",
              "4     4.0  2.50  0.550000\n",
              "5     2.0  1.00  0.490000\n",
              "...   ...   ...       ...\n",
              "4595  3.0  1.75  0.308167\n",
              "4596  3.0  2.50  0.534333\n",
              "4597  3.0  2.50  0.416904\n",
              "4598  4.0  2.00  0.203400\n",
              "4599  3.0  2.50  0.220600\n",
              "\n",
              "[3414 rows x 3 columns]"
            ]
          },
          "metadata": {
            "tags": []
          },
          "execution_count": 10
        }
      ]
    },
    {
      "cell_type": "markdown",
      "metadata": {
        "id": "tm4u-iYNTMfc"
      },
      "source": [
        "### Testing on Sample Data\n",
        "\n"
      ]
    },
    {
      "cell_type": "markdown",
      "metadata": {
        "id": "1akZhSa9SA4G"
      },
      "source": [
        "####TODO\n",
        "Let's quickly test two linear regressions on our sample dataset:\n",
        "$$w_{ols}^* = (X^TX)^{−1}X^Ty$$ and \n",
        "$$\n",
        "A \\theta = b\n",
        "$$"
      ]
    },
    {
      "cell_type": "code",
      "metadata": {
        "id": "1lRBsBqPPf7o"
      },
      "source": [
        "# Let make the x be number of x1 and x2, and y be all the number of y\n",
        "# START\n",
        "x = sample_data[[\"x1\", \"x2\"]].to_numpy()\n",
        "y = sample_data[[\"y\"]].to_numpy()\n",
        "# END"
      ],
      "execution_count": null,
      "outputs": []
    },
    {
      "cell_type": "markdown",
      "metadata": {
        "id": "IaOJvwgZPh81"
      },
      "source": [
        "First let use $$w_{ols}^* = (X^TX)^{−1}X^Ty$$ to calculate our data\n"
      ]
    },
    {
      "cell_type": "code",
      "metadata": {
        "colab": {
          "base_uri": "https://localhost:8080/"
        },
        "id": "FgsPTC4iPkfK",
        "outputId": "fe7c6324-e67c-4256-c834-1e94c6a6be8f"
      },
      "source": [
        "# START\n",
        "w_hat = least_squares_by_inv(x,y)\n",
        "w_hat\n",
        "# END"
      ],
      "execution_count": null,
      "outputs": [
        {
          "output_type": "execute_result",
          "data": {
            "text/plain": [
              "array([[0.05739363],\n",
              "       [0.10112535]])"
            ]
          },
          "metadata": {
            "tags": []
          },
          "execution_count": 12
        }
      ]
    },
    {
      "cell_type": "markdown",
      "metadata": {
        "id": "BR4yghOVPshG"
      },
      "source": [
        "Then let use $$\n",
        "A \\theta = b\n",
        "$$ to calculate our data."
      ]
    },
    {
      "cell_type": "code",
      "metadata": {
        "colab": {
          "base_uri": "https://localhost:8080/"
        },
        "id": "Mbb2YVytPvLm",
        "outputId": "40411c38-d473-44c7-9eec-ea54b30d0283"
      },
      "source": [
        "# START\n",
        "theta_hat = least_squares_by_solve(x,y)\n",
        "theta_hat\n",
        "# END"
      ],
      "execution_count": null,
      "outputs": [
        {
          "output_type": "execute_result",
          "data": {
            "text/plain": [
              "array([[0.05739363],\n",
              "       [0.10112535]])"
            ]
          },
          "metadata": {
            "tags": []
          },
          "execution_count": 13
        }
      ]
    },
    {
      "cell_type": "markdown",
      "metadata": {
        "id": "JMV_accQPx-D"
      },
      "source": [
        "They both agree! "
      ]
    },
    {
      "cell_type": "markdown",
      "metadata": {
        "id": "4sJ58osAQL1n"
      },
      "source": [
        "####TODO\n",
        "Next, we visualize the association between Price, Bedrooms, and Bathrooms.\n",
        "\n",
        "(hint: Use `go.Scatter3d` https://plotly.github.io/plotly.py-docs/generated/plotly.graph_objects.Scatter3d.html)\n",
        "\n"
      ]
    },
    {
      "cell_type": "code",
      "metadata": {
        "colab": {
          "base_uri": "https://localhost:8080/",
          "height": 617
        },
        "id": "RdFAZtb_QN74",
        "outputId": "c0e1040c-7e36-41d3-bd8f-ba0643dabe7f"
      },
      "source": [
        "#Let make 3D plot of all the data points.\n",
        "# START\n",
        "fig = go.Figure()\n",
        "\n",
        "data_scatter = go.Scatter3d(x=sample_data[\"x1\"], y=sample_data[\"x2\"], z=sample_data[\"y\"], \n",
        "                            mode=\"markers\",\n",
        "                            marker=dict(size=2))\n",
        "fig.add_trace(data_scatter)\n",
        "fig.update_layout(margin=dict(l=0, r=0, t=0, b=0), \n",
        "                  height=600)\n",
        "fig\n",
        "# END"
      ],
      "execution_count": null,
      "outputs": [
        {
          "output_type": "display_data",
          "data": {
            "text/html": [
              "<html>\n",
              "<head><meta charset=\"utf-8\" /></head>\n",
              "<body>\n",
              "    <div>\n",
              "            <script src=\"https://cdnjs.cloudflare.com/ajax/libs/mathjax/2.7.5/MathJax.js?config=TeX-AMS-MML_SVG\"></script><script type=\"text/javascript\">if (window.MathJax) {MathJax.Hub.Config({SVG: {font: \"STIX-Web\"}});}</script>\n",
              "                <script type=\"text/javascript\">window.PlotlyConfig = {MathJaxConfig: 'local'};</script>\n",
              "        <script src=\"https://cdn.plot.ly/plotly-latest.min.js\"></script>    \n",
              "            <div id=\"788e8726-e4d9-4847-9911-29ff135395e7\" class=\"plotly-graph-div\" style=\"height:600px; width:100%;\"></div>\n",
              "            <script type=\"text/javascript\">\n",
              "                \n",
              "                    window.PLOTLYENV=window.PLOTLYENV || {};\n",
              "                    \n",
              "                if (document.getElementById(\"788e8726-e4d9-4847-9911-29ff135395e7\")) {\n",
              "                    Plotly.newPlot(\n",
              "                        '788e8726-e4d9-4847-9911-29ff135395e7',\n",
              "                        [{\"marker\": {\"size\": 2}, \"mode\": \"markers\", \"type\": \"scatter3d\", \"x\": [3.0, 3.0, 3.0, 4.0, 2.0, 2.0, 4.0, 3.0, 4.0, 3.0, 3.0, 3.0, 3.0, 3.0, 4.0, 3.0, 3.0, 4.0, 3.0, 4.0, 4.0, 3.0, 3.0, 4.0, 4.0, 4.0, 4.0, 4.0, 3.0, 2.0, 3.0, 3.0, 3.0, 4.0, 2.0, 3.0, 2.0, 3.0, 3.0, 3.0, 3.0, 4.0, 3.0, 3.0, 5.0, 4.0, 4.0, 3.0, 2.0, 4.0, 3.0, 4.0, 3.0, 4.0, 2.0, 3.0, 3.0, 3.0, 4.0, 4.0, 3.0, 2.0, 4.0, 2.0, 3.0, 4.0, 2.0, 2.0, 3.0, 2.0, 2.0, 3.0, 3.0, 5.0, 5.0, 3.0, 3.0, 4.0, 5.0, 4.0, 4.0, 2.0, 4.0, 4.0, 4.0, 3.0, 5.0, 5.0, 3.0, 2.0, 3.0, 4.0, 3.0, 3.0, 3.0, 3.0, 4.0, 2.0, 3.0, 4.0, 3.0, 5.0, 2.0, 4.0, 3.0, 4.0, 3.0, 4.0, 3.0, 2.0, 3.0, 3.0, 3.0, 3.0, 2.0, 4.0, 2.0, 3.0, 4.0, 3.0, 3.0, 2.0, 2.0, 5.0, 3.0, 4.0, 4.0, 3.0, 4.0, 4.0, 2.0, 3.0, 3.0, 6.0, 4.0, 3.0, 3.0, 3.0, 4.0, 3.0, 4.0, 3.0, 3.0, 2.0, 4.0, 5.0, 4.0, 4.0, 4.0, 3.0, 4.0, 3.0, 3.0, 3.0, 3.0, 3.0, 4.0, 4.0, 3.0, 5.0, 5.0, 3.0, 2.0, 4.0, 3.0, 4.0, 4.0, 3.0, 5.0, 3.0, 3.0, 3.0, 3.0, 2.0, 3.0, 3.0, 5.0, 4.0, 3.0, 3.0, 5.0, 3.0, 4.0, 3.0, 3.0, 3.0, 3.0, 3.0, 3.0, 9.0, 4.0, 3.0, 3.0, 2.0, 3.0, 4.0, 3.0, 3.0, 2.0, 3.0, 3.0, 3.0, 3.0, 3.0, 1.0, 4.0, 3.0, 3.0, 2.0, 2.0, 5.0, 3.0, 2.0, 3.0, 4.0, 2.0, 4.0, 3.0, 3.0, 3.0, 3.0, 2.0, 2.0, 3.0, 3.0, 3.0, 3.0, 2.0, 2.0, 7.0, 4.0, 3.0, 3.0, 3.0, 3.0, 2.0, 3.0, 3.0, 5.0, 4.0, 3.0, 3.0, 4.0, 3.0, 2.0, 4.0, 5.0, 3.0, 2.0, 2.0, 3.0, 4.0, 3.0, 4.0, 4.0, 2.0, 3.0, 2.0, 2.0, 2.0, 4.0, 4.0, 2.0, 3.0, 4.0, 4.0, 4.0, 3.0, 2.0, 3.0, 5.0, 3.0, 3.0, 3.0, 4.0, 2.0, 2.0, 4.0, 2.0, 4.0, 3.0, 2.0, 4.0, 4.0, 3.0, 3.0, 3.0, 3.0, 3.0, 4.0, 3.0, 3.0, 6.0, 3.0, 2.0, 3.0, 3.0, 3.0, 3.0, 2.0, 2.0, 3.0, 2.0, 2.0, 3.0, 4.0, 4.0, 3.0, 2.0, 3.0, 4.0, 3.0, 4.0, 4.0, 2.0, 4.0, 2.0, 3.0, 3.0, 2.0, 3.0, 3.0, 3.0, 4.0, 3.0, 4.0, 3.0, 3.0, 4.0, 4.0, 5.0, 4.0, 2.0, 3.0, 4.0, 4.0, 3.0, 3.0, 4.0, 4.0, 4.0, 3.0, 3.0, 5.0, 2.0, 4.0, 3.0, 3.0, 3.0, 4.0, 4.0, 4.0, 3.0, 4.0, 3.0, 3.0, 3.0, 3.0, 4.0, 2.0, 4.0, 4.0, 2.0, 3.0, 3.0, 5.0, 3.0, 4.0, 3.0, 3.0, 3.0, 2.0, 3.0, 1.0, 3.0, 2.0, 4.0, 2.0, 4.0, 5.0, 3.0, 4.0, 3.0, 4.0, 3.0, 3.0, 3.0, 4.0, 3.0, 5.0, 3.0, 5.0, 2.0, 3.0, 2.0, 3.0, 3.0, 4.0, 3.0, 3.0, 4.0, 2.0, 2.0, 2.0, 4.0, 3.0, 3.0, 2.0, 4.0, 2.0, 2.0, 3.0, 4.0, 4.0, 3.0, 4.0, 5.0, 3.0, 4.0, 2.0, 3.0, 3.0, 5.0, 5.0, 4.0, 3.0, 4.0, 4.0, 5.0, 3.0, 3.0, 3.0, 3.0, 3.0, 4.0, 3.0, 2.0, 7.0, 3.0, 5.0, 3.0, 4.0, 4.0, 3.0, 3.0, 2.0, 3.0, 2.0, 3.0, 3.0, 3.0, 3.0, 3.0, 4.0, 5.0, 3.0, 3.0, 3.0, 4.0, 4.0, 3.0, 3.0, 3.0, 3.0, 3.0, 3.0, 4.0, 4.0, 3.0, 3.0, 4.0, 4.0, 3.0, 4.0, 3.0, 3.0, 4.0, 5.0, 2.0, 3.0, 3.0, 4.0, 2.0, 3.0, 3.0, 3.0, 3.0, 5.0, 2.0, 3.0, 2.0, 3.0, 3.0, 3.0, 3.0, 4.0, 3.0, 3.0, 3.0, 4.0, 2.0, 4.0, 3.0, 4.0, 3.0, 3.0, 3.0, 2.0, 3.0, 3.0, 3.0, 4.0, 3.0, 3.0, 2.0, 3.0, 4.0, 3.0, 5.0, 2.0, 4.0, 5.0, 3.0, 2.0, 4.0, 3.0, 4.0, 4.0, 4.0, 3.0, 2.0, 3.0, 3.0, 4.0, 3.0, 4.0, 3.0, 3.0, 4.0, 3.0, 4.0, 2.0, 3.0, 4.0, 3.0, 3.0, 4.0, 3.0, 3.0, 3.0, 3.0, 3.0, 3.0, 3.0, 4.0, 3.0, 3.0, 3.0, 3.0, 2.0, 5.0, 4.0, 4.0, 4.0, 7.0, 3.0, 3.0, 3.0, 3.0, 3.0, 3.0, 2.0, 3.0, 4.0, 3.0, 4.0, 3.0, 3.0, 3.0, 4.0, 4.0, 3.0, 3.0, 4.0, 3.0, 3.0, 3.0, 4.0, 3.0, 3.0, 3.0, 2.0, 3.0, 1.0, 3.0, 3.0, 3.0, 3.0, 3.0, 4.0, 4.0, 3.0, 5.0, 4.0, 3.0, 3.0, 3.0, 4.0, 3.0, 3.0, 4.0, 2.0, 4.0, 3.0, 3.0, 3.0, 2.0, 2.0, 3.0, 3.0, 4.0, 3.0, 3.0, 2.0, 3.0, 3.0, 3.0, 3.0, 3.0, 3.0, 2.0, 4.0, 1.0, 3.0, 5.0, 4.0, 4.0, 3.0, 2.0, 3.0, 3.0, 4.0, 3.0, 3.0, 3.0, 2.0, 3.0, 3.0, 5.0, 4.0, 3.0, 3.0, 2.0, 2.0, 2.0, 4.0, 2.0, 3.0, 5.0, 4.0, 4.0, 2.0, 4.0, 3.0, 4.0, 4.0, 3.0, 3.0, 2.0, 4.0, 3.0, 3.0, 4.0, 4.0, 2.0, 1.0, 4.0, 3.0, 3.0, 2.0, 2.0, 3.0, 3.0, 2.0, 4.0, 5.0, 4.0, 3.0, 3.0, 3.0, 3.0, 4.0, 3.0, 3.0, 2.0, 3.0, 2.0, 3.0, 4.0, 2.0, 3.0, 4.0, 3.0, 3.0, 3.0, 2.0, 3.0, 5.0, 3.0, 3.0, 3.0, 5.0, 3.0, 3.0, 2.0, 5.0, 4.0, 3.0, 2.0, 3.0, 4.0, 3.0, 2.0, 4.0, 2.0, 2.0, 4.0, 2.0, 4.0, 4.0, 5.0, 4.0, 3.0, 3.0, 4.0, 2.0, 2.0, 3.0, 4.0, 2.0, 3.0, 3.0, 3.0, 4.0, 1.0, 4.0, 3.0, 3.0, 2.0, 4.0, 4.0, 3.0, 6.0, 2.0, 2.0, 3.0, 3.0, 2.0, 3.0, 3.0, 3.0, 4.0, 4.0, 3.0, 3.0, 3.0, 5.0, 3.0, 4.0, 3.0, 4.0, 2.0, 4.0, 3.0, 3.0, 3.0, 3.0, 5.0, 3.0, 4.0, 6.0, 1.0, 3.0, 4.0, 3.0, 4.0, 4.0, 4.0, 4.0, 3.0, 5.0, 3.0, 4.0, 3.0, 3.0, 3.0, 3.0, 3.0, 4.0, 4.0, 3.0, 5.0, 2.0, 2.0, 3.0, 4.0, 3.0, 2.0, 1.0, 4.0, 3.0, 3.0, 4.0, 4.0, 4.0, 3.0, 3.0, 3.0, 3.0, 4.0, 3.0, 3.0, 5.0, 3.0, 3.0, 2.0, 3.0, 3.0, 3.0, 3.0, 5.0, 3.0, 2.0, 3.0, 2.0, 3.0, 2.0, 3.0, 3.0, 3.0, 3.0, 4.0, 3.0, 4.0, 4.0, 3.0, 3.0, 2.0, 3.0, 4.0, 2.0, 4.0, 3.0, 3.0, 4.0, 3.0, 4.0, 3.0, 3.0, 3.0, 4.0, 3.0, 3.0, 3.0, 2.0, 3.0, 2.0, 6.0, 4.0, 3.0, 4.0, 3.0, 3.0, 4.0, 3.0, 1.0, 3.0, 2.0, 2.0, 3.0, 2.0, 4.0, 3.0, 4.0, 3.0, 4.0, 3.0, 2.0, 3.0, 6.0, 3.0, 2.0, 3.0, 4.0, 2.0, 2.0, 4.0, 3.0, 4.0, 2.0, 4.0, 4.0, 4.0, 2.0, 3.0, 4.0, 3.0, 2.0, 3.0, 4.0, 3.0, 4.0, 4.0, 5.0, 2.0, 2.0, 4.0, 4.0, 4.0, 2.0, 4.0, 3.0, 2.0, 3.0, 4.0, 4.0, 3.0, 3.0, 3.0, 5.0, 5.0, 3.0, 3.0, 1.0, 2.0, 3.0, 1.0, 3.0, 3.0, 5.0, 2.0, 4.0, 2.0, 2.0, 4.0, 3.0, 3.0, 2.0, 3.0, 3.0, 3.0, 1.0, 3.0, 5.0, 4.0, 3.0, 3.0, 3.0, 4.0, 3.0, 3.0, 2.0, 4.0, 3.0, 4.0, 4.0, 3.0, 4.0, 3.0, 4.0, 3.0, 3.0, 3.0, 3.0, 3.0, 4.0, 4.0, 3.0, 2.0, 3.0, 4.0, 3.0, 4.0, 2.0, 3.0, 2.0, 2.0, 3.0, 4.0, 3.0, 3.0, 3.0, 4.0, 3.0, 2.0, 3.0, 3.0, 2.0, 4.0, 3.0, 2.0, 3.0, 3.0, 4.0, 2.0, 3.0, 4.0, 3.0, 3.0, 3.0, 3.0, 2.0, 3.0, 4.0, 3.0, 3.0, 2.0, 4.0, 3.0, 3.0, 2.0, 3.0, 3.0, 3.0, 3.0, 3.0, 3.0, 3.0, 2.0, 2.0, 3.0, 4.0, 3.0, 3.0, 4.0, 3.0, 5.0, 4.0, 3.0, 2.0, 4.0, 5.0, 3.0, 5.0, 4.0, 4.0, 5.0, 5.0, 5.0, 4.0, 3.0, 3.0, 3.0, 3.0, 3.0, 3.0, 2.0, 4.0, 3.0, 3.0, 3.0, 3.0, 3.0, 3.0, 3.0, 4.0, 3.0, 3.0, 3.0, 3.0, 4.0, 4.0, 2.0, 2.0, 3.0, 4.0, 4.0, 4.0, 3.0, 3.0, 3.0, 3.0, 2.0, 4.0, 3.0, 3.0, 3.0, 4.0, 2.0, 4.0, 3.0, 3.0, 4.0, 4.0, 2.0, 3.0, 3.0, 4.0, 3.0, 3.0, 3.0, 3.0, 2.0, 3.0, 3.0, 3.0, 3.0, 3.0, 3.0, 3.0, 3.0, 3.0, 4.0, 3.0, 3.0, 4.0, 4.0, 6.0, 2.0, 3.0, 4.0, 3.0, 3.0, 3.0, 2.0, 3.0, 7.0, 3.0, 3.0, 3.0, 2.0, 4.0, 4.0, 3.0, 4.0, 3.0, 3.0, 3.0, 3.0, 2.0, 2.0, 5.0, 3.0, 2.0, 3.0, 2.0, 4.0, 3.0, 4.0, 3.0, 3.0, 3.0, 2.0, 3.0, 4.0, 2.0, 4.0, 4.0, 2.0, 4.0, 4.0, 4.0, 6.0, 3.0, 4.0, 3.0, 2.0, 4.0, 3.0, 3.0, 3.0, 2.0, 2.0, 3.0, 2.0, 5.0, 4.0, 4.0, 3.0, 2.0, 4.0, 4.0, 4.0, 3.0, 3.0, 3.0, 5.0, 4.0, 3.0, 5.0, 4.0, 3.0, 2.0, 3.0, 3.0, 5.0, 4.0, 4.0, 4.0, 3.0, 2.0, 3.0, 3.0, 3.0, 4.0, 2.0, 2.0, 3.0, 3.0, 4.0, 2.0, 3.0, 3.0, 4.0, 3.0, 3.0, 3.0, 3.0, 3.0, 2.0, 3.0, 4.0, 3.0, 3.0, 2.0, 3.0, 3.0, 4.0, 5.0, 2.0, 3.0, 3.0, 4.0, 3.0, 3.0, 3.0, 2.0, 2.0, 3.0, 2.0, 4.0, 3.0, 5.0, 4.0, 3.0, 2.0, 2.0, 4.0, 3.0, 4.0, 4.0, 5.0, 3.0, 4.0, 3.0, 3.0, 3.0, 1.0, 3.0, 3.0, 3.0, 2.0, 3.0, 2.0, 3.0, 2.0, 2.0, 4.0, 4.0, 3.0, 3.0, 1.0, 3.0, 4.0, 3.0, 2.0, 2.0, 2.0, 4.0, 2.0, 3.0, 3.0, 3.0, 3.0, 4.0, 3.0, 3.0, 3.0, 3.0, 4.0, 4.0, 3.0, 4.0, 3.0, 3.0, 3.0, 3.0, 5.0, 3.0, 3.0, 4.0, 2.0, 3.0, 5.0, 2.0, 4.0, 4.0, 3.0, 3.0, 3.0, 3.0, 3.0, 3.0, 3.0, 5.0, 3.0, 4.0, 3.0, 3.0, 3.0, 4.0, 3.0, 3.0, 3.0, 4.0, 3.0, 4.0, 3.0, 3.0, 3.0, 4.0, 2.0, 4.0, 3.0, 3.0, 3.0, 2.0, 3.0, 2.0, 3.0, 4.0, 5.0, 3.0, 3.0, 3.0, 3.0, 3.0, 3.0, 5.0, 3.0, 3.0, 3.0, 3.0, 2.0, 3.0, 3.0, 3.0, 4.0, 3.0, 2.0, 3.0, 5.0, 3.0, 2.0, 4.0, 3.0, 2.0, 6.0, 3.0, 2.0, 3.0, 3.0, 2.0, 3.0, 3.0, 3.0, 4.0, 3.0, 4.0, 4.0, 3.0, 3.0, 5.0, 3.0, 3.0, 1.0, 4.0, 3.0, 3.0, 3.0, 3.0, 3.0, 3.0, 3.0, 2.0, 3.0, 3.0, 4.0, 3.0, 1.0, 2.0, 3.0, 3.0, 4.0, 2.0, 3.0, 3.0, 3.0, 4.0, 5.0, 3.0, 3.0, 3.0, 3.0, 5.0, 4.0, 5.0, 6.0, 2.0, 4.0, 4.0, 4.0, 3.0, 3.0, 2.0, 3.0, 3.0, 4.0, 4.0, 3.0, 2.0, 3.0, 3.0, 3.0, 3.0, 4.0, 2.0, 3.0, 3.0, 4.0, 1.0, 3.0, 2.0, 3.0, 3.0, 2.0, 3.0, 5.0, 3.0, 3.0, 4.0, 5.0, 3.0, 4.0, 4.0, 3.0, 3.0, 3.0, 3.0, 3.0, 3.0, 3.0, 4.0, 3.0, 4.0, 4.0, 3.0, 4.0, 3.0, 4.0, 4.0, 4.0, 5.0, 4.0, 3.0, 2.0, 4.0, 3.0, 2.0, 5.0, 3.0, 3.0, 4.0, 4.0, 4.0, 3.0, 3.0, 4.0, 3.0, 3.0, 3.0, 3.0, 3.0, 3.0, 4.0, 2.0, 3.0, 2.0, 4.0, 3.0, 4.0, 3.0, 4.0, 3.0, 3.0, 4.0, 3.0, 4.0, 3.0, 4.0, 3.0, 4.0, 3.0, 4.0, 3.0, 4.0, 4.0, 4.0, 4.0, 3.0, 4.0, 4.0, 3.0, 3.0, 3.0, 3.0, 4.0, 4.0, 2.0, 3.0, 4.0, 3.0, 3.0, 3.0, 3.0, 3.0, 3.0, 4.0, 4.0, 4.0, 3.0, 5.0, 2.0, 2.0, 4.0, 3.0, 2.0, 3.0, 3.0, 4.0, 3.0, 4.0, 4.0, 3.0, 2.0, 3.0, 3.0, 3.0, 4.0, 3.0, 4.0, 3.0, 2.0, 4.0, 5.0, 4.0, 2.0, 3.0, 6.0, 4.0, 4.0, 4.0, 4.0, 3.0, 2.0, 3.0, 5.0, 3.0, 3.0, 3.0, 4.0, 4.0, 3.0, 3.0, 3.0, 3.0, 3.0, 4.0, 4.0, 3.0, 2.0, 5.0, 3.0, 4.0, 2.0, 3.0, 4.0, 2.0, 3.0, 3.0, 3.0, 3.0, 2.0, 3.0, 3.0, 3.0, 2.0, 2.0, 3.0, 2.0, 2.0, 4.0, 4.0, 3.0, 4.0, 4.0, 3.0, 4.0, 3.0, 3.0, 2.0, 4.0, 4.0, 4.0, 4.0, 4.0, 3.0, 2.0, 4.0, 3.0, 2.0, 2.0, 4.0, 3.0, 3.0, 2.0, 2.0, 3.0, 3.0, 3.0, 4.0, 3.0, 4.0, 3.0, 3.0, 3.0, 3.0, 4.0, 3.0, 3.0, 3.0, 4.0, 3.0, 4.0, 2.0, 3.0, 3.0, 4.0, 3.0, 4.0, 2.0, 3.0, 3.0, 4.0, 5.0, 6.0, 3.0, 5.0, 3.0, 4.0, 2.0, 3.0, 3.0, 2.0, 4.0, 4.0, 3.0, 4.0, 3.0, 4.0, 4.0, 3.0, 3.0, 2.0, 3.0, 2.0, 4.0, 2.0, 2.0, 3.0, 3.0, 2.0, 3.0, 3.0, 4.0, 3.0, 4.0, 4.0, 2.0, 4.0, 3.0, 3.0, 3.0, 3.0, 3.0, 3.0, 3.0, 4.0, 3.0, 4.0, 3.0, 4.0, 4.0, 3.0, 3.0, 4.0, 4.0, 4.0, 5.0, 2.0, 4.0, 4.0, 5.0, 2.0, 3.0, 3.0, 4.0, 2.0, 5.0, 3.0, 6.0, 2.0, 2.0, 2.0, 3.0, 3.0, 3.0, 3.0, 3.0, 2.0, 3.0, 2.0, 5.0, 4.0, 3.0, 4.0, 3.0, 3.0, 1.0, 3.0, 3.0, 3.0, 3.0, 3.0, 4.0, 4.0, 4.0, 3.0, 1.0, 3.0, 3.0, 3.0, 3.0, 3.0, 3.0, 4.0, 3.0, 2.0, 4.0, 3.0, 4.0, 3.0, 3.0, 2.0, 4.0, 4.0, 4.0, 5.0, 3.0, 3.0, 4.0, 3.0, 2.0, 4.0, 2.0, 3.0, 4.0, 2.0, 3.0, 4.0, 4.0, 3.0, 5.0, 2.0, 3.0, 4.0, 5.0, 3.0, 3.0, 2.0, 4.0, 3.0, 3.0, 3.0, 3.0, 3.0, 2.0, 4.0, 4.0, 5.0, 4.0, 3.0, 3.0, 3.0, 5.0, 3.0, 3.0, 2.0, 4.0, 2.0, 4.0, 4.0, 5.0, 3.0, 5.0, 4.0, 3.0, 3.0, 1.0, 4.0, 4.0, 3.0, 4.0, 2.0, 3.0, 2.0, 4.0, 4.0, 3.0, 3.0, 4.0, 3.0, 2.0, 3.0, 2.0, 4.0, 2.0, 3.0, 3.0, 2.0, 3.0, 3.0, 2.0, 4.0, 3.0, 3.0, 5.0, 4.0, 3.0, 3.0, 3.0, 4.0, 2.0, 3.0, 4.0, 4.0, 4.0, 3.0, 3.0, 3.0, 4.0, 3.0, 2.0, 3.0, 4.0, 3.0, 3.0, 4.0, 3.0, 4.0, 2.0, 3.0, 3.0, 4.0, 3.0, 3.0, 3.0, 3.0, 3.0, 3.0, 4.0, 5.0, 3.0, 3.0, 3.0, 4.0, 4.0, 3.0, 3.0, 2.0, 3.0, 4.0, 3.0, 3.0, 3.0, 4.0, 5.0, 3.0, 4.0, 3.0, 3.0, 4.0, 4.0, 3.0, 2.0, 3.0, 3.0, 4.0, 3.0, 3.0, 4.0, 2.0, 5.0, 4.0, 4.0, 4.0, 3.0, 2.0, 3.0, 4.0, 4.0, 4.0, 1.0, 3.0, 3.0, 3.0, 3.0, 3.0, 3.0, 4.0, 3.0, 3.0, 3.0, 5.0, 2.0, 3.0, 3.0, 4.0, 4.0, 2.0, 3.0, 3.0, 3.0, 4.0, 4.0, 3.0, 4.0, 2.0, 4.0, 6.0, 2.0, 4.0, 5.0, 3.0, 4.0, 3.0, 4.0, 3.0, 2.0, 5.0, 3.0, 3.0, 3.0, 3.0, 5.0, 4.0, 3.0, 3.0, 4.0, 1.0, 3.0, 5.0, 3.0, 3.0, 3.0, 2.0, 3.0, 3.0, 3.0, 2.0, 4.0, 3.0, 3.0, 3.0, 4.0, 3.0, 2.0, 4.0, 3.0, 4.0, 3.0, 4.0, 5.0, 4.0, 2.0, 4.0, 4.0, 3.0, 3.0, 4.0, 4.0, 3.0, 3.0, 3.0, 3.0, 3.0, 2.0, 3.0, 3.0, 4.0, 3.0, 4.0, 2.0, 3.0, 3.0, 3.0, 2.0, 4.0, 4.0, 4.0, 3.0, 2.0, 2.0, 4.0, 3.0, 4.0, 2.0, 4.0, 3.0, 3.0, 4.0, 3.0, 4.0, 4.0, 4.0, 3.0, 5.0, 3.0, 4.0, 3.0, 2.0, 3.0, 3.0, 3.0, 3.0, 4.0, 3.0, 2.0, 3.0, 3.0, 4.0, 3.0, 3.0, 5.0, 4.0, 3.0, 5.0, 3.0, 5.0, 3.0, 3.0, 4.0, 5.0, 3.0, 2.0, 3.0, 3.0, 3.0, 4.0, 5.0, 4.0, 5.0, 3.0, 4.0, 1.0, 4.0, 2.0, 3.0, 2.0, 3.0, 3.0, 3.0, 6.0, 4.0, 4.0, 5.0, 2.0, 5.0, 2.0, 5.0, 3.0, 3.0, 4.0, 4.0, 4.0, 3.0, 3.0, 4.0, 3.0, 5.0, 2.0, 4.0, 5.0, 3.0, 5.0, 3.0, 3.0, 3.0, 2.0, 3.0, 4.0, 3.0, 3.0, 4.0, 3.0, 2.0, 3.0, 4.0, 3.0, 3.0, 4.0, 3.0, 4.0, 4.0, 2.0, 3.0, 4.0, 3.0, 3.0, 3.0, 3.0, 3.0, 2.0, 3.0, 3.0, 6.0, 2.0, 3.0, 4.0, 2.0, 4.0, 3.0, 3.0, 3.0, 3.0, 2.0, 3.0, 4.0, 3.0, 4.0, 3.0, 3.0, 4.0, 3.0, 5.0, 3.0, 4.0, 3.0, 4.0, 3.0, 2.0, 4.0, 3.0, 3.0, 4.0, 4.0, 4.0, 3.0, 3.0, 3.0, 3.0, 4.0, 3.0, 4.0, 4.0, 3.0, 3.0, 4.0, 3.0, 2.0, 3.0, 4.0, 3.0, 3.0, 3.0, 3.0, 4.0, 3.0, 4.0, 3.0, 1.0, 4.0, 2.0, 4.0, 2.0, 2.0, 3.0, 3.0, 4.0, 3.0, 3.0, 3.0, 3.0, 5.0, 3.0, 2.0, 3.0, 4.0, 3.0, 3.0, 4.0, 2.0, 3.0, 3.0, 4.0, 2.0, 3.0, 3.0, 4.0, 4.0, 3.0, 5.0, 3.0, 4.0, 1.0, 4.0, 2.0, 4.0, 3.0, 3.0, 3.0, 4.0, 3.0, 3.0, 3.0, 3.0, 4.0, 4.0, 3.0, 4.0, 2.0, 5.0, 4.0, 2.0, 4.0, 4.0, 3.0, 5.0, 3.0, 3.0, 5.0, 3.0, 2.0, 4.0, 4.0, 4.0, 2.0, 4.0, 4.0, 3.0, 4.0, 4.0, 4.0, 2.0, 3.0, 2.0, 2.0, 3.0, 2.0, 3.0, 3.0, 7.0, 4.0, 6.0, 4.0, 3.0, 2.0, 2.0, 3.0, 6.0, 3.0, 4.0, 3.0, 3.0, 3.0, 3.0, 3.0, 3.0, 3.0, 3.0, 3.0, 3.0, 3.0, 4.0, 3.0, 3.0, 3.0, 4.0, 3.0, 3.0, 3.0, 3.0, 3.0, 3.0, 4.0, 4.0, 3.0, 4.0, 3.0, 3.0, 4.0, 4.0, 3.0, 2.0, 4.0, 3.0, 3.0, 4.0, 3.0, 3.0, 5.0, 3.0, 3.0, 2.0, 3.0, 4.0, 3.0, 6.0, 3.0, 2.0, 4.0, 3.0, 3.0, 4.0, 4.0, 5.0, 4.0, 2.0, 4.0, 3.0, 3.0, 3.0, 1.0, 4.0, 4.0, 4.0, 4.0, 3.0, 3.0, 3.0, 3.0, 4.0, 3.0, 3.0, 4.0, 3.0, 3.0, 3.0, 4.0, 3.0, 3.0, 4.0, 3.0, 3.0, 3.0, 3.0, 3.0, 5.0, 3.0, 5.0, 2.0, 2.0, 3.0, 3.0, 3.0, 3.0, 3.0, 4.0, 3.0, 3.0, 3.0, 3.0, 2.0, 3.0, 2.0, 3.0, 4.0, 3.0, 3.0, 3.0, 3.0, 2.0, 3.0, 4.0, 4.0, 4.0, 3.0, 4.0, 4.0, 3.0, 3.0, 3.0, 3.0, 2.0, 4.0, 4.0, 3.0, 3.0, 4.0, 2.0, 3.0, 3.0, 4.0, 3.0, 2.0, 3.0, 3.0, 3.0, 3.0, 4.0, 4.0, 4.0, 3.0, 4.0, 3.0, 2.0, 5.0, 3.0, 3.0, 2.0, 3.0, 4.0, 4.0, 5.0, 3.0, 4.0, 3.0, 3.0, 2.0, 4.0, 2.0, 4.0, 2.0, 2.0, 2.0, 3.0, 3.0, 4.0, 2.0, 3.0, 3.0, 3.0, 3.0, 4.0, 3.0, 3.0, 3.0, 4.0, 4.0, 3.0, 4.0, 2.0, 4.0, 2.0, 2.0, 3.0, 4.0, 4.0, 4.0, 3.0, 3.0, 3.0, 4.0, 4.0, 5.0, 3.0, 3.0, 2.0, 3.0, 6.0, 2.0, 3.0, 2.0, 3.0, 3.0, 4.0, 1.0, 3.0, 4.0, 2.0, 3.0, 3.0, 4.0, 6.0, 3.0, 3.0, 3.0, 3.0, 3.0, 4.0, 5.0, 3.0, 3.0, 4.0, 2.0, 2.0, 3.0, 4.0, 3.0, 4.0, 3.0, 4.0, 2.0, 3.0, 3.0, 3.0, 3.0, 7.0, 3.0, 5.0, 2.0, 3.0, 3.0, 2.0, 3.0, 3.0, 3.0, 3.0, 3.0, 4.0, 3.0, 4.0, 3.0, 4.0, 2.0, 3.0, 3.0, 3.0, 4.0, 3.0, 3.0, 5.0, 3.0, 3.0, 4.0, 3.0, 3.0, 4.0, 4.0, 3.0, 4.0, 4.0, 3.0, 3.0, 3.0, 3.0, 4.0, 2.0, 4.0, 4.0, 3.0, 2.0, 3.0, 4.0, 5.0, 6.0, 4.0, 4.0, 3.0, 2.0, 2.0, 3.0, 2.0, 3.0, 4.0, 4.0, 4.0, 5.0, 4.0, 4.0, 4.0, 4.0, 4.0, 5.0, 3.0, 3.0, 4.0, 4.0, 2.0, 4.0, 3.0, 2.0, 3.0, 3.0, 3.0, 3.0, 3.0, 3.0, 3.0, 3.0, 2.0, 3.0, 3.0, 3.0, 3.0, 4.0, 3.0, 3.0, 2.0, 5.0, 5.0, 2.0, 2.0, 5.0, 2.0, 5.0, 3.0, 3.0, 3.0, 4.0, 4.0, 3.0, 3.0, 4.0, 3.0, 3.0, 3.0, 3.0, 5.0, 3.0, 3.0, 2.0, 4.0, 4.0, 4.0, 3.0, 4.0, 3.0, 4.0, 4.0, 2.0, 4.0, 2.0, 2.0, 3.0, 4.0, 2.0, 3.0, 3.0, 5.0, 2.0, 3.0, 3.0, 3.0, 2.0, 3.0, 3.0, 3.0, 3.0, 4.0, 2.0, 6.0, 3.0, 4.0, 3.0, 5.0, 4.0, 3.0, 4.0, 3.0, 2.0, 3.0, 4.0, 2.0, 4.0, 5.0, 2.0, 2.0, 1.0, 4.0, 3.0, 4.0, 4.0, 2.0, 3.0, 3.0, 3.0, 4.0, 4.0, 3.0, 1.0, 4.0, 2.0, 1.0, 3.0, 2.0, 4.0, 3.0, 3.0, 2.0, 5.0, 4.0, 3.0, 3.0, 3.0, 3.0, 5.0, 3.0, 4.0, 3.0, 2.0, 2.0, 1.0, 3.0, 3.0, 3.0, 3.0, 3.0, 4.0, 2.0, 3.0, 3.0, 4.0, 3.0, 3.0, 4.0, 4.0, 4.0, 2.0, 3.0, 4.0, 3.0, 2.0, 2.0, 2.0, 4.0, 5.0, 4.0, 3.0, 2.0, 3.0, 3.0, 4.0, 2.0, 3.0, 2.0, 3.0, 2.0, 4.0, 4.0, 3.0, 3.0, 3.0, 4.0, 2.0, 4.0, 4.0, 4.0, 4.0, 3.0, 4.0, 3.0, 3.0, 4.0, 3.0, 3.0, 3.0, 3.0, 2.0, 4.0, 4.0, 3.0, 2.0, 4.0, 3.0, 3.0, 3.0, 2.0, 4.0, 3.0, 3.0, 3.0, 3.0, 3.0, 4.0, 2.0, 3.0, 3.0, 3.0, 2.0, 2.0, 3.0, 3.0, 3.0, 4.0, 3.0, 3.0, 2.0, 3.0, 3.0, 5.0, 3.0, 3.0, 2.0, 2.0, 2.0, 5.0, 4.0, 3.0, 3.0, 2.0, 4.0, 2.0, 4.0, 4.0, 3.0, 1.0, 5.0, 3.0, 3.0, 4.0, 4.0, 4.0, 3.0, 4.0, 3.0, 4.0, 4.0, 4.0, 3.0, 4.0, 4.0, 4.0, 2.0, 3.0, 2.0, 4.0, 3.0, 2.0, 4.0, 3.0, 3.0, 4.0, 3.0, 3.0, 5.0, 3.0, 3.0, 3.0, 3.0, 4.0, 4.0, 3.0, 4.0, 3.0, 5.0, 4.0, 5.0, 4.0, 4.0, 4.0, 4.0, 3.0, 3.0, 3.0, 3.0, 4.0, 4.0, 3.0, 4.0, 4.0, 2.0, 3.0, 4.0, 5.0, 2.0, 4.0, 5.0, 2.0, 3.0, 4.0, 3.0, 2.0, 4.0, 5.0, 3.0, 3.0, 3.0, 4.0, 2.0, 4.0, 3.0, 3.0, 2.0, 3.0, 5.0, 3.0, 4.0, 3.0, 3.0, 4.0, 4.0, 3.0, 3.0, 3.0, 3.0, 4.0, 4.0, 8.0, 5.0, 4.0, 4.0, 2.0, 3.0, 3.0, 3.0, 3.0, 3.0, 4.0, 5.0, 3.0, 4.0, 4.0, 3.0, 3.0, 4.0, 4.0, 2.0, 4.0, 2.0, 4.0, 2.0, 3.0, 2.0, 3.0, 2.0, 5.0, 5.0, 4.0, 3.0, 3.0, 3.0, 3.0, 3.0, 2.0, 4.0, 3.0, 3.0, 3.0, 3.0, 3.0, 2.0, 4.0, 3.0, 2.0, 3.0, 4.0, 3.0, 2.0, 4.0, 3.0, 3.0, 3.0, 6.0, 4.0, 2.0, 3.0, 4.0, 3.0, 3.0, 3.0, 3.0, 3.0, 5.0, 4.0, 2.0, 3.0, 2.0, 4.0, 3.0, 4.0, 3.0, 3.0, 2.0, 3.0, 5.0, 3.0, 3.0, 3.0, 4.0, 3.0, 3.0, 3.0, 3.0, 2.0, 3.0, 3.0, 3.0, 4.0, 3.0, 3.0, 3.0, 2.0, 3.0, 3.0, 2.0, 3.0, 3.0, 5.0, 2.0, 4.0, 2.0, 3.0, 3.0, 3.0, 3.0, 4.0, 3.0, 3.0, 4.0, 3.0, 3.0, 2.0, 3.0, 3.0, 5.0, 3.0, 4.0, 3.0, 3.0, 5.0, 2.0, 3.0, 3.0, 4.0, 4.0, 3.0, 4.0, 4.0, 4.0, 3.0, 2.0, 3.0, 3.0, 4.0, 2.0, 2.0, 3.0, 4.0, 3.0, 4.0, 3.0, 4.0, 3.0, 4.0, 3.0, 3.0, 2.0, 2.0, 3.0, 3.0, 1.0, 4.0, 3.0, 1.0, 3.0, 3.0, 3.0, 2.0, 3.0, 4.0, 3.0, 4.0, 3.0, 2.0, 3.0, 3.0, 4.0, 2.0, 4.0, 2.0, 4.0, 3.0, 3.0, 2.0, 3.0, 3.0, 3.0, 4.0, 4.0, 4.0, 2.0, 4.0, 4.0, 3.0, 5.0, 3.0, 3.0, 3.0, 3.0, 3.0, 4.0, 3.0, 4.0, 3.0, 4.0, 6.0, 3.0, 3.0, 3.0, 2.0, 3.0, 3.0, 2.0, 4.0, 5.0, 5.0, 4.0, 4.0, 3.0, 3.0, 2.0, 3.0, 3.0, 4.0, 4.0, 3.0, 2.0, 3.0, 5.0, 4.0, 3.0, 3.0, 3.0, 3.0, 3.0, 3.0, 3.0, 3.0, 4.0, 4.0, 4.0, 3.0, 4.0, 5.0, 3.0, 4.0, 1.0, 3.0, 3.0, 4.0, 3.0, 4.0, 7.0, 4.0, 3.0, 4.0, 2.0, 4.0, 2.0, 3.0, 2.0, 4.0, 4.0, 2.0, 4.0, 3.0, 3.0, 3.0, 4.0, 3.0, 3.0, 3.0, 4.0, 4.0, 4.0, 3.0, 3.0, 4.0, 2.0, 2.0, 2.0, 4.0, 4.0, 3.0, 4.0, 4.0, 4.0, 4.0, 2.0, 3.0, 3.0, 3.0, 4.0, 3.0, 3.0, 3.0, 2.0, 3.0, 4.0, 3.0, 4.0, 4.0, 4.0, 3.0, 2.0, 3.0, 3.0, 4.0, 3.0, 3.0, 4.0, 4.0, 3.0, 4.0, 3.0, 3.0, 4.0, 4.0, 2.0, 3.0, 3.0, 3.0, 1.0, 4.0, 6.0, 3.0, 3.0, 4.0, 4.0, 2.0, 4.0, 3.0, 3.0, 3.0, 3.0, 3.0, 3.0, 3.0, 3.0, 2.0, 3.0, 4.0, 3.0, 3.0, 3.0, 3.0, 3.0, 4.0, 4.0, 3.0, 3.0, 4.0, 3.0, 3.0, 4.0, 3.0, 3.0, 4.0, 4.0, 3.0, 5.0, 4.0, 2.0, 3.0, 4.0, 4.0, 3.0, 3.0, 4.0, 4.0, 4.0, 3.0, 4.0, 4.0, 4.0, 3.0, 2.0, 3.0, 3.0, 2.0, 3.0, 3.0, 4.0, 2.0, 3.0, 2.0, 5.0, 2.0, 4.0, 2.0, 2.0, 3.0, 4.0, 3.0, 3.0, 5.0, 3.0, 4.0, 4.0, 3.0, 3.0, 5.0, 4.0, 4.0, 3.0, 3.0, 4.0, 3.0, 4.0, 4.0, 3.0, 2.0, 3.0, 4.0, 4.0, 3.0, 3.0, 2.0, 4.0, 3.0, 5.0, 3.0, 2.0, 3.0, 3.0, 3.0, 3.0, 2.0, 4.0, 3.0, 3.0, 3.0, 3.0, 3.0, 3.0, 3.0, 4.0, 2.0, 3.0, 3.0, 3.0, 3.0, 4.0, 4.0, 3.0, 3.0, 5.0, 2.0, 2.0, 5.0, 2.0, 4.0, 4.0, 3.0, 3.0, 3.0, 3.0, 2.0, 5.0, 3.0, 3.0, 4.0, 3.0, 3.0, 4.0, 3.0, 3.0, 2.0, 1.0, 4.0, 2.0, 4.0, 3.0, 5.0, 4.0, 3.0, 2.0, 4.0, 2.0, 4.0, 3.0, 3.0, 2.0, 2.0, 3.0, 3.0, 2.0, 4.0, 3.0, 3.0, 3.0, 2.0, 3.0, 4.0, 3.0, 4.0, 3.0, 3.0, 3.0, 3.0, 3.0, 4.0, 3.0], \"y\": [1.5, 2.0, 2.25, 2.5, 1.0, 2.0, 2.5, 2.5, 2.0, 1.75, 1.75, 1.0, 1.5, 1.5, 3.0, 1.75, 1.5, 1.0, 2.25, 2.5, 1.75, 2.5, 1.75, 1.75, 2.5, 2.0, 2.5, 2.5, 2.5, 1.0, 3.0, 2.0, 2.25, 2.0, 1.0, 2.5, 1.0, 1.0, 2.25, 2.5, 2.5, 2.75, 1.75, 1.75, 2.5, 1.5, 1.75, 3.25, 2.5, 2.5, 2.5, 3.25, 2.5, 2.75, 1.0, 2.5, 1.0, 2.5, 2.5, 2.0, 2.5, 3.0, 2.25, 1.0, 2.25, 3.0, 1.75, 1.0, 1.75, 3.0, 1.0, 1.5, 1.75, 2.75, 2.5, 2.25, 2.25, 2.5, 2.0, 2.5, 1.0, 1.0, 1.5, 1.0, 2.75, 2.0, 1.75, 1.0, 2.5, 1.0, 1.75, 1.75, 1.0, 2.5, 1.75, 2.0, 2.0, 1.0, 1.75, 2.5, 2.0, 2.0, 1.0, 1.75, 2.0, 1.75, 2.5, 2.5, 2.5, 1.5, 3.0, 2.25, 2.5, 2.5, 2.5, 2.0, 2.0, 1.0, 2.5, 1.75, 2.0, 1.0, 1.0, 2.0, 1.75, 2.5, 2.0, 1.5, 2.5, 2.0, 1.0, 1.0, 1.75, 3.0, 2.25, 2.5, 2.25, 2.5, 2.5, 1.5, 1.75, 2.5, 1.0, 2.25, 2.5, 2.5, 3.0, 3.0, 2.0, 1.75, 1.75, 1.5, 1.0, 1.75, 1.75, 2.5, 2.5, 2.25, 1.5, 2.25, 2.5, 2.5, 1.75, 2.0, 1.0, 2.5, 3.5, 1.0, 2.75, 1.75, 1.75, 2.0, 2.25, 1.75, 1.5, 2.5, 3.75, 3.25, 2.0, 2.25, 2.25, 1.0, 2.5, 1.75, 2.75, 2.5, 1.0, 1.75, 2.5, 4.5, 1.75, 1.75, 2.0, 2.0, 3.0, 3.0, 1.0, 1.75, 1.5, 1.75, 1.0, 1.75, 2.5, 2.0, 1.0, 2.0, 2.5, 2.5, 1.0, 1.0, 2.5, 2.25, 2.0, 1.75, 2.5, 2.25, 2.0, 1.75, 2.5, 3.0, 2.0, 1.0, 1.0, 2.25, 2.5, 2.0, 1.0, 1.0, 1.0, 5.75, 2.5, 2.5, 1.75, 1.0, 2.0, 1.0, 1.5, 1.75, 1.75, 2.75, 2.25, 2.5, 1.0, 1.5, 2.5, 2.75, 2.75, 2.25, 1.0, 1.0, 2.75, 1.75, 1.0, 2.5, 2.5, 1.5, 2.5, 1.0, 2.5, 2.0, 1.5, 2.5, 1.75, 2.5, 2.5, 1.75, 2.25, 1.75, 1.0, 1.0, 2.25, 1.5, 2.5, 1.75, 1.75, 1.0, 1.5, 1.75, 1.0, 1.75, 1.75, 1.75, 2.5, 2.75, 2.0, 1.75, 2.5, 1.75, 2.5, 2.5, 2.0, 1.5, 2.25, 2.5, 2.0, 1.75, 1.0, 1.75, 1.75, 1.5, 1.25, 2.5, 1.5, 1.0, 2.25, 1.75, 1.0, 2.5, 1.0, 3.0, 2.5, 1.75, 2.5, 2.25, 1.0, 2.0, 1.0, 1.5, 2.25, 1.0, 2.5, 1.5, 1.5, 2.75, 3.25, 2.0, 2.0, 1.0, 1.75, 3.0, 3.0, 2.5, 1.0, 2.5, 2.25, 2.25, 2.25, 2.0, 2.5, 2.5, 2.25, 2.25, 1.75, 1.75, 1.0, 2.5, 2.0, 1.0, 1.75, 2.5, 1.5, 2.25, 1.0, 2.5, 1.75, 2.5, 2.0, 1.75, 3.25, 2.0, 2.25, 2.5, 1.5, 2.0, 2.25, 2.75, 2.5, 1.0, 2.5, 2.5, 2.5, 2.5, 1.5, 1.0, 2.0, 1.0, 2.25, 1.0, 1.75, 3.0, 2.25, 2.0, 1.0, 2.5, 1.5, 2.5, 2.5, 2.25, 1.0, 3.0, 1.5, 2.25, 2.25, 1.0, 1.0, 1.0, 1.75, 1.75, 1.0, 1.0, 3.0, 2.5, 1.0, 1.75, 2.5, 1.0, 1.5, 1.75, 2.0, 1.5, 2.5, 2.5, 2.5, 2.5, 3.5, 2.5, 4.75, 2.25, 2.25, 2.0, 2.0, 1.0, 2.5, 3.0, 2.0, 1.5, 2.0, 1.75, 1.75, 1.75, 1.5, 2.25, 1.0, 1.75, 2.5, 1.75, 1.0, 4.0, 2.5, 2.5, 2.5, 2.25, 1.5, 1.0, 1.75, 0.75, 2.0, 1.0, 1.75, 1.0, 2.75, 2.25, 1.75, 1.75, 2.0, 1.0, 1.0, 1.0, 1.75, 1.0, 2.5, 1.0, 1.0, 2.0, 2.0, 1.5, 2.25, 2.5, 3.5, 2.5, 2.5, 2.5, 2.5, 1.75, 1.5, 1.75, 1.75, 2.5, 1.0, 2.25, 1.75, 2.75, 1.0, 2.5, 2.0, 2.0, 1.0, 2.0, 1.5, 2.75, 1.0, 2.5, 1.0, 1.75, 2.5, 2.5, 2.5, 2.5, 1.75, 1.75, 1.0, 2.5, 1.0, 2.5, 1.0, 1.0, 1.5, 1.75, 2.5, 2.0, 3.5, 2.5, 1.0, 1.75, 2.0, 2.25, 2.5, 1.0, 3.0, 1.0, 2.0, 1.75, 1.75, 1.0, 2.5, 1.0, 2.75, 2.5, 2.75, 2.5, 1.0, 2.75, 2.5, 2.5, 2.0, 2.5, 1.5, 1.0, 2.75, 1.75, 1.75, 1.0, 1.0, 2.5, 1.0, 1.0, 2.0, 1.0, 2.5, 2.25, 1.0, 1.5, 1.5, 2.25, 2.5, 2.5, 2.0, 2.25, 1.0, 1.0, 1.75, 2.5, 2.0, 1.75, 3.5, 1.0, 1.75, 2.25, 1.0, 2.5, 2.5, 1.0, 2.0, 2.0, 2.5, 2.0, 1.5, 1.0, 1.5, 1.75, 1.75, 1.0, 2.5, 2.5, 1.75, 1.0, 1.75, 2.5, 2.5, 2.5, 2.25, 1.5, 2.5, 1.0, 2.5, 2.5, 1.75, 2.0, 2.0, 2.25, 2.25, 2.5, 1.0, 3.5, 2.5, 1.75, 1.75, 1.5, 2.5, 1.0, 1.0, 1.0, 2.5, 2.0, 2.25, 2.5, 1.0, 1.0, 2.25, 2.25, 2.5, 2.5, 2.25, 1.0, 2.0, 1.5, 2.5, 1.0, 1.5, 2.25, 2.0, 2.5, 1.0, 2.25, 1.75, 2.5, 2.5, 1.5, 1.0, 3.0, 2.25, 2.5, 2.5, 2.5, 3.25, 2.5, 2.0, 2.5, 2.5, 2.5, 2.5, 2.25, 2.0, 2.25, 2.0, 2.5, 1.0, 2.5, 1.5, 2.0, 2.5, 1.5, 2.75, 1.5, 1.0, 1.75, 2.5, 1.0, 1.0, 2.75, 1.0, 1.0, 3.5, 2.5, 1.0, 1.5, 2.5, 2.5, 1.75, 2.0, 1.0, 2.25, 2.75, 1.0, 2.0, 1.75, 2.25, 2.5, 2.25, 1.0, 2.25, 1.5, 1.75, 2.5, 2.25, 1.75, 1.0, 2.25, 1.75, 1.5, 2.5, 2.5, 1.0, 1.75, 1.75, 1.0, 2.5, 2.75, 2.25, 2.5, 2.5, 1.75, 1.0, 3.5, 2.25, 3.0, 2.5, 2.5, 1.0, 2.5, 3.5, 2.5, 1.75, 2.25, 1.0, 1.0, 2.0, 1.0, 1.75, 2.5, 2.5, 2.75, 1.0, 2.25, 2.75, 2.25, 1.0, 1.75, 2.0, 1.75, 1.5, 1.0, 1.75, 1.0, 2.25, 3.0, 1.0, 1.5, 1.0, 1.0, 2.5, 2.25, 3.0, 1.0, 1.75, 1.0, 1.5, 1.0, 1.0, 1.5, 2.5, 1.75, 2.5, 1.0, 2.5, 2.5, 3.5, 1.75, 2.25, 2.5, 1.5, 1.0, 1.75, 1.75, 1.0, 2.5, 1.5, 2.25, 1.0, 1.75, 5.25, 1.0, 2.0, 2.25, 2.5, 2.5, 1.75, 2.0, 1.75, 1.0, 3.5, 1.5, 2.5, 2.0, 1.75, 1.5, 2.25, 2.5, 2.5, 2.5, 2.5, 3.5, 2.5, 1.75, 1.0, 2.5, 1.75, 1.75, 1.0, 2.0, 1.75, 2.25, 2.25, 2.75, 2.25, 1.0, 2.5, 2.5, 2.75, 2.0, 2.0, 1.0, 2.0, 2.0, 2.5, 1.0, 1.5, 1.75, 1.75, 3.5, 3.25, 1.0, 1.0, 2.5, 1.0, 1.75, 0.75, 2.5, 2.25, 1.0, 2.5, 2.5, 1.5, 2.75, 2.0, 1.75, 1.5, 1.0, 1.0, 2.5, 1.0, 2.5, 1.0, 2.0, 2.5, 2.25, 2.5, 1.0, 2.25, 1.75, 2.25, 2.25, 2.5, 2.75, 1.0, 1.75, 1.0, 2.0, 3.5, 2.0, 2.5, 3.0, 2.5, 2.25, 2.5, 0.75, 1.0, 1.0, 1.75, 1.75, 1.75, 1.75, 1.75, 3.0, 1.5, 2.75, 1.0, 1.5, 2.25, 2.0, 1.0, 1.0, 2.0, 1.75, 1.75, 1.0, 1.75, 1.0, 2.5, 1.0, 2.75, 2.25, 2.0, 1.0, 1.0, 2.0, 1.0, 1.0, 1.0, 2.0, 3.5, 1.5, 2.5, 2.25, 2.5, 1.0, 3.0, 2.5, 2.5, 2.5, 1.75, 2.75, 1.0, 2.25, 2.5, 3.5, 2.25, 2.25, 1.5, 2.5, 3.5, 2.25, 2.5, 1.0, 2.5, 1.0, 0.75, 1.0, 1.0, 2.5, 1.0, 2.5, 1.0, 1.0, 2.5, 1.75, 1.0, 1.0, 2.5, 1.0, 1.75, 0.75, 2.5, 1.75, 2.75, 1.0, 2.5, 2.0, 2.75, 2.75, 1.5, 1.5, 1.0, 2.0, 1.75, 1.5, 2.0, 2.0, 1.0, 3.0, 1.75, 1.0, 1.75, 1.75, 1.0, 2.5, 2.5, 1.75, 1.0, 1.0, 1.0, 2.0, 1.75, 1.0, 2.0, 2.0, 1.0, 1.75, 2.5, 2.0, 2.0, 1.0, 2.5, 2.0, 1.0, 2.5, 2.0, 2.5, 1.75, 1.0, 1.0, 1.75, 2.5, 1.5, 1.0, 2.5, 3.5, 1.75, 2.5, 2.5, 1.0, 1.5, 2.5, 2.5, 1.0, 1.5, 1.0, 2.75, 1.0, 1.5, 1.0, 1.0, 1.75, 1.0, 1.75, 2.5, 1.75, 1.0, 1.0, 1.0, 1.75, 2.5, 2.0, 1.75, 2.0, 1.75, 2.0, 2.5, 2.25, 1.0, 4.25, 3.0, 1.75, 4.5, 2.5, 2.25, 3.0, 1.5, 1.0, 2.5, 3.5, 2.0, 1.0, 2.0, 1.0, 1.0, 1.5, 2.25, 2.5, 1.0, 1.5, 1.75, 1.75, 2.25, 1.0, 1.0, 1.0, 2.25, 1.75, 2.5, 2.5, 2.5, 1.0, 1.0, 1.0, 2.5, 2.0, 3.5, 2.5, 2.5, 3.5, 3.0, 2.25, 3.25, 3.5, 2.5, 1.0, 1.0, 1.0, 2.5, 2.5, 1.5, 2.5, 2.75, 1.0, 2.0, 2.5, 2.0, 1.5, 2.5, 1.0, 1.0, 1.75, 1.0, 2.5, 2.75, 2.5, 1.75, 2.5, 1.0, 1.75, 1.75, 2.5, 1.5, 2.5, 3.0, 2.5, 3.25, 2.0, 1.75, 2.0, 1.0, 2.0, 2.0, 1.5, 1.75, 4.5, 1.75, 2.0, 1.0, 1.0, 1.0, 2.25, 1.75, 2.75, 2.5, 1.75, 2.0, 1.0, 1.0, 1.0, 2.0, 1.0, 1.0, 1.75, 3.25, 2.5, 2.25, 2.5, 3.75, 2.0, 2.5, 2.0, 2.5, 1.5, 1.0, 2.5, 2.5, 2.5, 1.0, 2.25, 2.25, 2.5, 1.75, 2.5, 2.5, 1.0, 1.5, 1.5, 1.75, 1.5, 1.0, 1.0, 1.0, 1.0, 2.0, 1.75, 2.0, 2.0, 1.0, 2.0, 2.75, 2.0, 2.0, 2.25, 1.0, 2.0, 1.75, 1.0, 1.75, 1.75, 1.5, 1.0, 1.5, 2.5, 2.5, 2.5, 2.0, 1.75, 3.0, 1.0, 1.5, 2.0, 1.0, 2.5, 1.0, 1.0, 1.75, 2.5, 2.5, 2.25, 3.25, 1.0, 2.5, 1.75, 2.0, 1.75, 2.0, 2.5, 2.5, 1.0, 3.25, 2.25, 1.75, 1.75, 1.75, 2.5, 2.25, 2.5, 2.5, 2.5, 1.5, 2.25, 2.25, 2.0, 2.5, 1.0, 1.5, 1.0, 1.0, 2.5, 1.75, 2.75, 2.5, 2.0, 1.0, 2.0, 2.0, 1.75, 2.75, 2.5, 2.75, 2.5, 2.5, 2.25, 1.75, 1.75, 1.0, 1.0, 1.5, 2.75, 2.5, 2.0, 1.0, 1.0, 1.75, 2.0, 2.5, 2.5, 2.0, 2.0, 1.0, 2.5, 2.0, 2.5, 1.0, 1.5, 1.0, 2.5, 1.0, 2.5, 2.25, 1.75, 1.0, 2.5, 1.75, 2.5, 2.0, 2.0, 1.75, 2.75, 2.5, 2.5, 2.5, 1.75, 1.0, 1.5, 2.5, 1.75, 1.0, 2.5, 2.5, 1.5, 2.5, 1.0, 1.75, 2.75, 1.5, 2.75, 2.25, 2.5, 2.5, 2.25, 2.5, 2.75, 1.75, 2.25, 1.75, 1.75, 2.5, 2.5, 1.0, 2.5, 2.0, 2.5, 1.5, 4.25, 2.0, 2.25, 1.75, 2.5, 1.0, 2.5, 2.25, 2.5, 2.0, 1.5, 1.75, 1.0, 2.0, 2.5, 2.75, 1.0, 2.25, 1.75, 2.25, 2.0, 1.0, 2.0, 1.75, 2.5, 2.5, 2.5, 1.75, 2.25, 2.5, 2.25, 2.5, 1.75, 1.0, 1.75, 2.5, 1.0, 1.75, 2.25, 2.0, 2.5, 1.5, 1.0, 1.0, 1.75, 1.5, 2.5, 2.0, 3.25, 2.25, 2.5, 2.0, 2.5, 2.75, 2.25, 3.0, 2.75, 3.25, 2.25, 0.75, 1.75, 1.75, 1.5, 2.25, 1.0, 1.75, 1.5, 2.5, 1.0, 2.5, 2.5, 2.5, 1.0, 1.0, 1.75, 1.0, 1.0, 1.75, 1.0, 2.0, 1.75, 2.25, 1.75, 3.0, 1.0, 1.0, 2.0, 1.0, 2.5, 2.5, 2.5, 2.75, 1.0, 2.75, 2.25, 2.5, 2.0, 2.5, 1.0, 1.0, 1.5, 2.0, 1.75, 2.5, 1.0, 2.5, 2.0, 2.25, 2.0, 2.5, 1.0, 2.0, 1.75, 2.5, 1.0, 1.5, 1.0, 2.5, 1.5, 1.75, 1.5, 2.0, 1.75, 2.5, 2.25, 2.5, 2.5, 2.5, 3.5, 2.5, 3.25, 1.75, 2.5, 2.0, 2.5, 2.75, 2.25, 1.0, 3.75, 2.75, 1.75, 1.0, 1.0, 2.5, 2.25, 2.5, 3.0, 2.25, 1.75, 2.5, 1.5, 2.5, 1.0, 2.5, 2.0, 1.0, 3.0, 2.5, 3.75, 2.5, 1.75, 2.75, 1.75, 2.0, 1.0, 1.5, 2.5, 2.5, 1.75, 1.0, 1.0, 1.0, 3.25, 2.5, 1.75, 2.5, 2.5, 3.5, 1.0, 2.75, 1.5, 1.75, 1.0, 1.75, 2.5, 1.75, 2.0, 2.5, 2.25, 2.75, 2.0, 2.5, 2.5, 1.0, 2.5, 2.5, 2.25, 2.5, 3.0, 2.5, 1.0, 2.25, 1.5, 1.5, 2.5, 1.5, 1.75, 1.0, 1.75, 2.5, 2.0, 1.0, 2.5, 2.75, 1.75, 2.75, 1.0, 1.0, 1.75, 2.5, 1.0, 1.0, 1.5, 2.5, 1.75, 2.5, 2.5, 2.5, 1.0, 2.0, 1.0, 2.5, 1.5, 2.0, 2.0, 1.75, 1.75, 2.5, 2.5, 2.5, 2.0, 3.0, 2.5, 2.5, 2.5, 2.5, 2.25, 2.5, 1.0, 1.0, 3.0, 2.75, 1.0, 1.75, 2.5, 2.5, 2.5, 1.75, 1.5, 3.0, 2.25, 1.75, 1.75, 2.25, 2.5, 1.5, 1.75, 1.75, 1.0, 2.5, 2.5, 1.0, 1.75, 1.75, 2.5, 2.25, 2.0, 1.75, 2.0, 1.75, 1.0, 1.0, 1.75, 1.0, 1.0, 2.75, 2.5, 2.25, 2.5, 1.75, 2.5, 2.5, 1.5, 2.0, 1.0, 2.5, 3.5, 3.0, 2.75, 1.75, 1.0, 1.0, 2.75, 1.75, 1.75, 1.0, 1.75, 1.75, 2.5, 1.75, 2.0, 2.0, 3.0, 1.5, 1.75, 2.5, 1.0, 2.5, 2.5, 1.75, 1.75, 2.5, 1.0, 3.5, 2.5, 3.5, 2.5, 1.5, 1.5, 2.5, 2.5, 2.0, 1.75, 2.5, 1.0, 1.75, 2.5, 2.5, 3.0, 1.5, 1.5, 2.25, 1.75, 2.0, 1.75, 2.0, 1.75, 0.75, 1.0, 1.0, 1.75, 2.5, 1.75, 2.0, 1.75, 1.0, 1.0, 1.0, 1.75, 1.0, 1.5, 1.0, 2.0, 1.75, 3.25, 1.0, 1.5, 2.0, 1.75, 2.5, 2.5, 2.25, 1.5, 1.0, 2.0, 1.75, 1.5, 1.0, 2.5, 2.0, 1.75, 1.0, 1.75, 2.75, 1.75, 2.0, 1.75, 2.5, 1.0, 2.5, 2.75, 4.5, 2.5, 2.25, 2.75, 2.5, 2.75, 1.0, 2.0, 1.75, 2.0, 1.0, 1.5, 2.5, 5.0, 1.0, 1.75, 1.5, 1.75, 1.0, 1.5, 2.5, 1.0, 1.0, 2.5, 1.0, 3.5, 2.75, 2.5, 2.5, 2.5, 1.75, 1.75, 1.5, 2.5, 1.0, 1.75, 1.5, 2.5, 2.25, 1.75, 3.25, 1.0, 1.75, 2.5, 1.5, 2.5, 2.5, 1.75, 2.75, 1.0, 1.0, 2.75, 1.0, 2.5, 2.0, 2.0, 1.0, 1.0, 2.5, 2.0, 2.25, 2.0, 2.5, 2.5, 3.5, 1.0, 3.5, 1.5, 2.25, 2.5, 1.25, 2.5, 2.25, 2.5, 1.75, 2.0, 1.0, 2.0, 2.5, 2.0, 1.0, 1.75, 1.0, 1.75, 1.0, 2.5, 1.75, 1.75, 2.5, 1.0, 2.25, 1.5, 2.75, 1.5, 1.0, 2.5, 1.0, 1.75, 1.0, 3.25, 1.0, 2.5, 1.5, 2.5, 2.25, 2.75, 2.5, 3.0, 2.5, 2.0, 1.0, 0.75, 2.5, 2.5, 2.25, 2.0, 1.0, 1.0, 1.0, 1.75, 1.75, 2.25, 2.5, 1.75, 2.75, 1.5, 3.25, 2.25, 3.0, 1.75, 1.0, 1.75, 1.0, 1.75, 1.0, 1.0, 2.25, 1.75, 1.0, 2.75, 2.5, 1.0, 1.75, 1.0, 2.25, 1.5, 1.0, 2.5, 2.5, 2.5, 1.5, 1.75, 1.5, 2.5, 2.5, 1.0, 2.0, 2.5, 1.75, 2.5, 2.75, 2.25, 2.5, 1.0, 2.5, 2.25, 1.75, 2.5, 2.0, 1.0, 1.0, 1.75, 1.75, 2.0, 3.0, 2.25, 3.0, 2.25, 2.5, 2.5, 2.0, 2.5, 1.0, 1.75, 2.75, 2.5, 1.75, 2.0, 2.5, 3.0, 1.0, 2.75, 1.75, 2.0, 2.5, 2.25, 1.75, 1.5, 1.0, 1.75, 3.0, 3.5, 2.5, 2.5, 1.75, 3.0, 2.0, 1.75, 2.0, 1.75, 1.5, 1.5, 2.0, 2.0, 2.25, 1.0, 1.75, 1.75, 1.0, 2.5, 2.5, 2.5, 1.5, 1.75, 1.5, 2.5, 2.5, 1.0, 1.5, 2.0, 2.5, 2.5, 1.0, 1.5, 2.25, 1.0, 2.75, 2.5, 1.0, 2.5, 1.0, 2.0, 2.25, 1.5, 2.75, 2.5, 2.0, 1.75, 2.5, 2.5, 1.5, 1.0, 2.5, 2.25, 2.5, 2.25, 2.5, 2.5, 2.5, 2.0, 1.75, 2.5, 1.0, 1.5, 1.0, 2.0, 1.75, 2.0, 1.0, 1.5, 2.25, 2.5, 2.5, 1.5, 1.75, 2.5, 2.5, 2.25, 1.75, 1.5, 1.75, 2.0, 2.5, 1.75, 1.0, 3.5, 2.25, 1.0, 1.0, 2.5, 2.0, 2.5, 2.5, 2.0, 1.5, 2.25, 1.0, 2.0, 1.75, 2.25, 2.5, 1.5, 2.0, 1.75, 2.5, 1.5, 2.0, 2.75, 1.5, 2.5, 2.5, 1.75, 0.75, 1.75, 2.75, 2.0, 2.25, 2.25, 2.0, 1.0, 2.5, 1.5, 2.5, 1.0, 2.0, 2.5, 2.5, 2.75, 1.0, 2.0, 1.0, 2.75, 2.5, 2.5, 2.5, 2.25, 3.25, 2.5, 2.5, 1.75, 1.0, 2.25, 1.0, 1.75, 2.0, 1.75, 2.5, 2.0, 3.25, 2.75, 1.75, 3.25, 2.5, 1.75, 1.75, 1.75, 2.5, 1.0, 2.5, 2.0, 2.75, 1.5, 3.0, 2.5, 1.75, 1.75, 2.5, 1.0, 2.5, 1.0, 1.75, 1.0, 1.75, 1.0, 1.75, 1.0, 2.0, 2.5, 2.5, 1.0, 3.5, 1.0, 3.25, 2.25, 2.5, 2.5, 1.75, 2.5, 2.0, 1.75, 2.5, 1.0, 2.25, 1.5, 2.5, 2.25, 2.5, 2.5, 1.5, 1.75, 2.0, 2.0, 3.5, 2.5, 2.25, 1.75, 2.5, 2.25, 2.5, 3.25, 2.5, 2.5, 2.5, 1.75, 2.0, 2.5, 2.5, 1.0, 1.75, 2.25, 1.0, 1.5, 2.0, 2.0, 1.0, 1.0, 2.75, 1.5, 2.75, 1.75, 2.25, 2.25, 1.0, 1.0, 1.0, 1.75, 1.75, 1.75, 1.0, 2.0, 2.0, 2.0, 2.5, 1.0, 2.5, 2.25, 1.75, 3.75, 1.75, 2.25, 2.0, 2.5, 1.0, 1.0, 2.0, 2.25, 2.0, 2.0, 1.75, 3.25, 2.5, 1.75, 1.75, 2.5, 2.5, 2.5, 1.5, 2.5, 1.75, 2.5, 2.25, 2.0, 1.0, 2.25, 2.5, 1.75, 2.25, 3.25, 2.5, 2.5, 2.75, 2.5, 1.0, 0.75, 2.5, 1.0, 2.5, 2.0, 1.0, 2.25, 2.0, 1.0, 1.5, 2.25, 1.0, 1.5, 2.5, 2.0, 1.75, 1.75, 2.25, 3.5, 2.5, 1.0, 2.0, 2.0, 1.5, 2.0, 1.0, 1.0, 2.25, 2.5, 2.5, 2.5, 3.0, 2.5, 2.0, 1.0, 1.75, 1.0, 2.5, 2.25, 1.0, 2.25, 3.0, 2.25, 1.0, 1.0, 2.5, 2.75, 2.25, 1.0, 3.0, 1.0, 2.75, 2.5, 1.0, 2.25, 2.0, 2.75, 2.25, 2.5, 2.5, 3.0, 3.25, 1.0, 2.25, 1.5, 1.75, 1.75, 2.5, 2.5, 2.5, 2.5, 2.5, 2.0, 2.0, 2.5, 1.0, 1.0, 1.75, 1.75, 1.0, 2.5, 3.0, 1.5, 3.0, 2.5, 1.75, 1.0, 1.5, 2.5, 2.75, 1.0, 2.5, 2.0, 1.5, 2.75, 2.5, 3.75, 1.75, 1.0, 2.5, 2.0, 1.0, 2.5, 1.75, 2.0, 2.25, 2.25, 2.25, 1.0, 1.0, 2.5, 1.75, 1.75, 1.75, 2.5, 1.75, 1.75, 1.75, 1.75, 1.75, 1.5, 2.5, 1.0, 1.0, 2.5, 2.0, 1.0, 2.5, 2.5, 2.25, 2.0, 1.0, 1.75, 1.0, 2.5, 2.5, 1.0, 2.5, 1.75, 1.0, 2.5, 2.5, 1.75, 2.5, 2.5, 2.5, 1.75, 1.75, 1.75, 1.75, 3.25, 1.0, 1.0, 1.5, 2.5, 2.5, 2.5, 1.75, 2.0, 1.0, 1.75, 2.0, 2.25, 1.75, 2.5, 2.25, 1.0, 2.25, 2.75, 2.5, 2.0, 3.5, 2.5, 2.5, 1.5, 1.5, 2.25, 3.25, 2.25, 3.0, 1.5, 0.75, 1.75, 1.5, 1.75, 2.5, 2.5, 2.5, 1.75, 1.0, 1.0, 2.5, 1.5, 2.5, 1.0, 2.25, 1.75, 1.5, 1.75, 2.5, 1.5, 1.0, 2.0, 2.5, 2.5, 2.0, 1.75, 1.75, 2.5, 2.5, 1.5, 1.0, 1.0, 1.5, 2.5, 2.5, 2.25, 1.75, 2.0, 1.0, 1.75, 1.0, 1.75, 2.5, 1.0, 2.25, 1.75, 2.0, 1.0, 2.25, 2.5, 1.75, 1.0, 3.25, 2.5, 2.0, 2.5, 2.25, 2.5, 2.25, 2.5, 1.75, 1.75, 2.75, 1.0, 2.5, 1.5, 1.75, 1.0, 3.0, 1.0, 1.5, 1.0, 1.0, 1.0, 2.25, 2.5, 2.5, 1.5, 2.5, 2.5, 2.0, 2.0, 2.5, 1.0, 1.0, 2.5, 1.0, 4.0, 2.5, 2.0, 2.5, 2.5, 1.0, 0.75, 1.0, 2.0, 2.25, 2.25, 2.0, 1.0, 2.5, 2.5, 2.25, 3.0, 2.25, 2.5, 1.75, 1.5, 2.25, 1.0, 1.5, 1.0, 2.75, 1.0, 2.0, 0.75, 1.0, 2.25, 1.0, 1.5, 1.0, 2.25, 2.0, 1.75, 2.5, 1.75, 2.25, 1.0, 2.75, 2.25, 1.75, 2.25, 2.5, 1.0, 1.0, 1.0, 2.5, 2.25, 2.75, 2.25, 2.75, 1.75, 1.75, 1.75, 1.5, 1.75, 2.5, 1.0, 2.5, 1.0, 2.5, 2.5, 1.0, 1.75, 1.0, 1.0, 2.0, 1.0, 2.75, 1.75, 2.5, 1.5, 2.5, 2.25, 2.5, 2.25, 2.5, 2.75, 2.5, 2.5, 2.5, 2.5, 3.5, 1.75, 2.25, 2.0, 2.0, 3.0, 1.5, 1.5, 1.75, 2.5, 1.0, 2.0, 1.5, 1.5, 1.0, 2.5, 2.5, 2.25, 1.75, 2.0, 1.0, 2.0, 3.5, 2.75, 2.5, 2.5, 1.5, 1.0, 2.0, 1.0, 1.5, 2.75, 2.5, 1.75, 3.0, 2.5, 2.25, 2.5, 2.25, 2.25, 3.0, 1.5, 1.75, 1.75, 2.5, 1.75, 2.5, 1.75, 1.0, 2.0, 1.75, 1.0, 2.5, 2.0, 1.75, 1.0, 3.0, 1.0, 1.75, 1.0, 1.0, 1.5, 2.5, 1.0, 1.5, 1.0, 2.0, 2.75, 1.0, 1.75, 2.5, 1.75, 1.75, 2.0, 1.5, 1.75, 3.0, 1.0, 2.5, 2.5, 2.75, 2.5, 3.25, 1.75, 2.25, 2.75, 1.0, 1.0, 1.75, 2.25, 2.25, 2.75, 1.75, 2.5, 1.75, 2.5, 1.75, 1.0, 2.5, 1.0, 1.0, 2.0, 2.5, 1.0, 1.75, 2.5, 1.75, 2.25, 1.75, 1.0, 1.75, 1.0, 1.0, 2.5, 1.75, 1.5, 1.0, 1.0, 4.0, 2.5, 2.5, 2.5, 1.75, 3.5, 1.75, 2.5, 2.5, 1.0, 1.0, 1.75, 0.75, 2.5, 1.0, 1.0, 1.0, 1.0, 1.75, 1.75, 2.5, 1.0, 1.5, 3.25, 2.75, 2.5, 3.0, 2.75, 3.0, 1.5, 2.0, 1.75, 1.25, 1.0, 1.75, 1.0, 1.5, 1.0, 1.0, 2.5, 2.5, 2.5, 1.75, 3.5, 2.0, 2.75, 1.0, 2.75, 2.0, 1.0, 1.75, 1.5, 1.75, 1.75, 2.25, 2.25, 1.0, 2.0, 1.0, 2.5, 1.75, 2.5, 2.75, 1.0, 2.5, 3.0, 2.25, 1.0, 2.25, 2.5, 2.25, 1.5, 1.0, 1.5, 2.75, 3.25, 3.0, 1.0, 1.0, 2.25, 2.5, 1.5, 1.0, 2.5, 2.0, 1.0, 1.0, 2.5, 3.0, 2.0, 2.5, 2.5, 2.25, 2.0, 2.5, 2.0, 1.75, 2.5, 2.5, 2.5, 2.0, 2.5, 2.5, 2.0, 1.0, 2.5, 2.5, 1.0, 2.5, 2.5, 1.5, 1.0, 1.75, 1.0, 1.75, 2.25, 1.0, 1.75, 1.75, 2.25, 1.75, 2.0, 2.25, 2.5, 1.0, 1.0, 1.75, 2.5, 2.5, 1.0, 1.75, 1.5, 2.25, 1.0, 2.0, 2.0, 1.0, 2.5, 2.75, 2.25, 1.75, 3.5, 2.5, 1.0, 1.0, 2.25, 1.75, 1.75, 2.25, 1.0, 2.5, 1.0, 1.0, 3.0, 2.0, 0.75, 3.25, 1.75, 2.25, 2.5, 2.5, 1.5, 2.25, 2.75, 1.75, 1.0, 3.0, 1.75, 2.5, 2.5, 2.5, 2.5, 2.25, 2.5, 2.5, 2.75, 1.75, 1.0, 2.0, 2.5, 2.0, 2.0, 2.0, 2.25, 2.25, 1.75, 3.0, 2.25, 2.25, 2.25, 3.5, 2.0, 2.5, 1.75, 2.5, 2.5, 1.0, 2.0, 3.0, 2.5, 2.25, 2.25, 2.25, 1.75, 2.5, 2.5, 1.75, 1.75, 2.5, 2.75, 1.0, 2.0, 2.5, 2.0, 1.0, 2.5, 2.5, 1.0, 3.0, 2.0, 2.25, 1.0, 2.5, 1.0, 2.5, 1.75, 1.0, 2.5, 1.5, 2.75, 2.5, 2.25, 1.5, 2.5, 2.5, 2.5, 1.75, 1.0, 1.75, 2.5, 2.25, 1.75, 1.0, 1.75, 1.75, 1.75, 2.5, 2.75, 3.0, 2.5, 2.0, 1.5, 2.5, 1.5, 1.0, 1.0, 2.0, 2.5, 1.75, 1.0, 2.25, 2.75, 2.25, 1.5, 2.5, 1.0, 2.75, 2.5, 1.0, 2.5, 1.5, 1.75, 1.0, 2.5, 0.75, 2.25, 3.25, 2.5, 2.5, 2.5, 2.5, 1.75, 1.5, 1.75, 3.0, 1.5, 2.5, 1.75, 2.5, 1.75, 1.0, 2.25, 1.75, 1.0, 1.0, 1.0, 2.0, 2.0, 3.0, 2.25, 1.0, 1.5, 3.5, 2.25, 1.5, 1.0, 2.5, 1.75, 1.75, 1.5, 1.0, 2.0, 1.75, 2.5, 1.0, 2.5, 1.5, 1.75, 1.75, 2.5, 1.0, 2.75, 2.0, 2.25, 2.5, 1.5, 2.25, 2.5, 2.0, 2.0, 1.75, 2.5, 1.0, 1.0, 2.5, 2.5, 2.0, 2.5, 2.5, 2.5, 2.5, 2.25, 2.5, 2.5, 1.5, 2.5, 1.75, 2.5, 2.0, 2.25, 1.0, 2.25, 2.25, 2.5, 1.0, 2.5, 1.75, 1.0, 2.25, 1.75, 2.25, 1.0, 2.25, 1.0, 2.5, 1.0, 2.5, 1.0, 1.5, 3.0, 1.75, 2.5, 2.25, 2.25, 2.25, 1.0, 1.75, 3.0, 2.5, 2.0, 2.5, 1.75, 2.5, 2.5, 1.0, 1.0, 2.0, 2.25, 2.0, 2.75, 1.0, 3.5, 1.0, 2.5, 1.75, 1.0, 2.0, 2.0, 1.5, 1.75, 2.0, 2.5, 2.25, 1.0, 2.0, 2.25, 1.0, 1.0, 1.75, 2.5, 2.25, 1.75, 1.75, 2.5, 1.5, 2.0, 1.75, 1.0, 1.75, 1.5, 2.75, 1.75, 1.0, 1.0, 1.5, 2.25, 3.5, 2.5, 2.75, 2.5, 1.5, 2.5, 2.5, 3.25, 2.75, 2.0, 1.5, 1.5, 2.5, 1.75, 2.5, 1.5, 1.75, 3.25, 2.0, 3.75, 0.75, 2.5, 2.5, 1.75, 1.0, 1.0, 1.0, 1.0, 3.25, 1.5, 2.75, 1.75, 1.0, 2.5, 1.75, 1.75, 1.0, 1.5, 2.5, 1.5, 1.0, 1.75, 2.75, 1.75, 1.0, 2.0, 1.75, 2.5, 3.25, 2.5, 2.0, 2.5, 2.25, 2.5, 2.5, 1.0, 2.5, 2.5, 2.5, 2.5, 1.0, 2.25, 1.0, 2.25, 2.5, 1.5, 2.5, 1.75, 1.5, 1.0, 1.0, 2.5, 1.0, 1.5, 1.0, 1.0, 1.75, 1.0, 2.75, 1.75, 1.75, 2.25, 3.5, 2.0, 1.0, 2.5, 3.25, 2.5, 2.5, 2.25, 1.5, 2.5, 1.0, 2.0, 2.5, 2.75, 1.0, 1.0, 2.0, 2.0, 1.75, 2.5, 1.0, 2.25, 2.5, 1.75, 2.5, 2.5, 2.0, 2.5, 3.0, 1.5, 2.0, 1.75, 2.25, 2.0, 2.5, 1.75, 1.75, 2.5, 2.5, 2.5, 2.0, 2.5, 2.5, 2.75, 2.25, 2.5, 1.5, 2.5, 2.75, 2.25, 1.75, 1.0, 2.25, 2.5, 1.0, 2.25, 2.25, 1.75, 1.75, 2.0, 2.75, 1.0, 2.5, 1.0, 3.5, 2.25, 2.0, 2.5, 2.5, 3.0, 1.75, 1.0, 2.25, 3.0, 2.25, 2.75, 1.0, 1.5, 1.0, 2.5, 2.5, 2.5, 2.5, 1.5, 2.0, 2.0, 2.5, 1.0, 1.0, 1.0, 2.5, 1.75, 3.75, 1.75, 1.0, 1.5, 2.5, 2.5, 1.75, 2.0, 1.0, 2.5, 2.25, 2.0, 3.0, 2.5, 2.5, 2.5, 1.0, 2.25, 1.5, 1.0, 1.0, 2.0, 3.0, 1.75, 1.75, 1.0, 3.5, 1.0, 2.75, 1.0, 1.0, 2.5, 1.0, 2.0, 2.25, 2.75, 1.0, 2.25, 2.0, 1.75, 1.0, 2.75, 1.0, 2.75, 1.75, 2.5, 2.25, 2.0, 2.25, 2.5, 1.75, 1.0, 2.5, 2.25, 2.0, 2.75, 2.5, 1.0, 1.0, 1.75, 3.5, 2.5, 1.0, 2.5, 3.5, 1.75, 2.0, 1.0, 1.75, 2.5, 1.0, 2.75, 2.0, 1.75, 2.25, 2.5, 2.5, 1.0, 1.0, 2.5, 1.75, 3.0, 2.5, 1.0, 2.5, 1.75, 2.5, 1.0, 1.0, 2.75, 1.75, 2.75, 1.75, 1.0, 1.0, 1.0, 1.75, 1.0, 3.25, 2.75, 2.5, 2.75, 1.75, 2.5, 2.5, 1.0, 1.5, 1.0, 1.0, 3.0, 1.0, 2.25, 2.25, 2.75, 2.5, 2.5, 1.0, 2.5, 1.75, 2.0, 1.75, 3.0, 1.0, 1.75, 1.0, 1.5, 1.0, 2.0, 1.75, 1.0, 2.25, 1.0, 1.0, 2.5, 1.75, 2.5, 2.5, 2.5, 1.75, 2.5, 2.5, 2.0, 2.5], \"z\": [0.313, 0.342, 0.42, 0.55, 0.49, 0.335, 0.482, 0.4525, 0.64, 0.463, 0.5885, 0.365, 0.2425, 0.419, 0.3675, 0.25795, 0.275, 0.435, 0.626, 0.6125, 0.495, 0.285, 0.615, 0.3825, 0.49995, 0.65, 0.625, 0.4, 0.604, 0.44, 0.2872, 0.403, 0.335, 0.26, 0.3085, 0.43995, 0.235, 0.315, 0.4375, 0.4075, 0.4457, 0.63, 0.55, 0.284, 0.47, 0.43, 0.4915, 0.385, 0.295, 0.555, 0.45999, 0.625, 0.3, 0.625, 0.553, 0.37988, 0.31, 0.365, 0.33195, 0.628, 0.56, 0.531, 0.627, 0.58, 0.41, 0.485, 0.4, 0.549, 0.62, 0.405, 0.232, 0.65, 0.524, 0.541125, 0.3849, 0.4061, 0.57, 0.328, 0.435, 0.499, 0.501, 0.4, 0.22, 0.6571, 0.30995, 0.3, 0.525888, 0.34, 0.39875, 0.206, 0.6, 0.37995, 0.287, 0.30995, 0.6, 0.418, 0.44925, 0.32995, 0.245, 0.549, 0.24995, 0.21, 0.585, 0.615, 0.6185, 0.487585, 0.5099, 0.631625, 0.555, 0.34, 0.36675, 0.415, 0.416286, 0.478, 0.41919, 0.397, 0.45, 0.353, 0.609, 0.234, 0.561, 0.469, 0.32935, 0.488, 0.2799, 0.606, 0.312, 0.65, 0.325, 0.425, 0.219, 0.25, 0.39, 0.475, 0.407, 0.272, 0.362, 0.535, 0.284, 0.3675, 0.3799, 0.52, 0.175, 0.46, 0.345, 0.455, 0.61, 0.563, 0.6125, 0.218, 0.404, 0.1365, 0.31395, 0.575, 0.28, 0.515, 0.513, 0.599, 0.365, 0.562, 0.53, 0.525, 0.484, 0.36, 0.387, 0.4835, 0.6555, 0.345, 0.533, 0.385, 0.197, 0.485, 0.295, 0.499, 0.191, 0.5, 0.39, 0.58, 0.36995, 0.51995, 0.255, 0.495, 0.51, 0.253, 0.503, 0.275, 0.249, 0.31, 0.63, 0.599999, 0.2485, 0.31, 0.46, 0.526, 0.56, 0.415, 0.246, 0.3145, 0.42, 0.535, 0.35, 0.515, 0.23, 0.568, 0.25, 0.581, 0.651, 0.6, 0.5, 0.475, 0.352, 0.42, 0.428, 0.599, 0.492, 0.63, 0.575, 0.313, 0.61808, 0.64, 0.485, 0.3, 0.3795, 0.33995, 0.5, 0.2399, 0.31495, 0.36128, 0.1, 0.54, 0.4805, 0.28, 0.44, 0.53, 0.56, 0.16, 0.20995, 0.2265, 0.38, 0.4095, 0.405, 0.375, 0.185, 0.245, 0.425, 0.495, 0.365, 0.41725, 0.33995, 0.615, 0.403, 0.258, 0.533, 0.5375, 0.262, 0.134, 0.402, 0.205, 0.55365, 0.55995, 0.26, 0.27, 0.295, 0.266, 0.3259, 0.6475, 0.569, 0.246, 0.515, 0.207, 0.48999, 0.335, 0.295, 0.385, 0.35, 0.235, 0.358, 0.228, 0.405, 0.538, 0.53, 0.636, 0.535, 0.53, 0.45, 0.23, 0.229, 0.437, 0.595, 0.3475, 0.29795, 0.245, 0.5432, 0.41345, 0.33, 0.4245, 0.23, 0.349, 0.5, 0.499, 0.32195, 0.494, 0.44175, 0.438, 0.352, 0.46, 0.2245, 0.254, 0.255, 0.61, 0.4025, 0.28095, 0.604, 0.565, 0.255, 0.445, 0.195, 0.275, 0.387, 0.49, 0.505, 0.3035, 0.27, 0.323, 0.382, 0.28, 0.26, 0.2015, 0.5365, 0.248, 0.532, 0.58, 0.463, 0.26, 0.59, 0.312, 0.566, 0.511555, 0.583, 0.29, 0.3111, 0.325, 0.4913, 0.315, 0.36, 0.33, 0.48145, 0.23495, 0.251, 0.5425, 0.325, 0.415, 0.2525, 0.465, 0.3369, 0.225, 0.27, 0.536, 0.585, 0.445, 0.32, 0.557, 0.212, 0.376, 0.324, 0.5499, 0.32, 0.265, 0.39495, 0.368, 0.453246, 0.49, 0.341, 0.235, 0.56, 0.255, 0.54, 0.35, 0.582, 0.3725, 0.41, 0.36, 0.225, 0.647, 0.185, 0.335, 0.21, 0.522, 0.49995, 0.33, 0.465, 0.302, 0.5, 0.201, 0.265, 0.339, 0.315275, 0.505, 0.368, 0.156, 0.61, 0.42, 0.192, 0.3, 0.505, 0.11, 0.211, 0.615, 0.63, 0.3015, 0.369, 0.635, 0.383, 0.455, 0.625, 0.651, 0.48, 0.46, 0.267345, 0.53, 0.4495, 0.289, 0.373, 0.525, 0.55, 0.523, 0.628, 0.581, 0.245, 0.415, 0.225, 0.287, 0.23995, 0.591, 0.475, 0.575, 0.155, 0.55, 0.645, 0.464, 0.35, 0.591, 0.225, 0.225, 0.345, 0.23, 0.385, 0.09, 0.37, 0.62, 0.45, 0.45, 0.53, 0.635, 0.58, 0.285, 0.375, 0.56, 0.405, 0.413, 0.2876, 0.225, 0.319, 0.3225, 0.57, 0.465, 0.435, 0.502, 0.525, 0.525, 0.65, 0.505, 0.33, 0.385, 0.306, 0.546, 0.542, 0.62, 0.175, 0.345, 0.51, 0.53, 0.155, 0.266, 0.2572, 0.265, 0.37222, 0.3375, 0.5825, 0.4892, 0.4051, 0.372977, 0.31, 0.538, 0.317, 0.565, 0.325, 0.543, 0.525, 0.364, 0.394475, 0.316, 0.33995, 0.486, 0.16, 0.139, 0.562, 0.299, 0.511, 0.499, 0.356, 0.47, 0.458, 0.305495, 0.543, 0.34, 0.6331, 0.31, 0.34995, 0.2678, 0.234, 0.6075, 0.223, 0.4, 0.253, 0.3, 0.625, 0.42, 0.498, 0.45, 0.215, 0.437, 0.256883, 0.5925, 0.25235, 0.37, 0.46575, 0.185, 0.5828, 0.245, 0.302, 0.451555, 0.25, 0.255, 0.19, 0.34995, 0.613, 0.3, 0.455, 0.335, 0.1975, 0.4125, 0.3953, 0.3424, 0.3165, 0.39, 0.225, 0.55, 0.28, 0.575, 0.585, 0.62, 0.2047, 0.375, 0.475, 0.215, 0.35, 0.263, 0.4, 0.525, 0.34995, 0.3125, 0.24, 0.495, 0.58005, 0.64, 0.417, 0.17495, 0.295, 0.423, 0.343, 0.467, 0.5125, 0.575, 0.465, 0.27, 0.34, 0.497, 0.344, 0.38638, 0.312, 0.2527, 0.4375, 0.35, 0.619, 0.4082, 0.451, 0.317, 0.49, 0.2399, 0.446, 0.275, 0.23995, 0.248, 0.6195, 0.36375, 0.385, 0.37, 0.425, 0.342, 0.345, 0.605, 0.35, 0.25, 0.565, 0.4, 0.282613, 0.1745, 0.3065, 0.445, 0.433, 0.306, 0.62, 0.245, 0.238, 0.523, 0.5225, 0.18, 0.375, 0.249, 0.551, 0.375, 0.54, 0.605, 0.205, 0.645, 0.314, 0.33, 0.49, 0.445, 0.3775, 0.48, 0.341, 0.611, 0.37995, 0.5, 0.41, 0.415, 0.297, 0.57555, 0.53464, 0.3525, 0.488, 0.215, 0.5925, 0.29, 0.475, 0.32, 0.29, 0.48725, 0.339, 0.44, 0.3665, 0.462, 0.56, 0.285, 0.28, 0.21, 0.2565, 0.411, 0.215, 0.35995, 0.48, 0.39, 0.4135, 0.285, 0.475, 0.386591, 0.52495, 0.241, 0.461, 0.247, 0.2965, 0.1418, 0.333, 0.602, 0.565, 0.373, 0.588, 0.485, 0.4825, 0.2512, 0.464, 0.28, 0.485, 0.305, 0.1107, 0.35, 0.31995, 0.368, 0.4335, 0.611, 0.307, 0.4425, 0.485, 0.367, 0.429, 0.446, 0.5725, 0.477, 0.518, 0.462, 0.137, 0.53, 0.64, 0.29845, 0.575, 0.551, 0.27131, 0.479, 0.52, 0.59995, 0.483945, 0.39, 0.1925, 0.33, 0.25, 0.243, 0.575, 0.639, 0.405, 0.615, 0.49, 0.467, 0.48, 0.387, 0.415, 0.263, 0.5199, 0.57, 0.45, 0.3, 0.32, 0.3875, 0.458, 0.38, 0.2, 0.385, 0.396675, 0.452, 0.426, 0.315, 0.326, 0.2685, 0.44, 0.3, 0.525, 0.315, 0.309, 0.21995, 0.289, 0.21, 0.26, 0.29995, 0.555, 0.384, 0.49995, 0.43, 0.35, 0.62, 0.25, 0.376, 0.475, 0.12075, 0.33, 0.6195, 0.345, 0.598, 0.335, 0.3725, 0.3, 0.194, 0.5075, 0.325, 0.3299, 0.329, 0.494, 0.206, 0.423, 0.259, 0.3456, 0.395, 0.625, 0.439, 0.38, 0.44, 0.415, 0.5, 0.515, 0.329995, 0.409316, 0.49, 0.305, 0.24, 0.325, 0.5358, 0.374, 0.18965, 0.42085, 0.199, 0.195, 0.2884, 0.442, 0.61942, 0.635, 0.21, 0.5125, 0.567, 0.525, 0.475, 0.25, 0.22, 0.23, 0.3855, 0.36825, 0.2499, 0.35, 0.175, 0.27, 0.495, 0.5425, 0.33, 0.2998, 0.2999, 0.195, 0.405, 0.36, 0.25675, 0.3325, 0.218, 0.429, 0.589, 0.255, 0.3445, 0.452, 0.54, 0.246, 0.535, 0.43, 0.52, 0.45, 0.22, 0.525, 0.54, 0.6, 0.6, 0.625, 0.15, 0.389999, 0.285, 0.318989, 0.556, 0.275, 0.43, 0.3, 0.39645, 0.225, 0.26, 0.655, 0.4138, 0.33499, 0.556, 0.36, 0.48, 0.324, 0.275, 0.18, 0.3735, 0.356, 0.625, 0.4944, 0.585, 0.6, 0.43, 0.307, 0.6047, 0.2199, 0.27, 0.432, 0.3, 0.361, 0.24995, 0.32, 0.305, 0.503, 0.23575, 0.657, 0.385, 0.38995, 0.15, 0.2545, 0.555, 0.245, 0.31995, 0.337, 0.492, 0.34858, 0.18, 0.4, 0.295, 0.4315, 0.18, 0.6357, 0.482, 0.168, 0.398, 0.5925, 0.655, 0.6225, 0.38, 0.64836, 0.432, 0.35325, 0.32, 0.3499, 0.33, 0.408, 0.321, 0.359, 0.3, 0.38, 0.355, 0.259, 0.353, 0.43, 0.46, 0.08, 0.218, 0.325, 0.556, 0.225, 0.43995, 0.175, 0.306, 0.235, 0.3995, 0.478, 0.515, 0.55, 0.149, 0.526, 0.52755, 0.625, 0.377691, 0.648475, 0.383, 0.535, 0.44995, 0.465425, 0.599, 0.416, 0.595, 0.2, 0.402, 0.433, 0.275, 0.41, 0.55482, 0.607, 0.5499, 0.258, 0.1325, 0.4671, 0.641, 0.35, 0.335, 0.44, 0.4646, 0.3, 0.552, 0.244, 0.445, 0.53, 0.09, 0.585, 0.498, 0.379, 0.462, 0.388, 0.255, 0.55, 0.606, 0.334, 0.36, 0.235, 0.58, 0.355, 0.375, 0.372, 0.479, 0.501, 0.245, 0.4967, 0.347, 0.199, 0.4405, 0.325, 0.195, 0.295, 0.3553, 0.276, 0.46, 0.37, 0.346, 0.1725, 0.37995, 0.468, 0.477, 0.529, 0.312, 0.3261, 0.36, 0.438, 0.36, 0.585, 0.265, 0.375, 0.3265, 0.16, 0.4, 0.405, 0.399, 0.26, 0.325, 0.34495, 0.4575, 0.389, 0.515, 0.415, 0.535, 0.54, 0.525, 0.57, 0.56995, 0.2832, 0.495, 0.29205, 0.415, 0.295832, 0.45, 0.49995, 0.465, 0.329, 0.475, 0.255, 0.435, 0.345, 0.355, 0.282, 0.244, 0.375, 0.5275, 0.313, 0.587, 0.304, 0.305, 0.28, 0.5, 0.27495, 0.4556, 0.3129, 0.535, 0.427, 0.405, 0.48, 0.293, 0.268, 0.475, 0.488, 0.2639, 0.46, 0.39995, 0.37, 0.4508, 0.627, 0.495, 0.31, 0.55, 0.215, 0.63, 0.267, 0.365, 0.5445, 0.599, 0.254, 0.225, 0.537, 0.335, 0.224, 0.395, 0.45, 0.37, 0.429, 0.15, 0.555, 0.326, 0.225, 0.2451, 0.535, 0.305, 0.215, 0.4325, 0.655, 0.2662, 0.244615, 0.46, 0.37, 0.465, 0.189, 0.43875, 0.6, 0.589, 0.59, 0.4799, 0.21, 0.42, 0.565, 0.6, 0.38, 0.1685, 0.355, 0.277, 0.236, 0.27, 0.425, 0.635, 0.51025, 0.254, 0.299, 0.175, 0.1575, 0.58, 0.12474, 0.285, 0.242, 0.4748, 0.49, 0.465, 0.515, 0.43, 0.2534, 0.355, 0.18695, 0.306, 0.51, 0.345, 0.49995, 0.363, 0.325, 0.485, 0.452, 0.26495, 0.472, 0.2675, 0.565, 0.535, 0.389, 0.4, 0.264, 0.412, 0.2465, 0.23, 0.302, 0.145, 0.4365, 0.55, 0.2665, 0.619, 0.405, 0.3, 0.231, 0.4, 0.45, 0.595, 0.332, 0.155, 0.4, 0.349, 0.529, 0.405, 0.6352, 0.54, 0.402, 0.329932, 0.3, 0.525, 0.6025, 0.4, 0.445, 0.525, 0.395, 0.51, 0.503, 0.4753, 0.295, 0.25, 0.083, 0.21, 0.65088, 0.35, 0.305, 0.645, 0.385, 0.395, 0.26, 0.19644, 0.425, 0.369, 0.3499, 0.65, 0.29995, 0.625, 0.19, 0.49, 0.415, 0.425, 0.642, 0.655, 0.458, 0.33, 0.38495, 0.56, 0.465, 0.425, 0.315, 0.53, 0.399, 0.168, 0.374, 0.28, 0.322, 0.4599, 0.427, 0.642, 0.24, 0.6455, 0.475, 0.568, 0.325, 0.499431, 0.545, 0.538888, 0.28995, 0.587, 0.615, 0.459, 0.243, 0.25, 0.315, 0.404, 0.5599, 0.285, 0.5, 0.38, 0.469, 0.405, 0.4399, 0.525, 0.58, 0.275, 0.629, 0.395, 0.35, 0.25, 0.653, 0.43, 0.305, 0.44015, 0.615, 0.455, 0.635, 0.316, 0.4655, 0.305, 0.645, 0.366, 0.29, 0.4725, 0.55, 0.41, 0.44, 0.535, 0.3, 0.4325, 0.492, 0.19995, 0.4398, 0.32, 0.345, 0.27495, 0.27, 0.342, 0.327, 0.61, 0.455, 0.54, 0.411, 0.544, 0.5685, 0.391, 0.298, 0.4, 0.425, 0.3285, 0.65, 0.53, 0.495, 0.5, 0.325, 0.365, 0.471, 0.223, 0.503, 0.23, 0.55, 0.193, 0.59, 0.43, 0.4749, 0.435, 0.312, 0.44, 0.580135, 0.575, 0.613, 0.235, 0.28, 0.268, 0.235, 0.39, 0.65495, 0.4495, 0.15, 0.44, 0.42, 0.312, 0.32, 0.235, 0.437, 0.545, 0.64, 0.432, 0.548, 0.40995, 0.5621, 0.475, 0.425, 0.6, 0.239, 0.295, 0.56, 0.613, 0.206, 0.253, 0.43, 0.605, 0.425, 0.3759, 0.21, 0.234, 0.285, 0.4, 0.1745, 0.2224, 0.4025, 0.25, 0.6, 0.2725, 0.36399, 0.575, 0.4, 0.427874, 0.309, 0.32, 0.39, 0.299, 0.375, 0.2405, 0.32, 0.27, 0.3275, 0.34, 0.2, 0.275, 0.28, 0.485, 0.532, 0.36495, 0.2125, 0.135, 0.437, 0.39, 0.1195, 0.3275, 0.175, 0.28995, 0.4, 0.21995, 0.1617, 0.5, 0.465, 0.54, 0.525, 0.32495, 0.565, 0.6035, 0.4535, 0.583, 0.275, 0.335, 0.646, 0.3925, 0.47, 0.56, 0.519, 0.317, 0.371, 0.25, 0.532, 0.49995, 0.375, 0.64, 0.4, 0.572, 0.31, 0.4275, 0.365, 0.2505, 0.411715, 0.415, 0.129, 0.489, 0.17, 0.4185, 0.261, 0.355, 0.39995, 0.19, 0.2295, 0.539, 0.549, 0.545, 0.285, 0.648, 0.61, 0.5865, 0.52, 0.455, 0.653, 0.27995, 0.44995, 0.565, 0.62, 0.269, 0.63, 0.425, 0.6475, 0.45, 0.44, 0.445, 0.53, 0.2975, 0.495, 0.54, 0.395, 0.2141, 0.21, 0.4995, 0.546, 0.292, 0.289, 0.24, 0.395, 0.335, 0.492, 0.25, 0.545, 0.555, 0.64, 0.39, 0.4665, 0.3725, 0.255, 0.4668, 0.61, 0.356, 0.165, 0.229, 0.53, 0.49995, 0.619, 0.547, 0.3598, 0.499, 0.189, 0.257, 0.27, 0.4535, 0.237, 0.456, 0.3555, 0.29995, 0.335, 0.2685, 0.385, 0.376, 0.605004, 0.56, 0.343, 0.27, 0.411605, 0.55, 0.465, 0.584, 0.275, 0.3245, 0.3852, 0.27, 0.38925, 0.315, 0.545, 0.55, 0.415, 0.3875, 0.432, 0.402, 0.2947, 0.5, 0.65, 0.435, 0.51, 0.525, 0.2, 0.435, 0.455, 0.471, 0.2535, 0.185, 0.5355, 0.5895, 0.36, 0.595, 0.3, 0.57, 0.285, 0.435, 0.16, 0.45, 0.51, 0.539, 0.407193, 0.32, 0.452, 0.6, 0.279, 0.585, 0.405, 0.49, 0.611, 0.462, 0.54, 0.26, 0.51, 0.5675, 0.445, 0.455, 0.54, 0.53, 0.41, 0.45, 0.6099, 0.648, 0.55, 0.347, 0.28835, 0.525, 0.25025, 0.341, 0.39, 0.53995, 0.552, 0.25, 0.502, 0.48, 0.3785, 0.605, 0.30755, 0.3047, 0.568, 0.385, 0.345, 0.435, 0.579, 0.236, 0.3051, 0.368, 0.255, 0.4, 0.44, 0.417, 0.435, 0.475, 0.5635, 0.285, 0.471, 0.5, 0.64, 0.4425, 0.2134, 0.325, 0.425, 0.55, 0.59995, 0.29, 0.27, 0.22995, 0.234999, 0.265, 0.3673, 0.55, 0.35275, 0.40395, 0.585, 0.554, 0.546, 0.28, 0.2125, 0.428, 0.3649, 0.559, 0.213, 0.62, 0.24, 0.6, 0.41, 0.328, 0.625, 0.64995, 0.235, 0.489, 0.536, 0.4, 0.398, 0.379, 0.345, 0.365, 0.315, 0.571, 0.225, 0.315, 0.42, 0.31, 0.269, 0.36999, 0.569, 0.175, 0.44, 0.435, 0.345, 0.558, 0.475, 0.49, 0.335, 0.35, 0.1, 0.4175, 0.253, 0.49, 0.47, 0.4833, 0.48, 0.165, 0.2199, 0.315, 0.25, 0.268, 0.38, 0.499, 0.285, 0.183, 0.429, 0.403, 0.3755, 0.5162, 0.385, 0.515, 0.375, 0.65, 0.306888, 0.31, 0.25175, 0.366, 0.42995, 0.1495, 0.31, 0.555, 0.433, 0.307, 0.655275, 0.392, 0.35995, 0.36, 0.566, 0.415, 0.1995, 0.4, 0.608, 0.5899, 0.48, 0.49995, 0.533112, 0.30321, 0.525, 0.39995, 0.3715, 0.522, 0.588, 0.2769, 0.248, 0.28, 0.495, 0.2903, 0.527, 0.487028, 0.325, 0.354, 0.2625, 0.5602, 0.22, 0.65, 0.435, 0.2, 0.295, 0.580379, 0.515, 0.599, 0.285, 0.29, 0.355, 0.381, 0.571, 0.371, 0.514, 0.386, 0.464, 0.335, 0.465, 0.35, 0.148, 0.53, 0.349, 0.24, 0.33, 0.545, 0.21495, 0.6575, 0.476, 0.11, 0.292, 0.317, 0.455, 0.46, 0.405, 0.333, 0.427, 0.465, 0.6194, 0.535, 0.234, 0.3089, 0.45, 0.5475, 0.39995, 0.516, 0.25, 0.475, 0.415, 0.545, 0.32995, 0.61075, 0.578, 0.501, 0.46525, 0.315, 0.3425, 0.306, 0.58, 0.405, 0.51, 0.173, 0.21, 0.445, 0.585, 0.381, 0.235, 0.48, 0.575, 0.35, 0.259, 0.599, 0.21, 0.545, 0.299995, 0.44, 0.445, 0.39799, 0.363, 0.62, 0.333, 0.448, 0.485, 0.48995, 0.4985, 0.531, 0.31, 0.495, 0.495, 0.44, 0.28, 0.248, 0.294, 0.561, 0.6565, 0.37, 0.34995, 0.223, 0.56, 0.594, 0.6, 0.315, 0.43, 0.44, 0.3125, 0.3, 0.33675, 0.589, 0.21, 0.206135, 0.285, 0.23, 0.35, 0.304, 0.37, 0.44, 0.235, 0.49995, 0.6225, 0.3, 0.205, 0.435, 0.153, 0.454, 0.345, 0.585, 0.38, 0.2506, 0.37, 0.3695, 0.615, 0.305, 0.59, 0.485, 0.215, 0.43, 0.3249, 0.45995, 0.325, 0.513, 0.475, 0.419, 0.129, 0.58, 0.385, 0.265, 0.33, 0.589, 0.538, 0.5301, 0.299, 0.556, 0.171, 0.54, 0.25, 0.575, 0.3795, 0.385, 0.4155, 0.3975, 0.53, 0.496752, 0.33, 0.525, 0.26995, 0.65, 0.5205, 0.6525, 0.506, 0.416, 0.5, 0.46, 0.371025, 0.576, 0.3535, 0.183, 0.46, 0.265, 0.295, 0.418, 0.554, 0.5345, 0.53, 0.357186, 0.3, 0.304, 0.385, 0.415, 0.309212, 0.235, 0.47, 0.375, 0.41, 0.566, 0.332, 0.5, 0.445, 0.277, 0.545, 0.435, 0.638, 0.418, 0.499, 0.15, 0.427, 0.6325, 0.524, 0.47, 0.385, 0.575, 0.22, 0.46, 0.175, 0.465, 0.552, 0.565, 0.518, 0.373, 0.385, 0.245, 0.375, 0.45, 0.455, 0.65, 0.378, 0.22, 0.2855, 0.34, 0.375, 0.335, 0.385, 0.429, 0.52395, 0.284, 0.32, 0.4685, 0.4925, 0.542525, 0.435, 0.242, 0.325, 0.21, 0.1875, 0.56, 0.272, 0.235, 0.259, 0.473, 0.405, 0.475, 0.4995, 0.386, 0.458, 0.55, 0.6055, 0.421, 0.536, 0.2472, 0.25, 0.20495, 0.43, 0.25, 0.26, 0.547, 0.3799, 0.545, 0.342, 0.17, 0.616, 0.64, 0.332, 0.38, 0.415, 0.26, 0.605, 0.32, 0.22995, 0.255, 0.479, 0.472, 0.198, 0.44, 0.506, 0.3825, 0.2695, 0.56, 0.4795, 0.402, 0.549, 0.44995, 0.493, 0.1425, 0.25, 0.465, 0.465, 0.28, 0.4, 0.31, 0.435, 0.46595, 0.253, 0.33, 0.554, 0.35, 0.294999, 0.451, 0.345, 0.206, 0.58, 0.43, 0.535, 0.2868, 0.35, 0.345, 0.435, 0.461, 0.33, 0.3225, 0.475, 0.250275, 0.2745, 0.28495, 0.26495, 0.242, 0.555, 0.4035, 0.253779, 0.3844, 0.646, 0.415, 0.507, 0.5455, 0.45, 0.264, 0.65, 0.365, 0.343566, 0.375, 0.295, 0.325, 0.265, 0.562, 0.54, 0.27995, 0.54, 0.31, 0.19, 0.44, 0.23, 0.455, 0.175, 0.65, 0.1925, 0.23995, 0.175, 0.41, 0.57, 0.469, 0.559, 0.56845, 0.24, 0.57495, 0.18, 0.3, 0.63, 0.507, 0.2875, 0.424, 0.4, 0.62, 0.3, 0.615, 0.206, 0.5155, 0.554, 0.315, 0.299, 0.65, 0.465, 0.535, 0.564, 0.515, 0.58, 0.309, 0.536751, 0.415, 0.267, 0.485, 0.482, 0.535, 0.576, 0.37875, 0.2699, 0.21, 0.4299, 0.36, 0.405, 0.45, 0.58, 0.464, 0.2, 0.28, 0.34615, 0.1975, 0.35, 0.519, 0.5903, 0.41, 0.437, 0.221, 0.38, 0.506, 0.395, 0.285, 0.311, 0.52, 0.435, 0.12, 0.186, 0.248, 0.287, 0.51, 0.249, 0.34, 0.399888, 0.44, 0.5405, 0.385, 0.558, 0.6, 0.45, 0.2325, 0.436, 0.24, 0.48995, 0.35245, 0.335, 0.549, 0.61825, 0.505, 0.275, 0.499, 0.507, 0.61985, 0.5, 0.31, 0.646, 0.265, 0.475, 0.6, 0.47, 0.31995, 0.39, 0.585, 0.232603, 0.543, 0.6075, 0.33, 0.605, 0.441, 0.65, 0.395, 0.245, 0.378, 0.6, 0.6325, 0.21, 0.175, 0.455, 0.45, 0.48, 0.38, 0.35995, 0.203, 0.456, 0.547, 0.28, 0.64, 0.477, 0.455, 0.587206, 0.425, 0.5115, 0.218, 0.332, 0.291, 0.279, 0.412, 0.4, 0.2, 0.397, 0.371, 0.458, 0.4365, 0.32995, 0.282, 0.25, 0.4, 0.2, 0.355, 0.425, 0.39, 0.33, 0.4825, 0.525, 0.237, 0.205, 0.623, 0.565, 0.4, 0.405, 0.337, 0.355, 0.42, 0.448, 0.325, 0.4888, 0.489, 0.595, 0.3599, 0.625, 0.33999, 0.42, 0.654, 0.375, 0.6395, 0.418, 0.4429, 0.565, 0.545, 0.5, 0.4395, 0.374, 0.33, 0.365, 0.2909, 0.577, 0.28, 0.299995, 0.44, 0.2495, 0.235, 0.32, 0.35, 0.334, 0.235, 0.442, 0.264, 0.275, 0.43, 0.55, 0.6035, 0.23, 0.449, 0.42, 0.2, 0.286, 0.579, 0.3451, 0.35, 0.2915, 0.64995, 0.4585, 0.5, 0.3623, 0.324, 0.495, 0.2335, 0.479, 0.3222, 0.347, 0.345, 0.34595, 0.55, 0.39995, 0.2695, 0.494, 0.453, 0.4425, 0.235, 0.3898, 0.346, 0.36, 0.65, 0.29, 0.234, 0.26, 0.3499, 0.275, 0.375, 0.47, 0.49, 0.615, 0.249, 0.3965, 0.405, 0.56, 0.45995, 0.265, 0.502, 0.43, 0.525, 0.415, 0.6, 0.225, 0.3, 0.491234, 0.19995, 0.45, 0.649, 0.4, 0.471001, 0.385, 0.326, 0.335, 0.32, 0.3, 0.26995, 0.59, 0.23995, 0.215, 0.165, 0.26135, 0.569, 0.425, 0.337, 0.56, 0.4495, 0.4035, 0.405, 0.385, 0.285, 0.2499, 0.633634, 0.3299, 0.31, 0.345, 0.160797, 0.5625, 0.515, 0.497, 0.312891, 0.3625, 0.402101, 0.438, 0.16, 0.415, 0.405, 0.585, 0.64, 0.52, 0.3675, 0.3, 0.625, 0.53, 0.379, 0.615, 0.38, 0.3149, 0.32495, 0.225, 0.535, 0.3485, 0.549, 0.4, 0.62, 0.34995, 0.339, 0.615, 0.6, 0.455, 0.485, 0.358, 0.339, 0.258, 0.455, 0.437, 0.319, 0.51, 0.44, 0.304, 0.139, 0.4645, 0.3365, 0.23, 0.425, 0.3, 0.4575, 0.366, 0.502, 0.194, 0.305, 0.575, 0.3435, 0.325, 0.6, 0.42, 0.2575, 0.317, 0.252, 0.289, 0.355, 0.3965, 0.3625, 0.395, 0.599, 0.218, 0.58995, 0.218, 0.36, 0.35, 0.35, 0.32995, 0.425, 0.21, 0.6315, 0.295, 0.575, 0.415, 0.639888, 0.329445, 0.395, 0.4, 0.3655, 0.245, 0.39, 0.1965, 0.2769, 0.505, 0.352, 0.597326, 0.27, 0.235, 0.4099, 0.608, 0.3815, 0.5621, 0.308, 0.356, 0.4188, 0.276, 0.285, 0.205, 0.583, 0.657, 0.386, 0.58995, 0.575, 0.574, 0.565, 0.5, 0.33, 0.286, 0.45, 0.275, 0.645, 0.152, 0.315, 0.19, 0.233, 0.249, 0.31, 0.26595, 0.2, 0.402, 0.305, 0.505, 0.482, 0.29995, 0.2457, 0.283, 0.65, 0.53, 0.44, 0.59999, 0.544, 0.27, 0.435, 0.349, 0.32, 0.594, 0.5315, 0.3745, 0.45, 0.3465, 0.28, 0.5575, 0.26, 0.64, 0.28, 0.205, 0.625, 0.15, 0.25595, 0.2465, 0.45, 0.595888, 0.454, 0.2999, 0.2, 0.3465, 0.585, 0.383, 0.519, 0.41, 0.578, 0.395, 0.364, 0.24, 0.328423, 0.594, 0.425, 0.30962, 0.26, 0.5635, 0.5185, 0.5635, 0.35, 0.225, 0.235867, 0.399, 0.1775, 0.224, 0.302, 0.46, 0.415, 0.2546, 0.35725, 0.44, 0.32, 0.31, 0.385, 0.3, 0.2255, 0.32, 0.25275, 0.254, 0.62, 0.435, 0.46, 0.268, 0.446, 0.285, 0.53, 0.402, 0.358, 0.35495, 0.405, 0.568, 0.575, 0.315, 0.280927, 0.44, 0.27, 0.289659, 0.555, 0.45, 0.495, 0.58, 0.56, 0.45, 0.354, 0.2799, 0.339, 0.638, 0.47558, 0.2438, 0.6, 0.62, 0.626, 0.23, 0.537, 0.21, 0.2005, 0.2535, 0.15, 0.44, 0.44, 0.2195, 0.22, 0.27, 0.365, 0.451, 0.202, 0.471, 0.235, 0.2165, 0.359, 0.2525, 0.37, 0.42, 0.330675, 0.24, 0.334888, 0.414, 0.525, 0.4299, 0.39, 0.224, 0.2575, 0.327, 0.425, 0.14, 0.2155, 0.4649, 0.417, 0.453, 0.2595, 0.46, 0.5615, 0.641, 0.33, 0.447, 0.32, 0.2127, 0.26, 0.41, 0.355, 0.2755, 0.415, 0.279, 0.35, 0.355, 0.235, 0.20995, 0.23, 0.43, 0.221, 0.255, 0.355, 0.3, 0.5, 0.191, 0.315, 0.415, 0.394, 0.49, 0.52346, 0.55, 0.342, 0.56, 0.39995, 0.48, 0.41, 0.53, 0.528, 0.4699, 0.397, 0.195, 0.285, 0.295, 0.602, 0.235, 0.465, 0.234, 0.5042, 0.5895, 0.415, 0.427, 0.459, 0.483453, 0.24695, 0.235, 0.28879, 0.2298, 0.5165, 0.234, 0.23, 0.3, 0.47, 0.3399, 0.65, 0.585, 0.598, 0.475, 0.3145, 0.397, 0.345, 0.325, 0.265, 0.402, 0.25, 0.3, 0.419, 0.41, 0.461, 0.385, 0.49195, 0.56, 0.37, 0.2634, 0.1, 0.28995, 0.263, 0.3975, 0.245, 0.535, 0.449, 0.49, 0.4458, 0.345, 0.3275, 0.4365, 0.55, 0.441, 0.4065, 0.243, 0.3595, 0.408, 0.48, 0.308, 0.17, 0.4915, 0.515, 0.55, 0.255, 0.635, 0.265, 0.34981, 0.235, 0.33, 0.5, 0.57, 0.544, 0.439, 0.53, 0.4275, 0.337, 0.435, 0.49265, 0.383962, 0.457, 0.345, 0.3145, 0.53, 0.65, 0.3495, 0.16505, 0.58, 0.33, 0.5, 0.445, 0.2749, 0.21995, 0.4595, 0.32895, 0.307, 0.3825, 0.478, 0.26, 0.616, 0.54, 0.3, 0.5075, 0.241, 0.485, 0.548, 0.345, 0.28, 0.45, 0.515, 0.6, 0.37, 0.51, 0.425, 0.337, 0.563, 0.245, 0.59, 0.4025, 0.435, 0.3, 0.6, 0.205, 0.3575, 0.332888, 0.174, 0.515, 0.392, 0.485, 0.2175, 0.502, 0.1025, 0.54, 0.6, 0.406, 0.62, 0.401, 0.276, 0.5, 0.375, 0.26, 0.431, 0.321, 0.433, 0.482, 0.505, 0.452, 0.581, 0.476, 0.535, 0.6298, 0.417838, 0.399895, 0.3, 0.64, 0.46, 0.525, 0.49999, 0.512031, 0.31, 0.255, 0.435, 0.453, 0.26, 0.223, 0.605, 0.519, 0.535, 0.489, 0.25, 0.58, 0.605, 0.59995, 0.48, 0.32995, 0.25, 0.345, 0.175, 0.185, 0.411, 0.265, 0.256, 0.255, 0.54, 0.481015, 0.575, 0.33995, 0.475, 0.389, 0.645, 0.475, 0.55, 0.305, 0.545, 0.3945, 0.6, 0.3, 0.33, 0.48, 0.496, 0.625, 0.475, 0.27525, 0.253, 0.63, 0.262, 0.552, 0.355, 0.305, 0.484998, 0.3345, 0.475, 0.30978, 0.2745, 0.26505, 0.5675, 0.285, 0.445838, 0.3049, 0.29, 0.25, 0.342, 0.4, 0.3125, 0.267, 0.575, 0.24, 0.198, 0.565, 0.34, 0.588, 0.2805, 0.39, 0.509, 0.4906, 0.65, 0.52995, 0.265, 0.61, 0.554729, 0.395, 0.341, 0.2645, 0.395, 0.64, 0.43, 0.41, 0.22, 0.4055, 0.633, 0.29595, 0.605, 0.255, 0.474, 0.37, 0.288, 0.1, 0.6, 0.515, 0.345, 0.43999, 0.55495, 0.605, 0.609, 0.425, 0.3999, 0.519995, 0.625, 0.6, 0.4595, 0.499, 0.395, 0.3825, 0.40495, 0.53, 0.195, 0.19999, 0.5488, 0.588, 0.445, 0.3, 0.48, 0.3, 0.36, 0.527, 0.266, 0.33595, 0.215, 0.481, 0.32, 0.295, 0.295, 0.32, 0.4375, 0.443, 0.575, 0.245, 0.45, 0.536, 0.373, 0.45, 0.645, 0.23, 0.593, 0.558, 0.53825, 0.475, 0.20995, 0.41, 0.339, 0.6315, 0.57, 0.437, 0.5425, 0.2295, 0.1705, 0.3915, 0.296475, 0.328, 0.3, 0.5, 0.494815, 0.378, 0.505, 0.351999, 0.51, 0.374, 0.5099, 0.23, 0.5277, 0.438, 0.439, 0.315, 0.332, 0.6, 0.3785, 0.19, 0.645, 0.37, 0.479, 0.245, 0.542, 0.5575, 0.48, 0.33, 0.16, 0.2355, 0.3265, 0.3, 0.267, 0.2926, 0.362, 0.357562, 0.513, 0.336, 0.56, 0.41, 0.3715, 0.368, 0.65, 0.30895, 0.44, 0.63, 0.22895, 0.245, 0.41, 0.42755, 0.235, 0.21, 0.485, 0.41, 0.435, 0.3, 0.455, 0.21, 0.4584, 0.39, 0.148226, 0.613, 0.59235, 0.232, 0.25, 0.115, 0.585, 0.58, 0.165, 0.43, 0.383, 0.2015, 0.325, 0.375, 0.6, 0.34, 0.415, 0.255, 0.53, 0.468, 0.599, 0.3995, 0.325, 0.568, 0.517, 0.46995, 0.623, 0.205, 0.148, 0.405, 0.293, 0.55, 0.435, 0.355, 0.44999, 0.249, 0.38, 0.33349, 0.32, 0.39995, 0.55, 0.29, 0.2325, 0.565, 0.507, 0.463, 0.31, 0.284, 0.569, 0.275, 0.57, 0.15, 0.356, 0.61, 0.4988, 0.22655, 0.25, 0.295, 0.15495, 0.409124, 0.287, 0.525, 0.525, 0.275, 0.583, 0.23795, 0.41, 0.306, 0.215, 0.59495, 0.305, 0.425, 0.215, 0.48, 0.55, 0.137124, 0.6248, 0.63, 0.59, 0.59995, 0.29988, 0.4, 0.56, 0.229, 0.525, 0.635, 0.3355, 0.27, 0.45, 0.379, 0.468, 0.3215, 0.443, 0.34, 0.47, 0.545, 0.415, 0.599, 0.3, 0.359, 0.55, 0.395, 0.486, 0.187, 0.284, 0.38, 0.625, 0.252, 0.56, 0.395, 0.625, 0.58, 0.309, 0.412, 0.495, 0.215, 0.53, 0.595, 0.487, 0.435, 0.37495, 0.44, 0.36, 0.505, 0.545, 0.6, 0.61, 0.35, 0.41, 0.639, 0.439, 0.49995, 0.35, 0.279, 0.290256, 0.355, 0.263, 0.4265, 0.265, 0.6575, 0.43611, 0.5899, 0.62, 0.254, 0.375, 0.455, 0.445, 0.5685, 0.3525, 0.3425, 0.29995, 0.425, 0.561, 0.4555, 0.4, 0.4435, 0.37, 0.475, 0.58, 0.518, 0.525, 0.236, 0.2785, 0.205425, 0.248, 0.505, 0.6575, 0.202, 0.44, 0.375, 0.291, 0.23, 0.08435, 0.188, 0.0078, 0.23722785714299996, 0.11783333333299999, 0.439333333333, 0.28, 0.176225, 0.500324, 0.444845, 0.33, 0.292285714286, 0.16, 0.27433333333300003, 0.5375, 0.232333333333, 0.237333333333, 0.34675, 0.254, 0.23875, 0.268971875, 0.642, 0.571986111111, 0.55425, 0.1075, 0.3, 0.540833333333, 0.27475, 0.1486125, 0.326428571429, 0.135333333333, 0.5774375, 0.440825, 0.195, 0.2575, 0.1764, 0.193, 0.6462125, 0.268971875, 0.317061875, 0.0833, 0.26606666666699996, 0.342246428571, 0.24001533333299999, 0.0833, 0.31685, 0.259585571429, 0.32821190476199996, 0.425, 0.12716, 0.34175, 0.17865, 0.0875, 0.282508888889, 0.45038571428599994, 0.435, 0.5325, 0.4089, 0.156766666667, 0.4525, 0.308830769231, 0.484991666667, 0.287919782609, 0.247875, 0.3094875, 0.173666666667, 0.23748125, 0.326983333333, 0.54280475, 0.10833333333299999, 0.535, 0.596165428571, 0.2691875, 0.1486125, 0.34116666666699996, 0.1325, 0.557125, 0.228944444444, 0.592105714286, 0.535, 0.420642857143, 0.13225, 0.23722785714299996, 0.440825, 0.423050925926, 0.3153687, 0.417985714286, 0.25995, 0.237333333333, 0.42609, 0.45866388888900006, 0.135333333333, 0.387884615385, 0.4375, 0.641633333333, 0.2296295, 0.210614285714, 0.4355, 0.497333333333, 0.3, 0.163785714286, 0.35125, 0.645325, 0.17122479999999998, 0.54, 0.233166666667, 0.329333333333, 0.225279428571, 0.331366666667, 0.4608869230770001, 0.33794575, 0.24306923076900003, 0.592105714286, 0.22008333333299998, 0.28, 0.297857142857, 0.323833333333, 0.309, 0.2484, 0.2885, 0.37950916666699996, 0.18078571428600002, 0.5425, 0.36275, 0.234975, 0.3914, 0.198995, 0.2789, 0.17175833333299997, 0.3251875, 0.19036875, 0.375, 0.216, 0.3605, 0.405125, 0.2899875, 0.26427, 0.602761, 0.251555555556, 0.21475, 0.258125, 0.1675, 0.4715, 0.4646, 0.13225, 0.4331111111109999, 0.5425, 0.3681125, 0.558653846154, 0.168333333333, 0.268971875, 0.318, 0.550607142857, 0.584, 0.245, 0.287919782609, 0.45479, 0.282508888889, 0.4732, 0.4060625, 0.282766666667, 0.486445833333, 0.486895, 0.43027777777799997, 0.2296295, 0.182805, 0.380680555556, 0.39616666666699996, 0.25298, 0.289373307692, 0.210614285714, 0.308166666667, 0.5343333333329999, 0.416904166667, 0.2034, 0.2206]}],\n",
              "                        {\"height\": 600, \"margin\": {\"b\": 0, \"l\": 0, \"r\": 0, \"t\": 0}, \"template\": {\"data\": {\"bar\": [{\"error_x\": {\"color\": \"#2a3f5f\"}, \"error_y\": {\"color\": \"#2a3f5f\"}, \"marker\": {\"line\": {\"color\": \"#E5ECF6\", \"width\": 0.5}}, \"type\": \"bar\"}], \"barpolar\": [{\"marker\": {\"line\": {\"color\": \"#E5ECF6\", \"width\": 0.5}}, \"type\": \"barpolar\"}], \"carpet\": [{\"aaxis\": {\"endlinecolor\": \"#2a3f5f\", \"gridcolor\": \"white\", \"linecolor\": \"white\", \"minorgridcolor\": \"white\", \"startlinecolor\": \"#2a3f5f\"}, \"baxis\": {\"endlinecolor\": \"#2a3f5f\", \"gridcolor\": \"white\", \"linecolor\": \"white\", \"minorgridcolor\": \"white\", \"startlinecolor\": \"#2a3f5f\"}, \"type\": \"carpet\"}], \"choropleth\": [{\"colorbar\": {\"outlinewidth\": 0, \"ticks\": \"\"}, \"type\": \"choropleth\"}], \"contour\": [{\"colorbar\": {\"outlinewidth\": 0, \"ticks\": \"\"}, \"colorscale\": [[0.0, \"#0d0887\"], [0.1111111111111111, \"#46039f\"], [0.2222222222222222, \"#7201a8\"], [0.3333333333333333, \"#9c179e\"], [0.4444444444444444, \"#bd3786\"], [0.5555555555555556, \"#d8576b\"], [0.6666666666666666, \"#ed7953\"], [0.7777777777777778, \"#fb9f3a\"], [0.8888888888888888, \"#fdca26\"], [1.0, \"#f0f921\"]], \"type\": \"contour\"}], \"contourcarpet\": [{\"colorbar\": {\"outlinewidth\": 0, \"ticks\": \"\"}, \"type\": \"contourcarpet\"}], \"heatmap\": [{\"colorbar\": {\"outlinewidth\": 0, \"ticks\": \"\"}, \"colorscale\": [[0.0, \"#0d0887\"], [0.1111111111111111, \"#46039f\"], [0.2222222222222222, \"#7201a8\"], [0.3333333333333333, \"#9c179e\"], [0.4444444444444444, \"#bd3786\"], [0.5555555555555556, \"#d8576b\"], [0.6666666666666666, \"#ed7953\"], [0.7777777777777778, \"#fb9f3a\"], [0.8888888888888888, \"#fdca26\"], [1.0, \"#f0f921\"]], \"type\": \"heatmap\"}], \"heatmapgl\": [{\"colorbar\": {\"outlinewidth\": 0, \"ticks\": \"\"}, \"colorscale\": [[0.0, \"#0d0887\"], [0.1111111111111111, \"#46039f\"], [0.2222222222222222, \"#7201a8\"], [0.3333333333333333, \"#9c179e\"], [0.4444444444444444, \"#bd3786\"], [0.5555555555555556, \"#d8576b\"], [0.6666666666666666, \"#ed7953\"], [0.7777777777777778, \"#fb9f3a\"], [0.8888888888888888, \"#fdca26\"], [1.0, \"#f0f921\"]], \"type\": \"heatmapgl\"}], \"histogram\": [{\"marker\": {\"colorbar\": {\"outlinewidth\": 0, \"ticks\": \"\"}}, \"type\": \"histogram\"}], \"histogram2d\": [{\"colorbar\": {\"outlinewidth\": 0, \"ticks\": \"\"}, \"colorscale\": [[0.0, \"#0d0887\"], [0.1111111111111111, \"#46039f\"], [0.2222222222222222, \"#7201a8\"], [0.3333333333333333, \"#9c179e\"], [0.4444444444444444, \"#bd3786\"], [0.5555555555555556, \"#d8576b\"], [0.6666666666666666, \"#ed7953\"], [0.7777777777777778, \"#fb9f3a\"], [0.8888888888888888, \"#fdca26\"], [1.0, \"#f0f921\"]], \"type\": \"histogram2d\"}], \"histogram2dcontour\": [{\"colorbar\": {\"outlinewidth\": 0, \"ticks\": \"\"}, \"colorscale\": [[0.0, \"#0d0887\"], [0.1111111111111111, \"#46039f\"], [0.2222222222222222, \"#7201a8\"], [0.3333333333333333, \"#9c179e\"], [0.4444444444444444, \"#bd3786\"], [0.5555555555555556, \"#d8576b\"], [0.6666666666666666, \"#ed7953\"], [0.7777777777777778, \"#fb9f3a\"], [0.8888888888888888, \"#fdca26\"], [1.0, \"#f0f921\"]], \"type\": \"histogram2dcontour\"}], \"mesh3d\": [{\"colorbar\": {\"outlinewidth\": 0, \"ticks\": \"\"}, \"type\": \"mesh3d\"}], \"parcoords\": [{\"line\": {\"colorbar\": {\"outlinewidth\": 0, \"ticks\": \"\"}}, \"type\": \"parcoords\"}], \"pie\": [{\"automargin\": true, \"type\": \"pie\"}], \"scatter\": [{\"marker\": {\"colorbar\": {\"outlinewidth\": 0, \"ticks\": \"\"}}, \"type\": \"scatter\"}], \"scatter3d\": [{\"line\": {\"colorbar\": {\"outlinewidth\": 0, \"ticks\": \"\"}}, \"marker\": {\"colorbar\": {\"outlinewidth\": 0, \"ticks\": \"\"}}, \"type\": \"scatter3d\"}], \"scattercarpet\": [{\"marker\": {\"colorbar\": {\"outlinewidth\": 0, \"ticks\": \"\"}}, \"type\": \"scattercarpet\"}], \"scattergeo\": [{\"marker\": {\"colorbar\": {\"outlinewidth\": 0, \"ticks\": \"\"}}, \"type\": \"scattergeo\"}], \"scattergl\": [{\"marker\": {\"colorbar\": {\"outlinewidth\": 0, \"ticks\": \"\"}}, \"type\": \"scattergl\"}], \"scattermapbox\": [{\"marker\": {\"colorbar\": {\"outlinewidth\": 0, \"ticks\": \"\"}}, \"type\": \"scattermapbox\"}], \"scatterpolar\": [{\"marker\": {\"colorbar\": {\"outlinewidth\": 0, \"ticks\": \"\"}}, \"type\": \"scatterpolar\"}], \"scatterpolargl\": [{\"marker\": {\"colorbar\": {\"outlinewidth\": 0, \"ticks\": \"\"}}, \"type\": \"scatterpolargl\"}], \"scatterternary\": [{\"marker\": {\"colorbar\": {\"outlinewidth\": 0, \"ticks\": \"\"}}, \"type\": \"scatterternary\"}], \"surface\": [{\"colorbar\": {\"outlinewidth\": 0, \"ticks\": \"\"}, \"colorscale\": [[0.0, \"#0d0887\"], [0.1111111111111111, \"#46039f\"], [0.2222222222222222, \"#7201a8\"], [0.3333333333333333, \"#9c179e\"], [0.4444444444444444, \"#bd3786\"], [0.5555555555555556, \"#d8576b\"], [0.6666666666666666, \"#ed7953\"], [0.7777777777777778, \"#fb9f3a\"], [0.8888888888888888, \"#fdca26\"], [1.0, \"#f0f921\"]], \"type\": \"surface\"}], \"table\": [{\"cells\": {\"fill\": {\"color\": \"#EBF0F8\"}, \"line\": {\"color\": \"white\"}}, \"header\": {\"fill\": {\"color\": \"#C8D4E3\"}, \"line\": {\"color\": \"white\"}}, \"type\": \"table\"}]}, \"layout\": {\"annotationdefaults\": {\"arrowcolor\": \"#2a3f5f\", \"arrowhead\": 0, \"arrowwidth\": 1}, \"coloraxis\": {\"colorbar\": {\"outlinewidth\": 0, \"ticks\": \"\"}}, \"colorscale\": {\"diverging\": [[0, \"#8e0152\"], [0.1, \"#c51b7d\"], [0.2, \"#de77ae\"], [0.3, \"#f1b6da\"], [0.4, \"#fde0ef\"], [0.5, \"#f7f7f7\"], [0.6, \"#e6f5d0\"], [0.7, \"#b8e186\"], [0.8, \"#7fbc41\"], [0.9, \"#4d9221\"], [1, \"#276419\"]], \"sequential\": [[0.0, \"#0d0887\"], [0.1111111111111111, \"#46039f\"], [0.2222222222222222, \"#7201a8\"], [0.3333333333333333, \"#9c179e\"], [0.4444444444444444, \"#bd3786\"], [0.5555555555555556, \"#d8576b\"], [0.6666666666666666, \"#ed7953\"], [0.7777777777777778, \"#fb9f3a\"], [0.8888888888888888, \"#fdca26\"], [1.0, \"#f0f921\"]], \"sequentialminus\": [[0.0, \"#0d0887\"], [0.1111111111111111, \"#46039f\"], [0.2222222222222222, \"#7201a8\"], [0.3333333333333333, \"#9c179e\"], [0.4444444444444444, \"#bd3786\"], [0.5555555555555556, \"#d8576b\"], [0.6666666666666666, \"#ed7953\"], [0.7777777777777778, \"#fb9f3a\"], [0.8888888888888888, \"#fdca26\"], [1.0, \"#f0f921\"]]}, \"colorway\": [\"#636efa\", \"#EF553B\", \"#00cc96\", \"#ab63fa\", \"#FFA15A\", \"#19d3f3\", \"#FF6692\", \"#B6E880\", \"#FF97FF\", \"#FECB52\"], \"font\": {\"color\": \"#2a3f5f\"}, \"geo\": {\"bgcolor\": \"white\", \"lakecolor\": \"white\", \"landcolor\": \"#E5ECF6\", \"showlakes\": true, \"showland\": true, \"subunitcolor\": \"white\"}, \"hoverlabel\": {\"align\": \"left\"}, \"hovermode\": \"closest\", \"mapbox\": {\"style\": \"light\"}, \"paper_bgcolor\": \"white\", \"plot_bgcolor\": \"#E5ECF6\", \"polar\": {\"angularaxis\": {\"gridcolor\": \"white\", \"linecolor\": \"white\", \"ticks\": \"\"}, \"bgcolor\": \"#E5ECF6\", \"radialaxis\": {\"gridcolor\": \"white\", \"linecolor\": \"white\", \"ticks\": \"\"}}, \"scene\": {\"xaxis\": {\"backgroundcolor\": \"#E5ECF6\", \"gridcolor\": \"white\", \"gridwidth\": 2, \"linecolor\": \"white\", \"showbackground\": true, \"ticks\": \"\", \"zerolinecolor\": \"white\"}, \"yaxis\": {\"backgroundcolor\": \"#E5ECF6\", \"gridcolor\": \"white\", \"gridwidth\": 2, \"linecolor\": \"white\", \"showbackground\": true, \"ticks\": \"\", \"zerolinecolor\": \"white\"}, \"zaxis\": {\"backgroundcolor\": \"#E5ECF6\", \"gridcolor\": \"white\", \"gridwidth\": 2, \"linecolor\": \"white\", \"showbackground\": true, \"ticks\": \"\", \"zerolinecolor\": \"white\"}}, \"shapedefaults\": {\"line\": {\"color\": \"#2a3f5f\"}}, \"ternary\": {\"aaxis\": {\"gridcolor\": \"white\", \"linecolor\": \"white\", \"ticks\": \"\"}, \"baxis\": {\"gridcolor\": \"white\", \"linecolor\": \"white\", \"ticks\": \"\"}, \"bgcolor\": \"#E5ECF6\", \"caxis\": {\"gridcolor\": \"white\", \"linecolor\": \"white\", \"ticks\": \"\"}}, \"title\": {\"x\": 0.05}, \"xaxis\": {\"automargin\": true, \"gridcolor\": \"white\", \"linecolor\": \"white\", \"ticks\": \"\", \"title\": {\"standoff\": 15}, \"zerolinecolor\": \"white\", \"zerolinewidth\": 2}, \"yaxis\": {\"automargin\": true, \"gridcolor\": \"white\", \"linecolor\": \"white\", \"ticks\": \"\", \"title\": {\"standoff\": 15}, \"zerolinecolor\": \"white\", \"zerolinewidth\": 2}}}},\n",
              "                        {\"responsive\": true}\n",
              "                    ).then(function(){\n",
              "                            \n",
              "var gd = document.getElementById('788e8726-e4d9-4847-9911-29ff135395e7');\n",
              "var x = new MutationObserver(function (mutations, observer) {{\n",
              "        var display = window.getComputedStyle(gd).display;\n",
              "        if (!display || display === 'none') {{\n",
              "            console.log([gd, 'removed!']);\n",
              "            Plotly.purge(gd);\n",
              "            observer.disconnect();\n",
              "        }}\n",
              "}});\n",
              "\n",
              "// Listen for the removal of the full notebook cells\n",
              "var notebookContainer = gd.closest('#notebook-container');\n",
              "if (notebookContainer) {{\n",
              "    x.observe(notebookContainer, {childList: true});\n",
              "}}\n",
              "\n",
              "// Listen for the clearing of the current output cell\n",
              "var outputEl = gd.closest('.output');\n",
              "if (outputEl) {{\n",
              "    x.observe(outputEl, {childList: true});\n",
              "}}\n",
              "\n",
              "                        })\n",
              "                };\n",
              "                \n",
              "            </script>\n",
              "        </div>\n",
              "</body>\n",
              "</html>"
            ]
          },
          "metadata": {
            "tags": []
          }
        }
      ]
    },
    {
      "cell_type": "markdown",
      "metadata": {
        "id": "_aQrmDLqQQYj"
      },
      "source": [
        "## Using SKLearn\n",
        "\n",
        "Scikit Learn, or as the cool kids call it sklearn (pronounced s-k-learn), is an large package of useful machine learning algorithms. We will use the `LinearRegression` model in the [`linear_model`](https://scikit-learn.org/stable/modules/classes.html#module-sklearn.linear_model) module.  The fact that there is an entire module with many different models within the `linear_model` module might suggest that we have a lot to cover still (we do!).  \n",
        "\n",
        "**What you should know about `sklearn` models:**\n",
        "\n",
        "1. Models are created by first building an instance of the model:\n",
        "```python\n",
        "model = ModelType(args)\n",
        "```\n",
        "1. You then fit the model by calling the **fit** function passing in data:\n",
        "```python\n",
        "model.fit(df[['x1' 'x2']], df[['y']])\n",
        "```\n",
        "1. You then can make predictions by calling **predict**:\n",
        "```python\n",
        "model.predict(df2[['x1' 'x2']])\n",
        "```\n",
        "\n",
        "The neat part about sklearn is most models behave like this.  So if you want to try a cool new model you just change the class of mode you are using. \n"
      ]
    },
    {
      "cell_type": "markdown",
      "metadata": {
        "id": "jPvvotHoQT0h"
      },
      "source": [
        "We import the `LinearRegression` model"
      ]
    },
    {
      "cell_type": "code",
      "metadata": {
        "id": "ckasqc6DQRMf"
      },
      "source": [
        "from sklearn.linear_model import LinearRegression"
      ],
      "execution_count": null,
      "outputs": []
    },
    {
      "cell_type": "markdown",
      "metadata": {
        "id": "G3uicjbYQYEz"
      },
      "source": [
        "####TODO\n",
        "Create an instance of the model:"
      ]
    },
    {
      "cell_type": "code",
      "metadata": {
        "id": "OKsGK1_vQZ2W"
      },
      "source": [
        "# START\n",
        "model = LinearRegression(fit_intercept=True)\n",
        "# END"
      ],
      "execution_count": null,
      "outputs": []
    },
    {
      "cell_type": "markdown",
      "metadata": {
        "id": "gDwrOft7QcHm"
      },
      "source": [
        "####TODO\n",
        "Fit the model by passing it the $X$ and $Y$ data:"
      ]
    },
    {
      "cell_type": "code",
      "metadata": {
        "colab": {
          "base_uri": "https://localhost:8080/"
        },
        "id": "FFZETlYZQd8x",
        "outputId": "62413328-870b-4314-a22b-320ae0207aa1"
      },
      "source": [
        "# START\n",
        "model.fit(sample_data[[\"x1\", \"x2\"]], sample_data[[\"y\"]])\n",
        "# END"
      ],
      "execution_count": null,
      "outputs": [
        {
          "output_type": "execute_result",
          "data": {
            "text/plain": [
              "LinearRegression(copy_X=True, fit_intercept=True, n_jobs=None, normalize=False)"
            ]
          },
          "metadata": {
            "tags": []
          },
          "execution_count": 17
        }
      ]
    },
    {
      "cell_type": "markdown",
      "metadata": {
        "id": "LgnsUcp8Qf3W"
      },
      "source": [
        "####TODO\n",
        "Make some predictions and even save them back to the original DataFrame"
      ]
    },
    {
      "cell_type": "code",
      "metadata": {
        "colab": {
          "base_uri": "https://localhost:8080/",
          "height": 419
        },
        "id": "KFw-NgpwQhym",
        "outputId": "ccf33ce7-833d-4464-b3df-7eb857d5887d"
      },
      "source": [
        "# START\n",
        "sample_data['y_hat'] = model.predict(sample_data[[\"x1\", \"x2\"]])\n",
        "sample_data\n",
        "# END"
      ],
      "execution_count": null,
      "outputs": [
        {
          "output_type": "execute_result",
          "data": {
            "text/html": [
              "<div>\n",
              "<style scoped>\n",
              "    .dataframe tbody tr th:only-of-type {\n",
              "        vertical-align: middle;\n",
              "    }\n",
              "\n",
              "    .dataframe tbody tr th {\n",
              "        vertical-align: top;\n",
              "    }\n",
              "\n",
              "    .dataframe thead th {\n",
              "        text-align: right;\n",
              "    }\n",
              "</style>\n",
              "<table border=\"1\" class=\"dataframe\">\n",
              "  <thead>\n",
              "    <tr style=\"text-align: right;\">\n",
              "      <th></th>\n",
              "      <th>x1</th>\n",
              "      <th>x2</th>\n",
              "      <th>y</th>\n",
              "      <th>y_hat</th>\n",
              "    </tr>\n",
              "  </thead>\n",
              "  <tbody>\n",
              "    <tr>\n",
              "      <th>0</th>\n",
              "      <td>3.0</td>\n",
              "      <td>1.50</td>\n",
              "      <td>0.313000</td>\n",
              "      <td>0.365453</td>\n",
              "    </tr>\n",
              "    <tr>\n",
              "      <th>2</th>\n",
              "      <td>3.0</td>\n",
              "      <td>2.00</td>\n",
              "      <td>0.342000</td>\n",
              "      <td>0.400710</td>\n",
              "    </tr>\n",
              "    <tr>\n",
              "      <th>3</th>\n",
              "      <td>3.0</td>\n",
              "      <td>2.25</td>\n",
              "      <td>0.420000</td>\n",
              "      <td>0.418338</td>\n",
              "    </tr>\n",
              "    <tr>\n",
              "      <th>4</th>\n",
              "      <td>4.0</td>\n",
              "      <td>2.50</td>\n",
              "      <td>0.550000</td>\n",
              "      <td>0.441766</td>\n",
              "    </tr>\n",
              "    <tr>\n",
              "      <th>5</th>\n",
              "      <td>2.0</td>\n",
              "      <td>1.00</td>\n",
              "      <td>0.490000</td>\n",
              "      <td>0.324397</td>\n",
              "    </tr>\n",
              "    <tr>\n",
              "      <th>...</th>\n",
              "      <td>...</td>\n",
              "      <td>...</td>\n",
              "      <td>...</td>\n",
              "      <td>...</td>\n",
              "    </tr>\n",
              "    <tr>\n",
              "      <th>4595</th>\n",
              "      <td>3.0</td>\n",
              "      <td>1.75</td>\n",
              "      <td>0.308167</td>\n",
              "      <td>0.383081</td>\n",
              "    </tr>\n",
              "    <tr>\n",
              "      <th>4596</th>\n",
              "      <td>3.0</td>\n",
              "      <td>2.50</td>\n",
              "      <td>0.534333</td>\n",
              "      <td>0.435966</td>\n",
              "    </tr>\n",
              "    <tr>\n",
              "      <th>4597</th>\n",
              "      <td>3.0</td>\n",
              "      <td>2.50</td>\n",
              "      <td>0.416904</td>\n",
              "      <td>0.435966</td>\n",
              "    </tr>\n",
              "    <tr>\n",
              "      <th>4598</th>\n",
              "      <td>4.0</td>\n",
              "      <td>2.00</td>\n",
              "      <td>0.203400</td>\n",
              "      <td>0.406510</td>\n",
              "    </tr>\n",
              "    <tr>\n",
              "      <th>4599</th>\n",
              "      <td>3.0</td>\n",
              "      <td>2.50</td>\n",
              "      <td>0.220600</td>\n",
              "      <td>0.435966</td>\n",
              "    </tr>\n",
              "  </tbody>\n",
              "</table>\n",
              "<p>3414 rows × 4 columns</p>\n",
              "</div>"
            ],
            "text/plain": [
              "       x1    x2         y     y_hat\n",
              "0     3.0  1.50  0.313000  0.365453\n",
              "2     3.0  2.00  0.342000  0.400710\n",
              "3     3.0  2.25  0.420000  0.418338\n",
              "4     4.0  2.50  0.550000  0.441766\n",
              "5     2.0  1.00  0.490000  0.324397\n",
              "...   ...   ...       ...       ...\n",
              "4595  3.0  1.75  0.308167  0.383081\n",
              "4596  3.0  2.50  0.534333  0.435966\n",
              "4597  3.0  2.50  0.416904  0.435966\n",
              "4598  4.0  2.00  0.203400  0.406510\n",
              "4599  3.0  2.50  0.220600  0.435966\n",
              "\n",
              "[3414 rows x 4 columns]"
            ]
          },
          "metadata": {
            "tags": []
          },
          "execution_count": 18
        }
      ]
    },
    {
      "cell_type": "markdown",
      "metadata": {
        "id": "fS4Ph9OuQj-f"
      },
      "source": [
        "This function could make a plane on the 3D plot!"
      ]
    },
    {
      "cell_type": "code",
      "metadata": {
        "id": "-P8vEjBjQmCC"
      },
      "source": [
        "def plot_plane(f, X, grid_points = 30):\n",
        "    u = np.linspace(X[:,0].min(),X[:,0].max(), grid_points)\n",
        "    v = np.linspace(X[:,1].min(),X[:,1].max(), grid_points)\n",
        "    xu, xv = np.meshgrid(u,v)\n",
        "    X = np.vstack((xu.flatten(),xv.flatten())).transpose()\n",
        "    z = f(X)\n",
        "    return go.Surface(x=xu, y=xv, z=z.reshape(xu.shape),opacity=0.8)"
      ],
      "execution_count": null,
      "outputs": []
    },
    {
      "cell_type": "markdown",
      "metadata": {
        "id": "5cBzdl_eQmwO"
      },
      "source": [
        "####TODO\n",
        "Plot the data and plane (hint: use the funtion we provided above):"
      ]
    },
    {
      "cell_type": "code",
      "metadata": {
        "colab": {
          "base_uri": "https://localhost:8080/",
          "height": 617
        },
        "id": "F4_zJArFQq_u",
        "outputId": "a3805dd3-3f2e-4c8f-d7ac-622438ae00e3"
      },
      "source": [
        "# START\n",
        "fig = go.Figure()\n",
        "fig.add_trace(data_scatter)\n",
        "fig.add_trace(plot_plane(model.predict, x))\n",
        "fig.update_layout(margin=dict(l=0, r=0, t=0, b=0), \n",
        "                  height=600)\n",
        "fig.show()\n",
        "# END"
      ],
      "execution_count": null,
      "outputs": [
        {
          "output_type": "display_data",
          "data": {
            "text/html": [
              "<html>\n",
              "<head><meta charset=\"utf-8\" /></head>\n",
              "<body>\n",
              "    <div>\n",
              "            <script src=\"https://cdnjs.cloudflare.com/ajax/libs/mathjax/2.7.5/MathJax.js?config=TeX-AMS-MML_SVG\"></script><script type=\"text/javascript\">if (window.MathJax) {MathJax.Hub.Config({SVG: {font: \"STIX-Web\"}});}</script>\n",
              "                <script type=\"text/javascript\">window.PlotlyConfig = {MathJaxConfig: 'local'};</script>\n",
              "        <script src=\"https://cdn.plot.ly/plotly-latest.min.js\"></script>    \n",
              "            <div id=\"e34f6f03-aab0-419c-b87e-0f90ea0d8936\" class=\"plotly-graph-div\" style=\"height:600px; width:100%;\"></div>\n",
              "            <script type=\"text/javascript\">\n",
              "                \n",
              "                    window.PLOTLYENV=window.PLOTLYENV || {};\n",
              "                    \n",
              "                if (document.getElementById(\"e34f6f03-aab0-419c-b87e-0f90ea0d8936\")) {\n",
              "                    Plotly.newPlot(\n",
              "                        'e34f6f03-aab0-419c-b87e-0f90ea0d8936',\n",
              "                        [{\"marker\": {\"size\": 2}, \"mode\": \"markers\", \"type\": \"scatter3d\", \"x\": [3.0, 3.0, 3.0, 4.0, 2.0, 2.0, 4.0, 3.0, 4.0, 3.0, 3.0, 3.0, 3.0, 3.0, 4.0, 3.0, 3.0, 4.0, 3.0, 4.0, 4.0, 3.0, 3.0, 4.0, 4.0, 4.0, 4.0, 4.0, 3.0, 2.0, 3.0, 3.0, 3.0, 4.0, 2.0, 3.0, 2.0, 3.0, 3.0, 3.0, 3.0, 4.0, 3.0, 3.0, 5.0, 4.0, 4.0, 3.0, 2.0, 4.0, 3.0, 4.0, 3.0, 4.0, 2.0, 3.0, 3.0, 3.0, 4.0, 4.0, 3.0, 2.0, 4.0, 2.0, 3.0, 4.0, 2.0, 2.0, 3.0, 2.0, 2.0, 3.0, 3.0, 5.0, 5.0, 3.0, 3.0, 4.0, 5.0, 4.0, 4.0, 2.0, 4.0, 4.0, 4.0, 3.0, 5.0, 5.0, 3.0, 2.0, 3.0, 4.0, 3.0, 3.0, 3.0, 3.0, 4.0, 2.0, 3.0, 4.0, 3.0, 5.0, 2.0, 4.0, 3.0, 4.0, 3.0, 4.0, 3.0, 2.0, 3.0, 3.0, 3.0, 3.0, 2.0, 4.0, 2.0, 3.0, 4.0, 3.0, 3.0, 2.0, 2.0, 5.0, 3.0, 4.0, 4.0, 3.0, 4.0, 4.0, 2.0, 3.0, 3.0, 6.0, 4.0, 3.0, 3.0, 3.0, 4.0, 3.0, 4.0, 3.0, 3.0, 2.0, 4.0, 5.0, 4.0, 4.0, 4.0, 3.0, 4.0, 3.0, 3.0, 3.0, 3.0, 3.0, 4.0, 4.0, 3.0, 5.0, 5.0, 3.0, 2.0, 4.0, 3.0, 4.0, 4.0, 3.0, 5.0, 3.0, 3.0, 3.0, 3.0, 2.0, 3.0, 3.0, 5.0, 4.0, 3.0, 3.0, 5.0, 3.0, 4.0, 3.0, 3.0, 3.0, 3.0, 3.0, 3.0, 9.0, 4.0, 3.0, 3.0, 2.0, 3.0, 4.0, 3.0, 3.0, 2.0, 3.0, 3.0, 3.0, 3.0, 3.0, 1.0, 4.0, 3.0, 3.0, 2.0, 2.0, 5.0, 3.0, 2.0, 3.0, 4.0, 2.0, 4.0, 3.0, 3.0, 3.0, 3.0, 2.0, 2.0, 3.0, 3.0, 3.0, 3.0, 2.0, 2.0, 7.0, 4.0, 3.0, 3.0, 3.0, 3.0, 2.0, 3.0, 3.0, 5.0, 4.0, 3.0, 3.0, 4.0, 3.0, 2.0, 4.0, 5.0, 3.0, 2.0, 2.0, 3.0, 4.0, 3.0, 4.0, 4.0, 2.0, 3.0, 2.0, 2.0, 2.0, 4.0, 4.0, 2.0, 3.0, 4.0, 4.0, 4.0, 3.0, 2.0, 3.0, 5.0, 3.0, 3.0, 3.0, 4.0, 2.0, 2.0, 4.0, 2.0, 4.0, 3.0, 2.0, 4.0, 4.0, 3.0, 3.0, 3.0, 3.0, 3.0, 4.0, 3.0, 3.0, 6.0, 3.0, 2.0, 3.0, 3.0, 3.0, 3.0, 2.0, 2.0, 3.0, 2.0, 2.0, 3.0, 4.0, 4.0, 3.0, 2.0, 3.0, 4.0, 3.0, 4.0, 4.0, 2.0, 4.0, 2.0, 3.0, 3.0, 2.0, 3.0, 3.0, 3.0, 4.0, 3.0, 4.0, 3.0, 3.0, 4.0, 4.0, 5.0, 4.0, 2.0, 3.0, 4.0, 4.0, 3.0, 3.0, 4.0, 4.0, 4.0, 3.0, 3.0, 5.0, 2.0, 4.0, 3.0, 3.0, 3.0, 4.0, 4.0, 4.0, 3.0, 4.0, 3.0, 3.0, 3.0, 3.0, 4.0, 2.0, 4.0, 4.0, 2.0, 3.0, 3.0, 5.0, 3.0, 4.0, 3.0, 3.0, 3.0, 2.0, 3.0, 1.0, 3.0, 2.0, 4.0, 2.0, 4.0, 5.0, 3.0, 4.0, 3.0, 4.0, 3.0, 3.0, 3.0, 4.0, 3.0, 5.0, 3.0, 5.0, 2.0, 3.0, 2.0, 3.0, 3.0, 4.0, 3.0, 3.0, 4.0, 2.0, 2.0, 2.0, 4.0, 3.0, 3.0, 2.0, 4.0, 2.0, 2.0, 3.0, 4.0, 4.0, 3.0, 4.0, 5.0, 3.0, 4.0, 2.0, 3.0, 3.0, 5.0, 5.0, 4.0, 3.0, 4.0, 4.0, 5.0, 3.0, 3.0, 3.0, 3.0, 3.0, 4.0, 3.0, 2.0, 7.0, 3.0, 5.0, 3.0, 4.0, 4.0, 3.0, 3.0, 2.0, 3.0, 2.0, 3.0, 3.0, 3.0, 3.0, 3.0, 4.0, 5.0, 3.0, 3.0, 3.0, 4.0, 4.0, 3.0, 3.0, 3.0, 3.0, 3.0, 3.0, 4.0, 4.0, 3.0, 3.0, 4.0, 4.0, 3.0, 4.0, 3.0, 3.0, 4.0, 5.0, 2.0, 3.0, 3.0, 4.0, 2.0, 3.0, 3.0, 3.0, 3.0, 5.0, 2.0, 3.0, 2.0, 3.0, 3.0, 3.0, 3.0, 4.0, 3.0, 3.0, 3.0, 4.0, 2.0, 4.0, 3.0, 4.0, 3.0, 3.0, 3.0, 2.0, 3.0, 3.0, 3.0, 4.0, 3.0, 3.0, 2.0, 3.0, 4.0, 3.0, 5.0, 2.0, 4.0, 5.0, 3.0, 2.0, 4.0, 3.0, 4.0, 4.0, 4.0, 3.0, 2.0, 3.0, 3.0, 4.0, 3.0, 4.0, 3.0, 3.0, 4.0, 3.0, 4.0, 2.0, 3.0, 4.0, 3.0, 3.0, 4.0, 3.0, 3.0, 3.0, 3.0, 3.0, 3.0, 3.0, 4.0, 3.0, 3.0, 3.0, 3.0, 2.0, 5.0, 4.0, 4.0, 4.0, 7.0, 3.0, 3.0, 3.0, 3.0, 3.0, 3.0, 2.0, 3.0, 4.0, 3.0, 4.0, 3.0, 3.0, 3.0, 4.0, 4.0, 3.0, 3.0, 4.0, 3.0, 3.0, 3.0, 4.0, 3.0, 3.0, 3.0, 2.0, 3.0, 1.0, 3.0, 3.0, 3.0, 3.0, 3.0, 4.0, 4.0, 3.0, 5.0, 4.0, 3.0, 3.0, 3.0, 4.0, 3.0, 3.0, 4.0, 2.0, 4.0, 3.0, 3.0, 3.0, 2.0, 2.0, 3.0, 3.0, 4.0, 3.0, 3.0, 2.0, 3.0, 3.0, 3.0, 3.0, 3.0, 3.0, 2.0, 4.0, 1.0, 3.0, 5.0, 4.0, 4.0, 3.0, 2.0, 3.0, 3.0, 4.0, 3.0, 3.0, 3.0, 2.0, 3.0, 3.0, 5.0, 4.0, 3.0, 3.0, 2.0, 2.0, 2.0, 4.0, 2.0, 3.0, 5.0, 4.0, 4.0, 2.0, 4.0, 3.0, 4.0, 4.0, 3.0, 3.0, 2.0, 4.0, 3.0, 3.0, 4.0, 4.0, 2.0, 1.0, 4.0, 3.0, 3.0, 2.0, 2.0, 3.0, 3.0, 2.0, 4.0, 5.0, 4.0, 3.0, 3.0, 3.0, 3.0, 4.0, 3.0, 3.0, 2.0, 3.0, 2.0, 3.0, 4.0, 2.0, 3.0, 4.0, 3.0, 3.0, 3.0, 2.0, 3.0, 5.0, 3.0, 3.0, 3.0, 5.0, 3.0, 3.0, 2.0, 5.0, 4.0, 3.0, 2.0, 3.0, 4.0, 3.0, 2.0, 4.0, 2.0, 2.0, 4.0, 2.0, 4.0, 4.0, 5.0, 4.0, 3.0, 3.0, 4.0, 2.0, 2.0, 3.0, 4.0, 2.0, 3.0, 3.0, 3.0, 4.0, 1.0, 4.0, 3.0, 3.0, 2.0, 4.0, 4.0, 3.0, 6.0, 2.0, 2.0, 3.0, 3.0, 2.0, 3.0, 3.0, 3.0, 4.0, 4.0, 3.0, 3.0, 3.0, 5.0, 3.0, 4.0, 3.0, 4.0, 2.0, 4.0, 3.0, 3.0, 3.0, 3.0, 5.0, 3.0, 4.0, 6.0, 1.0, 3.0, 4.0, 3.0, 4.0, 4.0, 4.0, 4.0, 3.0, 5.0, 3.0, 4.0, 3.0, 3.0, 3.0, 3.0, 3.0, 4.0, 4.0, 3.0, 5.0, 2.0, 2.0, 3.0, 4.0, 3.0, 2.0, 1.0, 4.0, 3.0, 3.0, 4.0, 4.0, 4.0, 3.0, 3.0, 3.0, 3.0, 4.0, 3.0, 3.0, 5.0, 3.0, 3.0, 2.0, 3.0, 3.0, 3.0, 3.0, 5.0, 3.0, 2.0, 3.0, 2.0, 3.0, 2.0, 3.0, 3.0, 3.0, 3.0, 4.0, 3.0, 4.0, 4.0, 3.0, 3.0, 2.0, 3.0, 4.0, 2.0, 4.0, 3.0, 3.0, 4.0, 3.0, 4.0, 3.0, 3.0, 3.0, 4.0, 3.0, 3.0, 3.0, 2.0, 3.0, 2.0, 6.0, 4.0, 3.0, 4.0, 3.0, 3.0, 4.0, 3.0, 1.0, 3.0, 2.0, 2.0, 3.0, 2.0, 4.0, 3.0, 4.0, 3.0, 4.0, 3.0, 2.0, 3.0, 6.0, 3.0, 2.0, 3.0, 4.0, 2.0, 2.0, 4.0, 3.0, 4.0, 2.0, 4.0, 4.0, 4.0, 2.0, 3.0, 4.0, 3.0, 2.0, 3.0, 4.0, 3.0, 4.0, 4.0, 5.0, 2.0, 2.0, 4.0, 4.0, 4.0, 2.0, 4.0, 3.0, 2.0, 3.0, 4.0, 4.0, 3.0, 3.0, 3.0, 5.0, 5.0, 3.0, 3.0, 1.0, 2.0, 3.0, 1.0, 3.0, 3.0, 5.0, 2.0, 4.0, 2.0, 2.0, 4.0, 3.0, 3.0, 2.0, 3.0, 3.0, 3.0, 1.0, 3.0, 5.0, 4.0, 3.0, 3.0, 3.0, 4.0, 3.0, 3.0, 2.0, 4.0, 3.0, 4.0, 4.0, 3.0, 4.0, 3.0, 4.0, 3.0, 3.0, 3.0, 3.0, 3.0, 4.0, 4.0, 3.0, 2.0, 3.0, 4.0, 3.0, 4.0, 2.0, 3.0, 2.0, 2.0, 3.0, 4.0, 3.0, 3.0, 3.0, 4.0, 3.0, 2.0, 3.0, 3.0, 2.0, 4.0, 3.0, 2.0, 3.0, 3.0, 4.0, 2.0, 3.0, 4.0, 3.0, 3.0, 3.0, 3.0, 2.0, 3.0, 4.0, 3.0, 3.0, 2.0, 4.0, 3.0, 3.0, 2.0, 3.0, 3.0, 3.0, 3.0, 3.0, 3.0, 3.0, 2.0, 2.0, 3.0, 4.0, 3.0, 3.0, 4.0, 3.0, 5.0, 4.0, 3.0, 2.0, 4.0, 5.0, 3.0, 5.0, 4.0, 4.0, 5.0, 5.0, 5.0, 4.0, 3.0, 3.0, 3.0, 3.0, 3.0, 3.0, 2.0, 4.0, 3.0, 3.0, 3.0, 3.0, 3.0, 3.0, 3.0, 4.0, 3.0, 3.0, 3.0, 3.0, 4.0, 4.0, 2.0, 2.0, 3.0, 4.0, 4.0, 4.0, 3.0, 3.0, 3.0, 3.0, 2.0, 4.0, 3.0, 3.0, 3.0, 4.0, 2.0, 4.0, 3.0, 3.0, 4.0, 4.0, 2.0, 3.0, 3.0, 4.0, 3.0, 3.0, 3.0, 3.0, 2.0, 3.0, 3.0, 3.0, 3.0, 3.0, 3.0, 3.0, 3.0, 3.0, 4.0, 3.0, 3.0, 4.0, 4.0, 6.0, 2.0, 3.0, 4.0, 3.0, 3.0, 3.0, 2.0, 3.0, 7.0, 3.0, 3.0, 3.0, 2.0, 4.0, 4.0, 3.0, 4.0, 3.0, 3.0, 3.0, 3.0, 2.0, 2.0, 5.0, 3.0, 2.0, 3.0, 2.0, 4.0, 3.0, 4.0, 3.0, 3.0, 3.0, 2.0, 3.0, 4.0, 2.0, 4.0, 4.0, 2.0, 4.0, 4.0, 4.0, 6.0, 3.0, 4.0, 3.0, 2.0, 4.0, 3.0, 3.0, 3.0, 2.0, 2.0, 3.0, 2.0, 5.0, 4.0, 4.0, 3.0, 2.0, 4.0, 4.0, 4.0, 3.0, 3.0, 3.0, 5.0, 4.0, 3.0, 5.0, 4.0, 3.0, 2.0, 3.0, 3.0, 5.0, 4.0, 4.0, 4.0, 3.0, 2.0, 3.0, 3.0, 3.0, 4.0, 2.0, 2.0, 3.0, 3.0, 4.0, 2.0, 3.0, 3.0, 4.0, 3.0, 3.0, 3.0, 3.0, 3.0, 2.0, 3.0, 4.0, 3.0, 3.0, 2.0, 3.0, 3.0, 4.0, 5.0, 2.0, 3.0, 3.0, 4.0, 3.0, 3.0, 3.0, 2.0, 2.0, 3.0, 2.0, 4.0, 3.0, 5.0, 4.0, 3.0, 2.0, 2.0, 4.0, 3.0, 4.0, 4.0, 5.0, 3.0, 4.0, 3.0, 3.0, 3.0, 1.0, 3.0, 3.0, 3.0, 2.0, 3.0, 2.0, 3.0, 2.0, 2.0, 4.0, 4.0, 3.0, 3.0, 1.0, 3.0, 4.0, 3.0, 2.0, 2.0, 2.0, 4.0, 2.0, 3.0, 3.0, 3.0, 3.0, 4.0, 3.0, 3.0, 3.0, 3.0, 4.0, 4.0, 3.0, 4.0, 3.0, 3.0, 3.0, 3.0, 5.0, 3.0, 3.0, 4.0, 2.0, 3.0, 5.0, 2.0, 4.0, 4.0, 3.0, 3.0, 3.0, 3.0, 3.0, 3.0, 3.0, 5.0, 3.0, 4.0, 3.0, 3.0, 3.0, 4.0, 3.0, 3.0, 3.0, 4.0, 3.0, 4.0, 3.0, 3.0, 3.0, 4.0, 2.0, 4.0, 3.0, 3.0, 3.0, 2.0, 3.0, 2.0, 3.0, 4.0, 5.0, 3.0, 3.0, 3.0, 3.0, 3.0, 3.0, 5.0, 3.0, 3.0, 3.0, 3.0, 2.0, 3.0, 3.0, 3.0, 4.0, 3.0, 2.0, 3.0, 5.0, 3.0, 2.0, 4.0, 3.0, 2.0, 6.0, 3.0, 2.0, 3.0, 3.0, 2.0, 3.0, 3.0, 3.0, 4.0, 3.0, 4.0, 4.0, 3.0, 3.0, 5.0, 3.0, 3.0, 1.0, 4.0, 3.0, 3.0, 3.0, 3.0, 3.0, 3.0, 3.0, 2.0, 3.0, 3.0, 4.0, 3.0, 1.0, 2.0, 3.0, 3.0, 4.0, 2.0, 3.0, 3.0, 3.0, 4.0, 5.0, 3.0, 3.0, 3.0, 3.0, 5.0, 4.0, 5.0, 6.0, 2.0, 4.0, 4.0, 4.0, 3.0, 3.0, 2.0, 3.0, 3.0, 4.0, 4.0, 3.0, 2.0, 3.0, 3.0, 3.0, 3.0, 4.0, 2.0, 3.0, 3.0, 4.0, 1.0, 3.0, 2.0, 3.0, 3.0, 2.0, 3.0, 5.0, 3.0, 3.0, 4.0, 5.0, 3.0, 4.0, 4.0, 3.0, 3.0, 3.0, 3.0, 3.0, 3.0, 3.0, 4.0, 3.0, 4.0, 4.0, 3.0, 4.0, 3.0, 4.0, 4.0, 4.0, 5.0, 4.0, 3.0, 2.0, 4.0, 3.0, 2.0, 5.0, 3.0, 3.0, 4.0, 4.0, 4.0, 3.0, 3.0, 4.0, 3.0, 3.0, 3.0, 3.0, 3.0, 3.0, 4.0, 2.0, 3.0, 2.0, 4.0, 3.0, 4.0, 3.0, 4.0, 3.0, 3.0, 4.0, 3.0, 4.0, 3.0, 4.0, 3.0, 4.0, 3.0, 4.0, 3.0, 4.0, 4.0, 4.0, 4.0, 3.0, 4.0, 4.0, 3.0, 3.0, 3.0, 3.0, 4.0, 4.0, 2.0, 3.0, 4.0, 3.0, 3.0, 3.0, 3.0, 3.0, 3.0, 4.0, 4.0, 4.0, 3.0, 5.0, 2.0, 2.0, 4.0, 3.0, 2.0, 3.0, 3.0, 4.0, 3.0, 4.0, 4.0, 3.0, 2.0, 3.0, 3.0, 3.0, 4.0, 3.0, 4.0, 3.0, 2.0, 4.0, 5.0, 4.0, 2.0, 3.0, 6.0, 4.0, 4.0, 4.0, 4.0, 3.0, 2.0, 3.0, 5.0, 3.0, 3.0, 3.0, 4.0, 4.0, 3.0, 3.0, 3.0, 3.0, 3.0, 4.0, 4.0, 3.0, 2.0, 5.0, 3.0, 4.0, 2.0, 3.0, 4.0, 2.0, 3.0, 3.0, 3.0, 3.0, 2.0, 3.0, 3.0, 3.0, 2.0, 2.0, 3.0, 2.0, 2.0, 4.0, 4.0, 3.0, 4.0, 4.0, 3.0, 4.0, 3.0, 3.0, 2.0, 4.0, 4.0, 4.0, 4.0, 4.0, 3.0, 2.0, 4.0, 3.0, 2.0, 2.0, 4.0, 3.0, 3.0, 2.0, 2.0, 3.0, 3.0, 3.0, 4.0, 3.0, 4.0, 3.0, 3.0, 3.0, 3.0, 4.0, 3.0, 3.0, 3.0, 4.0, 3.0, 4.0, 2.0, 3.0, 3.0, 4.0, 3.0, 4.0, 2.0, 3.0, 3.0, 4.0, 5.0, 6.0, 3.0, 5.0, 3.0, 4.0, 2.0, 3.0, 3.0, 2.0, 4.0, 4.0, 3.0, 4.0, 3.0, 4.0, 4.0, 3.0, 3.0, 2.0, 3.0, 2.0, 4.0, 2.0, 2.0, 3.0, 3.0, 2.0, 3.0, 3.0, 4.0, 3.0, 4.0, 4.0, 2.0, 4.0, 3.0, 3.0, 3.0, 3.0, 3.0, 3.0, 3.0, 4.0, 3.0, 4.0, 3.0, 4.0, 4.0, 3.0, 3.0, 4.0, 4.0, 4.0, 5.0, 2.0, 4.0, 4.0, 5.0, 2.0, 3.0, 3.0, 4.0, 2.0, 5.0, 3.0, 6.0, 2.0, 2.0, 2.0, 3.0, 3.0, 3.0, 3.0, 3.0, 2.0, 3.0, 2.0, 5.0, 4.0, 3.0, 4.0, 3.0, 3.0, 1.0, 3.0, 3.0, 3.0, 3.0, 3.0, 4.0, 4.0, 4.0, 3.0, 1.0, 3.0, 3.0, 3.0, 3.0, 3.0, 3.0, 4.0, 3.0, 2.0, 4.0, 3.0, 4.0, 3.0, 3.0, 2.0, 4.0, 4.0, 4.0, 5.0, 3.0, 3.0, 4.0, 3.0, 2.0, 4.0, 2.0, 3.0, 4.0, 2.0, 3.0, 4.0, 4.0, 3.0, 5.0, 2.0, 3.0, 4.0, 5.0, 3.0, 3.0, 2.0, 4.0, 3.0, 3.0, 3.0, 3.0, 3.0, 2.0, 4.0, 4.0, 5.0, 4.0, 3.0, 3.0, 3.0, 5.0, 3.0, 3.0, 2.0, 4.0, 2.0, 4.0, 4.0, 5.0, 3.0, 5.0, 4.0, 3.0, 3.0, 1.0, 4.0, 4.0, 3.0, 4.0, 2.0, 3.0, 2.0, 4.0, 4.0, 3.0, 3.0, 4.0, 3.0, 2.0, 3.0, 2.0, 4.0, 2.0, 3.0, 3.0, 2.0, 3.0, 3.0, 2.0, 4.0, 3.0, 3.0, 5.0, 4.0, 3.0, 3.0, 3.0, 4.0, 2.0, 3.0, 4.0, 4.0, 4.0, 3.0, 3.0, 3.0, 4.0, 3.0, 2.0, 3.0, 4.0, 3.0, 3.0, 4.0, 3.0, 4.0, 2.0, 3.0, 3.0, 4.0, 3.0, 3.0, 3.0, 3.0, 3.0, 3.0, 4.0, 5.0, 3.0, 3.0, 3.0, 4.0, 4.0, 3.0, 3.0, 2.0, 3.0, 4.0, 3.0, 3.0, 3.0, 4.0, 5.0, 3.0, 4.0, 3.0, 3.0, 4.0, 4.0, 3.0, 2.0, 3.0, 3.0, 4.0, 3.0, 3.0, 4.0, 2.0, 5.0, 4.0, 4.0, 4.0, 3.0, 2.0, 3.0, 4.0, 4.0, 4.0, 1.0, 3.0, 3.0, 3.0, 3.0, 3.0, 3.0, 4.0, 3.0, 3.0, 3.0, 5.0, 2.0, 3.0, 3.0, 4.0, 4.0, 2.0, 3.0, 3.0, 3.0, 4.0, 4.0, 3.0, 4.0, 2.0, 4.0, 6.0, 2.0, 4.0, 5.0, 3.0, 4.0, 3.0, 4.0, 3.0, 2.0, 5.0, 3.0, 3.0, 3.0, 3.0, 5.0, 4.0, 3.0, 3.0, 4.0, 1.0, 3.0, 5.0, 3.0, 3.0, 3.0, 2.0, 3.0, 3.0, 3.0, 2.0, 4.0, 3.0, 3.0, 3.0, 4.0, 3.0, 2.0, 4.0, 3.0, 4.0, 3.0, 4.0, 5.0, 4.0, 2.0, 4.0, 4.0, 3.0, 3.0, 4.0, 4.0, 3.0, 3.0, 3.0, 3.0, 3.0, 2.0, 3.0, 3.0, 4.0, 3.0, 4.0, 2.0, 3.0, 3.0, 3.0, 2.0, 4.0, 4.0, 4.0, 3.0, 2.0, 2.0, 4.0, 3.0, 4.0, 2.0, 4.0, 3.0, 3.0, 4.0, 3.0, 4.0, 4.0, 4.0, 3.0, 5.0, 3.0, 4.0, 3.0, 2.0, 3.0, 3.0, 3.0, 3.0, 4.0, 3.0, 2.0, 3.0, 3.0, 4.0, 3.0, 3.0, 5.0, 4.0, 3.0, 5.0, 3.0, 5.0, 3.0, 3.0, 4.0, 5.0, 3.0, 2.0, 3.0, 3.0, 3.0, 4.0, 5.0, 4.0, 5.0, 3.0, 4.0, 1.0, 4.0, 2.0, 3.0, 2.0, 3.0, 3.0, 3.0, 6.0, 4.0, 4.0, 5.0, 2.0, 5.0, 2.0, 5.0, 3.0, 3.0, 4.0, 4.0, 4.0, 3.0, 3.0, 4.0, 3.0, 5.0, 2.0, 4.0, 5.0, 3.0, 5.0, 3.0, 3.0, 3.0, 2.0, 3.0, 4.0, 3.0, 3.0, 4.0, 3.0, 2.0, 3.0, 4.0, 3.0, 3.0, 4.0, 3.0, 4.0, 4.0, 2.0, 3.0, 4.0, 3.0, 3.0, 3.0, 3.0, 3.0, 2.0, 3.0, 3.0, 6.0, 2.0, 3.0, 4.0, 2.0, 4.0, 3.0, 3.0, 3.0, 3.0, 2.0, 3.0, 4.0, 3.0, 4.0, 3.0, 3.0, 4.0, 3.0, 5.0, 3.0, 4.0, 3.0, 4.0, 3.0, 2.0, 4.0, 3.0, 3.0, 4.0, 4.0, 4.0, 3.0, 3.0, 3.0, 3.0, 4.0, 3.0, 4.0, 4.0, 3.0, 3.0, 4.0, 3.0, 2.0, 3.0, 4.0, 3.0, 3.0, 3.0, 3.0, 4.0, 3.0, 4.0, 3.0, 1.0, 4.0, 2.0, 4.0, 2.0, 2.0, 3.0, 3.0, 4.0, 3.0, 3.0, 3.0, 3.0, 5.0, 3.0, 2.0, 3.0, 4.0, 3.0, 3.0, 4.0, 2.0, 3.0, 3.0, 4.0, 2.0, 3.0, 3.0, 4.0, 4.0, 3.0, 5.0, 3.0, 4.0, 1.0, 4.0, 2.0, 4.0, 3.0, 3.0, 3.0, 4.0, 3.0, 3.0, 3.0, 3.0, 4.0, 4.0, 3.0, 4.0, 2.0, 5.0, 4.0, 2.0, 4.0, 4.0, 3.0, 5.0, 3.0, 3.0, 5.0, 3.0, 2.0, 4.0, 4.0, 4.0, 2.0, 4.0, 4.0, 3.0, 4.0, 4.0, 4.0, 2.0, 3.0, 2.0, 2.0, 3.0, 2.0, 3.0, 3.0, 7.0, 4.0, 6.0, 4.0, 3.0, 2.0, 2.0, 3.0, 6.0, 3.0, 4.0, 3.0, 3.0, 3.0, 3.0, 3.0, 3.0, 3.0, 3.0, 3.0, 3.0, 3.0, 4.0, 3.0, 3.0, 3.0, 4.0, 3.0, 3.0, 3.0, 3.0, 3.0, 3.0, 4.0, 4.0, 3.0, 4.0, 3.0, 3.0, 4.0, 4.0, 3.0, 2.0, 4.0, 3.0, 3.0, 4.0, 3.0, 3.0, 5.0, 3.0, 3.0, 2.0, 3.0, 4.0, 3.0, 6.0, 3.0, 2.0, 4.0, 3.0, 3.0, 4.0, 4.0, 5.0, 4.0, 2.0, 4.0, 3.0, 3.0, 3.0, 1.0, 4.0, 4.0, 4.0, 4.0, 3.0, 3.0, 3.0, 3.0, 4.0, 3.0, 3.0, 4.0, 3.0, 3.0, 3.0, 4.0, 3.0, 3.0, 4.0, 3.0, 3.0, 3.0, 3.0, 3.0, 5.0, 3.0, 5.0, 2.0, 2.0, 3.0, 3.0, 3.0, 3.0, 3.0, 4.0, 3.0, 3.0, 3.0, 3.0, 2.0, 3.0, 2.0, 3.0, 4.0, 3.0, 3.0, 3.0, 3.0, 2.0, 3.0, 4.0, 4.0, 4.0, 3.0, 4.0, 4.0, 3.0, 3.0, 3.0, 3.0, 2.0, 4.0, 4.0, 3.0, 3.0, 4.0, 2.0, 3.0, 3.0, 4.0, 3.0, 2.0, 3.0, 3.0, 3.0, 3.0, 4.0, 4.0, 4.0, 3.0, 4.0, 3.0, 2.0, 5.0, 3.0, 3.0, 2.0, 3.0, 4.0, 4.0, 5.0, 3.0, 4.0, 3.0, 3.0, 2.0, 4.0, 2.0, 4.0, 2.0, 2.0, 2.0, 3.0, 3.0, 4.0, 2.0, 3.0, 3.0, 3.0, 3.0, 4.0, 3.0, 3.0, 3.0, 4.0, 4.0, 3.0, 4.0, 2.0, 4.0, 2.0, 2.0, 3.0, 4.0, 4.0, 4.0, 3.0, 3.0, 3.0, 4.0, 4.0, 5.0, 3.0, 3.0, 2.0, 3.0, 6.0, 2.0, 3.0, 2.0, 3.0, 3.0, 4.0, 1.0, 3.0, 4.0, 2.0, 3.0, 3.0, 4.0, 6.0, 3.0, 3.0, 3.0, 3.0, 3.0, 4.0, 5.0, 3.0, 3.0, 4.0, 2.0, 2.0, 3.0, 4.0, 3.0, 4.0, 3.0, 4.0, 2.0, 3.0, 3.0, 3.0, 3.0, 7.0, 3.0, 5.0, 2.0, 3.0, 3.0, 2.0, 3.0, 3.0, 3.0, 3.0, 3.0, 4.0, 3.0, 4.0, 3.0, 4.0, 2.0, 3.0, 3.0, 3.0, 4.0, 3.0, 3.0, 5.0, 3.0, 3.0, 4.0, 3.0, 3.0, 4.0, 4.0, 3.0, 4.0, 4.0, 3.0, 3.0, 3.0, 3.0, 4.0, 2.0, 4.0, 4.0, 3.0, 2.0, 3.0, 4.0, 5.0, 6.0, 4.0, 4.0, 3.0, 2.0, 2.0, 3.0, 2.0, 3.0, 4.0, 4.0, 4.0, 5.0, 4.0, 4.0, 4.0, 4.0, 4.0, 5.0, 3.0, 3.0, 4.0, 4.0, 2.0, 4.0, 3.0, 2.0, 3.0, 3.0, 3.0, 3.0, 3.0, 3.0, 3.0, 3.0, 2.0, 3.0, 3.0, 3.0, 3.0, 4.0, 3.0, 3.0, 2.0, 5.0, 5.0, 2.0, 2.0, 5.0, 2.0, 5.0, 3.0, 3.0, 3.0, 4.0, 4.0, 3.0, 3.0, 4.0, 3.0, 3.0, 3.0, 3.0, 5.0, 3.0, 3.0, 2.0, 4.0, 4.0, 4.0, 3.0, 4.0, 3.0, 4.0, 4.0, 2.0, 4.0, 2.0, 2.0, 3.0, 4.0, 2.0, 3.0, 3.0, 5.0, 2.0, 3.0, 3.0, 3.0, 2.0, 3.0, 3.0, 3.0, 3.0, 4.0, 2.0, 6.0, 3.0, 4.0, 3.0, 5.0, 4.0, 3.0, 4.0, 3.0, 2.0, 3.0, 4.0, 2.0, 4.0, 5.0, 2.0, 2.0, 1.0, 4.0, 3.0, 4.0, 4.0, 2.0, 3.0, 3.0, 3.0, 4.0, 4.0, 3.0, 1.0, 4.0, 2.0, 1.0, 3.0, 2.0, 4.0, 3.0, 3.0, 2.0, 5.0, 4.0, 3.0, 3.0, 3.0, 3.0, 5.0, 3.0, 4.0, 3.0, 2.0, 2.0, 1.0, 3.0, 3.0, 3.0, 3.0, 3.0, 4.0, 2.0, 3.0, 3.0, 4.0, 3.0, 3.0, 4.0, 4.0, 4.0, 2.0, 3.0, 4.0, 3.0, 2.0, 2.0, 2.0, 4.0, 5.0, 4.0, 3.0, 2.0, 3.0, 3.0, 4.0, 2.0, 3.0, 2.0, 3.0, 2.0, 4.0, 4.0, 3.0, 3.0, 3.0, 4.0, 2.0, 4.0, 4.0, 4.0, 4.0, 3.0, 4.0, 3.0, 3.0, 4.0, 3.0, 3.0, 3.0, 3.0, 2.0, 4.0, 4.0, 3.0, 2.0, 4.0, 3.0, 3.0, 3.0, 2.0, 4.0, 3.0, 3.0, 3.0, 3.0, 3.0, 4.0, 2.0, 3.0, 3.0, 3.0, 2.0, 2.0, 3.0, 3.0, 3.0, 4.0, 3.0, 3.0, 2.0, 3.0, 3.0, 5.0, 3.0, 3.0, 2.0, 2.0, 2.0, 5.0, 4.0, 3.0, 3.0, 2.0, 4.0, 2.0, 4.0, 4.0, 3.0, 1.0, 5.0, 3.0, 3.0, 4.0, 4.0, 4.0, 3.0, 4.0, 3.0, 4.0, 4.0, 4.0, 3.0, 4.0, 4.0, 4.0, 2.0, 3.0, 2.0, 4.0, 3.0, 2.0, 4.0, 3.0, 3.0, 4.0, 3.0, 3.0, 5.0, 3.0, 3.0, 3.0, 3.0, 4.0, 4.0, 3.0, 4.0, 3.0, 5.0, 4.0, 5.0, 4.0, 4.0, 4.0, 4.0, 3.0, 3.0, 3.0, 3.0, 4.0, 4.0, 3.0, 4.0, 4.0, 2.0, 3.0, 4.0, 5.0, 2.0, 4.0, 5.0, 2.0, 3.0, 4.0, 3.0, 2.0, 4.0, 5.0, 3.0, 3.0, 3.0, 4.0, 2.0, 4.0, 3.0, 3.0, 2.0, 3.0, 5.0, 3.0, 4.0, 3.0, 3.0, 4.0, 4.0, 3.0, 3.0, 3.0, 3.0, 4.0, 4.0, 8.0, 5.0, 4.0, 4.0, 2.0, 3.0, 3.0, 3.0, 3.0, 3.0, 4.0, 5.0, 3.0, 4.0, 4.0, 3.0, 3.0, 4.0, 4.0, 2.0, 4.0, 2.0, 4.0, 2.0, 3.0, 2.0, 3.0, 2.0, 5.0, 5.0, 4.0, 3.0, 3.0, 3.0, 3.0, 3.0, 2.0, 4.0, 3.0, 3.0, 3.0, 3.0, 3.0, 2.0, 4.0, 3.0, 2.0, 3.0, 4.0, 3.0, 2.0, 4.0, 3.0, 3.0, 3.0, 6.0, 4.0, 2.0, 3.0, 4.0, 3.0, 3.0, 3.0, 3.0, 3.0, 5.0, 4.0, 2.0, 3.0, 2.0, 4.0, 3.0, 4.0, 3.0, 3.0, 2.0, 3.0, 5.0, 3.0, 3.0, 3.0, 4.0, 3.0, 3.0, 3.0, 3.0, 2.0, 3.0, 3.0, 3.0, 4.0, 3.0, 3.0, 3.0, 2.0, 3.0, 3.0, 2.0, 3.0, 3.0, 5.0, 2.0, 4.0, 2.0, 3.0, 3.0, 3.0, 3.0, 4.0, 3.0, 3.0, 4.0, 3.0, 3.0, 2.0, 3.0, 3.0, 5.0, 3.0, 4.0, 3.0, 3.0, 5.0, 2.0, 3.0, 3.0, 4.0, 4.0, 3.0, 4.0, 4.0, 4.0, 3.0, 2.0, 3.0, 3.0, 4.0, 2.0, 2.0, 3.0, 4.0, 3.0, 4.0, 3.0, 4.0, 3.0, 4.0, 3.0, 3.0, 2.0, 2.0, 3.0, 3.0, 1.0, 4.0, 3.0, 1.0, 3.0, 3.0, 3.0, 2.0, 3.0, 4.0, 3.0, 4.0, 3.0, 2.0, 3.0, 3.0, 4.0, 2.0, 4.0, 2.0, 4.0, 3.0, 3.0, 2.0, 3.0, 3.0, 3.0, 4.0, 4.0, 4.0, 2.0, 4.0, 4.0, 3.0, 5.0, 3.0, 3.0, 3.0, 3.0, 3.0, 4.0, 3.0, 4.0, 3.0, 4.0, 6.0, 3.0, 3.0, 3.0, 2.0, 3.0, 3.0, 2.0, 4.0, 5.0, 5.0, 4.0, 4.0, 3.0, 3.0, 2.0, 3.0, 3.0, 4.0, 4.0, 3.0, 2.0, 3.0, 5.0, 4.0, 3.0, 3.0, 3.0, 3.0, 3.0, 3.0, 3.0, 3.0, 4.0, 4.0, 4.0, 3.0, 4.0, 5.0, 3.0, 4.0, 1.0, 3.0, 3.0, 4.0, 3.0, 4.0, 7.0, 4.0, 3.0, 4.0, 2.0, 4.0, 2.0, 3.0, 2.0, 4.0, 4.0, 2.0, 4.0, 3.0, 3.0, 3.0, 4.0, 3.0, 3.0, 3.0, 4.0, 4.0, 4.0, 3.0, 3.0, 4.0, 2.0, 2.0, 2.0, 4.0, 4.0, 3.0, 4.0, 4.0, 4.0, 4.0, 2.0, 3.0, 3.0, 3.0, 4.0, 3.0, 3.0, 3.0, 2.0, 3.0, 4.0, 3.0, 4.0, 4.0, 4.0, 3.0, 2.0, 3.0, 3.0, 4.0, 3.0, 3.0, 4.0, 4.0, 3.0, 4.0, 3.0, 3.0, 4.0, 4.0, 2.0, 3.0, 3.0, 3.0, 1.0, 4.0, 6.0, 3.0, 3.0, 4.0, 4.0, 2.0, 4.0, 3.0, 3.0, 3.0, 3.0, 3.0, 3.0, 3.0, 3.0, 2.0, 3.0, 4.0, 3.0, 3.0, 3.0, 3.0, 3.0, 4.0, 4.0, 3.0, 3.0, 4.0, 3.0, 3.0, 4.0, 3.0, 3.0, 4.0, 4.0, 3.0, 5.0, 4.0, 2.0, 3.0, 4.0, 4.0, 3.0, 3.0, 4.0, 4.0, 4.0, 3.0, 4.0, 4.0, 4.0, 3.0, 2.0, 3.0, 3.0, 2.0, 3.0, 3.0, 4.0, 2.0, 3.0, 2.0, 5.0, 2.0, 4.0, 2.0, 2.0, 3.0, 4.0, 3.0, 3.0, 5.0, 3.0, 4.0, 4.0, 3.0, 3.0, 5.0, 4.0, 4.0, 3.0, 3.0, 4.0, 3.0, 4.0, 4.0, 3.0, 2.0, 3.0, 4.0, 4.0, 3.0, 3.0, 2.0, 4.0, 3.0, 5.0, 3.0, 2.0, 3.0, 3.0, 3.0, 3.0, 2.0, 4.0, 3.0, 3.0, 3.0, 3.0, 3.0, 3.0, 3.0, 4.0, 2.0, 3.0, 3.0, 3.0, 3.0, 4.0, 4.0, 3.0, 3.0, 5.0, 2.0, 2.0, 5.0, 2.0, 4.0, 4.0, 3.0, 3.0, 3.0, 3.0, 2.0, 5.0, 3.0, 3.0, 4.0, 3.0, 3.0, 4.0, 3.0, 3.0, 2.0, 1.0, 4.0, 2.0, 4.0, 3.0, 5.0, 4.0, 3.0, 2.0, 4.0, 2.0, 4.0, 3.0, 3.0, 2.0, 2.0, 3.0, 3.0, 2.0, 4.0, 3.0, 3.0, 3.0, 2.0, 3.0, 4.0, 3.0, 4.0, 3.0, 3.0, 3.0, 3.0, 3.0, 4.0, 3.0], \"y\": [1.5, 2.0, 2.25, 2.5, 1.0, 2.0, 2.5, 2.5, 2.0, 1.75, 1.75, 1.0, 1.5, 1.5, 3.0, 1.75, 1.5, 1.0, 2.25, 2.5, 1.75, 2.5, 1.75, 1.75, 2.5, 2.0, 2.5, 2.5, 2.5, 1.0, 3.0, 2.0, 2.25, 2.0, 1.0, 2.5, 1.0, 1.0, 2.25, 2.5, 2.5, 2.75, 1.75, 1.75, 2.5, 1.5, 1.75, 3.25, 2.5, 2.5, 2.5, 3.25, 2.5, 2.75, 1.0, 2.5, 1.0, 2.5, 2.5, 2.0, 2.5, 3.0, 2.25, 1.0, 2.25, 3.0, 1.75, 1.0, 1.75, 3.0, 1.0, 1.5, 1.75, 2.75, 2.5, 2.25, 2.25, 2.5, 2.0, 2.5, 1.0, 1.0, 1.5, 1.0, 2.75, 2.0, 1.75, 1.0, 2.5, 1.0, 1.75, 1.75, 1.0, 2.5, 1.75, 2.0, 2.0, 1.0, 1.75, 2.5, 2.0, 2.0, 1.0, 1.75, 2.0, 1.75, 2.5, 2.5, 2.5, 1.5, 3.0, 2.25, 2.5, 2.5, 2.5, 2.0, 2.0, 1.0, 2.5, 1.75, 2.0, 1.0, 1.0, 2.0, 1.75, 2.5, 2.0, 1.5, 2.5, 2.0, 1.0, 1.0, 1.75, 3.0, 2.25, 2.5, 2.25, 2.5, 2.5, 1.5, 1.75, 2.5, 1.0, 2.25, 2.5, 2.5, 3.0, 3.0, 2.0, 1.75, 1.75, 1.5, 1.0, 1.75, 1.75, 2.5, 2.5, 2.25, 1.5, 2.25, 2.5, 2.5, 1.75, 2.0, 1.0, 2.5, 3.5, 1.0, 2.75, 1.75, 1.75, 2.0, 2.25, 1.75, 1.5, 2.5, 3.75, 3.25, 2.0, 2.25, 2.25, 1.0, 2.5, 1.75, 2.75, 2.5, 1.0, 1.75, 2.5, 4.5, 1.75, 1.75, 2.0, 2.0, 3.0, 3.0, 1.0, 1.75, 1.5, 1.75, 1.0, 1.75, 2.5, 2.0, 1.0, 2.0, 2.5, 2.5, 1.0, 1.0, 2.5, 2.25, 2.0, 1.75, 2.5, 2.25, 2.0, 1.75, 2.5, 3.0, 2.0, 1.0, 1.0, 2.25, 2.5, 2.0, 1.0, 1.0, 1.0, 5.75, 2.5, 2.5, 1.75, 1.0, 2.0, 1.0, 1.5, 1.75, 1.75, 2.75, 2.25, 2.5, 1.0, 1.5, 2.5, 2.75, 2.75, 2.25, 1.0, 1.0, 2.75, 1.75, 1.0, 2.5, 2.5, 1.5, 2.5, 1.0, 2.5, 2.0, 1.5, 2.5, 1.75, 2.5, 2.5, 1.75, 2.25, 1.75, 1.0, 1.0, 2.25, 1.5, 2.5, 1.75, 1.75, 1.0, 1.5, 1.75, 1.0, 1.75, 1.75, 1.75, 2.5, 2.75, 2.0, 1.75, 2.5, 1.75, 2.5, 2.5, 2.0, 1.5, 2.25, 2.5, 2.0, 1.75, 1.0, 1.75, 1.75, 1.5, 1.25, 2.5, 1.5, 1.0, 2.25, 1.75, 1.0, 2.5, 1.0, 3.0, 2.5, 1.75, 2.5, 2.25, 1.0, 2.0, 1.0, 1.5, 2.25, 1.0, 2.5, 1.5, 1.5, 2.75, 3.25, 2.0, 2.0, 1.0, 1.75, 3.0, 3.0, 2.5, 1.0, 2.5, 2.25, 2.25, 2.25, 2.0, 2.5, 2.5, 2.25, 2.25, 1.75, 1.75, 1.0, 2.5, 2.0, 1.0, 1.75, 2.5, 1.5, 2.25, 1.0, 2.5, 1.75, 2.5, 2.0, 1.75, 3.25, 2.0, 2.25, 2.5, 1.5, 2.0, 2.25, 2.75, 2.5, 1.0, 2.5, 2.5, 2.5, 2.5, 1.5, 1.0, 2.0, 1.0, 2.25, 1.0, 1.75, 3.0, 2.25, 2.0, 1.0, 2.5, 1.5, 2.5, 2.5, 2.25, 1.0, 3.0, 1.5, 2.25, 2.25, 1.0, 1.0, 1.0, 1.75, 1.75, 1.0, 1.0, 3.0, 2.5, 1.0, 1.75, 2.5, 1.0, 1.5, 1.75, 2.0, 1.5, 2.5, 2.5, 2.5, 2.5, 3.5, 2.5, 4.75, 2.25, 2.25, 2.0, 2.0, 1.0, 2.5, 3.0, 2.0, 1.5, 2.0, 1.75, 1.75, 1.75, 1.5, 2.25, 1.0, 1.75, 2.5, 1.75, 1.0, 4.0, 2.5, 2.5, 2.5, 2.25, 1.5, 1.0, 1.75, 0.75, 2.0, 1.0, 1.75, 1.0, 2.75, 2.25, 1.75, 1.75, 2.0, 1.0, 1.0, 1.0, 1.75, 1.0, 2.5, 1.0, 1.0, 2.0, 2.0, 1.5, 2.25, 2.5, 3.5, 2.5, 2.5, 2.5, 2.5, 1.75, 1.5, 1.75, 1.75, 2.5, 1.0, 2.25, 1.75, 2.75, 1.0, 2.5, 2.0, 2.0, 1.0, 2.0, 1.5, 2.75, 1.0, 2.5, 1.0, 1.75, 2.5, 2.5, 2.5, 2.5, 1.75, 1.75, 1.0, 2.5, 1.0, 2.5, 1.0, 1.0, 1.5, 1.75, 2.5, 2.0, 3.5, 2.5, 1.0, 1.75, 2.0, 2.25, 2.5, 1.0, 3.0, 1.0, 2.0, 1.75, 1.75, 1.0, 2.5, 1.0, 2.75, 2.5, 2.75, 2.5, 1.0, 2.75, 2.5, 2.5, 2.0, 2.5, 1.5, 1.0, 2.75, 1.75, 1.75, 1.0, 1.0, 2.5, 1.0, 1.0, 2.0, 1.0, 2.5, 2.25, 1.0, 1.5, 1.5, 2.25, 2.5, 2.5, 2.0, 2.25, 1.0, 1.0, 1.75, 2.5, 2.0, 1.75, 3.5, 1.0, 1.75, 2.25, 1.0, 2.5, 2.5, 1.0, 2.0, 2.0, 2.5, 2.0, 1.5, 1.0, 1.5, 1.75, 1.75, 1.0, 2.5, 2.5, 1.75, 1.0, 1.75, 2.5, 2.5, 2.5, 2.25, 1.5, 2.5, 1.0, 2.5, 2.5, 1.75, 2.0, 2.0, 2.25, 2.25, 2.5, 1.0, 3.5, 2.5, 1.75, 1.75, 1.5, 2.5, 1.0, 1.0, 1.0, 2.5, 2.0, 2.25, 2.5, 1.0, 1.0, 2.25, 2.25, 2.5, 2.5, 2.25, 1.0, 2.0, 1.5, 2.5, 1.0, 1.5, 2.25, 2.0, 2.5, 1.0, 2.25, 1.75, 2.5, 2.5, 1.5, 1.0, 3.0, 2.25, 2.5, 2.5, 2.5, 3.25, 2.5, 2.0, 2.5, 2.5, 2.5, 2.5, 2.25, 2.0, 2.25, 2.0, 2.5, 1.0, 2.5, 1.5, 2.0, 2.5, 1.5, 2.75, 1.5, 1.0, 1.75, 2.5, 1.0, 1.0, 2.75, 1.0, 1.0, 3.5, 2.5, 1.0, 1.5, 2.5, 2.5, 1.75, 2.0, 1.0, 2.25, 2.75, 1.0, 2.0, 1.75, 2.25, 2.5, 2.25, 1.0, 2.25, 1.5, 1.75, 2.5, 2.25, 1.75, 1.0, 2.25, 1.75, 1.5, 2.5, 2.5, 1.0, 1.75, 1.75, 1.0, 2.5, 2.75, 2.25, 2.5, 2.5, 1.75, 1.0, 3.5, 2.25, 3.0, 2.5, 2.5, 1.0, 2.5, 3.5, 2.5, 1.75, 2.25, 1.0, 1.0, 2.0, 1.0, 1.75, 2.5, 2.5, 2.75, 1.0, 2.25, 2.75, 2.25, 1.0, 1.75, 2.0, 1.75, 1.5, 1.0, 1.75, 1.0, 2.25, 3.0, 1.0, 1.5, 1.0, 1.0, 2.5, 2.25, 3.0, 1.0, 1.75, 1.0, 1.5, 1.0, 1.0, 1.5, 2.5, 1.75, 2.5, 1.0, 2.5, 2.5, 3.5, 1.75, 2.25, 2.5, 1.5, 1.0, 1.75, 1.75, 1.0, 2.5, 1.5, 2.25, 1.0, 1.75, 5.25, 1.0, 2.0, 2.25, 2.5, 2.5, 1.75, 2.0, 1.75, 1.0, 3.5, 1.5, 2.5, 2.0, 1.75, 1.5, 2.25, 2.5, 2.5, 2.5, 2.5, 3.5, 2.5, 1.75, 1.0, 2.5, 1.75, 1.75, 1.0, 2.0, 1.75, 2.25, 2.25, 2.75, 2.25, 1.0, 2.5, 2.5, 2.75, 2.0, 2.0, 1.0, 2.0, 2.0, 2.5, 1.0, 1.5, 1.75, 1.75, 3.5, 3.25, 1.0, 1.0, 2.5, 1.0, 1.75, 0.75, 2.5, 2.25, 1.0, 2.5, 2.5, 1.5, 2.75, 2.0, 1.75, 1.5, 1.0, 1.0, 2.5, 1.0, 2.5, 1.0, 2.0, 2.5, 2.25, 2.5, 1.0, 2.25, 1.75, 2.25, 2.25, 2.5, 2.75, 1.0, 1.75, 1.0, 2.0, 3.5, 2.0, 2.5, 3.0, 2.5, 2.25, 2.5, 0.75, 1.0, 1.0, 1.75, 1.75, 1.75, 1.75, 1.75, 3.0, 1.5, 2.75, 1.0, 1.5, 2.25, 2.0, 1.0, 1.0, 2.0, 1.75, 1.75, 1.0, 1.75, 1.0, 2.5, 1.0, 2.75, 2.25, 2.0, 1.0, 1.0, 2.0, 1.0, 1.0, 1.0, 2.0, 3.5, 1.5, 2.5, 2.25, 2.5, 1.0, 3.0, 2.5, 2.5, 2.5, 1.75, 2.75, 1.0, 2.25, 2.5, 3.5, 2.25, 2.25, 1.5, 2.5, 3.5, 2.25, 2.5, 1.0, 2.5, 1.0, 0.75, 1.0, 1.0, 2.5, 1.0, 2.5, 1.0, 1.0, 2.5, 1.75, 1.0, 1.0, 2.5, 1.0, 1.75, 0.75, 2.5, 1.75, 2.75, 1.0, 2.5, 2.0, 2.75, 2.75, 1.5, 1.5, 1.0, 2.0, 1.75, 1.5, 2.0, 2.0, 1.0, 3.0, 1.75, 1.0, 1.75, 1.75, 1.0, 2.5, 2.5, 1.75, 1.0, 1.0, 1.0, 2.0, 1.75, 1.0, 2.0, 2.0, 1.0, 1.75, 2.5, 2.0, 2.0, 1.0, 2.5, 2.0, 1.0, 2.5, 2.0, 2.5, 1.75, 1.0, 1.0, 1.75, 2.5, 1.5, 1.0, 2.5, 3.5, 1.75, 2.5, 2.5, 1.0, 1.5, 2.5, 2.5, 1.0, 1.5, 1.0, 2.75, 1.0, 1.5, 1.0, 1.0, 1.75, 1.0, 1.75, 2.5, 1.75, 1.0, 1.0, 1.0, 1.75, 2.5, 2.0, 1.75, 2.0, 1.75, 2.0, 2.5, 2.25, 1.0, 4.25, 3.0, 1.75, 4.5, 2.5, 2.25, 3.0, 1.5, 1.0, 2.5, 3.5, 2.0, 1.0, 2.0, 1.0, 1.0, 1.5, 2.25, 2.5, 1.0, 1.5, 1.75, 1.75, 2.25, 1.0, 1.0, 1.0, 2.25, 1.75, 2.5, 2.5, 2.5, 1.0, 1.0, 1.0, 2.5, 2.0, 3.5, 2.5, 2.5, 3.5, 3.0, 2.25, 3.25, 3.5, 2.5, 1.0, 1.0, 1.0, 2.5, 2.5, 1.5, 2.5, 2.75, 1.0, 2.0, 2.5, 2.0, 1.5, 2.5, 1.0, 1.0, 1.75, 1.0, 2.5, 2.75, 2.5, 1.75, 2.5, 1.0, 1.75, 1.75, 2.5, 1.5, 2.5, 3.0, 2.5, 3.25, 2.0, 1.75, 2.0, 1.0, 2.0, 2.0, 1.5, 1.75, 4.5, 1.75, 2.0, 1.0, 1.0, 1.0, 2.25, 1.75, 2.75, 2.5, 1.75, 2.0, 1.0, 1.0, 1.0, 2.0, 1.0, 1.0, 1.75, 3.25, 2.5, 2.25, 2.5, 3.75, 2.0, 2.5, 2.0, 2.5, 1.5, 1.0, 2.5, 2.5, 2.5, 1.0, 2.25, 2.25, 2.5, 1.75, 2.5, 2.5, 1.0, 1.5, 1.5, 1.75, 1.5, 1.0, 1.0, 1.0, 1.0, 2.0, 1.75, 2.0, 2.0, 1.0, 2.0, 2.75, 2.0, 2.0, 2.25, 1.0, 2.0, 1.75, 1.0, 1.75, 1.75, 1.5, 1.0, 1.5, 2.5, 2.5, 2.5, 2.0, 1.75, 3.0, 1.0, 1.5, 2.0, 1.0, 2.5, 1.0, 1.0, 1.75, 2.5, 2.5, 2.25, 3.25, 1.0, 2.5, 1.75, 2.0, 1.75, 2.0, 2.5, 2.5, 1.0, 3.25, 2.25, 1.75, 1.75, 1.75, 2.5, 2.25, 2.5, 2.5, 2.5, 1.5, 2.25, 2.25, 2.0, 2.5, 1.0, 1.5, 1.0, 1.0, 2.5, 1.75, 2.75, 2.5, 2.0, 1.0, 2.0, 2.0, 1.75, 2.75, 2.5, 2.75, 2.5, 2.5, 2.25, 1.75, 1.75, 1.0, 1.0, 1.5, 2.75, 2.5, 2.0, 1.0, 1.0, 1.75, 2.0, 2.5, 2.5, 2.0, 2.0, 1.0, 2.5, 2.0, 2.5, 1.0, 1.5, 1.0, 2.5, 1.0, 2.5, 2.25, 1.75, 1.0, 2.5, 1.75, 2.5, 2.0, 2.0, 1.75, 2.75, 2.5, 2.5, 2.5, 1.75, 1.0, 1.5, 2.5, 1.75, 1.0, 2.5, 2.5, 1.5, 2.5, 1.0, 1.75, 2.75, 1.5, 2.75, 2.25, 2.5, 2.5, 2.25, 2.5, 2.75, 1.75, 2.25, 1.75, 1.75, 2.5, 2.5, 1.0, 2.5, 2.0, 2.5, 1.5, 4.25, 2.0, 2.25, 1.75, 2.5, 1.0, 2.5, 2.25, 2.5, 2.0, 1.5, 1.75, 1.0, 2.0, 2.5, 2.75, 1.0, 2.25, 1.75, 2.25, 2.0, 1.0, 2.0, 1.75, 2.5, 2.5, 2.5, 1.75, 2.25, 2.5, 2.25, 2.5, 1.75, 1.0, 1.75, 2.5, 1.0, 1.75, 2.25, 2.0, 2.5, 1.5, 1.0, 1.0, 1.75, 1.5, 2.5, 2.0, 3.25, 2.25, 2.5, 2.0, 2.5, 2.75, 2.25, 3.0, 2.75, 3.25, 2.25, 0.75, 1.75, 1.75, 1.5, 2.25, 1.0, 1.75, 1.5, 2.5, 1.0, 2.5, 2.5, 2.5, 1.0, 1.0, 1.75, 1.0, 1.0, 1.75, 1.0, 2.0, 1.75, 2.25, 1.75, 3.0, 1.0, 1.0, 2.0, 1.0, 2.5, 2.5, 2.5, 2.75, 1.0, 2.75, 2.25, 2.5, 2.0, 2.5, 1.0, 1.0, 1.5, 2.0, 1.75, 2.5, 1.0, 2.5, 2.0, 2.25, 2.0, 2.5, 1.0, 2.0, 1.75, 2.5, 1.0, 1.5, 1.0, 2.5, 1.5, 1.75, 1.5, 2.0, 1.75, 2.5, 2.25, 2.5, 2.5, 2.5, 3.5, 2.5, 3.25, 1.75, 2.5, 2.0, 2.5, 2.75, 2.25, 1.0, 3.75, 2.75, 1.75, 1.0, 1.0, 2.5, 2.25, 2.5, 3.0, 2.25, 1.75, 2.5, 1.5, 2.5, 1.0, 2.5, 2.0, 1.0, 3.0, 2.5, 3.75, 2.5, 1.75, 2.75, 1.75, 2.0, 1.0, 1.5, 2.5, 2.5, 1.75, 1.0, 1.0, 1.0, 3.25, 2.5, 1.75, 2.5, 2.5, 3.5, 1.0, 2.75, 1.5, 1.75, 1.0, 1.75, 2.5, 1.75, 2.0, 2.5, 2.25, 2.75, 2.0, 2.5, 2.5, 1.0, 2.5, 2.5, 2.25, 2.5, 3.0, 2.5, 1.0, 2.25, 1.5, 1.5, 2.5, 1.5, 1.75, 1.0, 1.75, 2.5, 2.0, 1.0, 2.5, 2.75, 1.75, 2.75, 1.0, 1.0, 1.75, 2.5, 1.0, 1.0, 1.5, 2.5, 1.75, 2.5, 2.5, 2.5, 1.0, 2.0, 1.0, 2.5, 1.5, 2.0, 2.0, 1.75, 1.75, 2.5, 2.5, 2.5, 2.0, 3.0, 2.5, 2.5, 2.5, 2.5, 2.25, 2.5, 1.0, 1.0, 3.0, 2.75, 1.0, 1.75, 2.5, 2.5, 2.5, 1.75, 1.5, 3.0, 2.25, 1.75, 1.75, 2.25, 2.5, 1.5, 1.75, 1.75, 1.0, 2.5, 2.5, 1.0, 1.75, 1.75, 2.5, 2.25, 2.0, 1.75, 2.0, 1.75, 1.0, 1.0, 1.75, 1.0, 1.0, 2.75, 2.5, 2.25, 2.5, 1.75, 2.5, 2.5, 1.5, 2.0, 1.0, 2.5, 3.5, 3.0, 2.75, 1.75, 1.0, 1.0, 2.75, 1.75, 1.75, 1.0, 1.75, 1.75, 2.5, 1.75, 2.0, 2.0, 3.0, 1.5, 1.75, 2.5, 1.0, 2.5, 2.5, 1.75, 1.75, 2.5, 1.0, 3.5, 2.5, 3.5, 2.5, 1.5, 1.5, 2.5, 2.5, 2.0, 1.75, 2.5, 1.0, 1.75, 2.5, 2.5, 3.0, 1.5, 1.5, 2.25, 1.75, 2.0, 1.75, 2.0, 1.75, 0.75, 1.0, 1.0, 1.75, 2.5, 1.75, 2.0, 1.75, 1.0, 1.0, 1.0, 1.75, 1.0, 1.5, 1.0, 2.0, 1.75, 3.25, 1.0, 1.5, 2.0, 1.75, 2.5, 2.5, 2.25, 1.5, 1.0, 2.0, 1.75, 1.5, 1.0, 2.5, 2.0, 1.75, 1.0, 1.75, 2.75, 1.75, 2.0, 1.75, 2.5, 1.0, 2.5, 2.75, 4.5, 2.5, 2.25, 2.75, 2.5, 2.75, 1.0, 2.0, 1.75, 2.0, 1.0, 1.5, 2.5, 5.0, 1.0, 1.75, 1.5, 1.75, 1.0, 1.5, 2.5, 1.0, 1.0, 2.5, 1.0, 3.5, 2.75, 2.5, 2.5, 2.5, 1.75, 1.75, 1.5, 2.5, 1.0, 1.75, 1.5, 2.5, 2.25, 1.75, 3.25, 1.0, 1.75, 2.5, 1.5, 2.5, 2.5, 1.75, 2.75, 1.0, 1.0, 2.75, 1.0, 2.5, 2.0, 2.0, 1.0, 1.0, 2.5, 2.0, 2.25, 2.0, 2.5, 2.5, 3.5, 1.0, 3.5, 1.5, 2.25, 2.5, 1.25, 2.5, 2.25, 2.5, 1.75, 2.0, 1.0, 2.0, 2.5, 2.0, 1.0, 1.75, 1.0, 1.75, 1.0, 2.5, 1.75, 1.75, 2.5, 1.0, 2.25, 1.5, 2.75, 1.5, 1.0, 2.5, 1.0, 1.75, 1.0, 3.25, 1.0, 2.5, 1.5, 2.5, 2.25, 2.75, 2.5, 3.0, 2.5, 2.0, 1.0, 0.75, 2.5, 2.5, 2.25, 2.0, 1.0, 1.0, 1.0, 1.75, 1.75, 2.25, 2.5, 1.75, 2.75, 1.5, 3.25, 2.25, 3.0, 1.75, 1.0, 1.75, 1.0, 1.75, 1.0, 1.0, 2.25, 1.75, 1.0, 2.75, 2.5, 1.0, 1.75, 1.0, 2.25, 1.5, 1.0, 2.5, 2.5, 2.5, 1.5, 1.75, 1.5, 2.5, 2.5, 1.0, 2.0, 2.5, 1.75, 2.5, 2.75, 2.25, 2.5, 1.0, 2.5, 2.25, 1.75, 2.5, 2.0, 1.0, 1.0, 1.75, 1.75, 2.0, 3.0, 2.25, 3.0, 2.25, 2.5, 2.5, 2.0, 2.5, 1.0, 1.75, 2.75, 2.5, 1.75, 2.0, 2.5, 3.0, 1.0, 2.75, 1.75, 2.0, 2.5, 2.25, 1.75, 1.5, 1.0, 1.75, 3.0, 3.5, 2.5, 2.5, 1.75, 3.0, 2.0, 1.75, 2.0, 1.75, 1.5, 1.5, 2.0, 2.0, 2.25, 1.0, 1.75, 1.75, 1.0, 2.5, 2.5, 2.5, 1.5, 1.75, 1.5, 2.5, 2.5, 1.0, 1.5, 2.0, 2.5, 2.5, 1.0, 1.5, 2.25, 1.0, 2.75, 2.5, 1.0, 2.5, 1.0, 2.0, 2.25, 1.5, 2.75, 2.5, 2.0, 1.75, 2.5, 2.5, 1.5, 1.0, 2.5, 2.25, 2.5, 2.25, 2.5, 2.5, 2.5, 2.0, 1.75, 2.5, 1.0, 1.5, 1.0, 2.0, 1.75, 2.0, 1.0, 1.5, 2.25, 2.5, 2.5, 1.5, 1.75, 2.5, 2.5, 2.25, 1.75, 1.5, 1.75, 2.0, 2.5, 1.75, 1.0, 3.5, 2.25, 1.0, 1.0, 2.5, 2.0, 2.5, 2.5, 2.0, 1.5, 2.25, 1.0, 2.0, 1.75, 2.25, 2.5, 1.5, 2.0, 1.75, 2.5, 1.5, 2.0, 2.75, 1.5, 2.5, 2.5, 1.75, 0.75, 1.75, 2.75, 2.0, 2.25, 2.25, 2.0, 1.0, 2.5, 1.5, 2.5, 1.0, 2.0, 2.5, 2.5, 2.75, 1.0, 2.0, 1.0, 2.75, 2.5, 2.5, 2.5, 2.25, 3.25, 2.5, 2.5, 1.75, 1.0, 2.25, 1.0, 1.75, 2.0, 1.75, 2.5, 2.0, 3.25, 2.75, 1.75, 3.25, 2.5, 1.75, 1.75, 1.75, 2.5, 1.0, 2.5, 2.0, 2.75, 1.5, 3.0, 2.5, 1.75, 1.75, 2.5, 1.0, 2.5, 1.0, 1.75, 1.0, 1.75, 1.0, 1.75, 1.0, 2.0, 2.5, 2.5, 1.0, 3.5, 1.0, 3.25, 2.25, 2.5, 2.5, 1.75, 2.5, 2.0, 1.75, 2.5, 1.0, 2.25, 1.5, 2.5, 2.25, 2.5, 2.5, 1.5, 1.75, 2.0, 2.0, 3.5, 2.5, 2.25, 1.75, 2.5, 2.25, 2.5, 3.25, 2.5, 2.5, 2.5, 1.75, 2.0, 2.5, 2.5, 1.0, 1.75, 2.25, 1.0, 1.5, 2.0, 2.0, 1.0, 1.0, 2.75, 1.5, 2.75, 1.75, 2.25, 2.25, 1.0, 1.0, 1.0, 1.75, 1.75, 1.75, 1.0, 2.0, 2.0, 2.0, 2.5, 1.0, 2.5, 2.25, 1.75, 3.75, 1.75, 2.25, 2.0, 2.5, 1.0, 1.0, 2.0, 2.25, 2.0, 2.0, 1.75, 3.25, 2.5, 1.75, 1.75, 2.5, 2.5, 2.5, 1.5, 2.5, 1.75, 2.5, 2.25, 2.0, 1.0, 2.25, 2.5, 1.75, 2.25, 3.25, 2.5, 2.5, 2.75, 2.5, 1.0, 0.75, 2.5, 1.0, 2.5, 2.0, 1.0, 2.25, 2.0, 1.0, 1.5, 2.25, 1.0, 1.5, 2.5, 2.0, 1.75, 1.75, 2.25, 3.5, 2.5, 1.0, 2.0, 2.0, 1.5, 2.0, 1.0, 1.0, 2.25, 2.5, 2.5, 2.5, 3.0, 2.5, 2.0, 1.0, 1.75, 1.0, 2.5, 2.25, 1.0, 2.25, 3.0, 2.25, 1.0, 1.0, 2.5, 2.75, 2.25, 1.0, 3.0, 1.0, 2.75, 2.5, 1.0, 2.25, 2.0, 2.75, 2.25, 2.5, 2.5, 3.0, 3.25, 1.0, 2.25, 1.5, 1.75, 1.75, 2.5, 2.5, 2.5, 2.5, 2.5, 2.0, 2.0, 2.5, 1.0, 1.0, 1.75, 1.75, 1.0, 2.5, 3.0, 1.5, 3.0, 2.5, 1.75, 1.0, 1.5, 2.5, 2.75, 1.0, 2.5, 2.0, 1.5, 2.75, 2.5, 3.75, 1.75, 1.0, 2.5, 2.0, 1.0, 2.5, 1.75, 2.0, 2.25, 2.25, 2.25, 1.0, 1.0, 2.5, 1.75, 1.75, 1.75, 2.5, 1.75, 1.75, 1.75, 1.75, 1.75, 1.5, 2.5, 1.0, 1.0, 2.5, 2.0, 1.0, 2.5, 2.5, 2.25, 2.0, 1.0, 1.75, 1.0, 2.5, 2.5, 1.0, 2.5, 1.75, 1.0, 2.5, 2.5, 1.75, 2.5, 2.5, 2.5, 1.75, 1.75, 1.75, 1.75, 3.25, 1.0, 1.0, 1.5, 2.5, 2.5, 2.5, 1.75, 2.0, 1.0, 1.75, 2.0, 2.25, 1.75, 2.5, 2.25, 1.0, 2.25, 2.75, 2.5, 2.0, 3.5, 2.5, 2.5, 1.5, 1.5, 2.25, 3.25, 2.25, 3.0, 1.5, 0.75, 1.75, 1.5, 1.75, 2.5, 2.5, 2.5, 1.75, 1.0, 1.0, 2.5, 1.5, 2.5, 1.0, 2.25, 1.75, 1.5, 1.75, 2.5, 1.5, 1.0, 2.0, 2.5, 2.5, 2.0, 1.75, 1.75, 2.5, 2.5, 1.5, 1.0, 1.0, 1.5, 2.5, 2.5, 2.25, 1.75, 2.0, 1.0, 1.75, 1.0, 1.75, 2.5, 1.0, 2.25, 1.75, 2.0, 1.0, 2.25, 2.5, 1.75, 1.0, 3.25, 2.5, 2.0, 2.5, 2.25, 2.5, 2.25, 2.5, 1.75, 1.75, 2.75, 1.0, 2.5, 1.5, 1.75, 1.0, 3.0, 1.0, 1.5, 1.0, 1.0, 1.0, 2.25, 2.5, 2.5, 1.5, 2.5, 2.5, 2.0, 2.0, 2.5, 1.0, 1.0, 2.5, 1.0, 4.0, 2.5, 2.0, 2.5, 2.5, 1.0, 0.75, 1.0, 2.0, 2.25, 2.25, 2.0, 1.0, 2.5, 2.5, 2.25, 3.0, 2.25, 2.5, 1.75, 1.5, 2.25, 1.0, 1.5, 1.0, 2.75, 1.0, 2.0, 0.75, 1.0, 2.25, 1.0, 1.5, 1.0, 2.25, 2.0, 1.75, 2.5, 1.75, 2.25, 1.0, 2.75, 2.25, 1.75, 2.25, 2.5, 1.0, 1.0, 1.0, 2.5, 2.25, 2.75, 2.25, 2.75, 1.75, 1.75, 1.75, 1.5, 1.75, 2.5, 1.0, 2.5, 1.0, 2.5, 2.5, 1.0, 1.75, 1.0, 1.0, 2.0, 1.0, 2.75, 1.75, 2.5, 1.5, 2.5, 2.25, 2.5, 2.25, 2.5, 2.75, 2.5, 2.5, 2.5, 2.5, 3.5, 1.75, 2.25, 2.0, 2.0, 3.0, 1.5, 1.5, 1.75, 2.5, 1.0, 2.0, 1.5, 1.5, 1.0, 2.5, 2.5, 2.25, 1.75, 2.0, 1.0, 2.0, 3.5, 2.75, 2.5, 2.5, 1.5, 1.0, 2.0, 1.0, 1.5, 2.75, 2.5, 1.75, 3.0, 2.5, 2.25, 2.5, 2.25, 2.25, 3.0, 1.5, 1.75, 1.75, 2.5, 1.75, 2.5, 1.75, 1.0, 2.0, 1.75, 1.0, 2.5, 2.0, 1.75, 1.0, 3.0, 1.0, 1.75, 1.0, 1.0, 1.5, 2.5, 1.0, 1.5, 1.0, 2.0, 2.75, 1.0, 1.75, 2.5, 1.75, 1.75, 2.0, 1.5, 1.75, 3.0, 1.0, 2.5, 2.5, 2.75, 2.5, 3.25, 1.75, 2.25, 2.75, 1.0, 1.0, 1.75, 2.25, 2.25, 2.75, 1.75, 2.5, 1.75, 2.5, 1.75, 1.0, 2.5, 1.0, 1.0, 2.0, 2.5, 1.0, 1.75, 2.5, 1.75, 2.25, 1.75, 1.0, 1.75, 1.0, 1.0, 2.5, 1.75, 1.5, 1.0, 1.0, 4.0, 2.5, 2.5, 2.5, 1.75, 3.5, 1.75, 2.5, 2.5, 1.0, 1.0, 1.75, 0.75, 2.5, 1.0, 1.0, 1.0, 1.0, 1.75, 1.75, 2.5, 1.0, 1.5, 3.25, 2.75, 2.5, 3.0, 2.75, 3.0, 1.5, 2.0, 1.75, 1.25, 1.0, 1.75, 1.0, 1.5, 1.0, 1.0, 2.5, 2.5, 2.5, 1.75, 3.5, 2.0, 2.75, 1.0, 2.75, 2.0, 1.0, 1.75, 1.5, 1.75, 1.75, 2.25, 2.25, 1.0, 2.0, 1.0, 2.5, 1.75, 2.5, 2.75, 1.0, 2.5, 3.0, 2.25, 1.0, 2.25, 2.5, 2.25, 1.5, 1.0, 1.5, 2.75, 3.25, 3.0, 1.0, 1.0, 2.25, 2.5, 1.5, 1.0, 2.5, 2.0, 1.0, 1.0, 2.5, 3.0, 2.0, 2.5, 2.5, 2.25, 2.0, 2.5, 2.0, 1.75, 2.5, 2.5, 2.5, 2.0, 2.5, 2.5, 2.0, 1.0, 2.5, 2.5, 1.0, 2.5, 2.5, 1.5, 1.0, 1.75, 1.0, 1.75, 2.25, 1.0, 1.75, 1.75, 2.25, 1.75, 2.0, 2.25, 2.5, 1.0, 1.0, 1.75, 2.5, 2.5, 1.0, 1.75, 1.5, 2.25, 1.0, 2.0, 2.0, 1.0, 2.5, 2.75, 2.25, 1.75, 3.5, 2.5, 1.0, 1.0, 2.25, 1.75, 1.75, 2.25, 1.0, 2.5, 1.0, 1.0, 3.0, 2.0, 0.75, 3.25, 1.75, 2.25, 2.5, 2.5, 1.5, 2.25, 2.75, 1.75, 1.0, 3.0, 1.75, 2.5, 2.5, 2.5, 2.5, 2.25, 2.5, 2.5, 2.75, 1.75, 1.0, 2.0, 2.5, 2.0, 2.0, 2.0, 2.25, 2.25, 1.75, 3.0, 2.25, 2.25, 2.25, 3.5, 2.0, 2.5, 1.75, 2.5, 2.5, 1.0, 2.0, 3.0, 2.5, 2.25, 2.25, 2.25, 1.75, 2.5, 2.5, 1.75, 1.75, 2.5, 2.75, 1.0, 2.0, 2.5, 2.0, 1.0, 2.5, 2.5, 1.0, 3.0, 2.0, 2.25, 1.0, 2.5, 1.0, 2.5, 1.75, 1.0, 2.5, 1.5, 2.75, 2.5, 2.25, 1.5, 2.5, 2.5, 2.5, 1.75, 1.0, 1.75, 2.5, 2.25, 1.75, 1.0, 1.75, 1.75, 1.75, 2.5, 2.75, 3.0, 2.5, 2.0, 1.5, 2.5, 1.5, 1.0, 1.0, 2.0, 2.5, 1.75, 1.0, 2.25, 2.75, 2.25, 1.5, 2.5, 1.0, 2.75, 2.5, 1.0, 2.5, 1.5, 1.75, 1.0, 2.5, 0.75, 2.25, 3.25, 2.5, 2.5, 2.5, 2.5, 1.75, 1.5, 1.75, 3.0, 1.5, 2.5, 1.75, 2.5, 1.75, 1.0, 2.25, 1.75, 1.0, 1.0, 1.0, 2.0, 2.0, 3.0, 2.25, 1.0, 1.5, 3.5, 2.25, 1.5, 1.0, 2.5, 1.75, 1.75, 1.5, 1.0, 2.0, 1.75, 2.5, 1.0, 2.5, 1.5, 1.75, 1.75, 2.5, 1.0, 2.75, 2.0, 2.25, 2.5, 1.5, 2.25, 2.5, 2.0, 2.0, 1.75, 2.5, 1.0, 1.0, 2.5, 2.5, 2.0, 2.5, 2.5, 2.5, 2.5, 2.25, 2.5, 2.5, 1.5, 2.5, 1.75, 2.5, 2.0, 2.25, 1.0, 2.25, 2.25, 2.5, 1.0, 2.5, 1.75, 1.0, 2.25, 1.75, 2.25, 1.0, 2.25, 1.0, 2.5, 1.0, 2.5, 1.0, 1.5, 3.0, 1.75, 2.5, 2.25, 2.25, 2.25, 1.0, 1.75, 3.0, 2.5, 2.0, 2.5, 1.75, 2.5, 2.5, 1.0, 1.0, 2.0, 2.25, 2.0, 2.75, 1.0, 3.5, 1.0, 2.5, 1.75, 1.0, 2.0, 2.0, 1.5, 1.75, 2.0, 2.5, 2.25, 1.0, 2.0, 2.25, 1.0, 1.0, 1.75, 2.5, 2.25, 1.75, 1.75, 2.5, 1.5, 2.0, 1.75, 1.0, 1.75, 1.5, 2.75, 1.75, 1.0, 1.0, 1.5, 2.25, 3.5, 2.5, 2.75, 2.5, 1.5, 2.5, 2.5, 3.25, 2.75, 2.0, 1.5, 1.5, 2.5, 1.75, 2.5, 1.5, 1.75, 3.25, 2.0, 3.75, 0.75, 2.5, 2.5, 1.75, 1.0, 1.0, 1.0, 1.0, 3.25, 1.5, 2.75, 1.75, 1.0, 2.5, 1.75, 1.75, 1.0, 1.5, 2.5, 1.5, 1.0, 1.75, 2.75, 1.75, 1.0, 2.0, 1.75, 2.5, 3.25, 2.5, 2.0, 2.5, 2.25, 2.5, 2.5, 1.0, 2.5, 2.5, 2.5, 2.5, 1.0, 2.25, 1.0, 2.25, 2.5, 1.5, 2.5, 1.75, 1.5, 1.0, 1.0, 2.5, 1.0, 1.5, 1.0, 1.0, 1.75, 1.0, 2.75, 1.75, 1.75, 2.25, 3.5, 2.0, 1.0, 2.5, 3.25, 2.5, 2.5, 2.25, 1.5, 2.5, 1.0, 2.0, 2.5, 2.75, 1.0, 1.0, 2.0, 2.0, 1.75, 2.5, 1.0, 2.25, 2.5, 1.75, 2.5, 2.5, 2.0, 2.5, 3.0, 1.5, 2.0, 1.75, 2.25, 2.0, 2.5, 1.75, 1.75, 2.5, 2.5, 2.5, 2.0, 2.5, 2.5, 2.75, 2.25, 2.5, 1.5, 2.5, 2.75, 2.25, 1.75, 1.0, 2.25, 2.5, 1.0, 2.25, 2.25, 1.75, 1.75, 2.0, 2.75, 1.0, 2.5, 1.0, 3.5, 2.25, 2.0, 2.5, 2.5, 3.0, 1.75, 1.0, 2.25, 3.0, 2.25, 2.75, 1.0, 1.5, 1.0, 2.5, 2.5, 2.5, 2.5, 1.5, 2.0, 2.0, 2.5, 1.0, 1.0, 1.0, 2.5, 1.75, 3.75, 1.75, 1.0, 1.5, 2.5, 2.5, 1.75, 2.0, 1.0, 2.5, 2.25, 2.0, 3.0, 2.5, 2.5, 2.5, 1.0, 2.25, 1.5, 1.0, 1.0, 2.0, 3.0, 1.75, 1.75, 1.0, 3.5, 1.0, 2.75, 1.0, 1.0, 2.5, 1.0, 2.0, 2.25, 2.75, 1.0, 2.25, 2.0, 1.75, 1.0, 2.75, 1.0, 2.75, 1.75, 2.5, 2.25, 2.0, 2.25, 2.5, 1.75, 1.0, 2.5, 2.25, 2.0, 2.75, 2.5, 1.0, 1.0, 1.75, 3.5, 2.5, 1.0, 2.5, 3.5, 1.75, 2.0, 1.0, 1.75, 2.5, 1.0, 2.75, 2.0, 1.75, 2.25, 2.5, 2.5, 1.0, 1.0, 2.5, 1.75, 3.0, 2.5, 1.0, 2.5, 1.75, 2.5, 1.0, 1.0, 2.75, 1.75, 2.75, 1.75, 1.0, 1.0, 1.0, 1.75, 1.0, 3.25, 2.75, 2.5, 2.75, 1.75, 2.5, 2.5, 1.0, 1.5, 1.0, 1.0, 3.0, 1.0, 2.25, 2.25, 2.75, 2.5, 2.5, 1.0, 2.5, 1.75, 2.0, 1.75, 3.0, 1.0, 1.75, 1.0, 1.5, 1.0, 2.0, 1.75, 1.0, 2.25, 1.0, 1.0, 2.5, 1.75, 2.5, 2.5, 2.5, 1.75, 2.5, 2.5, 2.0, 2.5], \"z\": [0.313, 0.342, 0.42, 0.55, 0.49, 0.335, 0.482, 0.4525, 0.64, 0.463, 0.5885, 0.365, 0.2425, 0.419, 0.3675, 0.25795, 0.275, 0.435, 0.626, 0.6125, 0.495, 0.285, 0.615, 0.3825, 0.49995, 0.65, 0.625, 0.4, 0.604, 0.44, 0.2872, 0.403, 0.335, 0.26, 0.3085, 0.43995, 0.235, 0.315, 0.4375, 0.4075, 0.4457, 0.63, 0.55, 0.284, 0.47, 0.43, 0.4915, 0.385, 0.295, 0.555, 0.45999, 0.625, 0.3, 0.625, 0.553, 0.37988, 0.31, 0.365, 0.33195, 0.628, 0.56, 0.531, 0.627, 0.58, 0.41, 0.485, 0.4, 0.549, 0.62, 0.405, 0.232, 0.65, 0.524, 0.541125, 0.3849, 0.4061, 0.57, 0.328, 0.435, 0.499, 0.501, 0.4, 0.22, 0.6571, 0.30995, 0.3, 0.525888, 0.34, 0.39875, 0.206, 0.6, 0.37995, 0.287, 0.30995, 0.6, 0.418, 0.44925, 0.32995, 0.245, 0.549, 0.24995, 0.21, 0.585, 0.615, 0.6185, 0.487585, 0.5099, 0.631625, 0.555, 0.34, 0.36675, 0.415, 0.416286, 0.478, 0.41919, 0.397, 0.45, 0.353, 0.609, 0.234, 0.561, 0.469, 0.32935, 0.488, 0.2799, 0.606, 0.312, 0.65, 0.325, 0.425, 0.219, 0.25, 0.39, 0.475, 0.407, 0.272, 0.362, 0.535, 0.284, 0.3675, 0.3799, 0.52, 0.175, 0.46, 0.345, 0.455, 0.61, 0.563, 0.6125, 0.218, 0.404, 0.1365, 0.31395, 0.575, 0.28, 0.515, 0.513, 0.599, 0.365, 0.562, 0.53, 0.525, 0.484, 0.36, 0.387, 0.4835, 0.6555, 0.345, 0.533, 0.385, 0.197, 0.485, 0.295, 0.499, 0.191, 0.5, 0.39, 0.58, 0.36995, 0.51995, 0.255, 0.495, 0.51, 0.253, 0.503, 0.275, 0.249, 0.31, 0.63, 0.599999, 0.2485, 0.31, 0.46, 0.526, 0.56, 0.415, 0.246, 0.3145, 0.42, 0.535, 0.35, 0.515, 0.23, 0.568, 0.25, 0.581, 0.651, 0.6, 0.5, 0.475, 0.352, 0.42, 0.428, 0.599, 0.492, 0.63, 0.575, 0.313, 0.61808, 0.64, 0.485, 0.3, 0.3795, 0.33995, 0.5, 0.2399, 0.31495, 0.36128, 0.1, 0.54, 0.4805, 0.28, 0.44, 0.53, 0.56, 0.16, 0.20995, 0.2265, 0.38, 0.4095, 0.405, 0.375, 0.185, 0.245, 0.425, 0.495, 0.365, 0.41725, 0.33995, 0.615, 0.403, 0.258, 0.533, 0.5375, 0.262, 0.134, 0.402, 0.205, 0.55365, 0.55995, 0.26, 0.27, 0.295, 0.266, 0.3259, 0.6475, 0.569, 0.246, 0.515, 0.207, 0.48999, 0.335, 0.295, 0.385, 0.35, 0.235, 0.358, 0.228, 0.405, 0.538, 0.53, 0.636, 0.535, 0.53, 0.45, 0.23, 0.229, 0.437, 0.595, 0.3475, 0.29795, 0.245, 0.5432, 0.41345, 0.33, 0.4245, 0.23, 0.349, 0.5, 0.499, 0.32195, 0.494, 0.44175, 0.438, 0.352, 0.46, 0.2245, 0.254, 0.255, 0.61, 0.4025, 0.28095, 0.604, 0.565, 0.255, 0.445, 0.195, 0.275, 0.387, 0.49, 0.505, 0.3035, 0.27, 0.323, 0.382, 0.28, 0.26, 0.2015, 0.5365, 0.248, 0.532, 0.58, 0.463, 0.26, 0.59, 0.312, 0.566, 0.511555, 0.583, 0.29, 0.3111, 0.325, 0.4913, 0.315, 0.36, 0.33, 0.48145, 0.23495, 0.251, 0.5425, 0.325, 0.415, 0.2525, 0.465, 0.3369, 0.225, 0.27, 0.536, 0.585, 0.445, 0.32, 0.557, 0.212, 0.376, 0.324, 0.5499, 0.32, 0.265, 0.39495, 0.368, 0.453246, 0.49, 0.341, 0.235, 0.56, 0.255, 0.54, 0.35, 0.582, 0.3725, 0.41, 0.36, 0.225, 0.647, 0.185, 0.335, 0.21, 0.522, 0.49995, 0.33, 0.465, 0.302, 0.5, 0.201, 0.265, 0.339, 0.315275, 0.505, 0.368, 0.156, 0.61, 0.42, 0.192, 0.3, 0.505, 0.11, 0.211, 0.615, 0.63, 0.3015, 0.369, 0.635, 0.383, 0.455, 0.625, 0.651, 0.48, 0.46, 0.267345, 0.53, 0.4495, 0.289, 0.373, 0.525, 0.55, 0.523, 0.628, 0.581, 0.245, 0.415, 0.225, 0.287, 0.23995, 0.591, 0.475, 0.575, 0.155, 0.55, 0.645, 0.464, 0.35, 0.591, 0.225, 0.225, 0.345, 0.23, 0.385, 0.09, 0.37, 0.62, 0.45, 0.45, 0.53, 0.635, 0.58, 0.285, 0.375, 0.56, 0.405, 0.413, 0.2876, 0.225, 0.319, 0.3225, 0.57, 0.465, 0.435, 0.502, 0.525, 0.525, 0.65, 0.505, 0.33, 0.385, 0.306, 0.546, 0.542, 0.62, 0.175, 0.345, 0.51, 0.53, 0.155, 0.266, 0.2572, 0.265, 0.37222, 0.3375, 0.5825, 0.4892, 0.4051, 0.372977, 0.31, 0.538, 0.317, 0.565, 0.325, 0.543, 0.525, 0.364, 0.394475, 0.316, 0.33995, 0.486, 0.16, 0.139, 0.562, 0.299, 0.511, 0.499, 0.356, 0.47, 0.458, 0.305495, 0.543, 0.34, 0.6331, 0.31, 0.34995, 0.2678, 0.234, 0.6075, 0.223, 0.4, 0.253, 0.3, 0.625, 0.42, 0.498, 0.45, 0.215, 0.437, 0.256883, 0.5925, 0.25235, 0.37, 0.46575, 0.185, 0.5828, 0.245, 0.302, 0.451555, 0.25, 0.255, 0.19, 0.34995, 0.613, 0.3, 0.455, 0.335, 0.1975, 0.4125, 0.3953, 0.3424, 0.3165, 0.39, 0.225, 0.55, 0.28, 0.575, 0.585, 0.62, 0.2047, 0.375, 0.475, 0.215, 0.35, 0.263, 0.4, 0.525, 0.34995, 0.3125, 0.24, 0.495, 0.58005, 0.64, 0.417, 0.17495, 0.295, 0.423, 0.343, 0.467, 0.5125, 0.575, 0.465, 0.27, 0.34, 0.497, 0.344, 0.38638, 0.312, 0.2527, 0.4375, 0.35, 0.619, 0.4082, 0.451, 0.317, 0.49, 0.2399, 0.446, 0.275, 0.23995, 0.248, 0.6195, 0.36375, 0.385, 0.37, 0.425, 0.342, 0.345, 0.605, 0.35, 0.25, 0.565, 0.4, 0.282613, 0.1745, 0.3065, 0.445, 0.433, 0.306, 0.62, 0.245, 0.238, 0.523, 0.5225, 0.18, 0.375, 0.249, 0.551, 0.375, 0.54, 0.605, 0.205, 0.645, 0.314, 0.33, 0.49, 0.445, 0.3775, 0.48, 0.341, 0.611, 0.37995, 0.5, 0.41, 0.415, 0.297, 0.57555, 0.53464, 0.3525, 0.488, 0.215, 0.5925, 0.29, 0.475, 0.32, 0.29, 0.48725, 0.339, 0.44, 0.3665, 0.462, 0.56, 0.285, 0.28, 0.21, 0.2565, 0.411, 0.215, 0.35995, 0.48, 0.39, 0.4135, 0.285, 0.475, 0.386591, 0.52495, 0.241, 0.461, 0.247, 0.2965, 0.1418, 0.333, 0.602, 0.565, 0.373, 0.588, 0.485, 0.4825, 0.2512, 0.464, 0.28, 0.485, 0.305, 0.1107, 0.35, 0.31995, 0.368, 0.4335, 0.611, 0.307, 0.4425, 0.485, 0.367, 0.429, 0.446, 0.5725, 0.477, 0.518, 0.462, 0.137, 0.53, 0.64, 0.29845, 0.575, 0.551, 0.27131, 0.479, 0.52, 0.59995, 0.483945, 0.39, 0.1925, 0.33, 0.25, 0.243, 0.575, 0.639, 0.405, 0.615, 0.49, 0.467, 0.48, 0.387, 0.415, 0.263, 0.5199, 0.57, 0.45, 0.3, 0.32, 0.3875, 0.458, 0.38, 0.2, 0.385, 0.396675, 0.452, 0.426, 0.315, 0.326, 0.2685, 0.44, 0.3, 0.525, 0.315, 0.309, 0.21995, 0.289, 0.21, 0.26, 0.29995, 0.555, 0.384, 0.49995, 0.43, 0.35, 0.62, 0.25, 0.376, 0.475, 0.12075, 0.33, 0.6195, 0.345, 0.598, 0.335, 0.3725, 0.3, 0.194, 0.5075, 0.325, 0.3299, 0.329, 0.494, 0.206, 0.423, 0.259, 0.3456, 0.395, 0.625, 0.439, 0.38, 0.44, 0.415, 0.5, 0.515, 0.329995, 0.409316, 0.49, 0.305, 0.24, 0.325, 0.5358, 0.374, 0.18965, 0.42085, 0.199, 0.195, 0.2884, 0.442, 0.61942, 0.635, 0.21, 0.5125, 0.567, 0.525, 0.475, 0.25, 0.22, 0.23, 0.3855, 0.36825, 0.2499, 0.35, 0.175, 0.27, 0.495, 0.5425, 0.33, 0.2998, 0.2999, 0.195, 0.405, 0.36, 0.25675, 0.3325, 0.218, 0.429, 0.589, 0.255, 0.3445, 0.452, 0.54, 0.246, 0.535, 0.43, 0.52, 0.45, 0.22, 0.525, 0.54, 0.6, 0.6, 0.625, 0.15, 0.389999, 0.285, 0.318989, 0.556, 0.275, 0.43, 0.3, 0.39645, 0.225, 0.26, 0.655, 0.4138, 0.33499, 0.556, 0.36, 0.48, 0.324, 0.275, 0.18, 0.3735, 0.356, 0.625, 0.4944, 0.585, 0.6, 0.43, 0.307, 0.6047, 0.2199, 0.27, 0.432, 0.3, 0.361, 0.24995, 0.32, 0.305, 0.503, 0.23575, 0.657, 0.385, 0.38995, 0.15, 0.2545, 0.555, 0.245, 0.31995, 0.337, 0.492, 0.34858, 0.18, 0.4, 0.295, 0.4315, 0.18, 0.6357, 0.482, 0.168, 0.398, 0.5925, 0.655, 0.6225, 0.38, 0.64836, 0.432, 0.35325, 0.32, 0.3499, 0.33, 0.408, 0.321, 0.359, 0.3, 0.38, 0.355, 0.259, 0.353, 0.43, 0.46, 0.08, 0.218, 0.325, 0.556, 0.225, 0.43995, 0.175, 0.306, 0.235, 0.3995, 0.478, 0.515, 0.55, 0.149, 0.526, 0.52755, 0.625, 0.377691, 0.648475, 0.383, 0.535, 0.44995, 0.465425, 0.599, 0.416, 0.595, 0.2, 0.402, 0.433, 0.275, 0.41, 0.55482, 0.607, 0.5499, 0.258, 0.1325, 0.4671, 0.641, 0.35, 0.335, 0.44, 0.4646, 0.3, 0.552, 0.244, 0.445, 0.53, 0.09, 0.585, 0.498, 0.379, 0.462, 0.388, 0.255, 0.55, 0.606, 0.334, 0.36, 0.235, 0.58, 0.355, 0.375, 0.372, 0.479, 0.501, 0.245, 0.4967, 0.347, 0.199, 0.4405, 0.325, 0.195, 0.295, 0.3553, 0.276, 0.46, 0.37, 0.346, 0.1725, 0.37995, 0.468, 0.477, 0.529, 0.312, 0.3261, 0.36, 0.438, 0.36, 0.585, 0.265, 0.375, 0.3265, 0.16, 0.4, 0.405, 0.399, 0.26, 0.325, 0.34495, 0.4575, 0.389, 0.515, 0.415, 0.535, 0.54, 0.525, 0.57, 0.56995, 0.2832, 0.495, 0.29205, 0.415, 0.295832, 0.45, 0.49995, 0.465, 0.329, 0.475, 0.255, 0.435, 0.345, 0.355, 0.282, 0.244, 0.375, 0.5275, 0.313, 0.587, 0.304, 0.305, 0.28, 0.5, 0.27495, 0.4556, 0.3129, 0.535, 0.427, 0.405, 0.48, 0.293, 0.268, 0.475, 0.488, 0.2639, 0.46, 0.39995, 0.37, 0.4508, 0.627, 0.495, 0.31, 0.55, 0.215, 0.63, 0.267, 0.365, 0.5445, 0.599, 0.254, 0.225, 0.537, 0.335, 0.224, 0.395, 0.45, 0.37, 0.429, 0.15, 0.555, 0.326, 0.225, 0.2451, 0.535, 0.305, 0.215, 0.4325, 0.655, 0.2662, 0.244615, 0.46, 0.37, 0.465, 0.189, 0.43875, 0.6, 0.589, 0.59, 0.4799, 0.21, 0.42, 0.565, 0.6, 0.38, 0.1685, 0.355, 0.277, 0.236, 0.27, 0.425, 0.635, 0.51025, 0.254, 0.299, 0.175, 0.1575, 0.58, 0.12474, 0.285, 0.242, 0.4748, 0.49, 0.465, 0.515, 0.43, 0.2534, 0.355, 0.18695, 0.306, 0.51, 0.345, 0.49995, 0.363, 0.325, 0.485, 0.452, 0.26495, 0.472, 0.2675, 0.565, 0.535, 0.389, 0.4, 0.264, 0.412, 0.2465, 0.23, 0.302, 0.145, 0.4365, 0.55, 0.2665, 0.619, 0.405, 0.3, 0.231, 0.4, 0.45, 0.595, 0.332, 0.155, 0.4, 0.349, 0.529, 0.405, 0.6352, 0.54, 0.402, 0.329932, 0.3, 0.525, 0.6025, 0.4, 0.445, 0.525, 0.395, 0.51, 0.503, 0.4753, 0.295, 0.25, 0.083, 0.21, 0.65088, 0.35, 0.305, 0.645, 0.385, 0.395, 0.26, 0.19644, 0.425, 0.369, 0.3499, 0.65, 0.29995, 0.625, 0.19, 0.49, 0.415, 0.425, 0.642, 0.655, 0.458, 0.33, 0.38495, 0.56, 0.465, 0.425, 0.315, 0.53, 0.399, 0.168, 0.374, 0.28, 0.322, 0.4599, 0.427, 0.642, 0.24, 0.6455, 0.475, 0.568, 0.325, 0.499431, 0.545, 0.538888, 0.28995, 0.587, 0.615, 0.459, 0.243, 0.25, 0.315, 0.404, 0.5599, 0.285, 0.5, 0.38, 0.469, 0.405, 0.4399, 0.525, 0.58, 0.275, 0.629, 0.395, 0.35, 0.25, 0.653, 0.43, 0.305, 0.44015, 0.615, 0.455, 0.635, 0.316, 0.4655, 0.305, 0.645, 0.366, 0.29, 0.4725, 0.55, 0.41, 0.44, 0.535, 0.3, 0.4325, 0.492, 0.19995, 0.4398, 0.32, 0.345, 0.27495, 0.27, 0.342, 0.327, 0.61, 0.455, 0.54, 0.411, 0.544, 0.5685, 0.391, 0.298, 0.4, 0.425, 0.3285, 0.65, 0.53, 0.495, 0.5, 0.325, 0.365, 0.471, 0.223, 0.503, 0.23, 0.55, 0.193, 0.59, 0.43, 0.4749, 0.435, 0.312, 0.44, 0.580135, 0.575, 0.613, 0.235, 0.28, 0.268, 0.235, 0.39, 0.65495, 0.4495, 0.15, 0.44, 0.42, 0.312, 0.32, 0.235, 0.437, 0.545, 0.64, 0.432, 0.548, 0.40995, 0.5621, 0.475, 0.425, 0.6, 0.239, 0.295, 0.56, 0.613, 0.206, 0.253, 0.43, 0.605, 0.425, 0.3759, 0.21, 0.234, 0.285, 0.4, 0.1745, 0.2224, 0.4025, 0.25, 0.6, 0.2725, 0.36399, 0.575, 0.4, 0.427874, 0.309, 0.32, 0.39, 0.299, 0.375, 0.2405, 0.32, 0.27, 0.3275, 0.34, 0.2, 0.275, 0.28, 0.485, 0.532, 0.36495, 0.2125, 0.135, 0.437, 0.39, 0.1195, 0.3275, 0.175, 0.28995, 0.4, 0.21995, 0.1617, 0.5, 0.465, 0.54, 0.525, 0.32495, 0.565, 0.6035, 0.4535, 0.583, 0.275, 0.335, 0.646, 0.3925, 0.47, 0.56, 0.519, 0.317, 0.371, 0.25, 0.532, 0.49995, 0.375, 0.64, 0.4, 0.572, 0.31, 0.4275, 0.365, 0.2505, 0.411715, 0.415, 0.129, 0.489, 0.17, 0.4185, 0.261, 0.355, 0.39995, 0.19, 0.2295, 0.539, 0.549, 0.545, 0.285, 0.648, 0.61, 0.5865, 0.52, 0.455, 0.653, 0.27995, 0.44995, 0.565, 0.62, 0.269, 0.63, 0.425, 0.6475, 0.45, 0.44, 0.445, 0.53, 0.2975, 0.495, 0.54, 0.395, 0.2141, 0.21, 0.4995, 0.546, 0.292, 0.289, 0.24, 0.395, 0.335, 0.492, 0.25, 0.545, 0.555, 0.64, 0.39, 0.4665, 0.3725, 0.255, 0.4668, 0.61, 0.356, 0.165, 0.229, 0.53, 0.49995, 0.619, 0.547, 0.3598, 0.499, 0.189, 0.257, 0.27, 0.4535, 0.237, 0.456, 0.3555, 0.29995, 0.335, 0.2685, 0.385, 0.376, 0.605004, 0.56, 0.343, 0.27, 0.411605, 0.55, 0.465, 0.584, 0.275, 0.3245, 0.3852, 0.27, 0.38925, 0.315, 0.545, 0.55, 0.415, 0.3875, 0.432, 0.402, 0.2947, 0.5, 0.65, 0.435, 0.51, 0.525, 0.2, 0.435, 0.455, 0.471, 0.2535, 0.185, 0.5355, 0.5895, 0.36, 0.595, 0.3, 0.57, 0.285, 0.435, 0.16, 0.45, 0.51, 0.539, 0.407193, 0.32, 0.452, 0.6, 0.279, 0.585, 0.405, 0.49, 0.611, 0.462, 0.54, 0.26, 0.51, 0.5675, 0.445, 0.455, 0.54, 0.53, 0.41, 0.45, 0.6099, 0.648, 0.55, 0.347, 0.28835, 0.525, 0.25025, 0.341, 0.39, 0.53995, 0.552, 0.25, 0.502, 0.48, 0.3785, 0.605, 0.30755, 0.3047, 0.568, 0.385, 0.345, 0.435, 0.579, 0.236, 0.3051, 0.368, 0.255, 0.4, 0.44, 0.417, 0.435, 0.475, 0.5635, 0.285, 0.471, 0.5, 0.64, 0.4425, 0.2134, 0.325, 0.425, 0.55, 0.59995, 0.29, 0.27, 0.22995, 0.234999, 0.265, 0.3673, 0.55, 0.35275, 0.40395, 0.585, 0.554, 0.546, 0.28, 0.2125, 0.428, 0.3649, 0.559, 0.213, 0.62, 0.24, 0.6, 0.41, 0.328, 0.625, 0.64995, 0.235, 0.489, 0.536, 0.4, 0.398, 0.379, 0.345, 0.365, 0.315, 0.571, 0.225, 0.315, 0.42, 0.31, 0.269, 0.36999, 0.569, 0.175, 0.44, 0.435, 0.345, 0.558, 0.475, 0.49, 0.335, 0.35, 0.1, 0.4175, 0.253, 0.49, 0.47, 0.4833, 0.48, 0.165, 0.2199, 0.315, 0.25, 0.268, 0.38, 0.499, 0.285, 0.183, 0.429, 0.403, 0.3755, 0.5162, 0.385, 0.515, 0.375, 0.65, 0.306888, 0.31, 0.25175, 0.366, 0.42995, 0.1495, 0.31, 0.555, 0.433, 0.307, 0.655275, 0.392, 0.35995, 0.36, 0.566, 0.415, 0.1995, 0.4, 0.608, 0.5899, 0.48, 0.49995, 0.533112, 0.30321, 0.525, 0.39995, 0.3715, 0.522, 0.588, 0.2769, 0.248, 0.28, 0.495, 0.2903, 0.527, 0.487028, 0.325, 0.354, 0.2625, 0.5602, 0.22, 0.65, 0.435, 0.2, 0.295, 0.580379, 0.515, 0.599, 0.285, 0.29, 0.355, 0.381, 0.571, 0.371, 0.514, 0.386, 0.464, 0.335, 0.465, 0.35, 0.148, 0.53, 0.349, 0.24, 0.33, 0.545, 0.21495, 0.6575, 0.476, 0.11, 0.292, 0.317, 0.455, 0.46, 0.405, 0.333, 0.427, 0.465, 0.6194, 0.535, 0.234, 0.3089, 0.45, 0.5475, 0.39995, 0.516, 0.25, 0.475, 0.415, 0.545, 0.32995, 0.61075, 0.578, 0.501, 0.46525, 0.315, 0.3425, 0.306, 0.58, 0.405, 0.51, 0.173, 0.21, 0.445, 0.585, 0.381, 0.235, 0.48, 0.575, 0.35, 0.259, 0.599, 0.21, 0.545, 0.299995, 0.44, 0.445, 0.39799, 0.363, 0.62, 0.333, 0.448, 0.485, 0.48995, 0.4985, 0.531, 0.31, 0.495, 0.495, 0.44, 0.28, 0.248, 0.294, 0.561, 0.6565, 0.37, 0.34995, 0.223, 0.56, 0.594, 0.6, 0.315, 0.43, 0.44, 0.3125, 0.3, 0.33675, 0.589, 0.21, 0.206135, 0.285, 0.23, 0.35, 0.304, 0.37, 0.44, 0.235, 0.49995, 0.6225, 0.3, 0.205, 0.435, 0.153, 0.454, 0.345, 0.585, 0.38, 0.2506, 0.37, 0.3695, 0.615, 0.305, 0.59, 0.485, 0.215, 0.43, 0.3249, 0.45995, 0.325, 0.513, 0.475, 0.419, 0.129, 0.58, 0.385, 0.265, 0.33, 0.589, 0.538, 0.5301, 0.299, 0.556, 0.171, 0.54, 0.25, 0.575, 0.3795, 0.385, 0.4155, 0.3975, 0.53, 0.496752, 0.33, 0.525, 0.26995, 0.65, 0.5205, 0.6525, 0.506, 0.416, 0.5, 0.46, 0.371025, 0.576, 0.3535, 0.183, 0.46, 0.265, 0.295, 0.418, 0.554, 0.5345, 0.53, 0.357186, 0.3, 0.304, 0.385, 0.415, 0.309212, 0.235, 0.47, 0.375, 0.41, 0.566, 0.332, 0.5, 0.445, 0.277, 0.545, 0.435, 0.638, 0.418, 0.499, 0.15, 0.427, 0.6325, 0.524, 0.47, 0.385, 0.575, 0.22, 0.46, 0.175, 0.465, 0.552, 0.565, 0.518, 0.373, 0.385, 0.245, 0.375, 0.45, 0.455, 0.65, 0.378, 0.22, 0.2855, 0.34, 0.375, 0.335, 0.385, 0.429, 0.52395, 0.284, 0.32, 0.4685, 0.4925, 0.542525, 0.435, 0.242, 0.325, 0.21, 0.1875, 0.56, 0.272, 0.235, 0.259, 0.473, 0.405, 0.475, 0.4995, 0.386, 0.458, 0.55, 0.6055, 0.421, 0.536, 0.2472, 0.25, 0.20495, 0.43, 0.25, 0.26, 0.547, 0.3799, 0.545, 0.342, 0.17, 0.616, 0.64, 0.332, 0.38, 0.415, 0.26, 0.605, 0.32, 0.22995, 0.255, 0.479, 0.472, 0.198, 0.44, 0.506, 0.3825, 0.2695, 0.56, 0.4795, 0.402, 0.549, 0.44995, 0.493, 0.1425, 0.25, 0.465, 0.465, 0.28, 0.4, 0.31, 0.435, 0.46595, 0.253, 0.33, 0.554, 0.35, 0.294999, 0.451, 0.345, 0.206, 0.58, 0.43, 0.535, 0.2868, 0.35, 0.345, 0.435, 0.461, 0.33, 0.3225, 0.475, 0.250275, 0.2745, 0.28495, 0.26495, 0.242, 0.555, 0.4035, 0.253779, 0.3844, 0.646, 0.415, 0.507, 0.5455, 0.45, 0.264, 0.65, 0.365, 0.343566, 0.375, 0.295, 0.325, 0.265, 0.562, 0.54, 0.27995, 0.54, 0.31, 0.19, 0.44, 0.23, 0.455, 0.175, 0.65, 0.1925, 0.23995, 0.175, 0.41, 0.57, 0.469, 0.559, 0.56845, 0.24, 0.57495, 0.18, 0.3, 0.63, 0.507, 0.2875, 0.424, 0.4, 0.62, 0.3, 0.615, 0.206, 0.5155, 0.554, 0.315, 0.299, 0.65, 0.465, 0.535, 0.564, 0.515, 0.58, 0.309, 0.536751, 0.415, 0.267, 0.485, 0.482, 0.535, 0.576, 0.37875, 0.2699, 0.21, 0.4299, 0.36, 0.405, 0.45, 0.58, 0.464, 0.2, 0.28, 0.34615, 0.1975, 0.35, 0.519, 0.5903, 0.41, 0.437, 0.221, 0.38, 0.506, 0.395, 0.285, 0.311, 0.52, 0.435, 0.12, 0.186, 0.248, 0.287, 0.51, 0.249, 0.34, 0.399888, 0.44, 0.5405, 0.385, 0.558, 0.6, 0.45, 0.2325, 0.436, 0.24, 0.48995, 0.35245, 0.335, 0.549, 0.61825, 0.505, 0.275, 0.499, 0.507, 0.61985, 0.5, 0.31, 0.646, 0.265, 0.475, 0.6, 0.47, 0.31995, 0.39, 0.585, 0.232603, 0.543, 0.6075, 0.33, 0.605, 0.441, 0.65, 0.395, 0.245, 0.378, 0.6, 0.6325, 0.21, 0.175, 0.455, 0.45, 0.48, 0.38, 0.35995, 0.203, 0.456, 0.547, 0.28, 0.64, 0.477, 0.455, 0.587206, 0.425, 0.5115, 0.218, 0.332, 0.291, 0.279, 0.412, 0.4, 0.2, 0.397, 0.371, 0.458, 0.4365, 0.32995, 0.282, 0.25, 0.4, 0.2, 0.355, 0.425, 0.39, 0.33, 0.4825, 0.525, 0.237, 0.205, 0.623, 0.565, 0.4, 0.405, 0.337, 0.355, 0.42, 0.448, 0.325, 0.4888, 0.489, 0.595, 0.3599, 0.625, 0.33999, 0.42, 0.654, 0.375, 0.6395, 0.418, 0.4429, 0.565, 0.545, 0.5, 0.4395, 0.374, 0.33, 0.365, 0.2909, 0.577, 0.28, 0.299995, 0.44, 0.2495, 0.235, 0.32, 0.35, 0.334, 0.235, 0.442, 0.264, 0.275, 0.43, 0.55, 0.6035, 0.23, 0.449, 0.42, 0.2, 0.286, 0.579, 0.3451, 0.35, 0.2915, 0.64995, 0.4585, 0.5, 0.3623, 0.324, 0.495, 0.2335, 0.479, 0.3222, 0.347, 0.345, 0.34595, 0.55, 0.39995, 0.2695, 0.494, 0.453, 0.4425, 0.235, 0.3898, 0.346, 0.36, 0.65, 0.29, 0.234, 0.26, 0.3499, 0.275, 0.375, 0.47, 0.49, 0.615, 0.249, 0.3965, 0.405, 0.56, 0.45995, 0.265, 0.502, 0.43, 0.525, 0.415, 0.6, 0.225, 0.3, 0.491234, 0.19995, 0.45, 0.649, 0.4, 0.471001, 0.385, 0.326, 0.335, 0.32, 0.3, 0.26995, 0.59, 0.23995, 0.215, 0.165, 0.26135, 0.569, 0.425, 0.337, 0.56, 0.4495, 0.4035, 0.405, 0.385, 0.285, 0.2499, 0.633634, 0.3299, 0.31, 0.345, 0.160797, 0.5625, 0.515, 0.497, 0.312891, 0.3625, 0.402101, 0.438, 0.16, 0.415, 0.405, 0.585, 0.64, 0.52, 0.3675, 0.3, 0.625, 0.53, 0.379, 0.615, 0.38, 0.3149, 0.32495, 0.225, 0.535, 0.3485, 0.549, 0.4, 0.62, 0.34995, 0.339, 0.615, 0.6, 0.455, 0.485, 0.358, 0.339, 0.258, 0.455, 0.437, 0.319, 0.51, 0.44, 0.304, 0.139, 0.4645, 0.3365, 0.23, 0.425, 0.3, 0.4575, 0.366, 0.502, 0.194, 0.305, 0.575, 0.3435, 0.325, 0.6, 0.42, 0.2575, 0.317, 0.252, 0.289, 0.355, 0.3965, 0.3625, 0.395, 0.599, 0.218, 0.58995, 0.218, 0.36, 0.35, 0.35, 0.32995, 0.425, 0.21, 0.6315, 0.295, 0.575, 0.415, 0.639888, 0.329445, 0.395, 0.4, 0.3655, 0.245, 0.39, 0.1965, 0.2769, 0.505, 0.352, 0.597326, 0.27, 0.235, 0.4099, 0.608, 0.3815, 0.5621, 0.308, 0.356, 0.4188, 0.276, 0.285, 0.205, 0.583, 0.657, 0.386, 0.58995, 0.575, 0.574, 0.565, 0.5, 0.33, 0.286, 0.45, 0.275, 0.645, 0.152, 0.315, 0.19, 0.233, 0.249, 0.31, 0.26595, 0.2, 0.402, 0.305, 0.505, 0.482, 0.29995, 0.2457, 0.283, 0.65, 0.53, 0.44, 0.59999, 0.544, 0.27, 0.435, 0.349, 0.32, 0.594, 0.5315, 0.3745, 0.45, 0.3465, 0.28, 0.5575, 0.26, 0.64, 0.28, 0.205, 0.625, 0.15, 0.25595, 0.2465, 0.45, 0.595888, 0.454, 0.2999, 0.2, 0.3465, 0.585, 0.383, 0.519, 0.41, 0.578, 0.395, 0.364, 0.24, 0.328423, 0.594, 0.425, 0.30962, 0.26, 0.5635, 0.5185, 0.5635, 0.35, 0.225, 0.235867, 0.399, 0.1775, 0.224, 0.302, 0.46, 0.415, 0.2546, 0.35725, 0.44, 0.32, 0.31, 0.385, 0.3, 0.2255, 0.32, 0.25275, 0.254, 0.62, 0.435, 0.46, 0.268, 0.446, 0.285, 0.53, 0.402, 0.358, 0.35495, 0.405, 0.568, 0.575, 0.315, 0.280927, 0.44, 0.27, 0.289659, 0.555, 0.45, 0.495, 0.58, 0.56, 0.45, 0.354, 0.2799, 0.339, 0.638, 0.47558, 0.2438, 0.6, 0.62, 0.626, 0.23, 0.537, 0.21, 0.2005, 0.2535, 0.15, 0.44, 0.44, 0.2195, 0.22, 0.27, 0.365, 0.451, 0.202, 0.471, 0.235, 0.2165, 0.359, 0.2525, 0.37, 0.42, 0.330675, 0.24, 0.334888, 0.414, 0.525, 0.4299, 0.39, 0.224, 0.2575, 0.327, 0.425, 0.14, 0.2155, 0.4649, 0.417, 0.453, 0.2595, 0.46, 0.5615, 0.641, 0.33, 0.447, 0.32, 0.2127, 0.26, 0.41, 0.355, 0.2755, 0.415, 0.279, 0.35, 0.355, 0.235, 0.20995, 0.23, 0.43, 0.221, 0.255, 0.355, 0.3, 0.5, 0.191, 0.315, 0.415, 0.394, 0.49, 0.52346, 0.55, 0.342, 0.56, 0.39995, 0.48, 0.41, 0.53, 0.528, 0.4699, 0.397, 0.195, 0.285, 0.295, 0.602, 0.235, 0.465, 0.234, 0.5042, 0.5895, 0.415, 0.427, 0.459, 0.483453, 0.24695, 0.235, 0.28879, 0.2298, 0.5165, 0.234, 0.23, 0.3, 0.47, 0.3399, 0.65, 0.585, 0.598, 0.475, 0.3145, 0.397, 0.345, 0.325, 0.265, 0.402, 0.25, 0.3, 0.419, 0.41, 0.461, 0.385, 0.49195, 0.56, 0.37, 0.2634, 0.1, 0.28995, 0.263, 0.3975, 0.245, 0.535, 0.449, 0.49, 0.4458, 0.345, 0.3275, 0.4365, 0.55, 0.441, 0.4065, 0.243, 0.3595, 0.408, 0.48, 0.308, 0.17, 0.4915, 0.515, 0.55, 0.255, 0.635, 0.265, 0.34981, 0.235, 0.33, 0.5, 0.57, 0.544, 0.439, 0.53, 0.4275, 0.337, 0.435, 0.49265, 0.383962, 0.457, 0.345, 0.3145, 0.53, 0.65, 0.3495, 0.16505, 0.58, 0.33, 0.5, 0.445, 0.2749, 0.21995, 0.4595, 0.32895, 0.307, 0.3825, 0.478, 0.26, 0.616, 0.54, 0.3, 0.5075, 0.241, 0.485, 0.548, 0.345, 0.28, 0.45, 0.515, 0.6, 0.37, 0.51, 0.425, 0.337, 0.563, 0.245, 0.59, 0.4025, 0.435, 0.3, 0.6, 0.205, 0.3575, 0.332888, 0.174, 0.515, 0.392, 0.485, 0.2175, 0.502, 0.1025, 0.54, 0.6, 0.406, 0.62, 0.401, 0.276, 0.5, 0.375, 0.26, 0.431, 0.321, 0.433, 0.482, 0.505, 0.452, 0.581, 0.476, 0.535, 0.6298, 0.417838, 0.399895, 0.3, 0.64, 0.46, 0.525, 0.49999, 0.512031, 0.31, 0.255, 0.435, 0.453, 0.26, 0.223, 0.605, 0.519, 0.535, 0.489, 0.25, 0.58, 0.605, 0.59995, 0.48, 0.32995, 0.25, 0.345, 0.175, 0.185, 0.411, 0.265, 0.256, 0.255, 0.54, 0.481015, 0.575, 0.33995, 0.475, 0.389, 0.645, 0.475, 0.55, 0.305, 0.545, 0.3945, 0.6, 0.3, 0.33, 0.48, 0.496, 0.625, 0.475, 0.27525, 0.253, 0.63, 0.262, 0.552, 0.355, 0.305, 0.484998, 0.3345, 0.475, 0.30978, 0.2745, 0.26505, 0.5675, 0.285, 0.445838, 0.3049, 0.29, 0.25, 0.342, 0.4, 0.3125, 0.267, 0.575, 0.24, 0.198, 0.565, 0.34, 0.588, 0.2805, 0.39, 0.509, 0.4906, 0.65, 0.52995, 0.265, 0.61, 0.554729, 0.395, 0.341, 0.2645, 0.395, 0.64, 0.43, 0.41, 0.22, 0.4055, 0.633, 0.29595, 0.605, 0.255, 0.474, 0.37, 0.288, 0.1, 0.6, 0.515, 0.345, 0.43999, 0.55495, 0.605, 0.609, 0.425, 0.3999, 0.519995, 0.625, 0.6, 0.4595, 0.499, 0.395, 0.3825, 0.40495, 0.53, 0.195, 0.19999, 0.5488, 0.588, 0.445, 0.3, 0.48, 0.3, 0.36, 0.527, 0.266, 0.33595, 0.215, 0.481, 0.32, 0.295, 0.295, 0.32, 0.4375, 0.443, 0.575, 0.245, 0.45, 0.536, 0.373, 0.45, 0.645, 0.23, 0.593, 0.558, 0.53825, 0.475, 0.20995, 0.41, 0.339, 0.6315, 0.57, 0.437, 0.5425, 0.2295, 0.1705, 0.3915, 0.296475, 0.328, 0.3, 0.5, 0.494815, 0.378, 0.505, 0.351999, 0.51, 0.374, 0.5099, 0.23, 0.5277, 0.438, 0.439, 0.315, 0.332, 0.6, 0.3785, 0.19, 0.645, 0.37, 0.479, 0.245, 0.542, 0.5575, 0.48, 0.33, 0.16, 0.2355, 0.3265, 0.3, 0.267, 0.2926, 0.362, 0.357562, 0.513, 0.336, 0.56, 0.41, 0.3715, 0.368, 0.65, 0.30895, 0.44, 0.63, 0.22895, 0.245, 0.41, 0.42755, 0.235, 0.21, 0.485, 0.41, 0.435, 0.3, 0.455, 0.21, 0.4584, 0.39, 0.148226, 0.613, 0.59235, 0.232, 0.25, 0.115, 0.585, 0.58, 0.165, 0.43, 0.383, 0.2015, 0.325, 0.375, 0.6, 0.34, 0.415, 0.255, 0.53, 0.468, 0.599, 0.3995, 0.325, 0.568, 0.517, 0.46995, 0.623, 0.205, 0.148, 0.405, 0.293, 0.55, 0.435, 0.355, 0.44999, 0.249, 0.38, 0.33349, 0.32, 0.39995, 0.55, 0.29, 0.2325, 0.565, 0.507, 0.463, 0.31, 0.284, 0.569, 0.275, 0.57, 0.15, 0.356, 0.61, 0.4988, 0.22655, 0.25, 0.295, 0.15495, 0.409124, 0.287, 0.525, 0.525, 0.275, 0.583, 0.23795, 0.41, 0.306, 0.215, 0.59495, 0.305, 0.425, 0.215, 0.48, 0.55, 0.137124, 0.6248, 0.63, 0.59, 0.59995, 0.29988, 0.4, 0.56, 0.229, 0.525, 0.635, 0.3355, 0.27, 0.45, 0.379, 0.468, 0.3215, 0.443, 0.34, 0.47, 0.545, 0.415, 0.599, 0.3, 0.359, 0.55, 0.395, 0.486, 0.187, 0.284, 0.38, 0.625, 0.252, 0.56, 0.395, 0.625, 0.58, 0.309, 0.412, 0.495, 0.215, 0.53, 0.595, 0.487, 0.435, 0.37495, 0.44, 0.36, 0.505, 0.545, 0.6, 0.61, 0.35, 0.41, 0.639, 0.439, 0.49995, 0.35, 0.279, 0.290256, 0.355, 0.263, 0.4265, 0.265, 0.6575, 0.43611, 0.5899, 0.62, 0.254, 0.375, 0.455, 0.445, 0.5685, 0.3525, 0.3425, 0.29995, 0.425, 0.561, 0.4555, 0.4, 0.4435, 0.37, 0.475, 0.58, 0.518, 0.525, 0.236, 0.2785, 0.205425, 0.248, 0.505, 0.6575, 0.202, 0.44, 0.375, 0.291, 0.23, 0.08435, 0.188, 0.0078, 0.23722785714299996, 0.11783333333299999, 0.439333333333, 0.28, 0.176225, 0.500324, 0.444845, 0.33, 0.292285714286, 0.16, 0.27433333333300003, 0.5375, 0.232333333333, 0.237333333333, 0.34675, 0.254, 0.23875, 0.268971875, 0.642, 0.571986111111, 0.55425, 0.1075, 0.3, 0.540833333333, 0.27475, 0.1486125, 0.326428571429, 0.135333333333, 0.5774375, 0.440825, 0.195, 0.2575, 0.1764, 0.193, 0.6462125, 0.268971875, 0.317061875, 0.0833, 0.26606666666699996, 0.342246428571, 0.24001533333299999, 0.0833, 0.31685, 0.259585571429, 0.32821190476199996, 0.425, 0.12716, 0.34175, 0.17865, 0.0875, 0.282508888889, 0.45038571428599994, 0.435, 0.5325, 0.4089, 0.156766666667, 0.4525, 0.308830769231, 0.484991666667, 0.287919782609, 0.247875, 0.3094875, 0.173666666667, 0.23748125, 0.326983333333, 0.54280475, 0.10833333333299999, 0.535, 0.596165428571, 0.2691875, 0.1486125, 0.34116666666699996, 0.1325, 0.557125, 0.228944444444, 0.592105714286, 0.535, 0.420642857143, 0.13225, 0.23722785714299996, 0.440825, 0.423050925926, 0.3153687, 0.417985714286, 0.25995, 0.237333333333, 0.42609, 0.45866388888900006, 0.135333333333, 0.387884615385, 0.4375, 0.641633333333, 0.2296295, 0.210614285714, 0.4355, 0.497333333333, 0.3, 0.163785714286, 0.35125, 0.645325, 0.17122479999999998, 0.54, 0.233166666667, 0.329333333333, 0.225279428571, 0.331366666667, 0.4608869230770001, 0.33794575, 0.24306923076900003, 0.592105714286, 0.22008333333299998, 0.28, 0.297857142857, 0.323833333333, 0.309, 0.2484, 0.2885, 0.37950916666699996, 0.18078571428600002, 0.5425, 0.36275, 0.234975, 0.3914, 0.198995, 0.2789, 0.17175833333299997, 0.3251875, 0.19036875, 0.375, 0.216, 0.3605, 0.405125, 0.2899875, 0.26427, 0.602761, 0.251555555556, 0.21475, 0.258125, 0.1675, 0.4715, 0.4646, 0.13225, 0.4331111111109999, 0.5425, 0.3681125, 0.558653846154, 0.168333333333, 0.268971875, 0.318, 0.550607142857, 0.584, 0.245, 0.287919782609, 0.45479, 0.282508888889, 0.4732, 0.4060625, 0.282766666667, 0.486445833333, 0.486895, 0.43027777777799997, 0.2296295, 0.182805, 0.380680555556, 0.39616666666699996, 0.25298, 0.289373307692, 0.210614285714, 0.308166666667, 0.5343333333329999, 0.416904166667, 0.2034, 0.2206]}, {\"opacity\": 0.8, \"type\": \"surface\", \"x\": [[1.0, 1.2758620689655173, 1.5517241379310345, 1.8275862068965516, 2.103448275862069, 2.3793103448275863, 2.655172413793103, 2.9310344827586206, 3.206896551724138, 3.4827586206896552, 3.7586206896551726, 4.0344827586206895, 4.310344827586206, 4.586206896551724, 4.862068965517241, 5.137931034482759, 5.413793103448276, 5.689655172413793, 5.9655172413793105, 6.241379310344827, 6.517241379310345, 6.793103448275862, 7.068965517241379, 7.344827586206897, 7.620689655172414, 7.896551724137931, 8.172413793103448, 8.448275862068964, 8.724137931034482, 9.0], [1.0, 1.2758620689655173, 1.5517241379310345, 1.8275862068965516, 2.103448275862069, 2.3793103448275863, 2.655172413793103, 2.9310344827586206, 3.206896551724138, 3.4827586206896552, 3.7586206896551726, 4.0344827586206895, 4.310344827586206, 4.586206896551724, 4.862068965517241, 5.137931034482759, 5.413793103448276, 5.689655172413793, 5.9655172413793105, 6.241379310344827, 6.517241379310345, 6.793103448275862, 7.068965517241379, 7.344827586206897, 7.620689655172414, 7.896551724137931, 8.172413793103448, 8.448275862068964, 8.724137931034482, 9.0], [1.0, 1.2758620689655173, 1.5517241379310345, 1.8275862068965516, 2.103448275862069, 2.3793103448275863, 2.655172413793103, 2.9310344827586206, 3.206896551724138, 3.4827586206896552, 3.7586206896551726, 4.0344827586206895, 4.310344827586206, 4.586206896551724, 4.862068965517241, 5.137931034482759, 5.413793103448276, 5.689655172413793, 5.9655172413793105, 6.241379310344827, 6.517241379310345, 6.793103448275862, 7.068965517241379, 7.344827586206897, 7.620689655172414, 7.896551724137931, 8.172413793103448, 8.448275862068964, 8.724137931034482, 9.0], [1.0, 1.2758620689655173, 1.5517241379310345, 1.8275862068965516, 2.103448275862069, 2.3793103448275863, 2.655172413793103, 2.9310344827586206, 3.206896551724138, 3.4827586206896552, 3.7586206896551726, 4.0344827586206895, 4.310344827586206, 4.586206896551724, 4.862068965517241, 5.137931034482759, 5.413793103448276, 5.689655172413793, 5.9655172413793105, 6.241379310344827, 6.517241379310345, 6.793103448275862, 7.068965517241379, 7.344827586206897, 7.620689655172414, 7.896551724137931, 8.172413793103448, 8.448275862068964, 8.724137931034482, 9.0], [1.0, 1.2758620689655173, 1.5517241379310345, 1.8275862068965516, 2.103448275862069, 2.3793103448275863, 2.655172413793103, 2.9310344827586206, 3.206896551724138, 3.4827586206896552, 3.7586206896551726, 4.0344827586206895, 4.310344827586206, 4.586206896551724, 4.862068965517241, 5.137931034482759, 5.413793103448276, 5.689655172413793, 5.9655172413793105, 6.241379310344827, 6.517241379310345, 6.793103448275862, 7.068965517241379, 7.344827586206897, 7.620689655172414, 7.896551724137931, 8.172413793103448, 8.448275862068964, 8.724137931034482, 9.0], [1.0, 1.2758620689655173, 1.5517241379310345, 1.8275862068965516, 2.103448275862069, 2.3793103448275863, 2.655172413793103, 2.9310344827586206, 3.206896551724138, 3.4827586206896552, 3.7586206896551726, 4.0344827586206895, 4.310344827586206, 4.586206896551724, 4.862068965517241, 5.137931034482759, 5.413793103448276, 5.689655172413793, 5.9655172413793105, 6.241379310344827, 6.517241379310345, 6.793103448275862, 7.068965517241379, 7.344827586206897, 7.620689655172414, 7.896551724137931, 8.172413793103448, 8.448275862068964, 8.724137931034482, 9.0], [1.0, 1.2758620689655173, 1.5517241379310345, 1.8275862068965516, 2.103448275862069, 2.3793103448275863, 2.655172413793103, 2.9310344827586206, 3.206896551724138, 3.4827586206896552, 3.7586206896551726, 4.0344827586206895, 4.310344827586206, 4.586206896551724, 4.862068965517241, 5.137931034482759, 5.413793103448276, 5.689655172413793, 5.9655172413793105, 6.241379310344827, 6.517241379310345, 6.793103448275862, 7.068965517241379, 7.344827586206897, 7.620689655172414, 7.896551724137931, 8.172413793103448, 8.448275862068964, 8.724137931034482, 9.0], [1.0, 1.2758620689655173, 1.5517241379310345, 1.8275862068965516, 2.103448275862069, 2.3793103448275863, 2.655172413793103, 2.9310344827586206, 3.206896551724138, 3.4827586206896552, 3.7586206896551726, 4.0344827586206895, 4.310344827586206, 4.586206896551724, 4.862068965517241, 5.137931034482759, 5.413793103448276, 5.689655172413793, 5.9655172413793105, 6.241379310344827, 6.517241379310345, 6.793103448275862, 7.068965517241379, 7.344827586206897, 7.620689655172414, 7.896551724137931, 8.172413793103448, 8.448275862068964, 8.724137931034482, 9.0], [1.0, 1.2758620689655173, 1.5517241379310345, 1.8275862068965516, 2.103448275862069, 2.3793103448275863, 2.655172413793103, 2.9310344827586206, 3.206896551724138, 3.4827586206896552, 3.7586206896551726, 4.0344827586206895, 4.310344827586206, 4.586206896551724, 4.862068965517241, 5.137931034482759, 5.413793103448276, 5.689655172413793, 5.9655172413793105, 6.241379310344827, 6.517241379310345, 6.793103448275862, 7.068965517241379, 7.344827586206897, 7.620689655172414, 7.896551724137931, 8.172413793103448, 8.448275862068964, 8.724137931034482, 9.0], [1.0, 1.2758620689655173, 1.5517241379310345, 1.8275862068965516, 2.103448275862069, 2.3793103448275863, 2.655172413793103, 2.9310344827586206, 3.206896551724138, 3.4827586206896552, 3.7586206896551726, 4.0344827586206895, 4.310344827586206, 4.586206896551724, 4.862068965517241, 5.137931034482759, 5.413793103448276, 5.689655172413793, 5.9655172413793105, 6.241379310344827, 6.517241379310345, 6.793103448275862, 7.068965517241379, 7.344827586206897, 7.620689655172414, 7.896551724137931, 8.172413793103448, 8.448275862068964, 8.724137931034482, 9.0], [1.0, 1.2758620689655173, 1.5517241379310345, 1.8275862068965516, 2.103448275862069, 2.3793103448275863, 2.655172413793103, 2.9310344827586206, 3.206896551724138, 3.4827586206896552, 3.7586206896551726, 4.0344827586206895, 4.310344827586206, 4.586206896551724, 4.862068965517241, 5.137931034482759, 5.413793103448276, 5.689655172413793, 5.9655172413793105, 6.241379310344827, 6.517241379310345, 6.793103448275862, 7.068965517241379, 7.344827586206897, 7.620689655172414, 7.896551724137931, 8.172413793103448, 8.448275862068964, 8.724137931034482, 9.0], [1.0, 1.2758620689655173, 1.5517241379310345, 1.8275862068965516, 2.103448275862069, 2.3793103448275863, 2.655172413793103, 2.9310344827586206, 3.206896551724138, 3.4827586206896552, 3.7586206896551726, 4.0344827586206895, 4.310344827586206, 4.586206896551724, 4.862068965517241, 5.137931034482759, 5.413793103448276, 5.689655172413793, 5.9655172413793105, 6.241379310344827, 6.517241379310345, 6.793103448275862, 7.068965517241379, 7.344827586206897, 7.620689655172414, 7.896551724137931, 8.172413793103448, 8.448275862068964, 8.724137931034482, 9.0], [1.0, 1.2758620689655173, 1.5517241379310345, 1.8275862068965516, 2.103448275862069, 2.3793103448275863, 2.655172413793103, 2.9310344827586206, 3.206896551724138, 3.4827586206896552, 3.7586206896551726, 4.0344827586206895, 4.310344827586206, 4.586206896551724, 4.862068965517241, 5.137931034482759, 5.413793103448276, 5.689655172413793, 5.9655172413793105, 6.241379310344827, 6.517241379310345, 6.793103448275862, 7.068965517241379, 7.344827586206897, 7.620689655172414, 7.896551724137931, 8.172413793103448, 8.448275862068964, 8.724137931034482, 9.0], [1.0, 1.2758620689655173, 1.5517241379310345, 1.8275862068965516, 2.103448275862069, 2.3793103448275863, 2.655172413793103, 2.9310344827586206, 3.206896551724138, 3.4827586206896552, 3.7586206896551726, 4.0344827586206895, 4.310344827586206, 4.586206896551724, 4.862068965517241, 5.137931034482759, 5.413793103448276, 5.689655172413793, 5.9655172413793105, 6.241379310344827, 6.517241379310345, 6.793103448275862, 7.068965517241379, 7.344827586206897, 7.620689655172414, 7.896551724137931, 8.172413793103448, 8.448275862068964, 8.724137931034482, 9.0], [1.0, 1.2758620689655173, 1.5517241379310345, 1.8275862068965516, 2.103448275862069, 2.3793103448275863, 2.655172413793103, 2.9310344827586206, 3.206896551724138, 3.4827586206896552, 3.7586206896551726, 4.0344827586206895, 4.310344827586206, 4.586206896551724, 4.862068965517241, 5.137931034482759, 5.413793103448276, 5.689655172413793, 5.9655172413793105, 6.241379310344827, 6.517241379310345, 6.793103448275862, 7.068965517241379, 7.344827586206897, 7.620689655172414, 7.896551724137931, 8.172413793103448, 8.448275862068964, 8.724137931034482, 9.0], [1.0, 1.2758620689655173, 1.5517241379310345, 1.8275862068965516, 2.103448275862069, 2.3793103448275863, 2.655172413793103, 2.9310344827586206, 3.206896551724138, 3.4827586206896552, 3.7586206896551726, 4.0344827586206895, 4.310344827586206, 4.586206896551724, 4.862068965517241, 5.137931034482759, 5.413793103448276, 5.689655172413793, 5.9655172413793105, 6.241379310344827, 6.517241379310345, 6.793103448275862, 7.068965517241379, 7.344827586206897, 7.620689655172414, 7.896551724137931, 8.172413793103448, 8.448275862068964, 8.724137931034482, 9.0], [1.0, 1.2758620689655173, 1.5517241379310345, 1.8275862068965516, 2.103448275862069, 2.3793103448275863, 2.655172413793103, 2.9310344827586206, 3.206896551724138, 3.4827586206896552, 3.7586206896551726, 4.0344827586206895, 4.310344827586206, 4.586206896551724, 4.862068965517241, 5.137931034482759, 5.413793103448276, 5.689655172413793, 5.9655172413793105, 6.241379310344827, 6.517241379310345, 6.793103448275862, 7.068965517241379, 7.344827586206897, 7.620689655172414, 7.896551724137931, 8.172413793103448, 8.448275862068964, 8.724137931034482, 9.0], [1.0, 1.2758620689655173, 1.5517241379310345, 1.8275862068965516, 2.103448275862069, 2.3793103448275863, 2.655172413793103, 2.9310344827586206, 3.206896551724138, 3.4827586206896552, 3.7586206896551726, 4.0344827586206895, 4.310344827586206, 4.586206896551724, 4.862068965517241, 5.137931034482759, 5.413793103448276, 5.689655172413793, 5.9655172413793105, 6.241379310344827, 6.517241379310345, 6.793103448275862, 7.068965517241379, 7.344827586206897, 7.620689655172414, 7.896551724137931, 8.172413793103448, 8.448275862068964, 8.724137931034482, 9.0], [1.0, 1.2758620689655173, 1.5517241379310345, 1.8275862068965516, 2.103448275862069, 2.3793103448275863, 2.655172413793103, 2.9310344827586206, 3.206896551724138, 3.4827586206896552, 3.7586206896551726, 4.0344827586206895, 4.310344827586206, 4.586206896551724, 4.862068965517241, 5.137931034482759, 5.413793103448276, 5.689655172413793, 5.9655172413793105, 6.241379310344827, 6.517241379310345, 6.793103448275862, 7.068965517241379, 7.344827586206897, 7.620689655172414, 7.896551724137931, 8.172413793103448, 8.448275862068964, 8.724137931034482, 9.0], [1.0, 1.2758620689655173, 1.5517241379310345, 1.8275862068965516, 2.103448275862069, 2.3793103448275863, 2.655172413793103, 2.9310344827586206, 3.206896551724138, 3.4827586206896552, 3.7586206896551726, 4.0344827586206895, 4.310344827586206, 4.586206896551724, 4.862068965517241, 5.137931034482759, 5.413793103448276, 5.689655172413793, 5.9655172413793105, 6.241379310344827, 6.517241379310345, 6.793103448275862, 7.068965517241379, 7.344827586206897, 7.620689655172414, 7.896551724137931, 8.172413793103448, 8.448275862068964, 8.724137931034482, 9.0], [1.0, 1.2758620689655173, 1.5517241379310345, 1.8275862068965516, 2.103448275862069, 2.3793103448275863, 2.655172413793103, 2.9310344827586206, 3.206896551724138, 3.4827586206896552, 3.7586206896551726, 4.0344827586206895, 4.310344827586206, 4.586206896551724, 4.862068965517241, 5.137931034482759, 5.413793103448276, 5.689655172413793, 5.9655172413793105, 6.241379310344827, 6.517241379310345, 6.793103448275862, 7.068965517241379, 7.344827586206897, 7.620689655172414, 7.896551724137931, 8.172413793103448, 8.448275862068964, 8.724137931034482, 9.0], [1.0, 1.2758620689655173, 1.5517241379310345, 1.8275862068965516, 2.103448275862069, 2.3793103448275863, 2.655172413793103, 2.9310344827586206, 3.206896551724138, 3.4827586206896552, 3.7586206896551726, 4.0344827586206895, 4.310344827586206, 4.586206896551724, 4.862068965517241, 5.137931034482759, 5.413793103448276, 5.689655172413793, 5.9655172413793105, 6.241379310344827, 6.517241379310345, 6.793103448275862, 7.068965517241379, 7.344827586206897, 7.620689655172414, 7.896551724137931, 8.172413793103448, 8.448275862068964, 8.724137931034482, 9.0], [1.0, 1.2758620689655173, 1.5517241379310345, 1.8275862068965516, 2.103448275862069, 2.3793103448275863, 2.655172413793103, 2.9310344827586206, 3.206896551724138, 3.4827586206896552, 3.7586206896551726, 4.0344827586206895, 4.310344827586206, 4.586206896551724, 4.862068965517241, 5.137931034482759, 5.413793103448276, 5.689655172413793, 5.9655172413793105, 6.241379310344827, 6.517241379310345, 6.793103448275862, 7.068965517241379, 7.344827586206897, 7.620689655172414, 7.896551724137931, 8.172413793103448, 8.448275862068964, 8.724137931034482, 9.0], [1.0, 1.2758620689655173, 1.5517241379310345, 1.8275862068965516, 2.103448275862069, 2.3793103448275863, 2.655172413793103, 2.9310344827586206, 3.206896551724138, 3.4827586206896552, 3.7586206896551726, 4.0344827586206895, 4.310344827586206, 4.586206896551724, 4.862068965517241, 5.137931034482759, 5.413793103448276, 5.689655172413793, 5.9655172413793105, 6.241379310344827, 6.517241379310345, 6.793103448275862, 7.068965517241379, 7.344827586206897, 7.620689655172414, 7.896551724137931, 8.172413793103448, 8.448275862068964, 8.724137931034482, 9.0], [1.0, 1.2758620689655173, 1.5517241379310345, 1.8275862068965516, 2.103448275862069, 2.3793103448275863, 2.655172413793103, 2.9310344827586206, 3.206896551724138, 3.4827586206896552, 3.7586206896551726, 4.0344827586206895, 4.310344827586206, 4.586206896551724, 4.862068965517241, 5.137931034482759, 5.413793103448276, 5.689655172413793, 5.9655172413793105, 6.241379310344827, 6.517241379310345, 6.793103448275862, 7.068965517241379, 7.344827586206897, 7.620689655172414, 7.896551724137931, 8.172413793103448, 8.448275862068964, 8.724137931034482, 9.0], [1.0, 1.2758620689655173, 1.5517241379310345, 1.8275862068965516, 2.103448275862069, 2.3793103448275863, 2.655172413793103, 2.9310344827586206, 3.206896551724138, 3.4827586206896552, 3.7586206896551726, 4.0344827586206895, 4.310344827586206, 4.586206896551724, 4.862068965517241, 5.137931034482759, 5.413793103448276, 5.689655172413793, 5.9655172413793105, 6.241379310344827, 6.517241379310345, 6.793103448275862, 7.068965517241379, 7.344827586206897, 7.620689655172414, 7.896551724137931, 8.172413793103448, 8.448275862068964, 8.724137931034482, 9.0], [1.0, 1.2758620689655173, 1.5517241379310345, 1.8275862068965516, 2.103448275862069, 2.3793103448275863, 2.655172413793103, 2.9310344827586206, 3.206896551724138, 3.4827586206896552, 3.7586206896551726, 4.0344827586206895, 4.310344827586206, 4.586206896551724, 4.862068965517241, 5.137931034482759, 5.413793103448276, 5.689655172413793, 5.9655172413793105, 6.241379310344827, 6.517241379310345, 6.793103448275862, 7.068965517241379, 7.344827586206897, 7.620689655172414, 7.896551724137931, 8.172413793103448, 8.448275862068964, 8.724137931034482, 9.0], [1.0, 1.2758620689655173, 1.5517241379310345, 1.8275862068965516, 2.103448275862069, 2.3793103448275863, 2.655172413793103, 2.9310344827586206, 3.206896551724138, 3.4827586206896552, 3.7586206896551726, 4.0344827586206895, 4.310344827586206, 4.586206896551724, 4.862068965517241, 5.137931034482759, 5.413793103448276, 5.689655172413793, 5.9655172413793105, 6.241379310344827, 6.517241379310345, 6.793103448275862, 7.068965517241379, 7.344827586206897, 7.620689655172414, 7.896551724137931, 8.172413793103448, 8.448275862068964, 8.724137931034482, 9.0], [1.0, 1.2758620689655173, 1.5517241379310345, 1.8275862068965516, 2.103448275862069, 2.3793103448275863, 2.655172413793103, 2.9310344827586206, 3.206896551724138, 3.4827586206896552, 3.7586206896551726, 4.0344827586206895, 4.310344827586206, 4.586206896551724, 4.862068965517241, 5.137931034482759, 5.413793103448276, 5.689655172413793, 5.9655172413793105, 6.241379310344827, 6.517241379310345, 6.793103448275862, 7.068965517241379, 7.344827586206897, 7.620689655172414, 7.896551724137931, 8.172413793103448, 8.448275862068964, 8.724137931034482, 9.0], [1.0, 1.2758620689655173, 1.5517241379310345, 1.8275862068965516, 2.103448275862069, 2.3793103448275863, 2.655172413793103, 2.9310344827586206, 3.206896551724138, 3.4827586206896552, 3.7586206896551726, 4.0344827586206895, 4.310344827586206, 4.586206896551724, 4.862068965517241, 5.137931034482759, 5.413793103448276, 5.689655172413793, 5.9655172413793105, 6.241379310344827, 6.517241379310345, 6.793103448275862, 7.068965517241379, 7.344827586206897, 7.620689655172414, 7.896551724137931, 8.172413793103448, 8.448275862068964, 8.724137931034482, 9.0]], \"y\": [[0.75, 0.75, 0.75, 0.75, 0.75, 0.75, 0.75, 0.75, 0.75, 0.75, 0.75, 0.75, 0.75, 0.75, 0.75, 0.75, 0.75, 0.75, 0.75, 0.75, 0.75, 0.75, 0.75, 0.75, 0.75, 0.75, 0.75, 0.75, 0.75, 0.75], [0.9224137931034483, 0.9224137931034483, 0.9224137931034483, 0.9224137931034483, 0.9224137931034483, 0.9224137931034483, 0.9224137931034483, 0.9224137931034483, 0.9224137931034483, 0.9224137931034483, 0.9224137931034483, 0.9224137931034483, 0.9224137931034483, 0.9224137931034483, 0.9224137931034483, 0.9224137931034483, 0.9224137931034483, 0.9224137931034483, 0.9224137931034483, 0.9224137931034483, 0.9224137931034483, 0.9224137931034483, 0.9224137931034483, 0.9224137931034483, 0.9224137931034483, 0.9224137931034483, 0.9224137931034483, 0.9224137931034483, 0.9224137931034483, 0.9224137931034483], [1.0948275862068966, 1.0948275862068966, 1.0948275862068966, 1.0948275862068966, 1.0948275862068966, 1.0948275862068966, 1.0948275862068966, 1.0948275862068966, 1.0948275862068966, 1.0948275862068966, 1.0948275862068966, 1.0948275862068966, 1.0948275862068966, 1.0948275862068966, 1.0948275862068966, 1.0948275862068966, 1.0948275862068966, 1.0948275862068966, 1.0948275862068966, 1.0948275862068966, 1.0948275862068966, 1.0948275862068966, 1.0948275862068966, 1.0948275862068966, 1.0948275862068966, 1.0948275862068966, 1.0948275862068966, 1.0948275862068966, 1.0948275862068966, 1.0948275862068966], [1.2672413793103448, 1.2672413793103448, 1.2672413793103448, 1.2672413793103448, 1.2672413793103448, 1.2672413793103448, 1.2672413793103448, 1.2672413793103448, 1.2672413793103448, 1.2672413793103448, 1.2672413793103448, 1.2672413793103448, 1.2672413793103448, 1.2672413793103448, 1.2672413793103448, 1.2672413793103448, 1.2672413793103448, 1.2672413793103448, 1.2672413793103448, 1.2672413793103448, 1.2672413793103448, 1.2672413793103448, 1.2672413793103448, 1.2672413793103448, 1.2672413793103448, 1.2672413793103448, 1.2672413793103448, 1.2672413793103448, 1.2672413793103448, 1.2672413793103448], [1.4396551724137931, 1.4396551724137931, 1.4396551724137931, 1.4396551724137931, 1.4396551724137931, 1.4396551724137931, 1.4396551724137931, 1.4396551724137931, 1.4396551724137931, 1.4396551724137931, 1.4396551724137931, 1.4396551724137931, 1.4396551724137931, 1.4396551724137931, 1.4396551724137931, 1.4396551724137931, 1.4396551724137931, 1.4396551724137931, 1.4396551724137931, 1.4396551724137931, 1.4396551724137931, 1.4396551724137931, 1.4396551724137931, 1.4396551724137931, 1.4396551724137931, 1.4396551724137931, 1.4396551724137931, 1.4396551724137931, 1.4396551724137931, 1.4396551724137931], [1.6120689655172415, 1.6120689655172415, 1.6120689655172415, 1.6120689655172415, 1.6120689655172415, 1.6120689655172415, 1.6120689655172415, 1.6120689655172415, 1.6120689655172415, 1.6120689655172415, 1.6120689655172415, 1.6120689655172415, 1.6120689655172415, 1.6120689655172415, 1.6120689655172415, 1.6120689655172415, 1.6120689655172415, 1.6120689655172415, 1.6120689655172415, 1.6120689655172415, 1.6120689655172415, 1.6120689655172415, 1.6120689655172415, 1.6120689655172415, 1.6120689655172415, 1.6120689655172415, 1.6120689655172415, 1.6120689655172415, 1.6120689655172415, 1.6120689655172415], [1.7844827586206897, 1.7844827586206897, 1.7844827586206897, 1.7844827586206897, 1.7844827586206897, 1.7844827586206897, 1.7844827586206897, 1.7844827586206897, 1.7844827586206897, 1.7844827586206897, 1.7844827586206897, 1.7844827586206897, 1.7844827586206897, 1.7844827586206897, 1.7844827586206897, 1.7844827586206897, 1.7844827586206897, 1.7844827586206897, 1.7844827586206897, 1.7844827586206897, 1.7844827586206897, 1.7844827586206897, 1.7844827586206897, 1.7844827586206897, 1.7844827586206897, 1.7844827586206897, 1.7844827586206897, 1.7844827586206897, 1.7844827586206897, 1.7844827586206897], [1.956896551724138, 1.956896551724138, 1.956896551724138, 1.956896551724138, 1.956896551724138, 1.956896551724138, 1.956896551724138, 1.956896551724138, 1.956896551724138, 1.956896551724138, 1.956896551724138, 1.956896551724138, 1.956896551724138, 1.956896551724138, 1.956896551724138, 1.956896551724138, 1.956896551724138, 1.956896551724138, 1.956896551724138, 1.956896551724138, 1.956896551724138, 1.956896551724138, 1.956896551724138, 1.956896551724138, 1.956896551724138, 1.956896551724138, 1.956896551724138, 1.956896551724138, 1.956896551724138, 1.956896551724138], [2.1293103448275863, 2.1293103448275863, 2.1293103448275863, 2.1293103448275863, 2.1293103448275863, 2.1293103448275863, 2.1293103448275863, 2.1293103448275863, 2.1293103448275863, 2.1293103448275863, 2.1293103448275863, 2.1293103448275863, 2.1293103448275863, 2.1293103448275863, 2.1293103448275863, 2.1293103448275863, 2.1293103448275863, 2.1293103448275863, 2.1293103448275863, 2.1293103448275863, 2.1293103448275863, 2.1293103448275863, 2.1293103448275863, 2.1293103448275863, 2.1293103448275863, 2.1293103448275863, 2.1293103448275863, 2.1293103448275863, 2.1293103448275863, 2.1293103448275863], [2.3017241379310347, 2.3017241379310347, 2.3017241379310347, 2.3017241379310347, 2.3017241379310347, 2.3017241379310347, 2.3017241379310347, 2.3017241379310347, 2.3017241379310347, 2.3017241379310347, 2.3017241379310347, 2.3017241379310347, 2.3017241379310347, 2.3017241379310347, 2.3017241379310347, 2.3017241379310347, 2.3017241379310347, 2.3017241379310347, 2.3017241379310347, 2.3017241379310347, 2.3017241379310347, 2.3017241379310347, 2.3017241379310347, 2.3017241379310347, 2.3017241379310347, 2.3017241379310347, 2.3017241379310347, 2.3017241379310347, 2.3017241379310347, 2.3017241379310347], [2.474137931034483, 2.474137931034483, 2.474137931034483, 2.474137931034483, 2.474137931034483, 2.474137931034483, 2.474137931034483, 2.474137931034483, 2.474137931034483, 2.474137931034483, 2.474137931034483, 2.474137931034483, 2.474137931034483, 2.474137931034483, 2.474137931034483, 2.474137931034483, 2.474137931034483, 2.474137931034483, 2.474137931034483, 2.474137931034483, 2.474137931034483, 2.474137931034483, 2.474137931034483, 2.474137931034483, 2.474137931034483, 2.474137931034483, 2.474137931034483, 2.474137931034483, 2.474137931034483, 2.474137931034483], [2.646551724137931, 2.646551724137931, 2.646551724137931, 2.646551724137931, 2.646551724137931, 2.646551724137931, 2.646551724137931, 2.646551724137931, 2.646551724137931, 2.646551724137931, 2.646551724137931, 2.646551724137931, 2.646551724137931, 2.646551724137931, 2.646551724137931, 2.646551724137931, 2.646551724137931, 2.646551724137931, 2.646551724137931, 2.646551724137931, 2.646551724137931, 2.646551724137931, 2.646551724137931, 2.646551724137931, 2.646551724137931, 2.646551724137931, 2.646551724137931, 2.646551724137931, 2.646551724137931, 2.646551724137931], [2.8189655172413794, 2.8189655172413794, 2.8189655172413794, 2.8189655172413794, 2.8189655172413794, 2.8189655172413794, 2.8189655172413794, 2.8189655172413794, 2.8189655172413794, 2.8189655172413794, 2.8189655172413794, 2.8189655172413794, 2.8189655172413794, 2.8189655172413794, 2.8189655172413794, 2.8189655172413794, 2.8189655172413794, 2.8189655172413794, 2.8189655172413794, 2.8189655172413794, 2.8189655172413794, 2.8189655172413794, 2.8189655172413794, 2.8189655172413794, 2.8189655172413794, 2.8189655172413794, 2.8189655172413794, 2.8189655172413794, 2.8189655172413794, 2.8189655172413794], [2.991379310344828, 2.991379310344828, 2.991379310344828, 2.991379310344828, 2.991379310344828, 2.991379310344828, 2.991379310344828, 2.991379310344828, 2.991379310344828, 2.991379310344828, 2.991379310344828, 2.991379310344828, 2.991379310344828, 2.991379310344828, 2.991379310344828, 2.991379310344828, 2.991379310344828, 2.991379310344828, 2.991379310344828, 2.991379310344828, 2.991379310344828, 2.991379310344828, 2.991379310344828, 2.991379310344828, 2.991379310344828, 2.991379310344828, 2.991379310344828, 2.991379310344828, 2.991379310344828, 2.991379310344828], [3.163793103448276, 3.163793103448276, 3.163793103448276, 3.163793103448276, 3.163793103448276, 3.163793103448276, 3.163793103448276, 3.163793103448276, 3.163793103448276, 3.163793103448276, 3.163793103448276, 3.163793103448276, 3.163793103448276, 3.163793103448276, 3.163793103448276, 3.163793103448276, 3.163793103448276, 3.163793103448276, 3.163793103448276, 3.163793103448276, 3.163793103448276, 3.163793103448276, 3.163793103448276, 3.163793103448276, 3.163793103448276, 3.163793103448276, 3.163793103448276, 3.163793103448276, 3.163793103448276, 3.163793103448276], [3.336206896551724, 3.336206896551724, 3.336206896551724, 3.336206896551724, 3.336206896551724, 3.336206896551724, 3.336206896551724, 3.336206896551724, 3.336206896551724, 3.336206896551724, 3.336206896551724, 3.336206896551724, 3.336206896551724, 3.336206896551724, 3.336206896551724, 3.336206896551724, 3.336206896551724, 3.336206896551724, 3.336206896551724, 3.336206896551724, 3.336206896551724, 3.336206896551724, 3.336206896551724, 3.336206896551724, 3.336206896551724, 3.336206896551724, 3.336206896551724, 3.336206896551724, 3.336206896551724, 3.336206896551724], [3.5086206896551726, 3.5086206896551726, 3.5086206896551726, 3.5086206896551726, 3.5086206896551726, 3.5086206896551726, 3.5086206896551726, 3.5086206896551726, 3.5086206896551726, 3.5086206896551726, 3.5086206896551726, 3.5086206896551726, 3.5086206896551726, 3.5086206896551726, 3.5086206896551726, 3.5086206896551726, 3.5086206896551726, 3.5086206896551726, 3.5086206896551726, 3.5086206896551726, 3.5086206896551726, 3.5086206896551726, 3.5086206896551726, 3.5086206896551726, 3.5086206896551726, 3.5086206896551726, 3.5086206896551726, 3.5086206896551726, 3.5086206896551726, 3.5086206896551726], [3.681034482758621, 3.681034482758621, 3.681034482758621, 3.681034482758621, 3.681034482758621, 3.681034482758621, 3.681034482758621, 3.681034482758621, 3.681034482758621, 3.681034482758621, 3.681034482758621, 3.681034482758621, 3.681034482758621, 3.681034482758621, 3.681034482758621, 3.681034482758621, 3.681034482758621, 3.681034482758621, 3.681034482758621, 3.681034482758621, 3.681034482758621, 3.681034482758621, 3.681034482758621, 3.681034482758621, 3.681034482758621, 3.681034482758621, 3.681034482758621, 3.681034482758621, 3.681034482758621, 3.681034482758621], [3.8534482758620694, 3.8534482758620694, 3.8534482758620694, 3.8534482758620694, 3.8534482758620694, 3.8534482758620694, 3.8534482758620694, 3.8534482758620694, 3.8534482758620694, 3.8534482758620694, 3.8534482758620694, 3.8534482758620694, 3.8534482758620694, 3.8534482758620694, 3.8534482758620694, 3.8534482758620694, 3.8534482758620694, 3.8534482758620694, 3.8534482758620694, 3.8534482758620694, 3.8534482758620694, 3.8534482758620694, 3.8534482758620694, 3.8534482758620694, 3.8534482758620694, 3.8534482758620694, 3.8534482758620694, 3.8534482758620694, 3.8534482758620694, 3.8534482758620694], [4.025862068965518, 4.025862068965518, 4.025862068965518, 4.025862068965518, 4.025862068965518, 4.025862068965518, 4.025862068965518, 4.025862068965518, 4.025862068965518, 4.025862068965518, 4.025862068965518, 4.025862068965518, 4.025862068965518, 4.025862068965518, 4.025862068965518, 4.025862068965518, 4.025862068965518, 4.025862068965518, 4.025862068965518, 4.025862068965518, 4.025862068965518, 4.025862068965518, 4.025862068965518, 4.025862068965518, 4.025862068965518, 4.025862068965518, 4.025862068965518, 4.025862068965518, 4.025862068965518, 4.025862068965518], [4.198275862068966, 4.198275862068966, 4.198275862068966, 4.198275862068966, 4.198275862068966, 4.198275862068966, 4.198275862068966, 4.198275862068966, 4.198275862068966, 4.198275862068966, 4.198275862068966, 4.198275862068966, 4.198275862068966, 4.198275862068966, 4.198275862068966, 4.198275862068966, 4.198275862068966, 4.198275862068966, 4.198275862068966, 4.198275862068966, 4.198275862068966, 4.198275862068966, 4.198275862068966, 4.198275862068966, 4.198275862068966, 4.198275862068966, 4.198275862068966, 4.198275862068966, 4.198275862068966, 4.198275862068966], [4.370689655172415, 4.370689655172415, 4.370689655172415, 4.370689655172415, 4.370689655172415, 4.370689655172415, 4.370689655172415, 4.370689655172415, 4.370689655172415, 4.370689655172415, 4.370689655172415, 4.370689655172415, 4.370689655172415, 4.370689655172415, 4.370689655172415, 4.370689655172415, 4.370689655172415, 4.370689655172415, 4.370689655172415, 4.370689655172415, 4.370689655172415, 4.370689655172415, 4.370689655172415, 4.370689655172415, 4.370689655172415, 4.370689655172415, 4.370689655172415, 4.370689655172415, 4.370689655172415, 4.370689655172415], [4.543103448275862, 4.543103448275862, 4.543103448275862, 4.543103448275862, 4.543103448275862, 4.543103448275862, 4.543103448275862, 4.543103448275862, 4.543103448275862, 4.543103448275862, 4.543103448275862, 4.543103448275862, 4.543103448275862, 4.543103448275862, 4.543103448275862, 4.543103448275862, 4.543103448275862, 4.543103448275862, 4.543103448275862, 4.543103448275862, 4.543103448275862, 4.543103448275862, 4.543103448275862, 4.543103448275862, 4.543103448275862, 4.543103448275862, 4.543103448275862, 4.543103448275862, 4.543103448275862, 4.543103448275862], [4.7155172413793105, 4.7155172413793105, 4.7155172413793105, 4.7155172413793105, 4.7155172413793105, 4.7155172413793105, 4.7155172413793105, 4.7155172413793105, 4.7155172413793105, 4.7155172413793105, 4.7155172413793105, 4.7155172413793105, 4.7155172413793105, 4.7155172413793105, 4.7155172413793105, 4.7155172413793105, 4.7155172413793105, 4.7155172413793105, 4.7155172413793105, 4.7155172413793105, 4.7155172413793105, 4.7155172413793105, 4.7155172413793105, 4.7155172413793105, 4.7155172413793105, 4.7155172413793105, 4.7155172413793105, 4.7155172413793105, 4.7155172413793105, 4.7155172413793105], [4.887931034482759, 4.887931034482759, 4.887931034482759, 4.887931034482759, 4.887931034482759, 4.887931034482759, 4.887931034482759, 4.887931034482759, 4.887931034482759, 4.887931034482759, 4.887931034482759, 4.887931034482759, 4.887931034482759, 4.887931034482759, 4.887931034482759, 4.887931034482759, 4.887931034482759, 4.887931034482759, 4.887931034482759, 4.887931034482759, 4.887931034482759, 4.887931034482759, 4.887931034482759, 4.887931034482759, 4.887931034482759, 4.887931034482759, 4.887931034482759, 4.887931034482759, 4.887931034482759, 4.887931034482759], [5.060344827586207, 5.060344827586207, 5.060344827586207, 5.060344827586207, 5.060344827586207, 5.060344827586207, 5.060344827586207, 5.060344827586207, 5.060344827586207, 5.060344827586207, 5.060344827586207, 5.060344827586207, 5.060344827586207, 5.060344827586207, 5.060344827586207, 5.060344827586207, 5.060344827586207, 5.060344827586207, 5.060344827586207, 5.060344827586207, 5.060344827586207, 5.060344827586207, 5.060344827586207, 5.060344827586207, 5.060344827586207, 5.060344827586207, 5.060344827586207, 5.060344827586207, 5.060344827586207, 5.060344827586207], [5.232758620689656, 5.232758620689656, 5.232758620689656, 5.232758620689656, 5.232758620689656, 5.232758620689656, 5.232758620689656, 5.232758620689656, 5.232758620689656, 5.232758620689656, 5.232758620689656, 5.232758620689656, 5.232758620689656, 5.232758620689656, 5.232758620689656, 5.232758620689656, 5.232758620689656, 5.232758620689656, 5.232758620689656, 5.232758620689656, 5.232758620689656, 5.232758620689656, 5.232758620689656, 5.232758620689656, 5.232758620689656, 5.232758620689656, 5.232758620689656, 5.232758620689656, 5.232758620689656, 5.232758620689656], [5.405172413793104, 5.405172413793104, 5.405172413793104, 5.405172413793104, 5.405172413793104, 5.405172413793104, 5.405172413793104, 5.405172413793104, 5.405172413793104, 5.405172413793104, 5.405172413793104, 5.405172413793104, 5.405172413793104, 5.405172413793104, 5.405172413793104, 5.405172413793104, 5.405172413793104, 5.405172413793104, 5.405172413793104, 5.405172413793104, 5.405172413793104, 5.405172413793104, 5.405172413793104, 5.405172413793104, 5.405172413793104, 5.405172413793104, 5.405172413793104, 5.405172413793104, 5.405172413793104, 5.405172413793104], [5.577586206896552, 5.577586206896552, 5.577586206896552, 5.577586206896552, 5.577586206896552, 5.577586206896552, 5.577586206896552, 5.577586206896552, 5.577586206896552, 5.577586206896552, 5.577586206896552, 5.577586206896552, 5.577586206896552, 5.577586206896552, 5.577586206896552, 5.577586206896552, 5.577586206896552, 5.577586206896552, 5.577586206896552, 5.577586206896552, 5.577586206896552, 5.577586206896552, 5.577586206896552, 5.577586206896552, 5.577586206896552, 5.577586206896552, 5.577586206896552, 5.577586206896552, 5.577586206896552, 5.577586206896552], [5.75, 5.75, 5.75, 5.75, 5.75, 5.75, 5.75, 5.75, 5.75, 5.75, 5.75, 5.75, 5.75, 5.75, 5.75, 5.75, 5.75, 5.75, 5.75, 5.75, 5.75, 5.75, 5.75, 5.75, 5.75, 5.75, 5.75, 5.75, 5.75, 5.75]], \"z\": [[0.3009687132892962, 0.30256865216427564, 0.3041685910392551, 0.30576852991423453, 0.307368468789214, 0.30896840766419337, 0.3105683465391728, 0.31216828541415226, 0.31376822428913165, 0.3153681631641111, 0.31696810203909054, 0.31856804091407, 0.32016797978904943, 0.3217679186640288, 0.32336785753900826, 0.3249677964139877, 0.3265677352889671, 0.32816767416394654, 0.329767613038926, 0.33136755191390543, 0.3329674907888849, 0.33456742966386427, 0.3361673685388437, 0.33776730741382316, 0.33936724628880255, 0.340967185163782, 0.34256712403876144, 0.3441670629137409, 0.34576700178872033, 0.3473669406636997], [0.31312615534820454, 0.3147260942231839, 0.3163260330981634, 0.3179259719731428, 0.3195259108481222, 0.32112584972310165, 0.3227257885980811, 0.32432572747306054, 0.32592566634804, 0.32752560522301943, 0.3291255440979988, 0.33072548297297827, 0.33232542184795766, 0.3339253607229371, 0.33552529959791655, 0.337125238472896, 0.33872517734787544, 0.34032511622285483, 0.3419250550978343, 0.3435249939728137, 0.3451249328477931, 0.34672487172277255, 0.348324810597752, 0.34992474947273144, 0.3515246883477109, 0.3531246272226903, 0.3547245660976697, 0.35632450497264917, 0.35792444384762856, 0.359524382722608], [0.3252835974071128, 0.3268835362820922, 0.32848347515707166, 0.3300834140320511, 0.33168335290703055, 0.33328329178201, 0.3348832306569894, 0.33648316953196883, 0.3380831084069483, 0.33968304728192766, 0.3412829861569071, 0.34288292503188655, 0.344482863906866, 0.34608280278184544, 0.34768274165682483, 0.3492826805318043, 0.3508826194067837, 0.3524825582817631, 0.35408249715674256, 0.355682436031722, 0.35728237490670145, 0.3588823137816809, 0.3604822526566603, 0.36208219153163973, 0.3636821304066192, 0.36528206928159856, 0.366882008156578, 0.36848194703155746, 0.3700818859065369, 0.37168182478151635], [0.3374410394660211, 0.33904097834100055, 0.34064091721597994, 0.3422408560909594, 0.34384079496593883, 0.3454407338409182, 0.34704067271589767, 0.3486406115908771, 0.35024055046585656, 0.351840489340836, 0.35344042821581545, 0.35504036709079484, 0.3566403059657743, 0.3582402448407537, 0.3598401837157331, 0.36144012259071256, 0.363040061465692, 0.36464000034067146, 0.3662399392156509, 0.3678398780906303, 0.36943981696560974, 0.3710397558405891, 0.37263969471556857, 0.374239633590548, 0.37583957246552746, 0.3774395113405069, 0.37903945021548635, 0.38063938909046574, 0.38223932796544513, 0.3838392668404246], [0.3495984815249294, 0.35119842039990884, 0.35279835927488823, 0.3543982981498677, 0.3559982370248471, 0.35759817589982656, 0.359198114774806, 0.3607980536497854, 0.36239799252476484, 0.3639979313997443, 0.3655978702747237, 0.3671978091497031, 0.36879774802468257, 0.370397686899662, 0.37199762577464146, 0.3735975646496209, 0.3751975035246003, 0.3767974423995797, 0.37839738127455913, 0.3799973201495386, 0.381597259024518, 0.38319719789949747, 0.3847971367744769, 0.38639707564945636, 0.38799701452443575, 0.38959695339941514, 0.3911968922743946, 0.392796831149374, 0.39439677002435347, 0.3959967088993329], [0.3617559235838377, 0.3633558624588171, 0.36495580133379657, 0.366555740208776, 0.36815567908375546, 0.36975561795873485, 0.3713555568337143, 0.3729554957086937, 0.37455543458367313, 0.3761553734586526, 0.377755312333632, 0.37935525120861147, 0.3809551900835909, 0.3825551289585703, 0.38415506783354975, 0.38575500670852914, 0.3873549455835086, 0.388954884458488, 0.39055482333346747, 0.3921547622084469, 0.39375470108342636, 0.39535463995840575, 0.39695457883338514, 0.3985545177083646, 0.40015445658334403, 0.4017543954583235, 0.4033543343333029, 0.40495427320828237, 0.4065542120832618, 0.4081541509582412], [0.37391336564274597, 0.3755133045177254, 0.3771132433927048, 0.37871318226768425, 0.3803131211426637, 0.38191306001764314, 0.3835129988926226, 0.385112937767602, 0.3867128766425814, 0.38831281551756086, 0.38991275439254025, 0.3915126932675197, 0.39311263214249914, 0.3947125710174786, 0.39631250989245803, 0.3979124487674375, 0.39951238764241687, 0.40111232651739626, 0.4027122653923757, 0.40431220426735515, 0.4059121431423346, 0.40751208201731404, 0.4091120208922935, 0.4107119597672729, 0.4123118986422523, 0.4139118375172317, 0.41551177639221115, 0.4171117152671906, 0.41871165414217004, 0.4203115930171495], [0.38607080770165425, 0.3876707465766337, 0.38927068545161314, 0.3908706243265926, 0.392470563201572, 0.3940705020765514, 0.3956704409515308, 0.39727037982651026, 0.3988703187014897, 0.40047025757646915, 0.4020701964514486, 0.40367013532642804, 0.4052700742014074, 0.40687001307638687, 0.40846995195136626, 0.4100698908263457, 0.41166982970132515, 0.4132697685763046, 0.41486970745128404, 0.4164696463262635, 0.4180695852012429, 0.4196695240762223, 0.4212694629512017, 0.42286940182618116, 0.4244693407011606, 0.42606927957614005, 0.4276692184511195, 0.42926915732609894, 0.4308690962010783, 0.4324690350760578], [0.3982282497605626, 0.39982818863554204, 0.4014281275105214, 0.40302806638550087, 0.40462800526048026, 0.4062279441354597, 0.40782788301043915, 0.4094278218854186, 0.41102776076039804, 0.4126276996353775, 0.4142276385103569, 0.4158275773853363, 0.4174275162603157, 0.41902745513529516, 0.4206273940102746, 0.42222733288525405, 0.4238272717602335, 0.42542721063521294, 0.4270271495101923, 0.4286270883851718, 0.43022702726015116, 0.4318269661351306, 0.43342690501011005, 0.4350268438850895, 0.43662678276006894, 0.4382267216350484, 0.4398266605100278, 0.44142659938500717, 0.4430265382599866, 0.44462647713496606], [0.4103856918194708, 0.41198563069445027, 0.4135855695694297, 0.41518550844440916, 0.4167854473193886, 0.41838538619436805, 0.41998532506934744, 0.4215852639443269, 0.42318520281930627, 0.4247851416942857, 0.42638508056926516, 0.4279850194442446, 0.42958495831922405, 0.4311848971942035, 0.4327848360691829, 0.43438477494416233, 0.4359847138191417, 0.43758465269412117, 0.4391845915691006, 0.44078453044408006, 0.4423844693190595, 0.44398440819403895, 0.44558434706901834, 0.4471842859439978, 0.4487842248189772, 0.4503841636939566, 0.45198410256893606, 0.4535840414439155, 0.45518398031889495, 0.4567839191938744], [0.42254313387837916, 0.4241430727533586, 0.42574301162833805, 0.4273429505033175, 0.4289428893782969, 0.43054282825327633, 0.4321427671282557, 0.43374270600323517, 0.4353426448782146, 0.43694258375319406, 0.4385425226281735, 0.44014246150315295, 0.44174240037813234, 0.4433423392531118, 0.4449422781280912, 0.4465422170030706, 0.44814215587805006, 0.4497420947530295, 0.45134203362800895, 0.4529419725029884, 0.4545419113779678, 0.45614185025294723, 0.4577417891279266, 0.45934172800290607, 0.4609416668778855, 0.46254160575286496, 0.4641415446278444, 0.46574148350282385, 0.46734142237780324, 0.4689413612527827], [0.4347005759372874, 0.43630051481226684, 0.4379004536872463, 0.43950039256222573, 0.4411003314372052, 0.4427002703121846, 0.444300209187164, 0.44590014806214345, 0.44750008693712284, 0.4491000258121023, 0.45069996468708173, 0.4522999035620612, 0.4538998424370406, 0.45549978131202007, 0.45709972018699946, 0.4586996590619789, 0.4602995979369583, 0.46189953681193774, 0.4634994756869172, 0.46509941456189663, 0.4666993534368761, 0.4682992923118555, 0.4698992311868349, 0.47149917006181435, 0.47309910893679374, 0.4746990478117732, 0.47629898668675263, 0.4778989255617321, 0.4794988644367115, 0.48109880331169097], [0.44685801799619573, 0.4484579568711752, 0.4500578957461546, 0.45165783462113407, 0.45325777349611346, 0.4548577123710929, 0.4564576512460723, 0.45805759012105174, 0.4596575289960312, 0.46125746787101063, 0.4628574067459901, 0.4644573456209695, 0.4660572844959489, 0.46765722337092835, 0.46925716224590774, 0.4708571011208872, 0.47245703999586663, 0.4740569788708461, 0.4756569177458255, 0.47725685662080497, 0.47885679549578436, 0.4804567343707638, 0.4820566732457432, 0.48365661212072264, 0.4852565509957021, 0.48685648987068153, 0.488456428745661, 0.4900563676206404, 0.4916563064956198, 0.4932562453705992], [0.4590154600551041, 0.4606153989300835, 0.4622153378050629, 0.46381527668004235, 0.46541521555502174, 0.4670151544300012, 0.46861509330498063, 0.4702150321799601, 0.4718149710549395, 0.47341490992991897, 0.47501484880489836, 0.4766147876798778, 0.4782147265548572, 0.47981466542983664, 0.4814146043048161, 0.48301454317979553, 0.484614482054775, 0.4862144209297544, 0.4878143598047338, 0.48941429867971326, 0.49101423755469265, 0.4926141764296721, 0.49421411530465154, 0.495814054179631, 0.4974139930546104, 0.49901393192958987, 0.5006138708045693, 0.5022138096795487, 0.5038137485545281, 0.5054136874295075], [0.4711729021140123, 0.47277284098899175, 0.4743727798639712, 0.47597271873895064, 0.47757265761393003, 0.4791725964889095, 0.48077253536388886, 0.4823724742388683, 0.48397241311384775, 0.4855723519888272, 0.48717229086380665, 0.4887722297387861, 0.4903721686137655, 0.4919721074887449, 0.4935720463637243, 0.49517198523870376, 0.4967719241136832, 0.49837186298866265, 0.4999718018636421, 0.5015717407386215, 0.503171679613601, 0.5047716184885803, 0.5063715573635598, 0.5079714962385392, 0.5095714351135187, 0.5111713739884981, 0.5127713128634775, 0.514371251738457, 0.5159711906134364, 0.5175711294884158], [0.48333034417292065, 0.4849302830479001, 0.4865302219228795, 0.4881301607978589, 0.4897300996728383, 0.49133003854781776, 0.4929299774227972, 0.49452991629777665, 0.4961298551727561, 0.49772979404773554, 0.499329732922715, 0.5009296717976943, 0.5025296106726738, 0.5041295495476532, 0.5057294884226327, 0.5073294272976121, 0.5089293661725915, 0.510529305047571, 0.5121292439225504, 0.5137291827975298, 0.5153291216725092, 0.5169290605474887, 0.5185289994224681, 0.5201289382974476, 0.521728877172427, 0.5233288160474064, 0.5249287549223859, 0.5265286937973652, 0.5281286326723447, 0.5297285715473241], [0.4954877862318289, 0.4970877251068083, 0.49868766398178777, 0.5002876028567672, 0.5018875417317467, 0.5034874806067261, 0.5050874194817055, 0.5066873583566849, 0.5082872972316643, 0.5098872361066438, 0.5114871749816232, 0.5130871138566027, 0.5146870527315821, 0.5162869916065616, 0.517886930481541, 0.5194868693565203, 0.5210868082314998, 0.5226867471064792, 0.5242866859814587, 0.5258866248564381, 0.5274865637314176, 0.529086502606397, 0.5306864414813764, 0.5322863803563558, 0.5338863192313352, 0.5354862581063147, 0.5370861969812941, 0.5386861358562736, 0.540286074731253, 0.5418860136062325], [0.5076452282907372, 0.5092451671657167, 0.5108451060406961, 0.5124450449156756, 0.514044983790655, 0.5156449226656343, 0.5172448615406138, 0.5188448004155932, 0.5204447392905727, 0.5220446781655521, 0.5236446170405316, 0.525244555915511, 0.5268444947904904, 0.5284444336654698, 0.5300443725404492, 0.5316443114154287, 0.5332442502904081, 0.5348441891653876, 0.536444128040367, 0.5380440669153465, 0.5396440057903259, 0.5412439446653052, 0.5428438835402847, 0.5444438224152641, 0.5460437612902436, 0.547643700165223, 0.5492436390402025, 0.5508435779151819, 0.5524435167901613, 0.5540434556651407], [0.5198026703496456, 0.5214026092246249, 0.5230025480996043, 0.5246024869745838, 0.5262024258495632, 0.5278023647245427, 0.5294023035995221, 0.5310022424745016, 0.532602181349481, 0.5342021202244603, 0.5358020590994398, 0.5374019979744192, 0.5390019368493987, 0.5406018757243781, 0.5422018145993576, 0.543801753474337, 0.5454016923493165, 0.5470016312242958, 0.5486015700992752, 0.5502015089742547, 0.5518014478492341, 0.5534013867242136, 0.555001325599193, 0.5566012644741725, 0.5582012033491519, 0.5598011422241312, 0.5614010810991107, 0.5630010199740901, 0.5646009588490696, 0.566200897724049], [0.5319601124085538, 0.5335600512835332, 0.5351599901585127, 0.5367599290334921, 0.5383598679084716, 0.5399598067834509, 0.5415597456584303, 0.5431596845334098, 0.5447596234083892, 0.5463595622833687, 0.5479595011583481, 0.5495594400333276, 0.551159378908307, 0.5527593177832864, 0.5543592566582658, 0.5559591955332452, 0.5575591344082247, 0.5591590732832041, 0.5607590121581836, 0.562358951033163, 0.5639588899081425, 0.5655588287831218, 0.5671587676581012, 0.5687587065330807, 0.5703586454080601, 0.5719585842830396, 0.573558523158019, 0.5751584620329985, 0.5767584009079779, 0.5783583397829573], [0.5441175544674621, 0.5457174933424416, 0.547317432217421, 0.5489173710924005, 0.5505173099673799, 0.5521172488423592, 0.5537171877173387, 0.5553171265923181, 0.5569170654672976, 0.558517004342277, 0.5601169432172565, 0.5617168820922359, 0.5633168209672154, 0.5649167598421947, 0.5665166987171741, 0.5681166375921536, 0.569716576467133, 0.5713165153421125, 0.5729164542170919, 0.5745163930920714, 0.5761163319670508, 0.5777162708420301, 0.5793162097170096, 0.580916148591989, 0.5825160874669685, 0.5841160263419479, 0.5857159652169274, 0.5873159040919068, 0.5889158429668863, 0.5905157818418656], [0.5562749965263705, 0.5578749354013498, 0.5594748742763292, 0.5610748131513087, 0.5626747520262881, 0.5642746909012676, 0.565874629776247, 0.5674745686512265, 0.5690745075262059, 0.5706744464011853, 0.5722743852761647, 0.5738743241511441, 0.5754742630261236, 0.577074201901103, 0.5786741407760825, 0.5802740796510619, 0.5818740185260414, 0.5834739574010207, 0.5850738962760001, 0.5866738351509796, 0.588273774025959, 0.5898737129009385, 0.5914736517759179, 0.5930735906508974, 0.5946735295258768, 0.5962734684008562, 0.5978734072758356, 0.599473346150815, 0.6010732850257945, 0.6026732239007739], [0.5684324385852787, 0.570032377460258, 0.5716323163352375, 0.5732322552102169, 0.5748321940851964, 0.5764321329601758, 0.5780320718351553, 0.5796320107101347, 0.5812319495851141, 0.5828318884600935, 0.5844318273350729, 0.5860317662100524, 0.5876317050850318, 0.5892316439600113, 0.5908315828349907, 0.5924315217099702, 0.5940314605849496, 0.5956313994599289, 0.5972313383349084, 0.5988312772098878, 0.6004312160848673, 0.6020311549598467, 0.6036310938348262, 0.6052310327098056, 0.606830971584785, 0.6084309104597644, 0.6100308493347438, 0.6116307882097233, 0.6132307270847027, 0.6148306659596822], [0.5805898806441869, 0.5821898195191664, 0.5837897583941458, 0.5853896972691253, 0.5869896361441047, 0.588589575019084, 0.5901895138940635, 0.5917894527690429, 0.5933893916440224, 0.5949893305190018, 0.5965892693939813, 0.5981892082689607, 0.5997891471439402, 0.6013890860189195, 0.6029890248938989, 0.6045889637688784, 0.6061889026438578, 0.6077888415188373, 0.6093887803938167, 0.6109887192687962, 0.6125886581437756, 0.614188597018755, 0.6157885358937344, 0.6173884747687138, 0.6189884136436933, 0.6205883525186727, 0.6221882913936522, 0.6237882302686316, 0.6253881691436111, 0.6269881080185904], [0.5927473227030953, 0.5943472615780747, 0.5959472004530542, 0.5975471393280336, 0.599147078203013, 0.6007470170779924, 0.6023469559529718, 0.6039468948279513, 0.6055468337029307, 0.6071467725779102, 0.6087467114528896, 0.6103466503278691, 0.6119465892028485, 0.6135465280778278, 0.6151464669528073, 0.6167464058277867, 0.6183463447027662, 0.6199462835777456, 0.6215462224527251, 0.6231461613277045, 0.624746100202684, 0.6263460390776633, 0.6279459779526427, 0.6295459168276222, 0.6311458557026016, 0.6327457945775811, 0.6343457334525605, 0.63594567232754, 0.6375456112025194, 0.6391455500774987], [0.6049047647620036, 0.606504703636983, 0.6081046425119624, 0.6097045813869418, 0.6113045202619213, 0.6129044591369007, 0.6145043980118802, 0.6161043368868596, 0.6177042757618391, 0.6193042146368184, 0.6209041535117978, 0.6225040923867773, 0.6241040312617567, 0.6257039701367362, 0.6273039090117156, 0.6289038478866951, 0.6305037867616745, 0.6321037256366538, 0.6337036645116333, 0.6353036033866127, 0.6369035422615922, 0.6385034811365716, 0.6401034200115511, 0.6417033588865305, 0.64330329776151, 0.6449032366364893, 0.6465031755114687, 0.6481031143864482, 0.6497030532614276, 0.6513029921364071], [0.6170622068209118, 0.6186621456958913, 0.6202620845708707, 0.6218620234458502, 0.6234619623208296, 0.625061901195809, 0.6266618400707884, 0.6282617789457678, 0.6298617178207473, 0.6314616566957267, 0.6330615955707062, 0.6346615344456856, 0.6362614733206651, 0.6378614121956444, 0.6394613510706239, 0.6410612899456033, 0.6426612288205827, 0.6442611676955622, 0.6458611065705416, 0.6474610454455211, 0.6490609843205005, 0.6506609231954799, 0.6522608620704593, 0.6538608009454387, 0.6554607398204182, 0.6570606786953976, 0.6586606175703771, 0.6602605564453565, 0.661860495320336, 0.6634604341953153], [0.6292196488798202, 0.6308195877547995, 0.632419526629779, 0.6340194655047584, 0.6356194043797379, 0.6372193432547173, 0.6388192821296967, 0.6404192210046762, 0.6420191598796556, 0.643619098754635, 0.6452190376296144, 0.6468189765045939, 0.6484189153795733, 0.6500188542545527, 0.6516187931295322, 0.6532187320045116, 0.6548186708794911, 0.6564186097544704, 0.6580185486294499, 0.6596184875044293, 0.6612184263794088, 0.6628183652543882, 0.6644183041293676, 0.6660182430043471, 0.6676181818793265, 0.6692181207543059, 0.6708180596292853, 0.6724179985042648, 0.6740179373792442, 0.6756178762542236], [0.6413770909387284, 0.6429770298137079, 0.6445769686886873, 0.6461769075636667, 0.6477768464386462, 0.6493767853136255, 0.650976724188605, 0.6525766630635844, 0.6541766019385639, 0.6557765408135433, 0.6573764796885228, 0.6589764185635022, 0.6605763574384816, 0.662176296313461, 0.6637762351884404, 0.6653761740634199, 0.6669761129383993, 0.6685760518133788, 0.6701759906883582, 0.6717759295633376, 0.6733758684383171, 0.6749758073132964, 0.6765757461882759, 0.6781756850632553, 0.6797756239382348, 0.6813755628132142, 0.6829755016881937, 0.6845754405631731, 0.6861753794381525, 0.6877753183131319], [0.6535345329976368, 0.6551344718726161, 0.6567344107475955, 0.658334349622575, 0.6599342884975544, 0.6615342273725339, 0.6631341662475133, 0.6647341051224928, 0.6663340439974722, 0.6679339828724515, 0.669533921747431, 0.6711338606224104, 0.6727337994973899, 0.6743337383723693, 0.6759336772473488, 0.6775336161223282, 0.6791335549973077, 0.680733493872287, 0.6823334327472664, 0.6839333716222459, 0.6855333104972253, 0.6871332493722048, 0.6887331882471842, 0.6903331271221637, 0.6919330659971431, 0.6935330048721224, 0.6951329437471019, 0.6967328826220813, 0.6983328214970608, 0.6999327603720402]]}],\n",
              "                        {\"height\": 600, \"margin\": {\"b\": 0, \"l\": 0, \"r\": 0, \"t\": 0}, \"template\": {\"data\": {\"bar\": [{\"error_x\": {\"color\": \"#2a3f5f\"}, \"error_y\": {\"color\": \"#2a3f5f\"}, \"marker\": {\"line\": {\"color\": \"#E5ECF6\", \"width\": 0.5}}, \"type\": \"bar\"}], \"barpolar\": [{\"marker\": {\"line\": {\"color\": \"#E5ECF6\", \"width\": 0.5}}, \"type\": \"barpolar\"}], \"carpet\": [{\"aaxis\": {\"endlinecolor\": \"#2a3f5f\", \"gridcolor\": \"white\", \"linecolor\": \"white\", \"minorgridcolor\": \"white\", \"startlinecolor\": \"#2a3f5f\"}, \"baxis\": {\"endlinecolor\": \"#2a3f5f\", \"gridcolor\": \"white\", \"linecolor\": \"white\", \"minorgridcolor\": \"white\", \"startlinecolor\": \"#2a3f5f\"}, \"type\": \"carpet\"}], \"choropleth\": [{\"colorbar\": {\"outlinewidth\": 0, \"ticks\": \"\"}, \"type\": \"choropleth\"}], \"contour\": [{\"colorbar\": {\"outlinewidth\": 0, \"ticks\": \"\"}, \"colorscale\": [[0.0, \"#0d0887\"], [0.1111111111111111, \"#46039f\"], [0.2222222222222222, \"#7201a8\"], [0.3333333333333333, \"#9c179e\"], [0.4444444444444444, \"#bd3786\"], [0.5555555555555556, \"#d8576b\"], [0.6666666666666666, \"#ed7953\"], [0.7777777777777778, \"#fb9f3a\"], [0.8888888888888888, \"#fdca26\"], [1.0, \"#f0f921\"]], \"type\": \"contour\"}], \"contourcarpet\": [{\"colorbar\": {\"outlinewidth\": 0, \"ticks\": \"\"}, \"type\": \"contourcarpet\"}], \"heatmap\": [{\"colorbar\": {\"outlinewidth\": 0, \"ticks\": \"\"}, \"colorscale\": [[0.0, \"#0d0887\"], [0.1111111111111111, \"#46039f\"], [0.2222222222222222, \"#7201a8\"], [0.3333333333333333, \"#9c179e\"], [0.4444444444444444, \"#bd3786\"], [0.5555555555555556, \"#d8576b\"], [0.6666666666666666, \"#ed7953\"], [0.7777777777777778, \"#fb9f3a\"], [0.8888888888888888, \"#fdca26\"], [1.0, \"#f0f921\"]], \"type\": \"heatmap\"}], \"heatmapgl\": [{\"colorbar\": {\"outlinewidth\": 0, \"ticks\": \"\"}, \"colorscale\": [[0.0, \"#0d0887\"], [0.1111111111111111, \"#46039f\"], [0.2222222222222222, \"#7201a8\"], [0.3333333333333333, \"#9c179e\"], [0.4444444444444444, \"#bd3786\"], [0.5555555555555556, \"#d8576b\"], [0.6666666666666666, \"#ed7953\"], [0.7777777777777778, \"#fb9f3a\"], [0.8888888888888888, \"#fdca26\"], [1.0, \"#f0f921\"]], \"type\": \"heatmapgl\"}], \"histogram\": [{\"marker\": {\"colorbar\": {\"outlinewidth\": 0, \"ticks\": \"\"}}, \"type\": \"histogram\"}], \"histogram2d\": [{\"colorbar\": {\"outlinewidth\": 0, \"ticks\": \"\"}, \"colorscale\": [[0.0, \"#0d0887\"], [0.1111111111111111, \"#46039f\"], [0.2222222222222222, \"#7201a8\"], [0.3333333333333333, \"#9c179e\"], [0.4444444444444444, \"#bd3786\"], [0.5555555555555556, \"#d8576b\"], [0.6666666666666666, \"#ed7953\"], [0.7777777777777778, \"#fb9f3a\"], [0.8888888888888888, \"#fdca26\"], [1.0, \"#f0f921\"]], \"type\": \"histogram2d\"}], \"histogram2dcontour\": [{\"colorbar\": {\"outlinewidth\": 0, \"ticks\": \"\"}, \"colorscale\": [[0.0, \"#0d0887\"], [0.1111111111111111, \"#46039f\"], [0.2222222222222222, \"#7201a8\"], [0.3333333333333333, \"#9c179e\"], [0.4444444444444444, \"#bd3786\"], [0.5555555555555556, \"#d8576b\"], [0.6666666666666666, \"#ed7953\"], [0.7777777777777778, \"#fb9f3a\"], [0.8888888888888888, \"#fdca26\"], [1.0, \"#f0f921\"]], \"type\": \"histogram2dcontour\"}], \"mesh3d\": [{\"colorbar\": {\"outlinewidth\": 0, \"ticks\": \"\"}, \"type\": \"mesh3d\"}], \"parcoords\": [{\"line\": {\"colorbar\": {\"outlinewidth\": 0, \"ticks\": \"\"}}, \"type\": \"parcoords\"}], \"pie\": [{\"automargin\": true, \"type\": \"pie\"}], \"scatter\": [{\"marker\": {\"colorbar\": {\"outlinewidth\": 0, \"ticks\": \"\"}}, \"type\": \"scatter\"}], \"scatter3d\": [{\"line\": {\"colorbar\": {\"outlinewidth\": 0, \"ticks\": \"\"}}, \"marker\": {\"colorbar\": {\"outlinewidth\": 0, \"ticks\": \"\"}}, \"type\": \"scatter3d\"}], \"scattercarpet\": [{\"marker\": {\"colorbar\": {\"outlinewidth\": 0, \"ticks\": \"\"}}, \"type\": \"scattercarpet\"}], \"scattergeo\": [{\"marker\": {\"colorbar\": {\"outlinewidth\": 0, \"ticks\": \"\"}}, \"type\": \"scattergeo\"}], \"scattergl\": [{\"marker\": {\"colorbar\": {\"outlinewidth\": 0, \"ticks\": \"\"}}, \"type\": \"scattergl\"}], \"scattermapbox\": [{\"marker\": {\"colorbar\": {\"outlinewidth\": 0, \"ticks\": \"\"}}, \"type\": \"scattermapbox\"}], \"scatterpolar\": [{\"marker\": {\"colorbar\": {\"outlinewidth\": 0, \"ticks\": \"\"}}, \"type\": \"scatterpolar\"}], \"scatterpolargl\": [{\"marker\": {\"colorbar\": {\"outlinewidth\": 0, \"ticks\": \"\"}}, \"type\": \"scatterpolargl\"}], \"scatterternary\": [{\"marker\": {\"colorbar\": {\"outlinewidth\": 0, \"ticks\": \"\"}}, \"type\": \"scatterternary\"}], \"surface\": [{\"colorbar\": {\"outlinewidth\": 0, \"ticks\": \"\"}, \"colorscale\": [[0.0, \"#0d0887\"], [0.1111111111111111, \"#46039f\"], [0.2222222222222222, \"#7201a8\"], [0.3333333333333333, \"#9c179e\"], [0.4444444444444444, \"#bd3786\"], [0.5555555555555556, \"#d8576b\"], [0.6666666666666666, \"#ed7953\"], [0.7777777777777778, \"#fb9f3a\"], [0.8888888888888888, \"#fdca26\"], [1.0, \"#f0f921\"]], \"type\": \"surface\"}], \"table\": [{\"cells\": {\"fill\": {\"color\": \"#EBF0F8\"}, \"line\": {\"color\": \"white\"}}, \"header\": {\"fill\": {\"color\": \"#C8D4E3\"}, \"line\": {\"color\": \"white\"}}, \"type\": \"table\"}]}, \"layout\": {\"annotationdefaults\": {\"arrowcolor\": \"#2a3f5f\", \"arrowhead\": 0, \"arrowwidth\": 1}, \"coloraxis\": {\"colorbar\": {\"outlinewidth\": 0, \"ticks\": \"\"}}, \"colorscale\": {\"diverging\": [[0, \"#8e0152\"], [0.1, \"#c51b7d\"], [0.2, \"#de77ae\"], [0.3, \"#f1b6da\"], [0.4, \"#fde0ef\"], [0.5, \"#f7f7f7\"], [0.6, \"#e6f5d0\"], [0.7, \"#b8e186\"], [0.8, \"#7fbc41\"], [0.9, \"#4d9221\"], [1, \"#276419\"]], \"sequential\": [[0.0, \"#0d0887\"], [0.1111111111111111, \"#46039f\"], [0.2222222222222222, \"#7201a8\"], [0.3333333333333333, \"#9c179e\"], [0.4444444444444444, \"#bd3786\"], [0.5555555555555556, \"#d8576b\"], [0.6666666666666666, \"#ed7953\"], [0.7777777777777778, \"#fb9f3a\"], [0.8888888888888888, \"#fdca26\"], [1.0, \"#f0f921\"]], \"sequentialminus\": [[0.0, \"#0d0887\"], [0.1111111111111111, \"#46039f\"], [0.2222222222222222, \"#7201a8\"], [0.3333333333333333, \"#9c179e\"], [0.4444444444444444, \"#bd3786\"], [0.5555555555555556, \"#d8576b\"], [0.6666666666666666, \"#ed7953\"], [0.7777777777777778, \"#fb9f3a\"], [0.8888888888888888, \"#fdca26\"], [1.0, \"#f0f921\"]]}, \"colorway\": [\"#636efa\", \"#EF553B\", \"#00cc96\", \"#ab63fa\", \"#FFA15A\", \"#19d3f3\", \"#FF6692\", \"#B6E880\", \"#FF97FF\", \"#FECB52\"], \"font\": {\"color\": \"#2a3f5f\"}, \"geo\": {\"bgcolor\": \"white\", \"lakecolor\": \"white\", \"landcolor\": \"#E5ECF6\", \"showlakes\": true, \"showland\": true, \"subunitcolor\": \"white\"}, \"hoverlabel\": {\"align\": \"left\"}, \"hovermode\": \"closest\", \"mapbox\": {\"style\": \"light\"}, \"paper_bgcolor\": \"white\", \"plot_bgcolor\": \"#E5ECF6\", \"polar\": {\"angularaxis\": {\"gridcolor\": \"white\", \"linecolor\": \"white\", \"ticks\": \"\"}, \"bgcolor\": \"#E5ECF6\", \"radialaxis\": {\"gridcolor\": \"white\", \"linecolor\": \"white\", \"ticks\": \"\"}}, \"scene\": {\"xaxis\": {\"backgroundcolor\": \"#E5ECF6\", \"gridcolor\": \"white\", \"gridwidth\": 2, \"linecolor\": \"white\", \"showbackground\": true, \"ticks\": \"\", \"zerolinecolor\": \"white\"}, \"yaxis\": {\"backgroundcolor\": \"#E5ECF6\", \"gridcolor\": \"white\", \"gridwidth\": 2, \"linecolor\": \"white\", \"showbackground\": true, \"ticks\": \"\", \"zerolinecolor\": \"white\"}, \"zaxis\": {\"backgroundcolor\": \"#E5ECF6\", \"gridcolor\": \"white\", \"gridwidth\": 2, \"linecolor\": \"white\", \"showbackground\": true, \"ticks\": \"\", \"zerolinecolor\": \"white\"}}, \"shapedefaults\": {\"line\": {\"color\": \"#2a3f5f\"}}, \"ternary\": {\"aaxis\": {\"gridcolor\": \"white\", \"linecolor\": \"white\", \"ticks\": \"\"}, \"baxis\": {\"gridcolor\": \"white\", \"linecolor\": \"white\", \"ticks\": \"\"}, \"bgcolor\": \"#E5ECF6\", \"caxis\": {\"gridcolor\": \"white\", \"linecolor\": \"white\", \"ticks\": \"\"}}, \"title\": {\"x\": 0.05}, \"xaxis\": {\"automargin\": true, \"gridcolor\": \"white\", \"linecolor\": \"white\", \"ticks\": \"\", \"title\": {\"standoff\": 15}, \"zerolinecolor\": \"white\", \"zerolinewidth\": 2}, \"yaxis\": {\"automargin\": true, \"gridcolor\": \"white\", \"linecolor\": \"white\", \"ticks\": \"\", \"title\": {\"standoff\": 15}, \"zerolinecolor\": \"white\", \"zerolinewidth\": 2}}}},\n",
              "                        {\"responsive\": true}\n",
              "                    ).then(function(){\n",
              "                            \n",
              "var gd = document.getElementById('e34f6f03-aab0-419c-b87e-0f90ea0d8936');\n",
              "var x = new MutationObserver(function (mutations, observer) {{\n",
              "        var display = window.getComputedStyle(gd).display;\n",
              "        if (!display || display === 'none') {{\n",
              "            console.log([gd, 'removed!']);\n",
              "            Plotly.purge(gd);\n",
              "            observer.disconnect();\n",
              "        }}\n",
              "}});\n",
              "\n",
              "// Listen for the removal of the full notebook cells\n",
              "var notebookContainer = gd.closest('#notebook-container');\n",
              "if (notebookContainer) {{\n",
              "    x.observe(notebookContainer, {childList: true});\n",
              "}}\n",
              "\n",
              "// Listen for the clearing of the current output cell\n",
              "var outputEl = gd.closest('.output');\n",
              "if (outputEl) {{\n",
              "    x.observe(outputEl, {childList: true});\n",
              "}}\n",
              "\n",
              "                        })\n",
              "                };\n",
              "                \n",
              "            </script>\n",
              "        </div>\n",
              "</body>\n",
              "</html>"
            ]
          },
          "metadata": {
            "tags": []
          }
        }
      ]
    },
    {
      "cell_type": "markdown",
      "metadata": {
        "id": "fkZJnyQUQtpS"
      },
      "source": [
        "####TODO\n",
        "What do you find from this graph?\n",
        "\n",
        "Answer: *We could find that the linear model is not fit on this graph well. Most points are above or below the plane. [We will later study other more models, such as ridge regression, Lasso regression, etc, which will fit better on this model.]*"
      ]
    },
    {
      "cell_type": "markdown",
      "metadata": {
        "id": "ub362kMvG_5C"
      },
      "source": [
        "# One Hot Encoding\n",
        "\n",
        "## What is categorical data?\n",
        "\n",
        "**Categorical data** are variables that are classified by labels rather than strictly numerical values. Often these variables are called _nominal_ variables. For example, a \"pet\" variable can have values like \"dog\", \"cat\", or \"iguana\". \n",
        "\n",
        "As you may know, data sets aren't always in numerical form. Similar to categorizing your classes by subject, or the clothes you wear by occasion, humans have a natural tendancy to associate data with nominal variables. \n",
        "\n",
        "Other forms of data include numerical, as we have seen before, and ordinal data, which are categorical data which have rankings or order. Ex: star ratings on yelp.\n",
        "\n",
        "### So how do computers see and use categorical data?\n",
        "\n",
        "Some algorithms can work with categorical data directly, for example, decision trees (which you will learn about later in ML) Our job now as avid machine learning enthusiasts is to translate categorical data into a way the majority of machine learning algorithms can efficiently provide modelling and analysis, which brings us to our module topic: One Hot Encoding.\n",
        "\n",
        "## One Hot Encoding\n",
        "\n",
        "One Hot encoding expands the columns of a categorical dataset to include the categories as columns in a numerical way.\n",
        "\n",
        "The term \"One Hot\" comes from how categories are indicated in this form, with the row record's are lit up as a '1' if it falls into the category of question, and 0 otherwise.\n",
        "\n",
        "![Tabular image of One Hot Encoding](https://drive.google.com/file/d/1ficUV2Wufu2QJMtIJOji6DiT_9W2rmcp/view?usp=sharing)\n",
        "\n",
        "While this is a small example, one hot encoding can span several categories and simple but robust enough to be used commonly in various fields of machine learning and data science. For example, Natural Language Processing sometimes will take tweets (each row would be one recorded tweet), and vectorize words similar to how we one-hot encode catagories!\n",
        "\n",
        "Fun Fact: The term one-hot encoding comes from a digital circuit encoding of a categorical state as particular \"hot\" wire.\n",
        "\n",
        "![Wire Image of One Hot Encoding](https://drive.google.com/file/d/14vWX-N7WVWJSGBvXtzPoasgr0fb4DXgy/view?usp=sharing)"
      ]
    },
    {
      "cell_type": "markdown",
      "metadata": {
        "id": "SM0XFO7AIuiw"
      },
      "source": [
        "### The Process\n",
        "\n",
        "One hot encoding is a way to reframe your existing data. \n",
        "\n",
        "5 Steps to manually produce One hot encoding:\n",
        "1. Clean the dataset and create a column for the category. This table with the original catagory column will be called 'Table A'.\n",
        "2. Find the set of unique labels in a category from Table A.\n",
        "3. For each unique label, create columns in a new dataframe, Table B. (If there are multiple catagorical columns to encode, common practice is to rename these new columns in the form 'category_value - ex: 'species_human', 'species_dog') Fill these columns with the default value, 0.\n",
        "4. For each non-categorical column (the numerical columns where one-hot encoding is not needed), append it to this to the new dataframe, Table B.\n",
        "5. Loop through each record (row value) of the Table A. For each category, you want to change the encoded value in Table B to '1'. \n",
        "\n"
      ]
    },
    {
      "cell_type": "markdown",
      "metadata": {
        "id": "YNBUgMBXKYxt"
      },
      "source": [
        "## Let's put what we learned into action!"
      ]
    },
    {
      "cell_type": "markdown",
      "metadata": {
        "id": "dKJpPfswVBZh"
      },
      "source": [
        "## Part A: Simple Encoding Exercise\n"
      ]
    },
    {
      "cell_type": "markdown",
      "metadata": {
        "id": "kSdoeEqbHfWf"
      },
      "source": [
        "\n",
        "### Part 1: Manual Encoding\n",
        "One weekend the staff of EE16ML decide to open a fruit stand to help raise funds to support Oski's career as a computer scientist. The staff is given a catalogue of fruits they are able to source for their new pop up fruit shop.\n",
        "\n",
        "The fruit column represents the label that the fruit has - 'apple', for example. The price column is a float representing the $USD of a pound of the corresponding fruit. The season is the best season for the fruit to grow between summer and winter. The rating column represents the popularity of the fruit among Berkeley students out of 5.\n",
        "\n",
        "The EE16ML staff want to reframe the existing data so that they can run some code on it. As a go-getter student assistant, you volunteer to preprocess the table and one-hot encode the catagorical variables."
      ]
    },
    {
      "cell_type": "code",
      "metadata": {
        "colab": {
          "base_uri": "https://localhost:8080/",
          "height": 173
        },
        "id": "wUgrFHBRG7F2",
        "outputId": "427dd58a-dd09-4879-c2b5-579c6976b912"
      },
      "source": [
        "## A Simple Example\n",
        "# run this cell to create the dataset\n",
        "fruit_info = pd.DataFrame(\n",
        "    data={'fruit': ['apple', 'orange', 'banana', 'raspberry'],\n",
        "          'price': [5, 6, 2, 3],\n",
        "          'season': ['winter', 'winter', 'summer', 'summer'],\n",
        "          'rating': [4, 2, 3, 5]\n",
        "          })\n",
        "# display fruit_info\n",
        "fruit_info\n",
        "\n",
        "## data example source: data 100 lab 2 https://data100.datahub.berkeley.edu/user/jiyoojeong/notebooks/sp20/lab/lab02/lab02.ipynb\n"
      ],
      "execution_count": null,
      "outputs": [
        {
          "output_type": "execute_result",
          "data": {
            "text/html": [
              "<div>\n",
              "<style scoped>\n",
              "    .dataframe tbody tr th:only-of-type {\n",
              "        vertical-align: middle;\n",
              "    }\n",
              "\n",
              "    .dataframe tbody tr th {\n",
              "        vertical-align: top;\n",
              "    }\n",
              "\n",
              "    .dataframe thead th {\n",
              "        text-align: right;\n",
              "    }\n",
              "</style>\n",
              "<table border=\"1\" class=\"dataframe\">\n",
              "  <thead>\n",
              "    <tr style=\"text-align: right;\">\n",
              "      <th></th>\n",
              "      <th>fruit</th>\n",
              "      <th>price</th>\n",
              "      <th>season</th>\n",
              "      <th>rating</th>\n",
              "    </tr>\n",
              "  </thead>\n",
              "  <tbody>\n",
              "    <tr>\n",
              "      <th>0</th>\n",
              "      <td>apple</td>\n",
              "      <td>5</td>\n",
              "      <td>winter</td>\n",
              "      <td>4</td>\n",
              "    </tr>\n",
              "    <tr>\n",
              "      <th>1</th>\n",
              "      <td>orange</td>\n",
              "      <td>6</td>\n",
              "      <td>winter</td>\n",
              "      <td>2</td>\n",
              "    </tr>\n",
              "    <tr>\n",
              "      <th>2</th>\n",
              "      <td>banana</td>\n",
              "      <td>2</td>\n",
              "      <td>summer</td>\n",
              "      <td>3</td>\n",
              "    </tr>\n",
              "    <tr>\n",
              "      <th>3</th>\n",
              "      <td>raspberry</td>\n",
              "      <td>3</td>\n",
              "      <td>summer</td>\n",
              "      <td>5</td>\n",
              "    </tr>\n",
              "  </tbody>\n",
              "</table>\n",
              "</div>"
            ],
            "text/plain": [
              "       fruit  price  season  rating\n",
              "0      apple      5  winter       4\n",
              "1     orange      6  winter       2\n",
              "2     banana      2  summer       3\n",
              "3  raspberry      3  summer       5"
            ]
          },
          "metadata": {
            "tags": []
          },
          "execution_count": 10
        }
      ]
    },
    {
      "cell_type": "markdown",
      "metadata": {
        "id": "R3IgRtPUSTLV"
      },
      "source": [
        "####TODO\n",
        "Now we want to manually one hot encode this table using the process we just learned.\n",
        "\n",
        "_Hint: It might help to look at the sanity check questions!_\n",
        "\n"
      ]
    },
    {
      "cell_type": "code",
      "metadata": {
        "colab": {
          "base_uri": "https://localhost:8080/",
          "height": 193
        },
        "id": "aWlmCEe8Ul4l",
        "outputId": "d9ac656a-2cd4-4602-a5e3-ac815eece48a"
      },
      "source": [
        "## START\n",
        "# you may not use any libraries outside of pandas for this section.\n",
        "fruit_one_hot = pd.DataFrame()\n",
        "\n",
        "# TODO: Your code here.\n",
        "# Hint: think about what you would like to do at each step, and how many times\n",
        "# the process will be repeated.\n",
        "# Hint 2: A simple pandas function to add new empty columns is df.reindex!\n",
        "\n",
        "# alternative, but working solutions, will be accepted.\n",
        "categorical_columns = ['fruit', 'season']\n",
        "numerical_columns = ['price', 'rating']\n",
        "\n",
        "new_columns = []\n",
        "for cat in categorical_columns:\n",
        "  new_names = []\n",
        "  category_values = fruit_info[cat].values\n",
        "  for val in category_values:\n",
        "    if cat + '_' + val not in new_names:\n",
        "      new_names.append(cat + '_' + val)\n",
        "  new_columns.extend(new_names)\n",
        "\n",
        "# copy numerical columns\n",
        "fruit_one_hot['price'] = fruit_info['price']\n",
        "fruit_one_hot['rating'] = fruit_info['rating']\n",
        "\n",
        "# initialize empty new columns\n",
        "fruit_one_hot = fruit_one_hot.reindex(columns = fruit_one_hot.columns.tolist() \\\n",
        "                                      + new_columns, fill_value='0')\n",
        "\n",
        "# categorize and encode\n",
        "for i in fruit_info.index.values:\n",
        "  fruit_name = fruit_info['fruit'][i]\n",
        "  season = fruit_info['season'][i]\n",
        "  one_hot_vector = [1 if fruit_name in c or season in c else 0 for c in new_columns]\n",
        "  fruit_one_hot.loc[i, new_columns] = one_hot_vector\n",
        "\n",
        "# END.\n",
        "\n",
        "# display table\n",
        "fruit_one_hot"
      ],
      "execution_count": null,
      "outputs": [
        {
          "output_type": "execute_result",
          "data": {
            "text/html": [
              "<div>\n",
              "<style scoped>\n",
              "    .dataframe tbody tr th:only-of-type {\n",
              "        vertical-align: middle;\n",
              "    }\n",
              "\n",
              "    .dataframe tbody tr th {\n",
              "        vertical-align: top;\n",
              "    }\n",
              "\n",
              "    .dataframe thead th {\n",
              "        text-align: right;\n",
              "    }\n",
              "</style>\n",
              "<table border=\"1\" class=\"dataframe\">\n",
              "  <thead>\n",
              "    <tr style=\"text-align: right;\">\n",
              "      <th></th>\n",
              "      <th>price</th>\n",
              "      <th>rating</th>\n",
              "      <th>fruit_apple</th>\n",
              "      <th>fruit_orange</th>\n",
              "      <th>fruit_banana</th>\n",
              "      <th>fruit_raspberry</th>\n",
              "      <th>season_winter</th>\n",
              "      <th>season_summer</th>\n",
              "    </tr>\n",
              "  </thead>\n",
              "  <tbody>\n",
              "    <tr>\n",
              "      <th>0</th>\n",
              "      <td>5</td>\n",
              "      <td>4</td>\n",
              "      <td>1</td>\n",
              "      <td>0</td>\n",
              "      <td>0</td>\n",
              "      <td>0</td>\n",
              "      <td>1</td>\n",
              "      <td>0</td>\n",
              "    </tr>\n",
              "    <tr>\n",
              "      <th>1</th>\n",
              "      <td>6</td>\n",
              "      <td>2</td>\n",
              "      <td>0</td>\n",
              "      <td>1</td>\n",
              "      <td>0</td>\n",
              "      <td>0</td>\n",
              "      <td>1</td>\n",
              "      <td>0</td>\n",
              "    </tr>\n",
              "    <tr>\n",
              "      <th>2</th>\n",
              "      <td>2</td>\n",
              "      <td>3</td>\n",
              "      <td>0</td>\n",
              "      <td>0</td>\n",
              "      <td>1</td>\n",
              "      <td>0</td>\n",
              "      <td>0</td>\n",
              "      <td>1</td>\n",
              "    </tr>\n",
              "    <tr>\n",
              "      <th>3</th>\n",
              "      <td>3</td>\n",
              "      <td>5</td>\n",
              "      <td>0</td>\n",
              "      <td>0</td>\n",
              "      <td>0</td>\n",
              "      <td>1</td>\n",
              "      <td>0</td>\n",
              "      <td>1</td>\n",
              "    </tr>\n",
              "  </tbody>\n",
              "</table>\n",
              "</div>"
            ],
            "text/plain": [
              "   price  rating fruit_apple  ... fruit_raspberry season_winter season_summer\n",
              "0      5       4           1  ...               0             1             0\n",
              "1      6       2           0  ...               0             1             0\n",
              "2      2       3           0  ...               0             0             1\n",
              "3      3       5           0  ...               1             0             1\n",
              "\n",
              "[4 rows x 8 columns]"
            ]
          },
          "metadata": {
            "tags": []
          },
          "execution_count": 11
        }
      ]
    },
    {
      "cell_type": "markdown",
      "metadata": {
        "id": "kC9MxxMiIrbr"
      },
      "source": [
        "Sanity Check: \n",
        "- How many columns should your new table have? How many are columns from the catagorical variables? _your answer here_ It should have 8 columns. 6 for the new categorical columns.\n",
        "- What should the columns be? _your answer here_ 'price', 'rating', 'fruit_apple', 'fruit_orange', 'fruit_banana', 'fruit_raspberry', 'season_winter', 'season_summer'\n",
        "- Does your newly encoded table still have the same data points? Briefly justify why. _your answer here_ Yes, we are expanding the columns that each datapoint refers to, not creating new datapoints. Thus, no new rows are added."
      ]
    },
    {
      "cell_type": "markdown",
      "metadata": {
        "id": "l5Gno7rASFPt"
      },
      "source": [
        "#### Decoding the one-hot encode\n",
        "\n",
        "To help solidify your understanding of one-hot encoding, think about how the script to undo a one-hot encoding process would work. Describe in detail what this process would look like in pseudocode."
      ]
    },
    {
      "cell_type": "markdown",
      "metadata": {
        "id": "eyifPNeqVm6K"
      },
      "source": [
        "_Your pseudo code here_\n",
        "\n",
        "1. Get the non numeric column values of the dataset.\n",
        "2. Separate each categorical variable based on prefixes. If no prefix, then assume only one variable.\n",
        "3. Create a new table with the numerical columns and catagorical variables.\n",
        "3. For each variable, loop through each row index to obtain the one hot encoded label for each catagorical variable.\n",
        "4. For each '1' value, append to a new list of the labels the 1 corresponds to.\n",
        "6. Set the categorical variable cell for this row as this new list of labels.\n"
      ]
    },
    {
      "cell_type": "markdown",
      "metadata": {
        "id": "LzyVbbn4FIRW"
      },
      "source": [
        "### Part 2: Pandas One Hot Encoding\n",
        "\n",
        "The previous manual method is actually pretty inefficient for large data, as we need to loop in through the data multiple times and determine new columns. Using pandas to hold your data in dataframes however allows us to actually utilise one of their library functions to one hot encode catagories efficiently and effectively!\n",
        "\n",
        "You can use Pandas.get_dummies to get the one hot encoded version of the dataframe.\n",
        "\n",
        "Try running the cell below:\n",
        "\n"
      ]
    },
    {
      "cell_type": "code",
      "metadata": {
        "colab": {
          "base_uri": "https://localhost:8080/",
          "height": 173
        },
        "id": "410bZF1tFa5T",
        "outputId": "c0af28b1-5090-4b36-f185-c01733b5cac0"
      },
      "source": [
        "# returns the one hot encoded table of only column 'fruit'\n",
        "pd.get_dummies(fruit_info['fruit'])"
      ],
      "execution_count": null,
      "outputs": [
        {
          "output_type": "execute_result",
          "data": {
            "text/html": [
              "<div>\n",
              "<style scoped>\n",
              "    .dataframe tbody tr th:only-of-type {\n",
              "        vertical-align: middle;\n",
              "    }\n",
              "\n",
              "    .dataframe tbody tr th {\n",
              "        vertical-align: top;\n",
              "    }\n",
              "\n",
              "    .dataframe thead th {\n",
              "        text-align: right;\n",
              "    }\n",
              "</style>\n",
              "<table border=\"1\" class=\"dataframe\">\n",
              "  <thead>\n",
              "    <tr style=\"text-align: right;\">\n",
              "      <th></th>\n",
              "      <th>apple</th>\n",
              "      <th>banana</th>\n",
              "      <th>orange</th>\n",
              "      <th>raspberry</th>\n",
              "    </tr>\n",
              "  </thead>\n",
              "  <tbody>\n",
              "    <tr>\n",
              "      <th>0</th>\n",
              "      <td>1</td>\n",
              "      <td>0</td>\n",
              "      <td>0</td>\n",
              "      <td>0</td>\n",
              "    </tr>\n",
              "    <tr>\n",
              "      <th>1</th>\n",
              "      <td>0</td>\n",
              "      <td>0</td>\n",
              "      <td>1</td>\n",
              "      <td>0</td>\n",
              "    </tr>\n",
              "    <tr>\n",
              "      <th>2</th>\n",
              "      <td>0</td>\n",
              "      <td>1</td>\n",
              "      <td>0</td>\n",
              "      <td>0</td>\n",
              "    </tr>\n",
              "    <tr>\n",
              "      <th>3</th>\n",
              "      <td>0</td>\n",
              "      <td>0</td>\n",
              "      <td>0</td>\n",
              "      <td>1</td>\n",
              "    </tr>\n",
              "  </tbody>\n",
              "</table>\n",
              "</div>"
            ],
            "text/plain": [
              "   apple  banana  orange  raspberry\n",
              "0      1       0       0          0\n",
              "1      0       0       1          0\n",
              "2      0       1       0          0\n",
              "3      0       0       0          1"
            ]
          },
          "metadata": {
            "tags": []
          },
          "execution_count": 12
        }
      ]
    },
    {
      "cell_type": "code",
      "metadata": {
        "colab": {
          "base_uri": "https://localhost:8080/",
          "height": 193
        },
        "id": "OmUjlfIYFtld",
        "outputId": "9e9a4eb2-f111-40da-c52e-d50df63cc9aa"
      },
      "source": [
        "# returns the full dataframe with one hot encoded columns\n",
        "pd.get_dummies(fruit_info)"
      ],
      "execution_count": null,
      "outputs": [
        {
          "output_type": "execute_result",
          "data": {
            "text/html": [
              "<div>\n",
              "<style scoped>\n",
              "    .dataframe tbody tr th:only-of-type {\n",
              "        vertical-align: middle;\n",
              "    }\n",
              "\n",
              "    .dataframe tbody tr th {\n",
              "        vertical-align: top;\n",
              "    }\n",
              "\n",
              "    .dataframe thead th {\n",
              "        text-align: right;\n",
              "    }\n",
              "</style>\n",
              "<table border=\"1\" class=\"dataframe\">\n",
              "  <thead>\n",
              "    <tr style=\"text-align: right;\">\n",
              "      <th></th>\n",
              "      <th>price</th>\n",
              "      <th>rating</th>\n",
              "      <th>fruit_apple</th>\n",
              "      <th>fruit_banana</th>\n",
              "      <th>fruit_orange</th>\n",
              "      <th>fruit_raspberry</th>\n",
              "      <th>season_summer</th>\n",
              "      <th>season_winter</th>\n",
              "    </tr>\n",
              "  </thead>\n",
              "  <tbody>\n",
              "    <tr>\n",
              "      <th>0</th>\n",
              "      <td>5</td>\n",
              "      <td>4</td>\n",
              "      <td>1</td>\n",
              "      <td>0</td>\n",
              "      <td>0</td>\n",
              "      <td>0</td>\n",
              "      <td>0</td>\n",
              "      <td>1</td>\n",
              "    </tr>\n",
              "    <tr>\n",
              "      <th>1</th>\n",
              "      <td>6</td>\n",
              "      <td>2</td>\n",
              "      <td>0</td>\n",
              "      <td>0</td>\n",
              "      <td>1</td>\n",
              "      <td>0</td>\n",
              "      <td>0</td>\n",
              "      <td>1</td>\n",
              "    </tr>\n",
              "    <tr>\n",
              "      <th>2</th>\n",
              "      <td>2</td>\n",
              "      <td>3</td>\n",
              "      <td>0</td>\n",
              "      <td>1</td>\n",
              "      <td>0</td>\n",
              "      <td>0</td>\n",
              "      <td>1</td>\n",
              "      <td>0</td>\n",
              "    </tr>\n",
              "    <tr>\n",
              "      <th>3</th>\n",
              "      <td>3</td>\n",
              "      <td>5</td>\n",
              "      <td>0</td>\n",
              "      <td>0</td>\n",
              "      <td>0</td>\n",
              "      <td>1</td>\n",
              "      <td>1</td>\n",
              "      <td>0</td>\n",
              "    </tr>\n",
              "  </tbody>\n",
              "</table>\n",
              "</div>"
            ],
            "text/plain": [
              "   price  rating  fruit_apple  ...  fruit_raspberry  season_summer  season_winter\n",
              "0      5       4            1  ...                0              0              1\n",
              "1      6       2            0  ...                0              0              1\n",
              "2      2       3            0  ...                0              1              0\n",
              "3      3       5            0  ...                1              1              0\n",
              "\n",
              "[4 rows x 8 columns]"
            ]
          },
          "metadata": {
            "tags": []
          },
          "execution_count": 13
        }
      ]
    },
    {
      "cell_type": "markdown",
      "metadata": {
        "id": "KCCOfZVMH8wP"
      },
      "source": [
        "### Part 3: Using SKLearn's OneHotEncoder\n",
        "\n",
        "For larger or more complex datasets, SKLearn provides a One Hot Encoder through it's preprocessing kit. Find the documentation [here](https://scikit-learn.org/stable/modules/generated/sklearn.preprocessing.OneHotEncoder.html).\n",
        "\n",
        "\n",
        "[Data 100's textbook chapter on one hot encoding](https://www.textbook.ds100.org/ch/14/feature_one_hot.html) also has a great example of using the DictVectorizer from the feature_extraction library instead of OneHotEncoder for similar results if you want an additional perspective of one hot encoding using SKLearn. \n",
        "\n",
        "\n",
        "* Note: Using the OneHotEncoder will encode the entire dataframe you input as one-hot categories, even numerical columns. "
      ]
    },
    {
      "cell_type": "code",
      "metadata": {
        "id": "zMtlkdrHH8Hf"
      },
      "source": [
        "## SKLearn's OneHotEncoder\n",
        "\n",
        "# load library\n",
        "from sklearn.preprocessing import OneHotEncoder\n"
      ],
      "execution_count": null,
      "outputs": []
    },
    {
      "cell_type": "markdown",
      "metadata": {
        "id": "f0G0W_vJKZAd"
      },
      "source": [
        "First we observe the simple example of encoding a matrix with binary one-hot encoding. The following sample data has two catagories, one for an individual's gender and another for a the order of arrival at a restaurant.\n",
        "\n",
        "#### From the Docs\n",
        "> \"Encode categorical features as a one-hot numeric array. The input to this transformer should be an array-like of integers or strings, denoting the values taken on by categorical (discrete) features. The features are encoded using a one-hot (aka ‘one-of-K’ or ‘dummy’) encoding scheme. This creates a binary column for each category and returns a sparse matrix or dense array (depending on the sparse parameter. By default, the encoder derives the categories based on the unique values in each feature. Alternatively, you can also specify the categories manually. This encoding is needed for feeding categorical data to many scikit-learn estimators, notably linear models and SVMs with the standard kernels.\"\n",
        "\n",
        "\n",
        "Review the documentation for the SKLearn OneHotEncoder.\n"
      ]
    },
    {
      "cell_type": "markdown",
      "metadata": {
        "id": "GWWyC2WcURaK"
      },
      "source": [
        "####TODO\n",
        "For the following cells where prompted, run and understand what is happening, and utilise the library functions to obtain desired results."
      ]
    },
    {
      "cell_type": "code",
      "metadata": {
        "colab": {
          "base_uri": "https://localhost:8080/"
        },
        "id": "v7Jbc9cwJxIl",
        "outputId": "902f9c01-cce1-4d5c-b980-0191f91a64aa"
      },
      "source": [
        "# A simple example : courtesy of scikit-learn.org\n",
        "\n",
        "# create and fit the encoder to the dataframe\n",
        "enc = OneHotEncoder(handle_unknown = 'ignore')\n",
        "enc.fit(fruit_info)"
      ],
      "execution_count": null,
      "outputs": [
        {
          "output_type": "execute_result",
          "data": {
            "text/plain": [
              "OneHotEncoder(categories='auto', drop=None, dtype=<class 'numpy.float64'>,\n",
              "              handle_unknown='ignore', sparse=True)"
            ]
          },
          "metadata": {
            "tags": []
          },
          "execution_count": 97
        }
      ]
    },
    {
      "cell_type": "code",
      "metadata": {
        "colab": {
          "base_uri": "https://localhost:8080/"
        },
        "id": "0CHqTPV_Ldv6",
        "outputId": "634ddb41-7244-49de-a606-7055ab02adb6"
      },
      "source": [
        "# TODO: Display the created catagories:\n",
        "# START\n",
        "enc.categories_ # ans\n",
        "# END"
      ],
      "execution_count": null,
      "outputs": [
        {
          "output_type": "execute_result",
          "data": {
            "text/plain": [
              "[array(['apple', 'banana', 'orange', 'raspberry'], dtype=object),\n",
              " array([2, 3, 5, 6]),\n",
              " array(['summer', 'winter'], dtype=object),\n",
              " array([2, 3, 4, 5])]"
            ]
          },
          "metadata": {
            "tags": []
          },
          "execution_count": 98
        }
      ]
    },
    {
      "cell_type": "code",
      "metadata": {
        "colab": {
          "base_uri": "https://localhost:8080/"
        },
        "id": "nOahXEy6LkoZ",
        "outputId": "28882030-847b-4c36-b53a-14edaeebeb5a"
      },
      "source": [
        "# get vectorized one-hots from inputs\n",
        "enc.transform([['apple', 2, 'winter', 4], ['raspberry', '5', 'spring', '2']]).toarray()\n",
        "# notice how since spring was not trained on, it does not get encoded"
      ],
      "execution_count": null,
      "outputs": [
        {
          "output_type": "execute_result",
          "data": {
            "text/plain": [
              "array([[1., 0., 0., 0., 1., 0., 0., 0., 0., 1., 0., 0., 1., 0.],\n",
              "       [0., 0., 0., 1., 0., 0., 0., 0., 0., 0., 0., 0., 0., 0.]])"
            ]
          },
          "metadata": {
            "tags": []
          },
          "execution_count": 99
        }
      ]
    },
    {
      "cell_type": "code",
      "metadata": {
        "colab": {
          "base_uri": "https://localhost:8080/"
        },
        "id": "C9yFIkD9L3qZ",
        "outputId": "1885f984-74dc-47b2-9171-6b5c5dc4dfb9"
      },
      "source": [
        "# TODO: return a catagory from a the binary vectors given.\n",
        "# START\n",
        "m = [[1., 0., 0., 0., 1., 0., 0., 0., 0., 1., 0., 0., 1., 0.],\n",
        "       [0., 0., 0., 1., 0., 0., 0., 0., 0., 0., 0., 0., 0., 0.]]\n",
        "enc.inverse_transform(m) \n",
        "# END\n",
        "# Hint: you should be getting the same inputs as the previous cell!"
      ],
      "execution_count": null,
      "outputs": [
        {
          "output_type": "execute_result",
          "data": {
            "text/plain": [
              "array([['apple', 2, 'winter', 4],\n",
              "       ['raspberry', None, None, None]], dtype=object)"
            ]
          },
          "metadata": {
            "tags": []
          },
          "execution_count": 100
        }
      ]
    },
    {
      "cell_type": "code",
      "metadata": {
        "colab": {
          "base_uri": "https://localhost:8080/"
        },
        "id": "agNV0lzlMJzp",
        "outputId": "1354199e-b40f-4451-cb6e-d6a7c488c00d"
      },
      "source": [
        "# returns the feature names\n",
        "enc.get_feature_names(['fruit', 'price', 'season', 'rating'])\n"
      ],
      "execution_count": null,
      "outputs": [
        {
          "output_type": "execute_result",
          "data": {
            "text/plain": [
              "array(['fruit_apple', 'fruit_banana', 'fruit_orange', 'fruit_raspberry',\n",
              "       'price_2', 'price_3', 'price_5', 'price_6', 'season_summer',\n",
              "       'season_winter', 'rating_2', 'rating_3', 'rating_4', 'rating_5'],\n",
              "      dtype=object)"
            ]
          },
          "metadata": {
            "tags": []
          },
          "execution_count": 101
        }
      ]
    },
    {
      "cell_type": "markdown",
      "metadata": {
        "id": "n_keTlR2Pq0r"
      },
      "source": [
        "\n",
        "\n",
        "> What step of the manual featurization does this resemble? _your answer here_"
      ]
    },
    {
      "cell_type": "markdown",
      "metadata": {
        "id": "ZWk9FUdGOavl"
      },
      "source": [
        "## So what do you do if you have labels in your y values?\n",
        "\n",
        "Instead of using the OneHotEncoder, SKLearn has an additional encoder called the [Label Encoder](https://scikit-learn.org/stable/modules/generated/sklearn.preprocessing.LabelEncoder.html) as well as the [Label Binarizer](https://scikit-learn.org/stable/modules/generated/sklearn.preprocessing.LabelBinarizer.html#sklearn.preprocessing.LabelBinarizer). This is used when the labels are catagorical in nature, similar to the ideology of the OneHotEncode.\n",
        "\n",
        "However, since labels may be numerous beyond 2, but the array needs to remain a 1-d array, encoding labels with the Label Encoder in increasing numerical order helps create a numerical representation of the data to feed into advanced machine learning algorithms. The Label Binarizer on the otherhand, uses a one-vs-all system, where one label is encoded as '1', while the rest are encoded as '0'.\n",
        "\n",
        "Look forward to later this week where we will be working with binary classification !"
      ]
    },
    {
      "cell_type": "markdown",
      "metadata": {
        "id": "5yffpueoJJRh"
      },
      "source": [
        "## Part B: Working with more sophisticated data + Linear Regression!\n",
        "\n",
        "You spend the weekend bingeing movies on netflix, and are curious about what factors can make a movie really successful. You gather a dataset of three decades of released films to explore your question: Can we predict the gross of a movie from other factors of production?\n",
        "\n",
        "Explore the provided [movie industry dataset](https://www.kaggle.com/danielgrijalvas/movies) and answer the questions below. \n"
      ]
    },
    {
      "cell_type": "code",
      "metadata": {
        "colab": {
          "base_uri": "https://localhost:8080/",
          "height": 462
        },
        "id": "iSBlQZGUJggY",
        "outputId": "f58d06b3-dd70-432f-edaa-036cfa08fa4a"
      },
      "source": [
        "## A bit more complex example\n",
        "# load google playstore user app data\n",
        "movies = pd.read_csv('/content/sample_data/movies_dat.csv')\n",
        "# courtesy of Lavanya Gupta // source: https://www.kaggle.com/lava18/google-play-store-apps\n",
        "cols = movies.columns\n",
        "# code for cleaning the dataset and removing NaN's and other errors in the data has been provided below\n",
        "# run cell to clean data and retrieve relevant columns. Original table can still be accessed using google_apps\n",
        "print(cols)\n",
        "\n",
        "# display top 5 rows of data\n",
        "movies.head(5)\n"
      ],
      "execution_count": null,
      "outputs": [
        {
          "output_type": "stream",
          "text": [
            "Index(['budget', 'company', 'country', 'director', 'genre', 'gross', 'name',\n",
            "       'rating', 'released', 'runtime', 'score', 'star', 'votes', 'writer',\n",
            "       'year'],\n",
            "      dtype='object')\n"
          ],
          "name": "stdout"
        },
        {
          "output_type": "execute_result",
          "data": {
            "text/html": [
              "<div>\n",
              "<style scoped>\n",
              "    .dataframe tbody tr th:only-of-type {\n",
              "        vertical-align: middle;\n",
              "    }\n",
              "\n",
              "    .dataframe tbody tr th {\n",
              "        vertical-align: top;\n",
              "    }\n",
              "\n",
              "    .dataframe thead th {\n",
              "        text-align: right;\n",
              "    }\n",
              "</style>\n",
              "<table border=\"1\" class=\"dataframe\">\n",
              "  <thead>\n",
              "    <tr style=\"text-align: right;\">\n",
              "      <th></th>\n",
              "      <th>budget</th>\n",
              "      <th>company</th>\n",
              "      <th>country</th>\n",
              "      <th>director</th>\n",
              "      <th>genre</th>\n",
              "      <th>gross</th>\n",
              "      <th>name</th>\n",
              "      <th>rating</th>\n",
              "      <th>released</th>\n",
              "      <th>runtime</th>\n",
              "      <th>score</th>\n",
              "      <th>star</th>\n",
              "      <th>votes</th>\n",
              "      <th>writer</th>\n",
              "      <th>year</th>\n",
              "    </tr>\n",
              "  </thead>\n",
              "  <tbody>\n",
              "    <tr>\n",
              "      <th>0</th>\n",
              "      <td>8000000</td>\n",
              "      <td>Columbia Pictures Corporation</td>\n",
              "      <td>USA</td>\n",
              "      <td>Rob Reiner</td>\n",
              "      <td>Adventure</td>\n",
              "      <td>52287414</td>\n",
              "      <td>Stand by Me</td>\n",
              "      <td>R</td>\n",
              "      <td>1986-08-22</td>\n",
              "      <td>89</td>\n",
              "      <td>8.1</td>\n",
              "      <td>Wil Wheaton</td>\n",
              "      <td>299174</td>\n",
              "      <td>Stephen King</td>\n",
              "      <td>1986</td>\n",
              "    </tr>\n",
              "    <tr>\n",
              "      <th>1</th>\n",
              "      <td>6000000</td>\n",
              "      <td>Paramount Pictures</td>\n",
              "      <td>USA</td>\n",
              "      <td>John Hughes</td>\n",
              "      <td>Comedy</td>\n",
              "      <td>70136369</td>\n",
              "      <td>Ferris Bueller's Day Off</td>\n",
              "      <td>PG-13</td>\n",
              "      <td>1986-06-11</td>\n",
              "      <td>103</td>\n",
              "      <td>7.8</td>\n",
              "      <td>Matthew Broderick</td>\n",
              "      <td>264740</td>\n",
              "      <td>John Hughes</td>\n",
              "      <td>1986</td>\n",
              "    </tr>\n",
              "    <tr>\n",
              "      <th>2</th>\n",
              "      <td>15000000</td>\n",
              "      <td>Paramount Pictures</td>\n",
              "      <td>USA</td>\n",
              "      <td>Tony Scott</td>\n",
              "      <td>Action</td>\n",
              "      <td>179800601</td>\n",
              "      <td>Top Gun</td>\n",
              "      <td>PG</td>\n",
              "      <td>1986-05-16</td>\n",
              "      <td>110</td>\n",
              "      <td>6.9</td>\n",
              "      <td>Tom Cruise</td>\n",
              "      <td>236909</td>\n",
              "      <td>Jim Cash</td>\n",
              "      <td>1986</td>\n",
              "    </tr>\n",
              "    <tr>\n",
              "      <th>3</th>\n",
              "      <td>18500000</td>\n",
              "      <td>Twentieth Century Fox Film Corporation</td>\n",
              "      <td>USA</td>\n",
              "      <td>James Cameron</td>\n",
              "      <td>Action</td>\n",
              "      <td>85160248</td>\n",
              "      <td>Aliens</td>\n",
              "      <td>R</td>\n",
              "      <td>1986-07-18</td>\n",
              "      <td>137</td>\n",
              "      <td>8.4</td>\n",
              "      <td>Sigourney Weaver</td>\n",
              "      <td>540152</td>\n",
              "      <td>James Cameron</td>\n",
              "      <td>1986</td>\n",
              "    </tr>\n",
              "    <tr>\n",
              "      <th>4</th>\n",
              "      <td>9000000</td>\n",
              "      <td>Walt Disney Pictures</td>\n",
              "      <td>USA</td>\n",
              "      <td>Randal Kleiser</td>\n",
              "      <td>Adventure</td>\n",
              "      <td>18564613</td>\n",
              "      <td>Flight of the Navigator</td>\n",
              "      <td>PG</td>\n",
              "      <td>1986-08-01</td>\n",
              "      <td>90</td>\n",
              "      <td>6.9</td>\n",
              "      <td>Joey Cramer</td>\n",
              "      <td>36636</td>\n",
              "      <td>Mark H. Baker</td>\n",
              "      <td>1986</td>\n",
              "    </tr>\n",
              "  </tbody>\n",
              "</table>\n",
              "</div>"
            ],
            "text/plain": [
              "     budget                                 company  ...         writer  year\n",
              "0   8000000           Columbia Pictures Corporation  ...   Stephen King  1986\n",
              "1   6000000                      Paramount Pictures  ...    John Hughes  1986\n",
              "2  15000000                      Paramount Pictures  ...       Jim Cash  1986\n",
              "3  18500000  Twentieth Century Fox Film Corporation  ...  James Cameron  1986\n",
              "4   9000000                    Walt Disney Pictures  ...  Mark H. Baker  1986\n",
              "\n",
              "[5 rows x 15 columns]"
            ]
          },
          "metadata": {
            "tags": []
          },
          "execution_count": 104
        }
      ]
    },
    {
      "cell_type": "markdown",
      "metadata": {
        "id": "pcf4iYQgvyld"
      },
      "source": [
        "### TODO: Framing Questions\n",
        "1. For each of the following columns, state whether or not it is a numerical, ordinal, or categorical variable.\n",
        "\n",
        "'budget' = numeric , 'company' - categorical , 'country' - categorical, 'director' - categorical , 'genre' - categorical, 'gross' - numerical, 'name' - catagorical , 'rating' - numerical, 'released' - ordinal, 'runtime' - numerical, 'score' - numerical , 'star' - catagorical, 'votes' - numerical, 'writer' - categorical, 'year' - ordinal\n",
        "\n",
        "\n",
        "2. Which columns seem relevant to exploring your question? (Select at least 3 to describe).\n",
        "\n",
        "Any of the above with justification will suffice, but catagorical variables like company, director, star, and writer will be more difficult to encode due to the sheer size of possibilities.\n",
        "\n",
        "\n",
        "\n",
        "3. Which of the selected columns will you have to clean? Do some data types or phrasing have to be cleaned or changed to fit your needs better?\n",
        "\n",
        "We need to make sure that the numeric categories have an int or float type conversion from strings."
      ]
    },
    {
      "cell_type": "markdown",
      "metadata": {
        "id": "a9wZPlmAwy75"
      },
      "source": [
        "### Preprocessing and One Hot Encode"
      ]
    },
    {
      "cell_type": "code",
      "metadata": {
        "id": "_uiJxdTZwyLO"
      },
      "source": [
        "# select columns of interest\n",
        "columns = ['budget', 'company', 'country', 'director', 'genre', 'score', 'name','rating', 'released', 'runtime', 'star', 'votes', 'writer','year']\n",
        "\n",
        "predict_this_column = ['gross']"
      ],
      "execution_count": null,
      "outputs": []
    },
    {
      "cell_type": "code",
      "metadata": {
        "colab": {
          "base_uri": "https://localhost:8080/",
          "height": 147
        },
        "id": "X-tngB5vcB8v",
        "outputId": "bcd21f23-0b39-4e5b-b268-da55ef16b71e"
      },
      "source": [
        "# For each column that is a catagorical variable, see how many possible values there can be.\n",
        "# If this is a large number, it can hinder performance and may not be as useful as you might have thought.\n",
        "for i, c in enumerate(columns):\n",
        "  ## Uncomment to view to histograms. This will take a while to run\n",
        "  #plt.subplot(4,4,i+1)\n",
        "  #plt.hist(movies[c], bins = 15)\n",
        "  #plt.title(c)\n",
        "  print(\"---- column: \", c , \"----\")\n",
        "  #print(movies[c].value_counts().head())\n",
        "  valcounts = movies[c].value_counts()\n",
        "  print('total #: ', len(valcounts)\n",
        "  print('most common value, freq: ', valcounts.index[0],',', valcounts[valcounts.index[0]])"
      ],
      "execution_count": null,
      "outputs": [
        {
          "output_type": "error",
          "ename": "SyntaxError",
          "evalue": "ignored",
          "traceback": [
            "\u001b[0;36m  File \u001b[0;32m\"<ipython-input-4-e11c46d2838c>\"\u001b[0;36m, line \u001b[0;32m11\u001b[0m\n\u001b[0;31m    print('total #: ', len(valcounts)print('most common value, freq: ', valcounts.index[0],',', valcounts[valcounts.index[0]])\u001b[0m\n\u001b[0m                                         ^\u001b[0m\n\u001b[0;31mSyntaxError\u001b[0m\u001b[0;31m:\u001b[0m invalid syntax\n"
          ]
        }
      ]
    },
    {
      "cell_type": "markdown",
      "metadata": {
        "id": "VoxBFEa_4A_9"
      },
      "source": [
        "Some columns are left in string format rather than int/double type, which is what we need to use for numerical data.\n",
        "\n"
      ]
    },
    {
      "cell_type": "code",
      "metadata": {
        "id": "G__E4Mjc4an_"
      },
      "source": [
        "# TODO: START\n",
        "# Hint: pandas provides a datetime type conversion using .to_datetime()\n",
        "# Hint: pandas also has a .astype() to change types of series.\n",
        "movies_clean = movies.copy()\n",
        "movies_clean['budget'] = movies['budget'].astype('float')\n",
        "movies_clean['score'] = movies['score'].astype('float')\n",
        "movies_clean['gross'] = movies['gross'].astype('float')\n",
        "movies_clean['released'] = pd.to_datetime(movies['released'])\n",
        "movies_clean['runtime'] = movies['runtime'].astype('int')\n",
        "movies_clean['votes'] = movies['votes'].astype('int')\n",
        "# END"
      ],
      "execution_count": null,
      "outputs": []
    },
    {
      "cell_type": "code",
      "metadata": {
        "id": "5Q9QB17gMCBN"
      },
      "source": [
        "# Optional: plot interesting relationships here while exploring.\n",
        "#movies_clean.plot('score', 'gross', 'scatter')\n",
        "#movies_clean.plot('year', 'gross', 'scatter')\n",
        "#movies_clean.plot('budget', 'gross', 'scatter')\n",
        "#movies_clean.plot('runtime', 'gross', 'scatter')\n",
        "#movies_clean.plot('genre', 'gross', 'scatter')"
      ],
      "execution_count": null,
      "outputs": []
    },
    {
      "cell_type": "markdown",
      "metadata": {
        "id": "h-u7caSG5UMk"
      },
      "source": [
        "Next, we must one-hot encode the categorical variables.\n",
        "\n",
        "One hot encode the columns for the movies dataset and save it as movies_enc. It is best not to use the 'director', 'star', 'release date' and 'name' columns for efficiency.\n",
        "\n",
        "Try to find the most efficient solution!"
      ]
    },
    {
      "cell_type": "code",
      "metadata": {
        "colab": {
          "base_uri": "https://localhost:8080/",
          "height": 241
        },
        "id": "W17uc8275T51",
        "outputId": "14c980f1-1e68-4108-cb75-805ec4eab8d4"
      },
      "source": [
        "gross = movies_clean['gross']\n",
        "# TODO: \n",
        "# Hint: Use the pandas.get_dummies function!\n",
        "# alternative, but working solutions, will be accepted.\n",
        "# START\n",
        "columns = ['budget','company', 'director','country', 'genre', 'score','rating', 'runtime', 'votes','year']\n",
        "columns_select = ['genre', 'score', 'budget', 'votes']\n",
        "movies_enc = pd.get_dummies(movies_clean[columns_select])\n",
        "# END\n",
        "movies_enc.head(5)"
      ],
      "execution_count": null,
      "outputs": [
        {
          "output_type": "execute_result",
          "data": {
            "text/html": [
              "<div>\n",
              "<style scoped>\n",
              "    .dataframe tbody tr th:only-of-type {\n",
              "        vertical-align: middle;\n",
              "    }\n",
              "\n",
              "    .dataframe tbody tr th {\n",
              "        vertical-align: top;\n",
              "    }\n",
              "\n",
              "    .dataframe thead th {\n",
              "        text-align: right;\n",
              "    }\n",
              "</style>\n",
              "<table border=\"1\" class=\"dataframe\">\n",
              "  <thead>\n",
              "    <tr style=\"text-align: right;\">\n",
              "      <th></th>\n",
              "      <th>score</th>\n",
              "      <th>budget</th>\n",
              "      <th>votes</th>\n",
              "      <th>genre_Action</th>\n",
              "      <th>genre_Adventure</th>\n",
              "      <th>genre_Animation</th>\n",
              "      <th>genre_Biography</th>\n",
              "      <th>genre_Comedy</th>\n",
              "      <th>genre_Crime</th>\n",
              "      <th>genre_Drama</th>\n",
              "      <th>genre_Family</th>\n",
              "      <th>genre_Fantasy</th>\n",
              "      <th>genre_Horror</th>\n",
              "      <th>genre_Musical</th>\n",
              "      <th>genre_Mystery</th>\n",
              "      <th>genre_Romance</th>\n",
              "      <th>genre_Sci-Fi</th>\n",
              "      <th>genre_Thriller</th>\n",
              "      <th>genre_War</th>\n",
              "      <th>genre_Western</th>\n",
              "    </tr>\n",
              "  </thead>\n",
              "  <tbody>\n",
              "    <tr>\n",
              "      <th>0</th>\n",
              "      <td>8.1</td>\n",
              "      <td>8000000.0</td>\n",
              "      <td>299174</td>\n",
              "      <td>0</td>\n",
              "      <td>1</td>\n",
              "      <td>0</td>\n",
              "      <td>0</td>\n",
              "      <td>0</td>\n",
              "      <td>0</td>\n",
              "      <td>0</td>\n",
              "      <td>0</td>\n",
              "      <td>0</td>\n",
              "      <td>0</td>\n",
              "      <td>0</td>\n",
              "      <td>0</td>\n",
              "      <td>0</td>\n",
              "      <td>0</td>\n",
              "      <td>0</td>\n",
              "      <td>0</td>\n",
              "      <td>0</td>\n",
              "    </tr>\n",
              "    <tr>\n",
              "      <th>1</th>\n",
              "      <td>7.8</td>\n",
              "      <td>6000000.0</td>\n",
              "      <td>264740</td>\n",
              "      <td>0</td>\n",
              "      <td>0</td>\n",
              "      <td>0</td>\n",
              "      <td>0</td>\n",
              "      <td>1</td>\n",
              "      <td>0</td>\n",
              "      <td>0</td>\n",
              "      <td>0</td>\n",
              "      <td>0</td>\n",
              "      <td>0</td>\n",
              "      <td>0</td>\n",
              "      <td>0</td>\n",
              "      <td>0</td>\n",
              "      <td>0</td>\n",
              "      <td>0</td>\n",
              "      <td>0</td>\n",
              "      <td>0</td>\n",
              "    </tr>\n",
              "    <tr>\n",
              "      <th>2</th>\n",
              "      <td>6.9</td>\n",
              "      <td>15000000.0</td>\n",
              "      <td>236909</td>\n",
              "      <td>1</td>\n",
              "      <td>0</td>\n",
              "      <td>0</td>\n",
              "      <td>0</td>\n",
              "      <td>0</td>\n",
              "      <td>0</td>\n",
              "      <td>0</td>\n",
              "      <td>0</td>\n",
              "      <td>0</td>\n",
              "      <td>0</td>\n",
              "      <td>0</td>\n",
              "      <td>0</td>\n",
              "      <td>0</td>\n",
              "      <td>0</td>\n",
              "      <td>0</td>\n",
              "      <td>0</td>\n",
              "      <td>0</td>\n",
              "    </tr>\n",
              "    <tr>\n",
              "      <th>3</th>\n",
              "      <td>8.4</td>\n",
              "      <td>18500000.0</td>\n",
              "      <td>540152</td>\n",
              "      <td>1</td>\n",
              "      <td>0</td>\n",
              "      <td>0</td>\n",
              "      <td>0</td>\n",
              "      <td>0</td>\n",
              "      <td>0</td>\n",
              "      <td>0</td>\n",
              "      <td>0</td>\n",
              "      <td>0</td>\n",
              "      <td>0</td>\n",
              "      <td>0</td>\n",
              "      <td>0</td>\n",
              "      <td>0</td>\n",
              "      <td>0</td>\n",
              "      <td>0</td>\n",
              "      <td>0</td>\n",
              "      <td>0</td>\n",
              "    </tr>\n",
              "    <tr>\n",
              "      <th>4</th>\n",
              "      <td>6.9</td>\n",
              "      <td>9000000.0</td>\n",
              "      <td>36636</td>\n",
              "      <td>0</td>\n",
              "      <td>1</td>\n",
              "      <td>0</td>\n",
              "      <td>0</td>\n",
              "      <td>0</td>\n",
              "      <td>0</td>\n",
              "      <td>0</td>\n",
              "      <td>0</td>\n",
              "      <td>0</td>\n",
              "      <td>0</td>\n",
              "      <td>0</td>\n",
              "      <td>0</td>\n",
              "      <td>0</td>\n",
              "      <td>0</td>\n",
              "      <td>0</td>\n",
              "      <td>0</td>\n",
              "      <td>0</td>\n",
              "    </tr>\n",
              "  </tbody>\n",
              "</table>\n",
              "</div>"
            ],
            "text/plain": [
              "   score      budget   votes  ...  genre_Thriller  genre_War  genre_Western\n",
              "0    8.1   8000000.0  299174  ...               0          0              0\n",
              "1    7.8   6000000.0  264740  ...               0          0              0\n",
              "2    6.9  15000000.0  236909  ...               0          0              0\n",
              "3    8.4  18500000.0  540152  ...               0          0              0\n",
              "4    6.9   9000000.0   36636  ...               0          0              0\n",
              "\n",
              "[5 rows x 20 columns]"
            ]
          },
          "metadata": {
            "tags": []
          },
          "execution_count": 213
        }
      ]
    },
    {
      "cell_type": "markdown",
      "metadata": {
        "id": "CUaJ3JPfWNr6"
      },
      "source": [
        "With this preprocessed data, we can now perform linear regression find the line of best fit!"
      ]
    },
    {
      "cell_type": "code",
      "metadata": {
        "colab": {
          "base_uri": "https://localhost:8080/"
        },
        "id": "MrCM9torWVkU",
        "outputId": "06cbcfa9-38b1-4561-b31c-be1cffe3c554"
      },
      "source": [
        "# Perform linear regression on movies_enc\n",
        "\n",
        "# import neccessary packages\n",
        "from sklearn.linear_model import LinearRegression\n",
        "\n",
        "# split the data\n",
        "shuffled_idx = np.random.permutation(movies_enc.index.values)\n",
        "ntrain = (int)(.8 * len(shuffled_idx)) # 80 % of data for training)\n",
        "\n",
        "x_train = movies_enc.loc[shuffled_idx[0:ntrain],:]\n",
        "x_test = movies_enc.loc[shuffled_idx[ntrain:],:]\n",
        "y_train = gross.loc[shuffled_idx[0:ntrain]]\n",
        "y_test = gross.loc[shuffled_idx[ntrain:]]\n",
        "\n",
        "# TODO: \n",
        "# classify and predict\n",
        "\n",
        "\n",
        "clf = LinearRegression()\n",
        "clf.fit(x_train, y_train)\n",
        "\n",
        "y_pred = clf.predict(x_test)\n",
        "\n",
        "# compute prediction error using SKLearn\n",
        "score = clf.score(x_test, y_test)\n",
        "rmse = np.sqrt(np.average((y_pred - y_test)**2))\n",
        "# end your code.\n",
        "coef = clf.coef_\n",
        "intercept = clf.intercept_\n",
        "print('Model Score on 80/20 train/test split: ', score)\n",
        "print('RMSE: ', mse)"
      ],
      "execution_count": null,
      "outputs": [
        {
          "output_type": "stream",
          "text": [
            "Model Score on 80/20 train/test split:  0.6536736483149588\n",
            "RMSE:  1023165521942744.2\n"
          ],
          "name": "stdout"
        }
      ]
    },
    {
      "cell_type": "markdown",
      "metadata": {
        "id": "YIbzxpyFAfKu"
      },
      "source": [
        "Visually, we can also observe the difference in predictions and real ratings."
      ]
    },
    {
      "cell_type": "code",
      "metadata": {
        "colab": {
          "base_uri": "https://localhost:8080/",
          "height": 232
        },
        "id": "WTQirr63Ad_j",
        "outputId": "58b135ef-0d42-4689-fe6b-212a81d697f4"
      },
      "source": [
        "# scatter\n",
        "plt.scatter(y_pred, y_test, s=.1)\n",
        "\n",
        "# mx + b regressed line\n",
        "x = np.linspace(0, 4e8, 1000)\n",
        "plt.plot(x, score * x, c='r') # R^2 Line\n",
        "plt.title('Predictions vs. Real for $gross')\n",
        "plt.xlabel('Predictions')\n",
        "plt.ylabel('Real')"
      ],
      "execution_count": null,
      "outputs": [
        {
          "output_type": "error",
          "ename": "NameError",
          "evalue": "ignored",
          "traceback": [
            "\u001b[0;31m---------------------------------------------------------------------------\u001b[0m",
            "\u001b[0;31mNameError\u001b[0m                                 Traceback (most recent call last)",
            "\u001b[0;32m<ipython-input-3-1cac2b251ca6>\u001b[0m in \u001b[0;36m<module>\u001b[0;34m()\u001b[0m\n\u001b[1;32m      3\u001b[0m \u001b[0;34m\u001b[0m\u001b[0m\n\u001b[1;32m      4\u001b[0m \u001b[0;31m# mx + b regressed line\u001b[0m\u001b[0;34m\u001b[0m\u001b[0;34m\u001b[0m\u001b[0;34m\u001b[0m\u001b[0m\n\u001b[0;32m----> 5\u001b[0;31m \u001b[0mx\u001b[0m \u001b[0;34m=\u001b[0m \u001b[0mnp\u001b[0m\u001b[0;34m.\u001b[0m\u001b[0mlinspace\u001b[0m\u001b[0;34m(\u001b[0m\u001b[0;36m0\u001b[0m\u001b[0;34m,\u001b[0m \u001b[0;36m4e8\u001b[0m\u001b[0;34m,\u001b[0m \u001b[0;36m1000\u001b[0m\u001b[0;34m)\u001b[0m\u001b[0;34m\u001b[0m\u001b[0;34m\u001b[0m\u001b[0m\n\u001b[0m\u001b[1;32m      6\u001b[0m \u001b[0mplt\u001b[0m\u001b[0;34m.\u001b[0m\u001b[0mplot\u001b[0m\u001b[0;34m(\u001b[0m\u001b[0mx\u001b[0m\u001b[0;34m,\u001b[0m \u001b[0mscore\u001b[0m \u001b[0;34m*\u001b[0m \u001b[0mx\u001b[0m\u001b[0;34m,\u001b[0m \u001b[0mc\u001b[0m\u001b[0;34m=\u001b[0m\u001b[0;34m'r'\u001b[0m\u001b[0;34m)\u001b[0m \u001b[0;31m# R^2 Line\u001b[0m\u001b[0;34m\u001b[0m\u001b[0;34m\u001b[0m\u001b[0m\n\u001b[1;32m      7\u001b[0m \u001b[0mplt\u001b[0m\u001b[0;34m.\u001b[0m\u001b[0mtitle\u001b[0m\u001b[0;34m(\u001b[0m\u001b[0;34m'Predictions vs. Real for $gross'\u001b[0m\u001b[0;34m)\u001b[0m\u001b[0;34m\u001b[0m\u001b[0;34m\u001b[0m\u001b[0m\n",
            "\u001b[0;31mNameError\u001b[0m: name 'np' is not defined"
          ]
        }
      ]
    },
    {
      "cell_type": "markdown",
      "metadata": {
        "id": "BOYbn0irDdq2"
      },
      "source": [
        "### Free Response Question:\n",
        "\n",
        "How can we improve this model? Is Linear Regressiont the best model for this dataset?\n",
        "Respond in 3-4 sentences.\n",
        "\n",
        "_your answer here_\n",
        "\n",
        "Our model had to use a select number of features, which still did not improve drastically the classification. We can see that most movies have low gross, while some movies do have very high gross seasons. This non linear relationship may be the cause of our linear regression classifier not performing very well. Using a model more robust to outliers or non linear may improve performance. "
      ]
    },
    {
      "cell_type": "markdown",
      "metadata": {
        "id": "44n2e0nsgwrz"
      },
      "source": [
        "## You reached the end of this part of the homework!\n",
        "\n",
        "Next, we will be learning about expanding your dataset to model non-linear polynomials with featurization."
      ]
    },
    {
      "cell_type": "markdown",
      "metadata": {
        "id": "BdJwyUSODVew"
      },
      "source": [
        "# Featurization"
      ]
    },
    {
      "cell_type": "markdown",
      "metadata": {
        "id": "hSDq7QT_K-0e"
      },
      "source": [
        "## Fitting an Ellipse ##"
      ]
    },
    {
      "cell_type": "markdown",
      "metadata": {
        "id": "RdZc_m9VURf8"
      },
      "source": [
        "Lines are cool, but what if we wanted to fit something more complicated. For example, did you know that we could predict the orbit of certain planets with least squares?\n",
        "\n",
        "In fact, Carl Friedrich Gauss, a great mathematician and physicist, used least squares to predict where certain planets would be in their orbit. Using Kepler's laws of planetary motion, Gauss knew that the shape of the orbit of planets followed the equation:\n",
        "\n",
        "$$ax^{2}+bxy+cy^{2}+dx+ey=f$$\n",
        "\n",
        "where x and y were the coordinate points of the planet in orbit. Since there is one free variable in this equation, so Gauss divided the whole equation by f to get:\n",
        "\n",
        "$$ax^{2}+bxy+cy^{2}+dx+ey=1$$\n",
        "\n",
        "Now, how in the world was Gauss able to fit this equation with least squares? Let's first try to use our standard approach to least squares to solve this problem, and we'll see how that falls short. We'll generate data from an ellipse and try to reverse engineer the equation that generated it."
      ]
    },
    {
      "cell_type": "code",
      "metadata": {
        "colab": {
          "base_uri": "https://localhost:8080/",
          "height": 265
        },
        "id": "KY61QWa1TtyE",
        "outputId": "a031b36d-6ace-4850-89cb-a4afabba6f5f"
      },
      "source": [
        "def ellipse_angles(n, a, b):\n",
        "    if (n <= 0 or b <= a):\n",
        "        print(\"ERROR\")\n",
        "        return\n",
        "\n",
        "    angles = 2 * np.pi * np.arange(n) / n\n",
        "    if a != b:\n",
        "        e = (1.0 - a ** 2.0 / b ** 2.0) ** 0.5\n",
        "        tot_size = sp.special.ellipeinc(2.0 * np.pi, e)\n",
        "        arc_size = tot_size / n\n",
        "        arcs = np.arange(n) * arc_size\n",
        "        res = sp.optimize.root(lambda x: (sp.special.ellipeinc(x, e) - arcs), angles)\n",
        "        angles = res.x \n",
        "    return angles\n",
        "\n",
        "a = 16\n",
        "b = 25\n",
        "n = 30\n",
        "\n",
        "phi = ellipse_angles(n, a, b)\n",
        "e = (1.0 - a ** 2.0 / b ** 2.0) ** 0.5\n",
        "arcs = sp.special.ellipeinc(phi, e)\n",
        "\n",
        "x = b * np.sin(phi)\n",
        "y = a * np.cos(phi)\n",
        "\n",
        "fig = plt.figure()\n",
        "ax = fig.gca()\n",
        "ax.axes.set_aspect('equal')\n",
        "ax.scatter(x, y)\n",
        "plt.show()"
      ],
      "execution_count": null,
      "outputs": [
        {
          "output_type": "display_data",
          "data": {
            "image/png": "[encoded data removed]",
            "text/plain": [
              "<Figure size 432x288 with 1 Axes>"
            ]
          },
          "metadata": {
            "tags": []
          }
        }
      ]
    },
    {
      "cell_type": "markdown",
      "metadata": {
        "id": "Xa0ZqQmqTudT"
      },
      "source": [
        "We have our x and y coordinates of the ellipse stored in the array x and the array y. Let's try using standard least squares to fit this ellipse. In other words, let us assume that there exists a matrix A such that\n",
        "$$cx=y$$\n",
        "where x is our array x and y is your array y. We are trying the coefficient c that best approximates this so let us do least squares. We will do this by using the closed form solution as well as directly using sklearn."
      ]
    },
    {
      "cell_type": "code",
      "metadata": {
        "colab": {
          "base_uri": "https://localhost:8080/"
        },
        "id": "NjmRGqkDUZdz",
        "outputId": "3d462caf-cc25-4c5e-e2c1-fcf47d58e729"
      },
      "source": [
        "x_train = np.array(x)\n",
        "y_train = np.array(y)\n",
        "\n",
        "### TODO\n",
        "### Your code here. Compute the least squares estimate of c using numpy.\n",
        "c = 1/(np.dot(x, x))*np.dot(x_train,y_train)\n",
        "### Your code stops here.\n",
        "\n",
        "### TODO\n",
        "### Your code here. Compute the least squares estimate of c_sklearn using sklearn.\n",
        "c_sklearn = LinearRegression(fit_intercept=False).fit(x_train.reshape(-1, 1), y_train).coef_[0]\n",
        "### Your code stops here.\n",
        "\n",
        "print(\"Your least squares estimate for c is \" + str(c))\n",
        "print(\"Your least squares estimate for c_sklearn is \" + str(c_sklearn))"
      ],
      "execution_count": null,
      "outputs": [
        {
          "output_type": "stream",
          "text": [
            "Your least squares estimate for c is -6.725511196170932e-16\n",
            "Your least squares estimate for c_sklearn is -6.634214073286697e-16\n"
          ],
          "name": "stdout"
        }
      ]
    },
    {
      "cell_type": "markdown",
      "metadata": {
        "id": "7yWD0x6JUfL1"
      },
      "source": [
        "Let's see how good your estimate is!"
      ]
    },
    {
      "cell_type": "code",
      "metadata": {
        "colab": {
          "base_uri": "https://localhost:8080/",
          "height": 108
        },
        "id": "CZE7M5NIUbLq",
        "outputId": "aae651d3-8bf8-44ab-aecc-290af1573aa5"
      },
      "source": [
        "y_predict = c*x\n",
        "\n",
        "fig = plt.figure()\n",
        "ax = fig.gca()\n",
        "ax.axes.set_aspect('equal')\n",
        "ax.scatter(x, y_predict)\n",
        "plt.axis([-30, 30, -5, 5])\n",
        "plt.show()"
      ],
      "execution_count": null,
      "outputs": [
        {
          "output_type": "display_data",
          "data": {
            "image/png": "[encoded data removed]",
            "text/plain": [
              "<Figure size 432x288 with 1 Axes>"
            ]
          },
          "metadata": {
            "tags": []
          }
        }
      ]
    },
    {
      "cell_type": "markdown",
      "metadata": {
        "id": "Y35NCv59Xiez"
      },
      "source": [
        "Wow. That's a pretty bad recreation of the actual ellipse. And this should be expected. After all, least squares as we learned it can only predict straight lines. So how did Gauss fit curves with least squares? This is where featurization comes in. If the underlying relationship from our data is nonlinear, it turns out we can still deal with this through linear least-squares by augmenting the data with new features. In a sense, we will lift the dimension of each data point into a different form. In this case, since we know that the underlying structure of the model abides by the equation,\n",
        "\n",
        "$$ax^{2}+bxy+cy^{2}+dx+ey=1$$\n",
        "\n",
        ", we can now treat x and y both as datapoints and lift these datapoints to a higher dimensional space as such:\n",
        "\n",
        "$$\\begin{bmatrix}\n",
        "x_1^2 & x_1y_1 & y_1^2 & x_1 & y_1\\\\\n",
        "... & ... & ... & ... & ...\\\\\n",
        "x_n^2 & ... & ... & ... & y_n\n",
        "\\end{bmatrix} \n",
        "\\begin{bmatrix}\n",
        "a\\\\\n",
        "b\\\\\n",
        "c\\\\\n",
        "d\\\\\n",
        "e\n",
        "\\end{bmatrix} = \n",
        "\\begin{bmatrix}\n",
        "1\\\\\n",
        "...\\\\\n",
        "...\\\\\n",
        "...\\\\\n",
        "1\n",
        "\\end{bmatrix}$$\n",
        "\n",
        "In this matrix equation above, we have n datapoints labeled $(x_i, y_i)$ where $i$ exists in $[1, n]$. \n",
        "\n",
        "Let's take a step back and think about what we are doing here. We have essentially lifted our 2-dimensional (x, y) datasets into a 5-dimensional vector space $(x^2, xy, y^2, x, y)$. In addition to that, we have given intrinsic structure to the shape of our points in our 5-dimensional vector space. \n",
        "\n",
        "For this specific problem, note that the regression problem has slightly changed here in that our data is now (x, y) and our ground truth output is just the number 1. With this in mind, let us do featurized linear regression!"
      ]
    },
    {
      "cell_type": "markdown",
      "metadata": {
        "id": "M1DFrhtvXngk"
      },
      "source": [
        "Let's first create a new augmented data matrix of size n x 5 from our x, y data points."
      ]
    },
    {
      "cell_type": "code",
      "metadata": {
        "colab": {
          "base_uri": "https://localhost:8080/"
        },
        "id": "Pdz-y0hcXf0M",
        "outputId": "60e7253f-b3b2-4611-fd54-9f3ff6c73776"
      },
      "source": [
        "x_train = np.array(x)\n",
        "y_train = np.array(y)\n",
        "\n",
        "### TODO\n",
        "### Your code here. Create A_augmented.\n",
        "n = len(x_train)\n",
        "A_augmented = np.zeros((n, 5))\n",
        "for i in range(n):\n",
        "    xi, yi = x_train[i], y_train[i]\n",
        "    A_augmented[i] = np.array([xi**2, xi*yi, yi**2, xi, yi])\n",
        "\n",
        "### Your code stops here.\n",
        "print(\"The first 5 rows of our new augmented matrix is \")\n",
        "print(A_augmented[:5])"
      ],
      "execution_count": null,
      "outputs": [
        {
          "output_type": "stream",
          "text": [
            "The first 5 rows of our new augmented matrix is \n",
            "[[  0.           0.         256.           0.          16.        ]\n",
            " [ 15.95048937  63.08023162 249.46667955   3.99380638  15.79451422]\n",
            " [ 63.40133327 120.76531081 230.03081389   7.96249542  15.16676676]\n",
            " [141.00082269 167.19108224 198.24606303  11.87437673  14.07998803]\n",
            " [245.86620471 195.40048702 155.29320255  15.68012132  12.46166933]]\n"
          ],
          "name": "stdout"
        }
      ]
    },
    {
      "cell_type": "markdown",
      "metadata": {
        "id": "zG6e7B94X4FD"
      },
      "source": [
        "Nice! Now that we have our augmented matrix, let us do least squares regression with it (via both numpy way and sklearn way)."
      ]
    },
    {
      "cell_type": "code",
      "metadata": {
        "colab": {
          "base_uri": "https://localhost:8080/"
        },
        "id": "dCDdE4G2X6g9",
        "outputId": "b51320fe-4ab2-4895-9a60-db5d39141959"
      },
      "source": [
        "n = A_augmented.shape[0]\n",
        "### TODO\n",
        "### Your code here. Create the 1s vector.\n",
        "ones = np.ones((n, 1))\n",
        "### Your code stops here.\n",
        "\n",
        "### TODO\n",
        "### Your code here. Get the least squares estimate p using numpy.\n",
        "p = np.linalg.inv(A_augmented.T@A_augmented)@A_augmented.T@ones\n",
        "### Your code stops here.\n",
        "\n",
        "### TODO\n",
        "### Your code here. Get the least squares estimate p_sklearn using sklearn.\n",
        "p_sklearn = LinearRegression(fit_intercept=False).fit(A_augmented, ones).coef_[0]\n",
        "### Your code stops here.\n",
        "\n",
        "print(\"Your least squares estimate for p is \\n\" + str(p))\n",
        "print(\"Your least squares estimate for p_sklearn is \\n\" + str(p_sklearn))"
      ],
      "execution_count": null,
      "outputs": [
        {
          "output_type": "stream",
          "text": [
            "Your least squares estimate for p is \n",
            "[[ 1.60000000e-03]\n",
            " [-5.42101086e-20]\n",
            " [ 3.90625000e-03]\n",
            " [ 6.50521303e-19]\n",
            " [ 0.00000000e+00]]\n",
            "Your least squares estimate for p_sklearn is \n",
            "[1.60000000e-03 0.00000000e+00 3.90625000e-03 4.50097668e-20\n",
            " 4.96016430e-18]\n"
          ],
          "name": "stdout"
        }
      ]
    },
    {
      "cell_type": "markdown",
      "metadata": {
        "id": "XzRoioaSX_kz"
      },
      "source": [
        "Now let's see how closely our predictions are to the actual values!"
      ]
    },
    {
      "cell_type": "code",
      "metadata": {
        "colab": {
          "base_uri": "https://localhost:8080/"
        },
        "id": "FrCrE5iqX8Pg",
        "outputId": "08cb1147-b2eb-4187-ab12-e05a5b9f3757"
      },
      "source": [
        "print(\"Our predicted output vector is: \")\n",
        "print(A_augmented@p)"
      ],
      "execution_count": null,
      "outputs": [
        {
          "output_type": "stream",
          "text": [
            "Our predicted output vector is: \n",
            "[[1.]\n",
            " [1.]\n",
            " [1.]\n",
            " [1.]\n",
            " [1.]\n",
            " [1.]\n",
            " [1.]\n",
            " [1.]\n",
            " [1.]\n",
            " [1.]\n",
            " [1.]\n",
            " [1.]\n",
            " [1.]\n",
            " [1.]\n",
            " [1.]\n",
            " [1.]\n",
            " [1.]\n",
            " [1.]\n",
            " [1.]\n",
            " [1.]\n",
            " [1.]\n",
            " [1.]\n",
            " [1.]\n",
            " [1.]\n",
            " [1.]\n",
            " [1.]\n",
            " [1.]\n",
            " [1.]\n",
            " [1.]\n",
            " [1.]]\n"
          ],
          "name": "stdout"
        }
      ]
    },
    {
      "cell_type": "markdown",
      "metadata": {
        "id": "H9TnbrmEYFb8"
      },
      "source": [
        "## TODO ##\n",
        "You should have gotten an output of all ones. What does this mean?\n",
        "\n",
        "*Wow! It's an exact match. By knowing the underlying structure of the data and featurizing based on it, we were able to get a 100% match compared to the ground truth!*"
      ]
    },
    {
      "cell_type": "markdown",
      "metadata": {
        "id": "jBWKwYUkYYe8"
      },
      "source": [
        "## TODO ##\n",
        "\n",
        "Just for practice, we will give you a new datapoint x of value 13. Find a way to use your least squares estimate p to find the corresponding y. You may have to take out pen and paper and use an online equation solver for this now. After finding the values of y (there should be more than 1!), plug it into y_new and y_new2 below.\n",
        "\n",
        "*They should remember that $ax^{2}+bxy+cy^{2}+dx+ey=1$ and plug in $x=13$ and p into this equation to get* \n",
        "\n",
        "$$(1.60000000e-03)(13)(13)+(-4.06575815e-20)(13)y+(3.90625000e-03)y^2+(-3.79470760e-18)(13)+(-8.67361738e-19)y = 1$$\n",
        "\n",
        "*Using an equation solver to find that* $y=13.66666016260008$ *and* $y=-13.66666016260008$."
      ]
    },
    {
      "cell_type": "code",
      "metadata": {
        "id": "-3HLTzqxYBSZ"
      },
      "source": [
        "x_new = 13\n",
        "\n",
        "### TODO\n",
        "### Your code here. Plug in y_new.\n",
        "y_new = 13.66666016260008\n",
        "y_new_2 = -13.66666016260008\n",
        "### Your code stops here."
      ],
      "execution_count": null,
      "outputs": []
    },
    {
      "cell_type": "markdown",
      "metadata": {
        "id": "HrxQdkhEYdnc"
      },
      "source": [
        "Let's plot these two points with the others to visually see how well they fit in!"
      ]
    },
    {
      "cell_type": "code",
      "metadata": {
        "colab": {
          "base_uri": "https://localhost:8080/",
          "height": 265
        },
        "id": "Md_fukquYckW",
        "outputId": "4fa0e61b-f8f2-4f07-92c0-491cccfed5ef"
      },
      "source": [
        "def ellipse_angles(n, a, b):\n",
        "    if (n <= 0 or b <= a):\n",
        "        print(\"ERROR\")\n",
        "        return\n",
        "\n",
        "    angles = 2 * np.pi * np.arange(n) / n\n",
        "    if a != b:\n",
        "        e = (1.0 - a ** 2.0 / b ** 2.0) ** 0.5\n",
        "        tot_size = sp.special.ellipeinc(2.0 * np.pi, e)\n",
        "        arc_size = tot_size / n\n",
        "        arcs = np.arange(n) * arc_size\n",
        "        res = sp.optimize.root(lambda x: (sp.special.ellipeinc(x, e) - arcs), angles)\n",
        "        angles = res.x \n",
        "    return angles\n",
        "\n",
        "a = 16\n",
        "b = 25\n",
        "n = 30\n",
        "\n",
        "phi = ellipse_angles(n, a, b)\n",
        "e = (1.0 - a ** 2.0 / b ** 2.0) ** 0.5\n",
        "arcs = sp.special.ellipeinc(phi, e)\n",
        "\n",
        "x = b * np.sin(phi)\n",
        "y = a * np.cos(phi)\n",
        "\n",
        "fig = plt.figure()\n",
        "ax = fig.gca()\n",
        "ax.axes.set_aspect('equal')\n",
        "ax.scatter(x, y)\n",
        "ax.scatter([x_new, x_new], [y_new, y_new_2])\n",
        "plt.show()"
      ],
      "execution_count": null,
      "outputs": [
        {
          "output_type": "display_data",
          "data": {
            "image/png": "[encoded data removed]",
            "text/plain": [
              "<Figure size 432x288 with 1 Axes>"
            ]
          },
          "metadata": {
            "tags": []
          }
        }
      ]
    },
    {
      "cell_type": "markdown",
      "metadata": {
        "id": "M9SUBIwdLYY0"
      },
      "source": [
        "### Polynomial Featurization ###"
      ]
    },
    {
      "cell_type": "markdown",
      "metadata": {
        "id": "4in-ggACYjcM"
      },
      "source": [
        "## TODO ##\n",
        "How do your two predicted points fit in with the rest of the points?\n",
        "\n",
        "*These two datapoints should fit right in! Visually this looks like a perfect match. Well done.*"
      ]
    },
    {
      "cell_type": "markdown",
      "metadata": {
        "id": "4gkfQkBXYvVM"
      },
      "source": [
        "For polynomial featurization, it turns out sklearn has a nice shortcut for creating it. Let's check it out. Try to understand the code below."
      ]
    },
    {
      "cell_type": "code",
      "metadata": {
        "colab": {
          "base_uri": "https://localhost:8080/"
        },
        "id": "a1DPE3A6Yg3a",
        "outputId": "f0e5034a-fc0f-4764-e324-8462047f39b5"
      },
      "source": [
        "from sklearn.preprocessing import PolynomialFeatures\n",
        "\n",
        "x_train = np.array([[2, 3]]).reshape(1, -1)\n",
        "\n",
        "poly_features = PolynomialFeatures(degree=2)\n",
        "x_augmented = poly_features.fit_transform(x_train)\n",
        "print(\"Degree 2 polynomial lifting of x_train: \")\n",
        "print(x_augmented)\n",
        "\n",
        "poly_features = PolynomialFeatures(degree=3)\n",
        "x_augmented = poly_features.fit_transform(x_train)\n",
        "print(\"Degree 3 polynomial lifting of x_train: \")\n",
        "print(x_augmented)"
      ],
      "execution_count": null,
      "outputs": [
        {
          "output_type": "stream",
          "text": [
            "Degree 2 polynomial lifting of x_train: \n",
            "[[1. 2. 3. 4. 6. 9.]]\n",
            "Degree 3 polynomial lifting of x_train: \n",
            "[[ 1.  2.  3.  4.  6.  9.  8. 12. 18. 27.]]\n"
          ],
          "name": "stdout"
        }
      ]
    },
    {
      "cell_type": "markdown",
      "metadata": {
        "id": "DAa-jadbY5bN"
      },
      "source": [
        "## TODO ##\n",
        "\n",
        "Explain what the degree parameter in PolynomialFeatures is doing and how the output of fit_transform relates to the input x_train.\n",
        "\n",
        "*The degree parameter specifies to what degree you want to featurize your data for polynomial regression. With this degree parameter specified, fit_transform lifts your input data into the respective polynomial feature space. So (x, y) lifted in degree 2 would become $(1, x, y, x^2, xy, y^2)$.*"
      ]
    },
    {
      "cell_type": "markdown",
      "metadata": {
        "id": "UmZnAYPaY_Ce"
      },
      "source": [
        "With this nice tool equipped, let us tackle a real dataset. We will be using regression lifting in the polynomial space to predict red wine quality based on certain features such as citric acid levels and volatile acidity levels."
      ]
    },
    {
      "cell_type": "code",
      "metadata": {
        "id": "k0N28N-SYy1F"
      },
      "source": [
        "df = pd.read_csv('winequality-red.csv')\n",
        "# We are trying to predict the quality of wine\n",
        "y = df[['quality']]\n",
        "# These are our inputs\n",
        "X = df[['fixed acidity','volatile acidity','citric acid','residual sugar','chlorides','free sulfur dioxide','total sulfur dioxide','density','pH','sulphates','alcohol']]\n",
        "\n",
        "# We will train on X_train/y_train and see how well our model is based on X_test/y_test\n",
        "X_train, y_train = X, y"
      ],
      "execution_count": null,
      "outputs": []
    },
    {
      "cell_type": "markdown",
      "metadata": {
        "id": "mtWmx77IZFpU"
      },
      "source": [
        "Feel free to play around with the X_train, y_train datasets below before we do polynomial regression."
      ]
    },
    {
      "cell_type": "code",
      "metadata": {
        "id": "bYvF7F_zYww4",
        "colab": {
          "base_uri": "https://localhost:8080/",
          "height": 419
        },
        "outputId": "a28b2742-fffe-4092-a861-35b54609ca07"
      },
      "source": [
        "### TODO\n",
        "### Play around with the data to get a feeling of what it looks like\n",
        "\n",
        "y_train\n",
        "#X_train"
      ],
      "execution_count": null,
      "outputs": [
        {
          "output_type": "execute_result",
          "data": {
            "text/html": [
              "<div>\n",
              "<style scoped>\n",
              "    .dataframe tbody tr th:only-of-type {\n",
              "        vertical-align: middle;\n",
              "    }\n",
              "\n",
              "    .dataframe tbody tr th {\n",
              "        vertical-align: top;\n",
              "    }\n",
              "\n",
              "    .dataframe thead th {\n",
              "        text-align: right;\n",
              "    }\n",
              "</style>\n",
              "<table border=\"1\" class=\"dataframe\">\n",
              "  <thead>\n",
              "    <tr style=\"text-align: right;\">\n",
              "      <th></th>\n",
              "      <th>quality</th>\n",
              "    </tr>\n",
              "  </thead>\n",
              "  <tbody>\n",
              "    <tr>\n",
              "      <th>0</th>\n",
              "      <td>5</td>\n",
              "    </tr>\n",
              "    <tr>\n",
              "      <th>1</th>\n",
              "      <td>5</td>\n",
              "    </tr>\n",
              "    <tr>\n",
              "      <th>2</th>\n",
              "      <td>5</td>\n",
              "    </tr>\n",
              "    <tr>\n",
              "      <th>3</th>\n",
              "      <td>6</td>\n",
              "    </tr>\n",
              "    <tr>\n",
              "      <th>4</th>\n",
              "      <td>5</td>\n",
              "    </tr>\n",
              "    <tr>\n",
              "      <th>...</th>\n",
              "      <td>...</td>\n",
              "    </tr>\n",
              "    <tr>\n",
              "      <th>1594</th>\n",
              "      <td>5</td>\n",
              "    </tr>\n",
              "    <tr>\n",
              "      <th>1595</th>\n",
              "      <td>6</td>\n",
              "    </tr>\n",
              "    <tr>\n",
              "      <th>1596</th>\n",
              "      <td>6</td>\n",
              "    </tr>\n",
              "    <tr>\n",
              "      <th>1597</th>\n",
              "      <td>5</td>\n",
              "    </tr>\n",
              "    <tr>\n",
              "      <th>1598</th>\n",
              "      <td>6</td>\n",
              "    </tr>\n",
              "  </tbody>\n",
              "</table>\n",
              "<p>1599 rows × 1 columns</p>\n",
              "</div>"
            ],
            "text/plain": [
              "      quality\n",
              "0           5\n",
              "1           5\n",
              "2           5\n",
              "3           6\n",
              "4           5\n",
              "...       ...\n",
              "1594        5\n",
              "1595        6\n",
              "1596        6\n",
              "1597        5\n",
              "1598        6\n",
              "\n",
              "[1599 rows x 1 columns]"
            ]
          },
          "metadata": {
            "tags": []
          },
          "execution_count": 9
        }
      ]
    },
    {
      "cell_type": "markdown",
      "metadata": {
        "id": "ku6ShDo8ZIJV"
      },
      "source": [
        "Now, let's do polynomial regression on X_train and y_train. Play around with the degree range in rg."
      ]
    },
    {
      "cell_type": "code",
      "metadata": {
        "id": "ay7zcPb5ZHDz",
        "colab": {
          "base_uri": "https://localhost:8080/",
          "height": 364
        },
        "outputId": "2b7e7919-bb6b-47c0-90ae-a7376d762be3"
      },
      "source": [
        "### TODO\n",
        "\n",
        "errors = []\n",
        "rg = [t for t in range(1, 6)]\n",
        "### Your code here. Featurize X_train and y_train using PolynomialFeatures and then do LinearRegression on it.\n",
        "for degree in rg:\n",
        "  model = PolynomialFeatures(degree=degree)\n",
        "  X_train_aug = model.fit_transform(X_train)\n",
        "\n",
        "  lg = LinearRegression()\n",
        "  lg.fit(X_train_aug, y_train)\n",
        "\n",
        "  y_train_prediction = np.round_(lg.predict(X_train_aug))\n",
        "  err = mean_squared_error(y_train, y_train_prediction)\n",
        "  errors.append(err)\n",
        "  print(\"Training error is for degree \"  + str(degree) + \" is \" + str(err))\n",
        "### Your code stops here.\n",
        "\n",
        "plt.plot(rg, errors)\n",
        "plt.xlabel('degree')\n",
        "plt.ylabel('training error')\n",
        "plt.show()"
      ],
      "execution_count": null,
      "outputs": [
        {
          "output_type": "stream",
          "text": [
            "Training error is for degree 1 is 0.5034396497811132\n",
            "Training error is for degree 2 is 0.46091307066916826\n",
            "Training error is for degree 3 is 0.2964352720450281\n",
            "Training error is for degree 4 is 0.041901188242651655\n",
            "Training error is for degree 5 is 0.0\n"
          ],
          "name": "stdout"
        },
        {
          "output_type": "display_data",
          "data": {
            "image/png": "[encoded data removed]",
            "text/plain": [
              "<Figure size 432x288 with 1 Axes>"
            ]
          },
          "metadata": {
            "tags": [],
            "needs_background": "light"
          }
        }
      ]
    },
    {
      "cell_type": "markdown",
      "metadata": {
        "id": "3dW-EpUedaRm"
      },
      "source": [
        "## TODO ##\n",
        "The training error should monotonically decrease. Why does this happen? Does this necessarily mean that the model is becoming a better and better fit? Why?\n",
        "\n",
        "*The training error monotonically decreases because with a higher degree, the model has more wiggle room to fit the training data. This does not necessarily mean that the model is becoming a better fit because, by fitting exclusively to the training data very well, the model may be fitting to the noise and variability inherit within the data. This is loosely called overfitting.*"
      ]
    },
    {
      "cell_type": "markdown",
      "metadata": {
        "id": "Kb_U1riQ10Cn"
      },
      "source": [
        "# Linear Regression for Classification #"
      ]
    },
    {
      "cell_type": "markdown",
      "metadata": {
        "id": "4W4TtCl26-kz"
      },
      "source": [
        "Let's turn our attention towards another import problem in machine learning - classification. Before you proceed, pleas read the section on classification in the notes."
      ]
    },
    {
      "cell_type": "markdown",
      "metadata": {
        "id": "rMmpsp9v16fn"
      },
      "source": [
        "We are going to use the popular `palmerpenguins` dataset which contains size measurements for three penguin species observed on three islands in the Palmer Archipelago, Antarctica. Feel free to play around with the data and perform some EDA to get a feel of it."
      ]
    },
    {
      "cell_type": "code",
      "metadata": {
        "colab": {
          "base_uri": "https://localhost:8080/",
          "height": 204
        },
        "id": "fkWDKORnZLSF",
        "outputId": "5cee3404-546a-4058-f13a-a60d978b1bcb"
      },
      "source": [
        "df = sns.load_dataset('penguins')\n",
        "df.head()"
      ],
      "execution_count": null,
      "outputs": [
        {
          "output_type": "execute_result",
          "data": {
            "text/html": [
              "<div>\n",
              "<style scoped>\n",
              "    .dataframe tbody tr th:only-of-type {\n",
              "        vertical-align: middle;\n",
              "    }\n",
              "\n",
              "    .dataframe tbody tr th {\n",
              "        vertical-align: top;\n",
              "    }\n",
              "\n",
              "    .dataframe thead th {\n",
              "        text-align: right;\n",
              "    }\n",
              "</style>\n",
              "<table border=\"1\" class=\"dataframe\">\n",
              "  <thead>\n",
              "    <tr style=\"text-align: right;\">\n",
              "      <th></th>\n",
              "      <th>species</th>\n",
              "      <th>island</th>\n",
              "      <th>bill_length_mm</th>\n",
              "      <th>bill_depth_mm</th>\n",
              "      <th>flipper_length_mm</th>\n",
              "      <th>body_mass_g</th>\n",
              "      <th>sex</th>\n",
              "    </tr>\n",
              "  </thead>\n",
              "  <tbody>\n",
              "    <tr>\n",
              "      <th>0</th>\n",
              "      <td>Adelie</td>\n",
              "      <td>Torgersen</td>\n",
              "      <td>39.1</td>\n",
              "      <td>18.7</td>\n",
              "      <td>181.0</td>\n",
              "      <td>3750.0</td>\n",
              "      <td>Male</td>\n",
              "    </tr>\n",
              "    <tr>\n",
              "      <th>1</th>\n",
              "      <td>Adelie</td>\n",
              "      <td>Torgersen</td>\n",
              "      <td>39.5</td>\n",
              "      <td>17.4</td>\n",
              "      <td>186.0</td>\n",
              "      <td>3800.0</td>\n",
              "      <td>Female</td>\n",
              "    </tr>\n",
              "    <tr>\n",
              "      <th>2</th>\n",
              "      <td>Adelie</td>\n",
              "      <td>Torgersen</td>\n",
              "      <td>40.3</td>\n",
              "      <td>18.0</td>\n",
              "      <td>195.0</td>\n",
              "      <td>3250.0</td>\n",
              "      <td>Female</td>\n",
              "    </tr>\n",
              "    <tr>\n",
              "      <th>3</th>\n",
              "      <td>Adelie</td>\n",
              "      <td>Torgersen</td>\n",
              "      <td>NaN</td>\n",
              "      <td>NaN</td>\n",
              "      <td>NaN</td>\n",
              "      <td>NaN</td>\n",
              "      <td>NaN</td>\n",
              "    </tr>\n",
              "    <tr>\n",
              "      <th>4</th>\n",
              "      <td>Adelie</td>\n",
              "      <td>Torgersen</td>\n",
              "      <td>36.7</td>\n",
              "      <td>19.3</td>\n",
              "      <td>193.0</td>\n",
              "      <td>3450.0</td>\n",
              "      <td>Female</td>\n",
              "    </tr>\n",
              "  </tbody>\n",
              "</table>\n",
              "</div>"
            ],
            "text/plain": [
              "  species     island  bill_length_mm  ...  flipper_length_mm  body_mass_g     sex\n",
              "0  Adelie  Torgersen            39.1  ...              181.0       3750.0    Male\n",
              "1  Adelie  Torgersen            39.5  ...              186.0       3800.0  Female\n",
              "2  Adelie  Torgersen            40.3  ...              195.0       3250.0  Female\n",
              "3  Adelie  Torgersen             NaN  ...                NaN          NaN     NaN\n",
              "4  Adelie  Torgersen            36.7  ...              193.0       3450.0  Female\n",
              "\n",
              "[5 rows x 7 columns]"
            ]
          },
          "metadata": {
            "tags": []
          },
          "execution_count": 4
        }
      ]
    },
    {
      "cell_type": "markdown",
      "metadata": {
        "id": "iQfKbYkg4sgI"
      },
      "source": [
        "## Binary Cassification##"
      ]
    },
    {
      "cell_type": "markdown",
      "metadata": {
        "id": "fT0-ApvT2BCk"
      },
      "source": [
        "We are going to start off by trying to classify the penguins' sex based on some of their physical dimensions. We have to assign each penguin to one of two classes: male or female. Because we have two categories, we are performing **binary classification**. Later on, we will see how we can extend this method to multiple classes. First, we have to prepare and clean our data. For this task we are going to use only two predictor variables to facilitate visualization, the penguins' *bill length* and *body mass*. \n",
        "Create two dataframes, $X$ and $y$, containing the specified columns. Remove any `NaN` values from the dataset."
      ]
    },
    {
      "cell_type": "code",
      "metadata": {
        "id": "XPOlGtpU1wao"
      },
      "source": [
        "#Remove any NaN entries and extract the relevant columns of the dataframe.\n",
        "\n",
        "#START\n",
        "df = df.dropna()\n",
        "X = df.iloc[:,[3,5]]\n",
        "y = df.iloc[:,6]\n",
        "#END"
      ],
      "execution_count": null,
      "outputs": []
    },
    {
      "cell_type": "markdown",
      "metadata": {
        "id": "2yQh53jG2Gax"
      },
      "source": [
        "To apply linear regression to this classification problems, we will have to encode the classes as numerical data. We will adopt the convention that the female class is represented by a 1 and the male class by a -1. Therefore, we are using the level set of 0 of the regression function as the classification hyperplane (refer to the notes for a more detailed explanation). Transform the data using this classification rule. Additionally, we will need a bias term so add a constant feature to the $X$ data."
      ]
    },
    {
      "cell_type": "code",
      "metadata": {
        "id": "3EO7EATu2IQw"
      },
      "source": [
        "# Create a target vector y with 1 and -1 for female and male, respectively, and add the bias term to X.\n",
        "\n",
        "#START\n",
        "y = y.replace({'Female': 1, 'Male': -1})\n",
        "X.insert(2, 'ones', np.ones(len(X)))\n",
        "#END"
      ],
      "execution_count": null,
      "outputs": []
    },
    {
      "cell_type": "code",
      "metadata": {
        "colab": {
          "base_uri": "https://localhost:8080/",
          "height": 606
        },
        "id": "L9rhl4WV2MPg",
        "outputId": "4a59abc7-befd-4ea7-82b7-eb9b2ed11dab"
      },
      "source": [
        "#Run this cell, no codign required.\n",
        "def visualize_dataset(X, y, title=\"\"):\n",
        "    plt.figure(figsize=(10,10))\n",
        "    plt.scatter(X[y < 0.0].iloc[:,0], X[y < 0.0].iloc[:,1], s=16, label='-1')\n",
        "    plt.scatter(X[y > 0.0].iloc[:,0], X[y > 0.0].iloc[:,1], s=16  , label='1')\n",
        "    plt.legend()\n",
        "    plt.xlabel('Bill Depth, mm')\n",
        "    plt.ylabel('Body Mass, g')\n",
        "    \n",
        "visualize_dataset(X,y)"
      ],
      "execution_count": null,
      "outputs": [
        {
          "output_type": "display_data",
          "data": {
            "image/png": "[encoded data removed]",
            "text/plain": [
              "<Figure size 720x720 with 1 Axes>"
            ]
          },
          "metadata": {
            "tags": [],
            "needs_background": "light"
          }
        }
      ]
    },
    {
      "cell_type": "markdown",
      "metadata": {
        "id": "xGEJw5DZ2KRe"
      },
      "source": [
        "Now we are ready to perform linear regression.  Implement the least square solution and report the weight vector and the MSE."
      ]
    },
    {
      "cell_type": "code",
      "metadata": {
        "colab": {
          "base_uri": "https://localhost:8080/"
        },
        "id": "y3XqCP7X2PYg",
        "outputId": "9bbb3b14-f22f-4684-c87f-4dc50bd28d90"
      },
      "source": [
        "# Implement the OLS solution. You can use NumPy's linalg library.\n",
        "#START\n",
        "w = np.linalg.solve(X.T @ X, X.T @ y)\n",
        "y_pred = X @ w\n",
        "#END\n",
        "\n",
        "# The coefficients\n",
        "print('Coefficients: \\n',w)\n",
        "\n",
        "# The mean squared error\n",
        "print('Mean squared error: %.2f'\n",
        "      % np.mean(np.square(y - y_pred)))"
      ],
      "execution_count": null,
      "outputs": [
        {
          "output_type": "stream",
          "text": [
            "Coefficients: \n",
            " [-3.75116724e-01 -9.61585718e-04  1.04752648e+01]\n",
            "Mean squared error: 0.40\n"
          ],
          "name": "stdout"
        }
      ]
    },
    {
      "cell_type": "markdown",
      "metadata": {
        "id": "2Ftos6eB2xZ-"
      },
      "source": [
        "Now fit the model again using `sklearn`. Report the learned weights and the MSE. Do they match the results from the previos part?"
      ]
    },
    {
      "cell_type": "code",
      "metadata": {
        "colab": {
          "base_uri": "https://localhost:8080/"
        },
        "id": "QAggmxze21er",
        "outputId": "891364d2-ec93-4859-ff23-8b4a13cd64df"
      },
      "source": [
        "#Repeat using sklearn, set fit_intercept to False\n",
        "\n",
        "#START\n",
        "lr = LinearRegression(fit_intercept=False)\n",
        "lr.fit(X, y)\n",
        "y_pred = lr.predict(X)\n",
        "w = lr.coef_\n",
        "#END\n",
        "\n",
        "# The coefficients\n",
        "print('Coefficients: \\n',w)\n",
        "\n",
        "# The mean squared error\n",
        "print('Mean squared error: %.2f'\n",
        "      % mean_squared_error(y, y_pred))"
      ],
      "execution_count": null,
      "outputs": [
        {
          "output_type": "stream",
          "text": [
            "Coefficients: \n",
            " [-3.75116724e-01 -9.61585718e-04  1.04752648e+01]\n",
            "Mean squared error: 0.40\n"
          ],
          "name": "stdout"
        }
      ]
    },
    {
      "cell_type": "markdown",
      "metadata": {
        "id": "dopgYtbA24hH"
      },
      "source": [
        "As stated earlier, we are going to use 0 as our classification threshhold. We are going to classify any positive outputs of our model as 1 (Female) and any negative outputs as -1 (Male). The function in the cell below should take as input data $X$ and weights $w$ and output a vector of predicted classes. Fill in the function and report the percent of samples that were correctly classified, also known as the **accuracy**."
      ]
    },
    {
      "cell_type": "code",
      "metadata": {
        "colab": {
          "base_uri": "https://localhost:8080/"
        },
        "id": "kVX1JHZg28NJ",
        "outputId": "caa0c325-1545-4400-fd7c-faf3bd52cb01"
      },
      "source": [
        "def classifier_linear(X, w):\n",
        "    \"\"\"Classify the samples X using weights w.\"\"\"\n",
        "    #START\n",
        "    return -1.0*(X @ w < 0.0) + 1.0*(X @ w > 0.0)\n",
        "    #END\n",
        "\n",
        "y_pred_classes = classifier_linear(X, w)\n",
        "# Classifier accuracy\n",
        "print('Accuracy: %.2f'\n",
        "      % np.mean(y == y_pred_classes))"
      ],
      "execution_count": null,
      "outputs": [
        {
          "output_type": "stream",
          "text": [
            "Accuracy: 0.89\n"
          ],
          "name": "stdout"
        }
      ]
    },
    {
      "cell_type": "markdown",
      "metadata": {
        "id": "qKueHMC83GhZ"
      },
      "source": [
        "Now run the following cell to visualize the **decision boundary**. Briefly \n",
        "\n",
        "---\n",
        "\n",
        "comment on its shape and how well it separates the data."
      ]
    },
    {
      "cell_type": "code",
      "metadata": {
        "colab": {
          "base_uri": "https://localhost:8080/",
          "height": 621
        },
        "id": "31QgUzad281U",
        "outputId": "b37c8f34-5728-4e81-b100-5460cdbeb4e4"
      },
      "source": [
        "# Visualize the decision boundary\n",
        "XX, YY = np.meshgrid(np.linspace(11,23, 500), np.linspace(2500, 6500, 500))\n",
        "X_vis = np.stack([np.ravel(XX), np.ravel(YY)])\n",
        "X_vis_aug = np.ones((X_vis.shape[0]+1, X_vis.shape[1]))\n",
        "X_vis_aug[:-1,:] = X_vis\n",
        "X_vis_aug = X_vis_aug.T\n",
        "\n",
        "def visualize_classifier(X, y, w):\n",
        "    \"\"\"Visualize the decision boundary for a classifier.\n",
        "\n",
        "    Input: a vector of classification decisions using X0_aug as the samples\n",
        "    \"\"\"\n",
        "    plt.figure(figsize=(10,10));\n",
        "    props = {'fontweight': 'bold'}\n",
        "    ZZ = np.resize(classifier_linear( X_vis_aug, w), (500, 500))\n",
        "    plt.title(\"Decision Boundary\", **props)\n",
        "    plt.contourf(XX,YY,ZZ, cmap=\"coolwarm\", levels=1)\n",
        "    plt.scatter(X.iloc[:,0], X.iloc[:,1], c=y, cmap=\"coolwarm\", s=10)\n",
        "    plt.xlabel('Bill Depth, mm')\n",
        "    plt.ylabel('Body Mass, g')\n",
        "    \n",
        "\n",
        "visualize_classifier(X, y, w)"
      ],
      "execution_count": null,
      "outputs": [
        {
          "output_type": "display_data",
          "data": {
            "image/png": "[encoded data removed]",
            "text/plain": [
              "<Figure size 720x720 with 1 Axes>"
            ]
          },
          "metadata": {
            "tags": [],
            "needs_background": "light"
          }
        }
      ]
    },
    {
      "cell_type": "markdown",
      "metadata": {
        "id": "M9impKZR3KhG"
      },
      "source": [
        "### TODO\n",
        "\n",
        "Answer: *In 2D the decision boundary is a line. The classifier separates the data well.*"
      ]
    },
    {
      "cell_type": "markdown",
      "metadata": {
        "id": "d76HVZZU4im5"
      },
      "source": [
        "## Multiclass  Classification##"
      ]
    },
    {
      "cell_type": "markdown",
      "metadata": {
        "id": "lwIV5kl85y0r"
      },
      "source": [
        "Now, let's take a step back and look at what happens when we have multiple classes."
      ]
    },
    {
      "cell_type": "code",
      "metadata": {
        "colab": {
          "base_uri": "https://localhost:8080/",
          "height": 204
        },
        "id": "DQ1Qr0-m50h7",
        "outputId": "16121ffe-a90e-49c7-d3d2-637343c378be"
      },
      "source": [
        "df.head()"
      ],
      "execution_count": null,
      "outputs": [
        {
          "output_type": "execute_result",
          "data": {
            "text/html": [
              "<div>\n",
              "<style scoped>\n",
              "    .dataframe tbody tr th:only-of-type {\n",
              "        vertical-align: middle;\n",
              "    }\n",
              "\n",
              "    .dataframe tbody tr th {\n",
              "        vertical-align: top;\n",
              "    }\n",
              "\n",
              "    .dataframe thead th {\n",
              "        text-align: right;\n",
              "    }\n",
              "</style>\n",
              "<table border=\"1\" class=\"dataframe\">\n",
              "  <thead>\n",
              "    <tr style=\"text-align: right;\">\n",
              "      <th></th>\n",
              "      <th>species</th>\n",
              "      <th>island</th>\n",
              "      <th>bill_length_mm</th>\n",
              "      <th>bill_depth_mm</th>\n",
              "      <th>flipper_length_mm</th>\n",
              "      <th>body_mass_g</th>\n",
              "      <th>sex</th>\n",
              "    </tr>\n",
              "  </thead>\n",
              "  <tbody>\n",
              "    <tr>\n",
              "      <th>0</th>\n",
              "      <td>Adelie</td>\n",
              "      <td>Torgersen</td>\n",
              "      <td>39.1</td>\n",
              "      <td>18.7</td>\n",
              "      <td>181.0</td>\n",
              "      <td>3750.0</td>\n",
              "      <td>Male</td>\n",
              "    </tr>\n",
              "    <tr>\n",
              "      <th>1</th>\n",
              "      <td>Adelie</td>\n",
              "      <td>Torgersen</td>\n",
              "      <td>39.5</td>\n",
              "      <td>17.4</td>\n",
              "      <td>186.0</td>\n",
              "      <td>3800.0</td>\n",
              "      <td>Female</td>\n",
              "    </tr>\n",
              "    <tr>\n",
              "      <th>2</th>\n",
              "      <td>Adelie</td>\n",
              "      <td>Torgersen</td>\n",
              "      <td>40.3</td>\n",
              "      <td>18.0</td>\n",
              "      <td>195.0</td>\n",
              "      <td>3250.0</td>\n",
              "      <td>Female</td>\n",
              "    </tr>\n",
              "    <tr>\n",
              "      <th>4</th>\n",
              "      <td>Adelie</td>\n",
              "      <td>Torgersen</td>\n",
              "      <td>36.7</td>\n",
              "      <td>19.3</td>\n",
              "      <td>193.0</td>\n",
              "      <td>3450.0</td>\n",
              "      <td>Female</td>\n",
              "    </tr>\n",
              "    <tr>\n",
              "      <th>5</th>\n",
              "      <td>Adelie</td>\n",
              "      <td>Torgersen</td>\n",
              "      <td>39.3</td>\n",
              "      <td>20.6</td>\n",
              "      <td>190.0</td>\n",
              "      <td>3650.0</td>\n",
              "      <td>Male</td>\n",
              "    </tr>\n",
              "  </tbody>\n",
              "</table>\n",
              "</div>"
            ],
            "text/plain": [
              "  species     island  bill_length_mm  ...  flipper_length_mm  body_mass_g     sex\n",
              "0  Adelie  Torgersen            39.1  ...              181.0       3750.0    Male\n",
              "1  Adelie  Torgersen            39.5  ...              186.0       3800.0  Female\n",
              "2  Adelie  Torgersen            40.3  ...              195.0       3250.0  Female\n",
              "4  Adelie  Torgersen            36.7  ...              193.0       3450.0  Female\n",
              "5  Adelie  Torgersen            39.3  ...              190.0       3650.0    Male\n",
              "\n",
              "[5 rows x 7 columns]"
            ]
          },
          "metadata": {
            "tags": []
          },
          "execution_count": 12
        }
      ]
    },
    {
      "cell_type": "markdown",
      "metadata": {
        "id": "IG50c7qN5ync"
      },
      "source": [
        "In particular, we are going to try and model the penguins' species based on their *bill length* and and *flipper length*. "
      ]
    },
    {
      "cell_type": "code",
      "metadata": {
        "colab": {
          "base_uri": "https://localhost:8080/"
        },
        "id": "5FkXoCLZ6A0T",
        "outputId": "60ca24ca-0cf9-48a8-be46-7a3127431579"
      },
      "source": [
        "df['species'].value_counts()"
      ],
      "execution_count": null,
      "outputs": [
        {
          "output_type": "execute_result",
          "data": {
            "text/plain": [
              "Adelie       146\n",
              "Gentoo       119\n",
              "Chinstrap     68\n",
              "Name: species, dtype: int64"
            ]
          },
          "metadata": {
            "tags": []
          },
          "execution_count": 13
        }
      ]
    },
    {
      "cell_type": "code",
      "metadata": {
        "colab": {
          "base_uri": "https://localhost:8080/",
          "height": 606
        },
        "id": "PpraAVT_6AeZ",
        "outputId": "8eaed0db-97d3-41b5-ec12-194af40d061d"
      },
      "source": [
        "plt.figure(figsize=(10,10));\n",
        "gentoo = df[df['species'] == 'Gentoo'][['bill_length_mm','flipper_length_mm']]\n",
        "adelie = df[df['species'] == 'Adelie'][['bill_length_mm','flipper_length_mm']]\n",
        "chinstrap = df[df['species'] == 'Chinstrap'][['bill_length_mm','flipper_length_mm']]\n",
        "plt.scatter(gentoo['bill_length_mm'], gentoo['flipper_length_mm'], label = 'Gentoo', color = 'b')\n",
        "plt.scatter(adelie['bill_length_mm'], adelie['flipper_length_mm'], label = 'Adelie', color = 'r')\n",
        "plt.scatter(chinstrap['bill_length_mm'], chinstrap['flipper_length_mm'], label = 'Chinstrap', color = 'g')\n",
        "plt.xlabel('Bill Length, mm');\n",
        "plt.ylabel('Flipper Length, mm');\n",
        "plt.legend();\n"
      ],
      "execution_count": null,
      "outputs": [
        {
          "output_type": "display_data",
          "data": {
            "image/png": "[encoded data removed]",
            "text/plain": [
              "<Figure size 720x720 with 1 Axes>"
            ]
          },
          "metadata": {
            "tags": [],
            "needs_background": "light"
          }
        }
      ]
    },
    {
      "cell_type": "markdown",
      "metadata": {
        "id": "ZXttK5MH5yc7"
      },
      "source": [
        "To predict three different classes, we are going to use a technique called **one-vs-all classification**. Namely, we are going to have three separate models. Each one is going to classify the samples as belonging to one of the three classes or not. Hence, the name \"one-vs-all\". At the end we are going to classify a sample as the class with the highest value outputed by the three classifiers. We will encode the Adelia, Gentoo and Chinstrap species as classes 0,1 and 2, respectively."
      ]
    },
    {
      "cell_type": "code",
      "metadata": {
        "id": "TreA-eN76E_-"
      },
      "source": [
        "# Create the X and y dataframes\n",
        "X_b = df.iloc[:,[2,4]]\n",
        "X_b.insert(2, 'ones', np.ones(len(X)))\n",
        "y_b = df.iloc[:,0]\n",
        "y_orig =y_b.replace({'Adelie': 0, 'Gentoo': 1, 'Chinstrap' : 2})\n",
        "\n",
        "# Create the three different target vectors\n",
        "#START\n",
        "y1 =y_b.replace({'Adelie': 1, 'Gentoo': -1, 'Chinstrap' : -1})\n",
        "y2 =y_b.replace({'Adelie': -1, 'Gentoo': 1, 'Chinstrap' : -1})\n",
        "y3 =y_b.replace({'Adelie': -1, 'Gentoo': -1, 'Chinstrap' : 1})\n",
        "#END\n",
        "\n",
        "#Fit the three models to each class\n",
        "#START\n",
        "lr.fit(X_b, y1)\n",
        "y_pred1 = lr.predict(X)\n",
        "w1 = lr.coef_\n",
        "\n",
        "lr.fit(X_b, y2)\n",
        "y_pred2 = lr.predict(X)\n",
        "w2 = lr.coef_\n",
        "\n",
        "lr.fit(X_b, y3)\n",
        "y_pred3 = lr.predict(X)\n",
        "w3 = lr.coef_\n",
        "#END\n",
        "\n",
        "# Output the final class vector based on the maximum output of the three classifiers\n",
        "#START\n",
        "y_pred = np.argmax([X_b@w1, X_b@w2, X_b@w3],axis=0)\n",
        "#END"
      ],
      "execution_count": null,
      "outputs": []
    },
    {
      "cell_type": "markdown",
      "metadata": {
        "id": "AfW2mYYm5yOy"
      },
      "source": [
        "Visualize the classifier's decision boundary and report its accuracy. How did it perform? "
      ]
    },
    {
      "cell_type": "code",
      "metadata": {
        "colab": {
          "base_uri": "https://localhost:8080/",
          "height": 627
        },
        "id": "XhvQjSLG6Tvh",
        "outputId": "ed7fd09b-ea70-42eb-defe-9255c1f71b39"
      },
      "source": [
        "# Visualize the decision boundary\n",
        "XX, YY = np.meshgrid(np.linspace(30,60, 500), np.linspace(170, 240, 500))\n",
        "X_vis = np.stack([np.ravel(XX), np.ravel(YY)])\n",
        "X_vis_aug = np.ones((X_vis.shape[0]+1, X_vis.shape[1]))\n",
        "X_vis_aug[:-1,:] = X_vis\n",
        "X_vis_aug = X_vis_aug.T\n",
        "\n",
        "def visualize_classifier_multiple(X,y, y_pred):\n",
        "    \"\"\"Visualize the decision boundary for a classifier.\n",
        "\n",
        "    Input: a vector of classification decisions using X0_aug as the samples\n",
        "    \"\"\"\n",
        "    plt.figure(figsize=(10,10));\n",
        "    props = {'fontweight': 'bold'}\n",
        "    ZZ = np.resize(y_pred, (500, 500))\n",
        "    plt.contourf(XX,YY,ZZ, levels=2,colors = ['lightcoral','cornflowerblue','lightgreen'])\n",
        "    colors = ['darkred' if label == 0 else 'darkblue' if label == 1 else 'darkgreen' for label in y] \n",
        "    plt.scatter(X.iloc[:,0], X.iloc[:,1], c=colors, s=16)\n",
        "    plt.xlabel('Bill Length, mm');\n",
        "    plt.ylabel('Flipper Length, mm');\n",
        "\n",
        "y_pred_vis = np.argmax([X_vis_aug@w1, X_vis_aug@w2, X_vis_aug@w3],axis=0)\n",
        "visualize_classifier_multiple(X_b,y_orig, y_pred_vis)\n",
        "\n",
        "# Classifier accuracy\n",
        "print('Accuracy: %.2f'\n",
        "      % np.mean(y_orig == y_pred))"
      ],
      "execution_count": null,
      "outputs": [
        {
          "output_type": "stream",
          "text": [
            "Accuracy: 0.95\n"
          ],
          "name": "stdout"
        },
        {
          "output_type": "display_data",
          "data": {
            "image/png": "[encoded data removed]",
            "text/plain": [
              "<Figure size 720x720 with 1 Axes>"
            ]
          },
          "metadata": {
            "tags": [],
            "needs_background": "light"
          }
        }
      ]
    },
    {
      "cell_type": "markdown",
      "metadata": {
        "id": "gTEMKNMN6X3W"
      },
      "source": [
        "### TODO\n",
        "\n",
        "Answer: *We separate the three classes well and can see that the decision boundary is piecewise linear between pairs of classes.*"
      ]
    },
    {
      "cell_type": "markdown",
      "metadata": {
        "id": "GavQGBDy6aD5"
      },
      "source": [
        "##Exploring Modified Datasets ## "
      ]
    },
    {
      "cell_type": "markdown",
      "metadata": {
        "id": "I2c0vYo9K3og"
      },
      "source": [
        "Now let's take a step back and examine the data from the binary case from part a. "
      ]
    },
    {
      "cell_type": "markdown",
      "metadata": {
        "id": "0dAHxKQvI4DW"
      },
      "source": [
        "### Imbalanced Classes ###"
      ]
    },
    {
      "cell_type": "markdown",
      "metadata": {
        "id": "FsM1uax33M1i"
      },
      "source": [
        "Now, suppose we had very few samples of male penguins. Run the following cell to produce an imbalanced dataet with very few male samples."
      ]
    },
    {
      "cell_type": "code",
      "metadata": {
        "colab": {
          "base_uri": "https://localhost:8080/",
          "height": 606
        },
        "id": "uty1ynRi3OZa",
        "outputId": "64d2c0c1-223b-4c72-f33e-0eb77952d65d"
      },
      "source": [
        "imbalanced = df.drop(df[(df['sex'] == 'Male')].index[0:-7])\n",
        "X_imb = imbalanced.iloc[:,[3,5]]\n",
        "y_imb = imbalanced.iloc[:,6]\n",
        "y_imb = y_imb.replace({'Female': 1, 'Male': -1})\n",
        "X_imb.insert(2, 'ones', np.ones(len(X_imb)))\n",
        "visualize_dataset(X_imb,y_imb)"
      ],
      "execution_count": null,
      "outputs": [
        {
          "output_type": "display_data",
          "data": {
            "image/png": "[encoded data removed]",
            "text/plain": [
              "<Figure size 720x720 with 1 Axes>"
            ]
          },
          "metadata": {
            "tags": [],
            "needs_background": "light"
          }
        }
      ]
    },
    {
      "cell_type": "markdown",
      "metadata": {
        "id": "26YfgHwm3Qip"
      },
      "source": [
        "Perform linear regression again (feel free to use sklearn's implementation). Report the weights and the MSE. How do they compare to the previous part? Does this make intutive sense?"
      ]
    },
    {
      "cell_type": "code",
      "metadata": {
        "colab": {
          "base_uri": "https://localhost:8080/"
        },
        "id": "YMEUw0Bb3TWc",
        "outputId": "e845dc22-df16-4f21-e905-8bb6e0bc5591"
      },
      "source": [
        "#START\n",
        "lr.fit(X_imb, y_imb)\n",
        "y_pred = lr.predict(X_imb)\n",
        "w = lr.coef_\n",
        "y_pred_imb = classifier_linear(X_imb, w)\n",
        "#END\n",
        "\n",
        "# The coefficients\n",
        "print('Coefficients: \\n',w)\n",
        "# The mean squared error\n",
        "print('Mean squared error: %.2f'\n",
        "      %  np.mean(np.square(y_imb - y_pred_imb)))"
      ],
      "execution_count": null,
      "outputs": [
        {
          "output_type": "stream",
          "text": [
            "Coefficients: \n",
            " [-1.12928162e-01 -4.38260587e-04  4.49667346e+00]\n",
            "Mean squared error: 0.10\n"
          ],
          "name": "stdout"
        }
      ]
    },
    {
      "cell_type": "markdown",
      "metadata": {
        "id": "l5Lp6nK_3Xge"
      },
      "source": [
        "Run the cell below to visualize the decision boundary. Report the accuracy. Is it a good measure of the classifier performance? Is there anything wrong with the decision boundary? Why? "
      ]
    },
    {
      "cell_type": "code",
      "metadata": {
        "colab": {
          "base_uri": "https://localhost:8080/",
          "height": 638
        },
        "id": "Zg3YgiZ33YCc",
        "outputId": "79ec9f86-8306-4785-8cf8-643ac8a27287"
      },
      "source": [
        "XX, YY = np.meshgrid(np.linspace(11,23, 500), np.linspace(2500, 6500, 500))\n",
        "X_vis = np.stack([np.ravel(XX), np.ravel(YY)])\n",
        "X_vis_aug = np.ones((X_vis.shape[0]+1, X_vis.shape[1]))\n",
        "X_vis_aug[:-1,:] = X_vis\n",
        "X_vis_aug = X_vis_aug.T\n",
        "visualize_classifier(X_imb,y_imb,w)\n",
        "# Classifier accuracy\n",
        "print('Accuracy: %.2f'\n",
        "      % np.mean(y_imb == y_pred_imb))"
      ],
      "execution_count": null,
      "outputs": [
        {
          "output_type": "stream",
          "text": [
            "Accuracy: 0.96\n"
          ],
          "name": "stdout"
        },
        {
          "output_type": "display_data",
          "data": {
            "image/png": "[encoded data removed]",
            "text/plain": [
              "<Figure size 720x720 with 1 Axes>"
            ]
          },
          "metadata": {
            "tags": [],
            "needs_background": "light"
          }
        }
      ]
    },
    {
      "cell_type": "markdown",
      "metadata": {
        "id": "LXQQGMgg3Ze7"
      },
      "source": [
        "### TODO\n",
        "\n",
        "Answer: *We see the accuracy is very high but we misclassify all the male penguins. This is happening because there are very few samples of that class so the acuracy is not a good measure of the performance. The decision boundary is heavily skewed towards the upper right corner because the negative class points don't have enough mass to pull it towards them.*"
      ]
    },
    {
      "cell_type": "markdown",
      "metadata": {
        "id": "N5R2K0RAIzs2"
      },
      "source": [
        "### Outliers ###"
      ]
    },
    {
      "cell_type": "markdown",
      "metadata": {
        "id": "6LWr4oZJ3bFv"
      },
      "source": [
        "Next, let's go back to the original data and consider what happens when there are outliers. In particular, let's assume there are a number of male penguins that have small bill depths and weights. Run the following cell to add this artificial data and visualzie the results. Can you guess how linear regression will perform?"
      ]
    },
    {
      "cell_type": "code",
      "metadata": {
        "id": "i7oQxnbO3dLz"
      },
      "source": [
        "n_ouliers = 50\n",
        "mean = [13.0, 3000.0]\n",
        "cov = [[0.1, 0.0], [0.0, 5000]]\n",
        "X_1 = np.random.multivariate_normal(mean, cov, n_ouliers)\n",
        "X_1 = np.concatenate((X_1, np.ones((X_1.shape[0],1))),axis=1)\n",
        "y_1 = np.ones(n_ouliers)*-1\n",
        "X_out = X.append(pd.DataFrame(X_1, columns = ['bill_depth_mm', 'body_mass_g', 'ones']), ignore_index=True)\n",
        "y_out = y.append(pd.Series(y_1), ignore_index=True)\n",
        "visualize_dataset(X_out,y_out)"
      ],
      "execution_count": null,
      "outputs": []
    },
    {
      "cell_type": "markdown",
      "metadata": {
        "id": "eMffRk3k3fwY"
      },
      "source": [
        "Perform linear regression again (feel free to use sklearn's implementation). Report the weights, the MSE, ann the accuracy. How do they compare to the previous part? Does this make intutive sense?"
      ]
    },
    {
      "cell_type": "code",
      "metadata": {
        "id": "TwvhMspg3hzx"
      },
      "source": [
        "#START\n",
        "lr.fit(X_out, y_out)\n",
        "y_pred = lr.predict(X_out)\n",
        "w = lr.coef_\n",
        "#END\n",
        "\n",
        "# The coefficients\n",
        "print('Coefficients: \\n',w)\n",
        "# The mean squared error\n",
        "print('Mean squared error: %.2f'\n",
        "      % mean_squared_error(y_out, y_pred))\n",
        "\n",
        "y_pred_out = classifier_linear(X_out, w)\n",
        "visualize_classifier(X_out,y_out, w)\n",
        "# Classifier accuracy\n",
        "print('Accuracy: %.2f'\n",
        "      % np.mean(y_out == y_pred_out))"
      ],
      "execution_count": null,
      "outputs": []
    },
    {
      "cell_type": "markdown",
      "metadata": {
        "id": "J2PUdlvIP3QV"
      },
      "source": [
        "TODO\n",
        "Answer: We see the accuracy is very high but we misclassify all the male penguins. This is happening because there are very few samples of that class so the acuracy is not a good measure of the performance. The decision boundary is heavily skewed towards the upper right corner because the negative class points don't have enough mass to pull it towards them."
      ]
    },
    {
      "cell_type": "markdown",
      "metadata": {
        "id": "P6i4TNkz3kSW"
      },
      "source": [
        "Comment on the shortcommings of linear regression in these two cases. Play around with the parameters (removed samples and number of outliers) of the modified datasets and comment ot their effect. When would linear regression not be a suitable tool for classification? Later on, we will see other methods for classification that negate these problems.\n"
      ]
    },
    {
      "cell_type": "markdown",
      "metadata": {
        "id": "pRjUtlVpPrnQ"
      },
      "source": [
        "### TODO\n",
        "\n",
        "Answer: *Linear regression is not a good tool in these two cases. Decreasing the number of samples of one of the classes shows us how the decision boundary becomes heavily skewed and we start to classify all points as the other class to minimize the MSE. Increasing the number of outliers also leads to poor performance when their number is big or they are far away from the original decision boundary.*"
      ]
    },
    {
      "cell_type": "markdown",
      "metadata": {
        "id": "-ui_qNITPtN_"
      },
      "source": [
        "# Congratulations, you've reached the end of this assignment! #"
      ]
    },
    {
      "cell_type": "code",
      "metadata": {
        "id": "vD7tG7XiPw_a"
      },
      "source": [
        ""
      ],
      "execution_count": null,
      "outputs": []
    }
  ]
}